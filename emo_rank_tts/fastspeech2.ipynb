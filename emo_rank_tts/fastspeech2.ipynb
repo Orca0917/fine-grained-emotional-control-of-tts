{
 "cells": [
  {
   "cell_type": "code",
   "execution_count": 1,
   "id": "f159fbf1",
   "metadata": {},
   "outputs": [],
   "source": [
    "import os\n",
    "import tgt\n",
    "import glob\n",
    "import tqdm\n",
    "import json\n",
    "import torch\n",
    "import scipy\n",
    "import random\n",
    "import librosa\n",
    "import sklearn\n",
    "import speechbrain\n",
    "import numpy as np\n",
    "import pyworld as pw\n",
    "import torch.nn as nn\n",
    "import torch.nn.functional as F\n",
    "import matplotlib.pyplot as plt\n",
    "import matplotlib.patches as mpatches\n",
    "\n",
    "from text import _clean_text\n",
    "from pathlib import Path\n",
    "from IPython.display import Audio\n",
    "from matplotlib.lines import Line2D\n",
    "from torch.utils.tensorboard import SummaryWriter\n",
    "from sklearn.preprocessing import StandardScaler\n",
    "from speechbrain.lobes.models.FastSpeech2 import mel_spectogram"
   ]
  },
  {
   "cell_type": "code",
   "execution_count": 2,
   "id": "8a336ed3",
   "metadata": {},
   "outputs": [],
   "source": [
    "##############################################\n",
    "# 1. Paths\n",
    "##############################################\n",
    "DATA_PATH           = '/workspace/data/EmoV-DB'\n",
    "CORPUS_PATH         = '/workspace/montreal_forced_aligner/corpus'\n",
    "TEXTGRID_PATH       = '/workspace/montreal_forced_aligner/aligned'\n",
    "PREPROCESSED_PATH   = '/workspace/preprocessed'\n",
    "EXPERIMENT_PATH     = '/workspace/experiments'\n",
    "\n",
    "\n",
    "##############################################\n",
    "# 2. Preprocessing\n",
    "##############################################\n",
    "NOISE_SYMBOL        = ' [noise] '\n",
    "SPEAKERS            = ['bea', 'jenie', 'josh', 'sam']\n",
    "EMOTIONS            = ['neutral', 'amused', 'angry', 'disgusted', 'sleepy']\n",
    "SIL_PHONES          = ['sil', 'spn', 'sp', '']\n",
    "VALID_TOKENS        = ['@'] + speechbrain.utils.text_to_sequence.valid_symbols + SIL_PHONES\n",
    "PITCH_AVERAGING     = False\n",
    "ENERGY_AVERAGING    = False\n",
    "MATCH_TRANSCRIPT    = True\n",
    "\n",
    "\n",
    "##############################################\n",
    "# 3. Audio (optimized for vocoder)\n",
    "##############################################\n",
    "SAMPLING_RATE       = 16000\n",
    "HOP_LENGTH          = 256\n",
    "WIN_LENGTH          = 1024\n",
    "N_FFT               = 1024\n",
    "N_MELS              = 80\n",
    "F_MIN               = 0.0\n",
    "F_MAX               = 8000.0\n",
    "\n",
    "\n",
    "##############################################\n",
    "# 4. Training\n",
    "##############################################\n",
    "N_EPOCHS            = 100\n",
    "MAX_ITERATIONS      = 50000\n",
    "BATCH_SIZE          = 16\n",
    "LEARNING_RATE       = 0.000001\n",
    "\n",
    "\n",
    "##############################################\n",
    "# 5. Model\n",
    "##############################################\n",
    "N_ENCODER_LAYERS    = 4\n",
    "N_HEADS             = 2\n",
    "HIDDEN_DIM          = 256\n",
    "KERNEL_SIZE         = 9\n",
    "DROPOUT             = 0.1\n",
    "ALPHA               = 0.1       # mixup\n",
    "BETA                = 1.0       # rank\n",
    "\n",
    "\n",
    "##############################################\n",
    "# 6. Miscellaneous\n",
    "##############################################\n",
    "MARKER              = ['o', '^', 's', 'd']\n",
    "COLORS              = ['#7C00FE', '#F9E400', '#FFAF00', '#F5004F', '#00B2A9']"
   ]
  },
  {
   "cell_type": "code",
   "execution_count": 3,
   "id": "c7b2adfb",
   "metadata": {},
   "outputs": [
    {
     "name": "stdout",
     "output_type": "stream",
     "text": [
      "Skipping\n"
     ]
    }
   ],
   "source": [
    "# train, test 데이터셋 분리\n",
    "train_list, valid_list = [], []\n",
    "for speaker in SPEAKERS:\n",
    "    paths = glob.glob(os.path.join(PREPROCESSED_PATH, speaker, '*.npz'))\n",
    "    random.shuffle(paths)\n",
    "\n",
    "    n_train = int(len(paths) * 0.8)\n",
    "    train_list.extend(paths[:n_train])\n",
    "    valid_list.extend(paths[n_train:])\n",
    "\n",
    "\n",
    "if not os.path.exists(os.path.join(PREPROCESSED_PATH, 'fs2_train.txt')):\n",
    "    # train, valid 데이터셋을 파일로 저장\n",
    "    with open(os.path.join(PREPROCESSED_PATH, 'fs2_train.txt'), 'w') as f:\n",
    "        f.write('\\n'.join(train_list) + '\\n')\n",
    "\n",
    "    with open(os.path.join(PREPROCESSED_PATH, 'fs2_valid.txt'), 'w') as f:\n",
    "        f.write('\\n'.join(valid_list) + '\\n')\n",
    "else:\n",
    "    print('Skipping')"
   ]
  },
  {
   "cell_type": "code",
   "execution_count": 4,
   "id": "d165cad7",
   "metadata": {},
   "outputs": [],
   "source": [
    "def phoneme2sequence(phoneme):\n",
    "    seq = [VALID_TOKENS.index(token) for token in phoneme]\n",
    "    return seq\n",
    "\n",
    "def sequence2phoneme(sequence):\n",
    "    phoneme = [VALID_TOKENS[i] for i in sequence]\n",
    "    return phoneme"
   ]
  },
  {
   "cell_type": "code",
   "execution_count": 5,
   "id": "aa099617",
   "metadata": {},
   "outputs": [
    {
     "data": {
      "application/vnd.jupyter.widget-view+json": {
       "model_id": "517ecfbea3e74b60878dfe3854859f3f",
       "version_major": 2,
       "version_minor": 0
      },
      "text/plain": [
       "  0%|          | 0/5498 [00:00<?, ?it/s]"
      ]
     },
     "metadata": {},
     "output_type": "display_data"
    },
    {
     "name": "stdout",
     "output_type": "stream",
     "text": [
      "Melspectrogram shape: torch.Size([80, 305])\n",
      "Pitch shape: torch.Size([305])\n",
      "Energy shape: torch.Size([305])\n",
      "Duration shape: torch.Size([45])\n",
      "Phoneme sequence: torch.Size([45])\n",
      "*Total duration: 305\n",
      "Speaker index: tensor(0)\n",
      "Emotion index: tensor(4)\n",
      "Text: the promoter's eyes were heavy, with little puffy bags under them.\n"
     ]
    }
   ],
   "source": [
    "class FastSpeech2Dataset(torch.utils.data.Dataset):\n",
    "\n",
    "    def __init__(self, mode='train'):\n",
    "        super(FastSpeech2Dataset, self).__init__()\n",
    "        \n",
    "        self.data_paths = []\n",
    "        with open(os.path.join(PREPROCESSED_PATH, f'fs2_{mode}.txt'), 'r') as f:\n",
    "            self.data_paths = [line.strip() for line in f.readlines()]\n",
    "        \n",
    "    def __len__(self):\n",
    "        return len(self.data_paths)\n",
    "\n",
    "    def __getitem__(self, idx):\n",
    "        data_path = self.data_paths[idx]\n",
    "        data = np.load(data_path, allow_pickle=True)\n",
    "        \n",
    "        # Load features\n",
    "        mel = data['mel']\n",
    "        pitch = data['pitch']\n",
    "        energy = data['energy']\n",
    "        duration = data['durations']\n",
    "        phoneme = data['phones'].tolist()\n",
    "\n",
    "        # metadata\n",
    "        speaker = data['speaker'].item()\n",
    "        emotion = data['emotion'].item()\n",
    "        text = data['transcript'].item().replace(NOISE_SYMBOL.strip(), '').strip()\n",
    "        audio_path = data['audio_path'].item()\n",
    "\n",
    "        \n",
    "        return {\n",
    "            'mel': torch.FloatTensor(mel),\n",
    "            'pitch': torch.FloatTensor(pitch),\n",
    "            'energy': torch.FloatTensor(energy),\n",
    "            'duration': torch.LongTensor(duration),\n",
    "            'phoneme': torch.LongTensor(phoneme2sequence(phoneme)),\n",
    "            'speaker': torch.tensor(SPEAKERS.index(speaker), dtype=torch.long),\n",
    "            'emotion': torch.tensor(EMOTIONS.index(emotion), dtype=torch.long),\n",
    "            'text': text,\n",
    "            'audio_path': audio_path\n",
    "        }\n",
    "\n",
    "\n",
    "dataset = FastSpeech2Dataset(mode='train')\n",
    "for data in tqdm.notebook.tqdm(dataset):\n",
    "    print('Melspectrogram shape:', data['mel'].shape)\n",
    "    print('Pitch shape:', data['pitch'].shape)\n",
    "    print('Energy shape:', data['energy'].shape)\n",
    "    print('Duration shape:', data['duration'].shape)\n",
    "    print('Phoneme sequence:', data['phoneme'].shape)\n",
    "    print('*Total duration:', data['duration'].sum().item())\n",
    "    print('Speaker index:', data['speaker'])\n",
    "    print('Emotion index:', data['emotion'])\n",
    "    print('Text:', data['text'])\n",
    "    break"
   ]
  },
  {
   "cell_type": "code",
   "execution_count": 6,
   "id": "675be7d7",
   "metadata": {},
   "outputs": [
    {
     "name": "stdout",
     "output_type": "stream",
     "text": [
      "Phoneme shape: torch.Size([16, 58])\n",
      "Input lengths: tensor([3, 3, 0, 2, 3, 3, 3, 2, 3, 0, 3, 0, 0, 2, 3, 3])\n",
      "Mel shape: torch.Size([16])\n",
      "Pitch shape: torch.Size([16, 506, 80])\n",
      "Energy shape: torch.Size([16, 506])\n",
      "Duration shape: torch.Size([16, 506])\n",
      "Output lengths: tensor([[ 5,  4, 11, 13, 15,  5, 10,  5,  8, 26,  3,  7,  3,  7, 12, 25,  6, 12,\n",
      "          5,  3,  5,  7,  2,  7,  3,  3,  3,  4, 13,  2,  3,  3,  5,  2, 10, 14,\n",
      "         39,  4,  5,  4, 11, 10,  2,  9,  4,  8, 68,  7,  4,  2,  2,  6, 14, 13,\n",
      "         10,  6,  4,  3],\n",
      "        [ 2,  6,  3,  8,  5,  8,  5,  3,  3,  9,  7,  8, 19,  5,  5, 12, 18,  9,\n",
      "         13, 10,  2, 13, 23,  2,  3,  5,  3, 28,  5,  2, 34,  7, 14,  4, 12, 36,\n",
      "          7,  9,  6,  8,  7,  0,  0,  0,  0,  0,  0,  0,  0,  0,  0,  0,  0,  0,\n",
      "          0,  0,  0,  0],\n",
      "        [ 3,  2,  8,  3,  7,  6,  5,  2,  4,  5,  5, 11,  3, 13,  5,  9, 12,  5,\n",
      "          5,  2,  3,  2,  9,  2,  4,  5,  4,  4,  2,  3,  5,  4,  2,  2,  3,  4,\n",
      "          3,  3, 14,  0,  0,  0,  0,  0,  0,  0,  0,  0,  0,  0,  0,  0,  0,  0,\n",
      "          0,  0,  0,  0],\n",
      "        [ 2,  9,  8,  2,  3,  5,  7,  5,  4,  7,  2,  5,  1,  2,  5,  9,  1,  9,\n",
      "          6,  5,  2,  5,  2,  4,  5,  5, 10,  3,  3,  7,  5,  2,  9,  2, 12,  2,\n",
      "         12,  0,  0,  0,  0,  0,  0,  0,  0,  0,  0,  0,  0,  0,  0,  0,  0,  0,\n",
      "          0,  0,  0,  0],\n",
      "        [ 3,  2,  4,  3,  4,  3,  5,  5,  3,  5,  2,  8,  3,  3,  9,  8,  2,  3,\n",
      "          6,  1,  3,  7,  8,  6,  4,  3,  6,  4,  3,  7, 10,  7,  4,  3,  7,  1,\n",
      "          0,  0,  0,  0,  0,  0,  0,  0,  0,  0,  0,  0,  0,  0,  0,  0,  0,  0,\n",
      "          0,  0,  0,  0],\n",
      "        [ 4,  2,  4,  3,  5,  2,  3,  9, 10,  6,  5,  7,  2,  3,  6,  9,  8,  2,\n",
      "          2,  5,  9,  4,  3,  9,  4,  4,  2,  3,  6,  6,  7,  2,  9, 13,  0,  0,\n",
      "          0,  0,  0,  0,  0,  0,  0,  0,  0,  0,  0,  0,  0,  0,  0,  0,  0,  0,\n",
      "          0,  0,  0,  0],\n",
      "        [ 2,  6,  5,  5,  2,  2,  2,  3,  5,  7,  3,  5,  5,  3,  7,  7,  5,  1,\n",
      "         11,  8,  3,  7,  7,  3,  2,  4,  4,  5, 11,  7, 11,  0,  0,  0,  0,  0,\n",
      "          0,  0,  0,  0,  0,  0,  0,  0,  0,  0,  0,  0,  0,  0,  0,  0,  0,  0,\n",
      "          0,  0,  0,  0],\n",
      "        [ 2,  2,  3,  7,  3,  2,  9,  4,  5,  5,  2,  3,  4,  4,  3,  3,  2,  3,\n",
      "         10,  3,  1,  7,  3,  2,  3,  3,  6,  6, 10,  9,  0,  0,  0,  0,  0,  0,\n",
      "          0,  0,  0,  0,  0,  0,  0,  0,  0,  0,  0,  0,  0,  0,  0,  0,  0,  0,\n",
      "          0,  0,  0,  0],\n",
      "        [19,  4,  6, 13, 12,  6,  2,  3,  8, 24,  3, 13,  4,  4, 16, 22,  4,  6,\n",
      "         15,  5, 10,  1,  4,  6, 13,  9,  5,  5, 13, 14,  0,  0,  0,  0,  0,  0,\n",
      "          0,  0,  0,  0,  0,  0,  0,  0,  0,  0,  0,  0,  0,  0,  0,  0,  0,  0,\n",
      "          0,  0,  0,  0],\n",
      "        [ 8,  3,  4,  4,  8,  4,  5,  3,  4,  7,  3,  8,  3,  6,  3,  3,  8,  3,\n",
      "          4,  6,  2,  2,  6,  4,  5,  4,  5,  9,  7,  0,  0,  0,  0,  0,  0,  0,\n",
      "          0,  0,  0,  0,  0,  0,  0,  0,  0,  0,  0,  0,  0,  0,  0,  0,  0,  0,\n",
      "          0,  0,  0,  0],\n",
      "        [ 5,  3,  7,  8, 10,  2,  4,  4,  4,  6,  3,  2, 13,  5,  4,  5,  2,  9,\n",
      "          8,  3, 16,  6,  6,  3, 11, 14,  2,  0,  0,  0,  0,  0,  0,  0,  0,  0,\n",
      "          0,  0,  0,  0,  0,  0,  0,  0,  0,  0,  0,  0,  0,  0,  0,  0,  0,  0,\n",
      "          0,  0,  0,  0],\n",
      "        [ 7,  4,  4,  7,  5,  3,  3,  2,  3,  5,  6, 12,  4,  3,  2,  2,  3,  6,\n",
      "          9,  3, 15,  5,  0,  0,  0,  0,  0,  0,  0,  0,  0,  0,  0,  0,  0,  0,\n",
      "          0,  0,  0,  0,  0,  0,  0,  0,  0,  0,  0,  0,  0,  0,  0,  0,  0,  0,\n",
      "          0,  0,  0,  0],\n",
      "        [ 3, 14,  5,  4,  5, 21,  8,  8,  7, 16,  8,  6,  3,  8,  2, 10,  9,  5,\n",
      "          2, 14,  4,  5,  0,  0,  0,  0,  0,  0,  0,  0,  0,  0,  0,  0,  0,  0,\n",
      "          0,  0,  0,  0,  0,  0,  0,  0,  0,  0,  0,  0,  0,  0,  0,  0,  0,  0,\n",
      "          0,  0,  0,  0],\n",
      "        [ 2,  8,  6,  5,  9,  5, 13,  9,  3,  7,  4,  2,  5,  3,  4,  8,  2,  3,\n",
      "          5,  7,  2,  2,  0,  0,  0,  0,  0,  0,  0,  0,  0,  0,  0,  0,  0,  0,\n",
      "          0,  0,  0,  0,  0,  0,  0,  0,  0,  0,  0,  0,  0,  0,  0,  0,  0,  0,\n",
      "          0,  0,  0,  0],\n",
      "        [ 9,  3,  8,  7,  2,  3,  3,  4,  9,  7,  2,  5,  5,  4,  9,  6,  6,  0,\n",
      "          0,  0,  0,  0,  0,  0,  0,  0,  0,  0,  0,  0,  0,  0,  0,  0,  0,  0,\n",
      "          0,  0,  0,  0,  0,  0,  0,  0,  0,  0,  0,  0,  0,  0,  0,  0,  0,  0,\n",
      "          0,  0,  0,  0],\n",
      "        [ 2, 10,  9,  4, 37, 25,  8,  2,  3,  5, 13, 14, 12, 12,  0,  0,  0,  0,\n",
      "          0,  0,  0,  0,  0,  0,  0,  0,  0,  0,  0,  0,  0,  0,  0,  0,  0,  0,\n",
      "          0,  0,  0,  0,  0,  0,  0,  0,  0,  0,  0,  0,  0,  0,  0,  0,  0,  0,\n",
      "          0,  0,  0,  0]])\n",
      "Speakers: tensor([506, 388, 193, 187, 165, 178, 158, 129, 269, 141, 165, 113, 167, 114,\n",
      "         92, 156])\n",
      "Labels: ['this tacit promise of continued acquaintance gave saxon a little joy-thrill.', 'so we have to fit the boat throughout with oil lamps as well.', 'the fourth and fifth days passed without any developments.', 'her own betrayal of herself was like tonic to philip.', \"it was not red-eye's way to forego revenge so easily.\"]\n",
      "Wavs: ['/workspace/montreal_forced_aligner/corpus/sam/disgusted_0298.wav', '/workspace/montreal_forced_aligner/corpus/sam/amused_0410.wav', '/workspace/montreal_forced_aligner/corpus/bea/neutral_0064.wav', '/workspace/montreal_forced_aligner/corpus/josh/sleepy_0044.wav', '/workspace/montreal_forced_aligner/corpus/sam/angry_0324.wav']\n"
     ]
    }
   ],
   "source": [
    "class TextMelCollateWithAlignment:\n",
    "\n",
    "    def __call__(self, batch):\n",
    "\n",
    "        # Right zero-pad all one-hot text sequences to the max input length\n",
    "        input_lengths, ids_sorted_decreasing = torch.sort(\n",
    "            torch.LongTensor([len(x['phoneme']) for x in batch]),\n",
    "            dim=0, descending=True)\n",
    "\n",
    "    \n",
    "        max_input_len = input_lengths[0]\n",
    "\n",
    "        phoneme_padded = torch.LongTensor(len(batch), max_input_len)\n",
    "        phoneme_padded.zero_()\n",
    "        duration_padded = torch.LongTensor(len(batch), max_input_len)\n",
    "        duration_padded.zero_()\n",
    "\n",
    "        for i in range(len(ids_sorted_decreasing)):\n",
    "            phoneme = batch[ids_sorted_decreasing[i]]['phoneme']\n",
    "            phoneme_padded[i, :phoneme.size(0)] = phoneme\n",
    "            duration = batch[ids_sorted_decreasing[i]]['duration']\n",
    "            duration_padded[i, :duration.size(0)] = duration\n",
    "\n",
    "        # Right zero-pad mel-spec\n",
    "        num_mels = batch[0]['mel'].size(0)\n",
    "        max_target_len = max([x['mel'].size(1) for x in batch])\n",
    "\n",
    "        # include mel padded and gate padded\n",
    "        mel_padded = torch.FloatTensor(len(batch), num_mels, max_target_len)\n",
    "        mel_padded.zero_()\n",
    "        pitch_padded = torch.FloatTensor(len(batch), max_target_len)\n",
    "        pitch_padded.zero_()\n",
    "        energy_padded = torch.FloatTensor(len(batch), max_target_len)\n",
    "        energy_padded.zero_()\n",
    "        output_lengths = torch.LongTensor(len(batch))\n",
    "        labels, wavs = [], []\n",
    "        speakers = torch.LongTensor(len(batch))\n",
    "\n",
    "        for i in range(len(ids_sorted_decreasing)):\n",
    "            idx = ids_sorted_decreasing[i]\n",
    "            mel = batch[idx]['mel']\n",
    "            pitch = batch[idx]['pitch']\n",
    "            energy = batch[idx]['energy']\n",
    "            mel_padded[i, :, :mel.size(1)] = mel\n",
    "            pitch_padded[i, :pitch.size(0)] = pitch\n",
    "            energy_padded[i, :energy.size(0)] = energy\n",
    "            output_lengths[i] = mel.size(1)\n",
    "            labels.append(batch[idx]['text'])\n",
    "            wavs.append(batch[idx]['audio_path'])\n",
    "            speakers[i] = batch[idx]['speaker']\n",
    "\n",
    "        mel_padded = mel_padded.permute(0, 2, 1)\n",
    "        return (\n",
    "            phoneme_padded,\n",
    "            speakers,\n",
    "            input_lengths,\n",
    "            mel_padded,\n",
    "            pitch_padded,\n",
    "            energy_padded,\n",
    "            duration_padded,\n",
    "            output_lengths,\n",
    "            labels,\n",
    "            wavs,\n",
    "        )\n",
    "\n",
    "dataset = FastSpeech2Dataset(mode='train')\n",
    "collate_fn = TextMelCollateWithAlignment()\n",
    "dataloader = torch.utils.data.DataLoader(\n",
    "    dataset,\n",
    "    batch_size=BATCH_SIZE,\n",
    "    shuffle=True,\n",
    "    collate_fn=collate_fn,\n",
    "    num_workers=4,\n",
    "    pin_memory=True,\n",
    "    drop_last=True,\n",
    ")\n",
    "\n",
    "for batch in dataloader:\n",
    "    phoneme, speakers, input_lengths, mel, pitch, energy, duration, output_lengths, labels, wavs = batch\n",
    "    print('Phoneme shape:', phoneme.shape)\n",
    "    print('Input lengths:', input_lengths)\n",
    "    print('Mel shape:', mel.shape)\n",
    "    print('Pitch shape:', pitch.shape)\n",
    "    print('Energy shape:', energy.shape)\n",
    "    print('Duration shape:', duration.shape)\n",
    "    print('Output lengths:', output_lengths)\n",
    "    print('Speakers:', speakers)  # Print first 5 speaker indices\n",
    "    print('Labels:', labels[:5])  # Print first 5 labels\n",
    "    print('Wavs:', wavs[:5])      # Print first 5 audio paths\n",
    "    break"
   ]
  },
  {
   "cell_type": "code",
   "execution_count": 7,
   "id": "6560bbef",
   "metadata": {},
   "outputs": [],
   "source": [
    "# move to designated device\n",
    "def batch_to_device(batch, device):\n",
    "    return (\n",
    "        batch[0].to(device),  # phoneme\n",
    "        batch[1].to(device),  # speaker\n",
    "        batch[2].to(device),  # input_lengths\n",
    "        batch[3].to(device),  # mel\n",
    "        batch[4].to(device),  # pitch\n",
    "        batch[5].to(device),  # energy\n",
    "        batch[6].to(device),  # duration\n",
    "        batch[7].to(device),  # output_lengths\n",
    "        batch[8],             # labels (strings)\n",
    "        batch[9],             # wavs (file paths)\n",
    "    )"
   ]
  },
  {
   "cell_type": "markdown",
   "id": "6ae233cb",
   "metadata": {},
   "source": [
    "### FastSpeech2 Model."
   ]
  },
  {
   "cell_type": "code",
   "execution_count": 8,
   "id": "908519be",
   "metadata": {},
   "outputs": [],
   "source": [
    "\"\"\"\n",
    "Neural network modules for the FastSpeech 2: Fast and High-Quality End-to-End Text to Speech\n",
    "synthesis model\n",
    "Authors\n",
    "* Sathvik Udupa 2022\n",
    "* Pradnya Kandarkar 2023\n",
    "* Yingzhi Wang 2023\n",
    "\"\"\"\n",
    "\n",
    "import numpy as np\n",
    "import torch\n",
    "import torch.nn.functional as F\n",
    "from torch import nn\n",
    "from torch.nn.modules.loss import _Loss\n",
    "\n",
    "from speechbrain.lobes.models.transformer.Transformer import (\n",
    "    PositionalEncoding,\n",
    "    TransformerEncoder,\n",
    "    get_key_padding_mask,\n",
    "    get_mask_from_lengths,\n",
    ")\n",
    "from speechbrain.nnet import CNN, linear\n",
    "from speechbrain.nnet.embedding import Embedding\n",
    "from speechbrain.nnet.losses import bce_loss\n",
    "from speechbrain.nnet.normalization import LayerNorm\n",
    "\n",
    "from speechbrain.lobes.models.FastSpeech2 import (\n",
    "    EncoderPreNet,\n",
    "    DurationPredictor,\n",
    "    PostNet,\n",
    "    upsample,\n",
    "    average_over_durations,\n",
    "    SSIMLoss,\n",
    ")\n",
    "\n",
    "\n",
    "\n",
    "\n",
    "class FastSpeech2(nn.Module):\n",
    "    \"\"\"The FastSpeech2 text-to-speech model.\n",
    "    This class is the main entry point for the model, which is responsible\n",
    "    for instantiating all submodules, which, in turn, manage the individual\n",
    "    neural network layers\n",
    "    Simplified STRUCTURE: input->token embedding ->encoder ->duration/pitch/energy predictor ->duration\n",
    "    upsampler -> decoder -> output\n",
    "    During training, teacher forcing is used (ground truth durations are used for upsampling)\n",
    "\n",
    "    Arguments\n",
    "    ---------\n",
    "    enc_num_layers: int\n",
    "        number of transformer layers (TransformerEncoderLayer) in encoder\n",
    "    enc_num_head: int\n",
    "        number of multi-head-attention (MHA) heads in encoder transformer layers\n",
    "    enc_d_model: int\n",
    "        the number of expected features in the encoder\n",
    "    enc_ffn_dim: int\n",
    "        the dimension of the feedforward network model\n",
    "    enc_k_dim: int\n",
    "        the dimension of the key\n",
    "    enc_v_dim: int\n",
    "        the dimension of the value\n",
    "    enc_dropout: float\n",
    "        Dropout for the encoder\n",
    "    dec_num_layers: int\n",
    "        number of transformer layers (TransformerEncoderLayer) in decoder\n",
    "    dec_num_head: int\n",
    "        number of multi-head-attention (MHA) heads in decoder transformer layers\n",
    "    dec_d_model: int\n",
    "        the number of expected features in the decoder\n",
    "    dec_ffn_dim: int\n",
    "        the dimension of the feedforward network model\n",
    "    dec_k_dim: int\n",
    "        the dimension of the key\n",
    "    dec_v_dim: int\n",
    "        the dimension of the value\n",
    "    dec_dropout: float\n",
    "        dropout for the decoder\n",
    "    normalize_before: bool\n",
    "        whether normalization should be applied before or after MHA or FFN in Transformer layers.\n",
    "    ffn_type: str\n",
    "        whether to use convolutional layers instead of feed forward network inside transformer layer.\n",
    "    ffn_cnn_kernel_size_list: list of int\n",
    "        conv kernel size of 2 1d-convs if ffn_type is 1dcnn\n",
    "    n_char: int\n",
    "        the number of symbols for the token embedding\n",
    "    n_mels: int\n",
    "        number of bins in mel spectrogram\n",
    "    postnet_embedding_dim: int\n",
    "       output feature dimension for convolution layers\n",
    "    postnet_kernel_size: int\n",
    "       postnet convolution kernel size\n",
    "    postnet_n_convolutions: int\n",
    "       number of convolution layers\n",
    "    postnet_dropout: float\n",
    "        dropout probability for postnet\n",
    "    padding_idx: int\n",
    "        the index for padding\n",
    "    dur_pred_kernel_size: int\n",
    "        the convolution kernel size in duration predictor\n",
    "    pitch_pred_kernel_size: int\n",
    "        kernel size for pitch prediction.\n",
    "    energy_pred_kernel_size: int\n",
    "        kernel size for energy prediction.\n",
    "    variance_predictor_dropout: float\n",
    "        dropout probability for variance predictor (duration/pitch/energy)\n",
    "\n",
    "    Example\n",
    "    -------\n",
    "    >>> import torch\n",
    "    >>> from speechbrain.lobes.models.FastSpeech2 import FastSpeech2\n",
    "    >>> model = FastSpeech2(\n",
    "    ...    enc_num_layers=6,\n",
    "    ...    enc_num_head=2,\n",
    "    ...    enc_d_model=384,\n",
    "    ...    enc_ffn_dim=1536,\n",
    "    ...    enc_k_dim=384,\n",
    "    ...    enc_v_dim=384,\n",
    "    ...    enc_dropout=0.1,\n",
    "    ...    dec_num_layers=6,\n",
    "    ...    dec_num_head=2,\n",
    "    ...    dec_d_model=384,\n",
    "    ...    dec_ffn_dim=1536,\n",
    "    ...    dec_k_dim=384,\n",
    "    ...    dec_v_dim=384,\n",
    "    ...    dec_dropout=0.1,\n",
    "    ...    normalize_before=False,\n",
    "    ...    ffn_type='1dcnn',\n",
    "    ...    ffn_cnn_kernel_size_list=[9, 1],\n",
    "    ...    n_char=40,\n",
    "    ...    n_mels=80,\n",
    "    ...    postnet_embedding_dim=512,\n",
    "    ...    postnet_kernel_size=5,\n",
    "    ...    postnet_n_convolutions=5,\n",
    "    ...    postnet_dropout=0.5,\n",
    "    ...    padding_idx=0,\n",
    "    ...    dur_pred_kernel_size=3,\n",
    "    ...    pitch_pred_kernel_size=3,\n",
    "    ...    energy_pred_kernel_size=3,\n",
    "    ...    variance_predictor_dropout=0.5)\n",
    "    >>> inputs = torch.tensor([\n",
    "    ...     [13, 12, 31, 14, 19],\n",
    "    ...     [31, 16, 30, 31, 0],\n",
    "    ... ])\n",
    "    >>> input_lengths = torch.tensor([5, 4])\n",
    "    >>> durations = torch.tensor([\n",
    "    ...     [2, 4, 1, 5, 3],\n",
    "    ...     [1, 2, 4, 3, 0],\n",
    "    ... ])\n",
    "    >>> mel_post, postnet_output, predict_durations, predict_pitch, avg_pitch, predict_energy, avg_energy, mel_lens = model(inputs, durations=durations)\n",
    "    >>> mel_post.shape, predict_durations.shape\n",
    "    (torch.Size([2, 15, 80]), torch.Size([2, 5]))\n",
    "    >>> predict_pitch.shape, predict_energy.shape\n",
    "    (torch.Size([2, 5, 1]), torch.Size([2, 5, 1]))\n",
    "    \"\"\"\n",
    "\n",
    "    def __init__(\n",
    "        self,\n",
    "        # encoder parameters\n",
    "        enc_num_layers,\n",
    "        enc_num_head,\n",
    "        enc_d_model,\n",
    "        enc_ffn_dim,\n",
    "        enc_k_dim,\n",
    "        enc_v_dim,\n",
    "        enc_dropout,\n",
    "        # decoder parameters\n",
    "        dec_num_layers,\n",
    "        dec_num_head,\n",
    "        dec_d_model,\n",
    "        dec_ffn_dim,\n",
    "        dec_k_dim,\n",
    "        dec_v_dim,\n",
    "        dec_dropout,\n",
    "        normalize_before,\n",
    "        ffn_type,\n",
    "        ffn_cnn_kernel_size_list,\n",
    "        n_char,\n",
    "        n_mels,\n",
    "        postnet_embedding_dim,\n",
    "        postnet_kernel_size,\n",
    "        postnet_n_convolutions,\n",
    "        postnet_dropout,\n",
    "        padding_idx,\n",
    "        dur_pred_kernel_size,\n",
    "        pitch_pred_kernel_size,\n",
    "        energy_pred_kernel_size,\n",
    "        variance_predictor_dropout,\n",
    "    ):\n",
    "        super().__init__()\n",
    "        self.enc_num_head = enc_num_head\n",
    "        self.dec_num_head = dec_num_head\n",
    "        self.padding_idx = padding_idx\n",
    "        self.sinusoidal_positional_embed_encoder = PositionalEncoding(\n",
    "            enc_d_model\n",
    "        )\n",
    "        self.sinusoidal_positional_embed_decoder = PositionalEncoding(\n",
    "            dec_d_model\n",
    "        )\n",
    "\n",
    "        self.speaker_emb = Embedding(\n",
    "            num_embeddings=len(SPEAKERS),\n",
    "            embedding_dim=enc_d_model,\n",
    "            # padding_idx=padding_idx,\n",
    "        )\n",
    "        self.encPreNet = EncoderPreNet(\n",
    "            n_char, padding_idx, out_channels=enc_d_model\n",
    "        )\n",
    "        self.durPred = DurationPredictor(\n",
    "            in_channels=enc_d_model,\n",
    "            out_channels=enc_d_model,\n",
    "            kernel_size=dur_pred_kernel_size,\n",
    "            dropout=variance_predictor_dropout,\n",
    "        )\n",
    "        self.pitchPred = DurationPredictor(\n",
    "            in_channels=enc_d_model,\n",
    "            out_channels=enc_d_model,\n",
    "            kernel_size=dur_pred_kernel_size,\n",
    "            dropout=variance_predictor_dropout,\n",
    "        )\n",
    "        self.energyPred = DurationPredictor(\n",
    "            in_channels=enc_d_model,\n",
    "            out_channels=enc_d_model,\n",
    "            kernel_size=dur_pred_kernel_size,\n",
    "            dropout=variance_predictor_dropout,\n",
    "        )\n",
    "        self.pitchEmbed = CNN.Conv1d(\n",
    "            in_channels=1,\n",
    "            out_channels=enc_d_model,\n",
    "            kernel_size=pitch_pred_kernel_size,\n",
    "            padding=\"same\",\n",
    "            skip_transpose=True,\n",
    "        )\n",
    "\n",
    "        self.energyEmbed = CNN.Conv1d(\n",
    "            in_channels=1,\n",
    "            out_channels=enc_d_model,\n",
    "            kernel_size=energy_pred_kernel_size,\n",
    "            padding=\"same\",\n",
    "            skip_transpose=True,\n",
    "        )\n",
    "        self.encoder = TransformerEncoder(\n",
    "            num_layers=enc_num_layers,\n",
    "            nhead=enc_num_head,\n",
    "            d_ffn=enc_ffn_dim,\n",
    "            d_model=enc_d_model,\n",
    "            kdim=enc_k_dim,\n",
    "            vdim=enc_v_dim,\n",
    "            dropout=enc_dropout,\n",
    "            activation=nn.ReLU,\n",
    "            normalize_before=normalize_before,\n",
    "            ffn_type=ffn_type,\n",
    "            ffn_cnn_kernel_size_list=ffn_cnn_kernel_size_list,\n",
    "        )\n",
    "\n",
    "        self.decoder = TransformerEncoder(\n",
    "            num_layers=dec_num_layers,\n",
    "            nhead=dec_num_head,\n",
    "            d_ffn=dec_ffn_dim,\n",
    "            d_model=dec_d_model,\n",
    "            kdim=dec_k_dim,\n",
    "            vdim=dec_v_dim,\n",
    "            dropout=dec_dropout,\n",
    "            activation=nn.ReLU,\n",
    "            normalize_before=normalize_before,\n",
    "            ffn_type=ffn_type,\n",
    "            ffn_cnn_kernel_size_list=ffn_cnn_kernel_size_list,\n",
    "        )\n",
    "\n",
    "        self.linear = linear.Linear(n_neurons=n_mels, input_size=dec_d_model)\n",
    "        self.postnet = PostNet(\n",
    "            n_mel_channels=n_mels,\n",
    "            postnet_embedding_dim=postnet_embedding_dim,\n",
    "            postnet_kernel_size=postnet_kernel_size,\n",
    "            postnet_n_convolutions=postnet_n_convolutions,\n",
    "            postnet_dropout=postnet_dropout,\n",
    "        )\n",
    "\n",
    "\n",
    "    def forward(\n",
    "        self,\n",
    "        tokens,\n",
    "        speakers,\n",
    "        durations=None,\n",
    "        pitch=None,\n",
    "        energy=None,\n",
    "        pace=1.0,\n",
    "        pitch_rate=1.0,\n",
    "        energy_rate=1.0,\n",
    "    ):\n",
    "        \"\"\"forward pass for training and inference\n",
    "\n",
    "        Arguments\n",
    "        ---------\n",
    "        tokens: torch.Tensor\n",
    "            batch of input tokens\n",
    "        durations: torch.Tensor\n",
    "            batch of durations for each token. If it is None, the model will infer on predicted durations\n",
    "        pitch: torch.Tensor\n",
    "            batch of pitch for each frame. If it is None, the model will infer on predicted pitches\n",
    "        energy: torch.Tensor\n",
    "            batch of energy for each frame. If it is None, the model will infer on predicted energies\n",
    "        pace: float\n",
    "            scaling factor for durations\n",
    "        pitch_rate: float\n",
    "            scaling factor for pitches\n",
    "        energy_rate: float\n",
    "            scaling factor for energies\n",
    "\n",
    "        Returns\n",
    "        -------\n",
    "        mel_post: torch.Tensor\n",
    "            mel outputs from the decoder\n",
    "        postnet_output: torch.Tensor\n",
    "            mel outputs from the postnet\n",
    "        predict_durations: torch.Tensor\n",
    "            predicted durations of each token\n",
    "        predict_pitch: torch.Tensor\n",
    "            predicted pitches of each token\n",
    "        avg_pitch: torch.Tensor\n",
    "            target pitches for each token if input pitch is not None\n",
    "            None if input pitch is None\n",
    "        predict_energy: torch.Tensor\n",
    "            predicted energies of each token\n",
    "        avg_energy: torch.Tensor\n",
    "            target energies for each token if input energy is not None\n",
    "            None if input energy is None\n",
    "        mel_length:\n",
    "            predicted lengths of mel spectrograms\n",
    "        \"\"\"\n",
    "        srcmask = get_key_padding_mask(tokens, pad_idx=self.padding_idx)\n",
    "        srcmask_inverted = (~srcmask).unsqueeze(-1)\n",
    "\n",
    "        # prenet & encoder\n",
    "        token_feats = self.encPreNet(tokens)\n",
    "        pos = self.sinusoidal_positional_embed_encoder(token_feats)\n",
    "        token_feats = torch.add(token_feats, pos) * srcmask_inverted\n",
    "        attn_mask = (\n",
    "            srcmask.unsqueeze(-1)\n",
    "            .repeat(self.enc_num_head, 1, token_feats.shape[1])\n",
    "            .permute(0, 2, 1)\n",
    "            .bool()\n",
    "        )\n",
    "        token_feats, _ = self.encoder(\n",
    "            token_feats, src_mask=attn_mask, src_key_padding_mask=srcmask\n",
    "        )\n",
    "        token_feats = token_feats * srcmask_inverted\n",
    "\n",
    "        # ADD SPEAKER EMBEDDING -- modification.\n",
    "        token_feats = token_feats + self.speaker_emb(speakers).unsqueeze(1).expand(\n",
    "            -1, token_feats.shape[1], -1\n",
    "        )\n",
    "\n",
    "        # duration predictor\n",
    "        predict_durations = self.durPred(token_feats, srcmask_inverted).squeeze(\n",
    "            -1\n",
    "        )\n",
    "\n",
    "        if predict_durations.dim() == 1:\n",
    "            predict_durations = predict_durations.unsqueeze(0)\n",
    "        if durations is None:\n",
    "            dur_pred_reverse_log = torch.clamp(\n",
    "                torch.special.expm1(predict_durations), 0\n",
    "            )\n",
    "\n",
    "        # pitch predictor\n",
    "        avg_pitch = None\n",
    "        predict_pitch = self.pitchPred(token_feats, srcmask_inverted)\n",
    "        # use a pitch rate to adjust the pitch\n",
    "        predict_pitch = predict_pitch * pitch_rate\n",
    "        if pitch is not None:\n",
    "            avg_pitch = average_over_durations(pitch.unsqueeze(1), durations)\n",
    "            pitch = self.pitchEmbed(avg_pitch)\n",
    "            avg_pitch = avg_pitch.permute(0, 2, 1)\n",
    "        else:\n",
    "            pitch = self.pitchEmbed(predict_pitch.permute(0, 2, 1))\n",
    "        pitch = pitch.permute(0, 2, 1)\n",
    "        token_feats = token_feats.add(pitch)\n",
    "\n",
    "        # energy predictor\n",
    "        avg_energy = None\n",
    "        predict_energy = self.energyPred(token_feats, srcmask_inverted)\n",
    "        # use an energy rate to adjust the energy\n",
    "        predict_energy = predict_energy * energy_rate\n",
    "        if energy is not None:\n",
    "            avg_energy = average_over_durations(energy.unsqueeze(1), durations)\n",
    "            energy = self.energyEmbed(avg_energy)\n",
    "            avg_energy = avg_energy.permute(0, 2, 1)\n",
    "        else:\n",
    "            energy = self.energyEmbed(predict_energy.permute(0, 2, 1))\n",
    "        energy = energy.permute(0, 2, 1)\n",
    "        token_feats = token_feats.add(energy)\n",
    "\n",
    "        # upsamples the durations\n",
    "        spec_feats, mel_lens = upsample(\n",
    "            token_feats,\n",
    "            durations if durations is not None else dur_pred_reverse_log,\n",
    "            pace=pace,\n",
    "        )\n",
    "        srcmask = get_mask_from_lengths(torch.tensor(mel_lens))\n",
    "        srcmask = srcmask.to(spec_feats.device)\n",
    "        srcmask_inverted = (~srcmask).unsqueeze(-1)\n",
    "        attn_mask = (\n",
    "            srcmask.unsqueeze(-1)\n",
    "            .repeat(self.dec_num_head, 1, spec_feats.shape[1])\n",
    "            .permute(0, 2, 1)\n",
    "            .bool()\n",
    "        )\n",
    "\n",
    "        # decoder\n",
    "        pos = self.sinusoidal_positional_embed_decoder(spec_feats)\n",
    "        spec_feats = torch.add(spec_feats, pos) * srcmask_inverted\n",
    "\n",
    "        output_mel_feats, memory, *_ = self.decoder(\n",
    "            spec_feats, src_mask=attn_mask, src_key_padding_mask=srcmask\n",
    "        )\n",
    "\n",
    "        # postnet\n",
    "        mel_post = self.linear(output_mel_feats) * srcmask_inverted\n",
    "        postnet_output = self.postnet(mel_post) + mel_post\n",
    "        return (\n",
    "            mel_post,\n",
    "            postnet_output,\n",
    "            predict_durations,\n",
    "            predict_pitch,\n",
    "            avg_pitch,\n",
    "            predict_energy,\n",
    "            avg_energy,\n",
    "            torch.tensor(mel_lens),\n",
    "        )\n",
    "\n",
    "\n",
    "\n",
    "\n",
    "\n",
    "\n",
    "\n",
    "\n",
    "class Loss(nn.Module):\n",
    "    \"\"\"Loss Computation\n",
    "\n",
    "    Arguments\n",
    "    ---------\n",
    "    log_scale_durations: bool\n",
    "        applies logarithm to target durations\n",
    "    ssim_loss_weight: float\n",
    "        weight for ssim loss\n",
    "    duration_loss_weight: float\n",
    "        weight for the duration loss\n",
    "    pitch_loss_weight: float\n",
    "        weight for the pitch loss\n",
    "    energy_loss_weight: float\n",
    "        weight for the energy loss\n",
    "    mel_loss_weight: float\n",
    "        weight for the mel loss\n",
    "    postnet_mel_loss_weight: float\n",
    "        weight for the postnet mel loss\n",
    "    spn_loss_weight: float\n",
    "        weight for spn loss\n",
    "    spn_loss_max_epochs: int\n",
    "        Max number of epochs\n",
    "    \"\"\"\n",
    "\n",
    "    def __init__(\n",
    "        self,\n",
    "        log_scale_durations,\n",
    "        ssim_loss_weight,\n",
    "        duration_loss_weight,\n",
    "        pitch_loss_weight,\n",
    "        energy_loss_weight,\n",
    "        mel_loss_weight,\n",
    "        postnet_mel_loss_weight,\n",
    "        spn_loss_weight=1.0,\n",
    "        spn_loss_max_epochs=8,\n",
    "    ):\n",
    "        super().__init__()\n",
    "\n",
    "        self.ssim_loss = SSIMLoss()\n",
    "        self.mel_loss = nn.MSELoss()\n",
    "        self.postnet_mel_loss = nn.MSELoss()\n",
    "        self.dur_loss = nn.MSELoss()\n",
    "        self.pitch_loss = nn.MSELoss()\n",
    "        self.energy_loss = nn.MSELoss()\n",
    "        self.log_scale_durations = log_scale_durations\n",
    "        self.ssim_loss_weight = ssim_loss_weight\n",
    "        self.mel_loss_weight = mel_loss_weight\n",
    "        self.postnet_mel_loss_weight = postnet_mel_loss_weight\n",
    "        self.duration_loss_weight = duration_loss_weight\n",
    "        self.pitch_loss_weight = pitch_loss_weight\n",
    "        self.energy_loss_weight = energy_loss_weight\n",
    "        self.spn_loss_weight = spn_loss_weight\n",
    "        self.spn_loss_max_epochs = spn_loss_max_epochs\n",
    "\n",
    "\n",
    "    def forward(self, predictions, targets, current_epoch):\n",
    "        \"\"\"Computes the value of the loss function and updates stats\n",
    "\n",
    "        Arguments\n",
    "        ---------\n",
    "        predictions: tuple\n",
    "            model predictions\n",
    "        targets: tuple\n",
    "            ground truth data\n",
    "        current_epoch: int\n",
    "            The count of the current epoch.\n",
    "\n",
    "        Returns\n",
    "        -------\n",
    "        loss: torch.Tensor\n",
    "            the loss value\n",
    "        \"\"\"\n",
    "        (\n",
    "            mel_target,\n",
    "            target_durations,\n",
    "            target_pitch,\n",
    "            target_energy,\n",
    "            mel_length,\n",
    "            phon_len,\n",
    "            # spn_labels,\n",
    "        ) = targets\n",
    "        assert len(mel_target.shape) == 3\n",
    "        (\n",
    "            mel_out,\n",
    "            postnet_mel_out,\n",
    "            log_durations,\n",
    "            predicted_pitch,\n",
    "            average_pitch,\n",
    "            predicted_energy,\n",
    "            average_energy,\n",
    "            mel_lens,\n",
    "            # spn_preds,\n",
    "        ) = predictions\n",
    "\n",
    "        predicted_pitch = predicted_pitch.squeeze(-1)\n",
    "        predicted_energy = predicted_energy.squeeze(-1)\n",
    "\n",
    "        target_pitch = average_pitch.squeeze(-1)\n",
    "        target_energy = average_energy.squeeze(-1)\n",
    "\n",
    "        log_durations = log_durations.squeeze(-1)\n",
    "        if self.log_scale_durations:\n",
    "            log_target_durations = torch.log1p(target_durations.float())\n",
    "        # change this to perform batch level using padding mask\n",
    "\n",
    "        for i in range(mel_target.shape[0]):\n",
    "            if i == 0:\n",
    "                mel_loss = self.mel_loss(\n",
    "                    mel_out[i, : mel_length[i], :],\n",
    "                    mel_target[i, : mel_length[i], :],\n",
    "                )\n",
    "                postnet_mel_loss = self.postnet_mel_loss(\n",
    "                    postnet_mel_out[i, : mel_length[i], :],\n",
    "                    mel_target[i, : mel_length[i], :],\n",
    "                )\n",
    "                dur_loss = self.dur_loss(\n",
    "                    log_durations[i, : phon_len[i]],\n",
    "                    log_target_durations[i, : phon_len[i]].to(torch.float32),\n",
    "                )\n",
    "                pitch_loss = self.pitch_loss(\n",
    "                    predicted_pitch[i, : mel_length[i]],\n",
    "                    target_pitch[i, : mel_length[i]].to(torch.float32),\n",
    "                )\n",
    "                energy_loss = self.energy_loss(\n",
    "                    predicted_energy[i, : mel_length[i]],\n",
    "                    target_energy[i, : mel_length[i]].to(torch.float32),\n",
    "                )\n",
    "            else:\n",
    "                mel_loss = mel_loss + self.mel_loss(\n",
    "                    mel_out[i, : mel_length[i], :],\n",
    "                    mel_target[i, : mel_length[i], :],\n",
    "                )\n",
    "                postnet_mel_loss = postnet_mel_loss + self.postnet_mel_loss(\n",
    "                    postnet_mel_out[i, : mel_length[i], :],\n",
    "                    mel_target[i, : mel_length[i], :],\n",
    "                )\n",
    "                dur_loss = dur_loss + self.dur_loss(\n",
    "                    log_durations[i, : phon_len[i]],\n",
    "                    log_target_durations[i, : phon_len[i]].to(torch.float32),\n",
    "                )\n",
    "                pitch_loss = pitch_loss + self.pitch_loss(\n",
    "                    predicted_pitch[i, : mel_length[i]],\n",
    "                    target_pitch[i, : mel_length[i]].to(torch.float32),\n",
    "                )\n",
    "                energy_loss = energy_loss + self.energy_loss(\n",
    "                    predicted_energy[i, : mel_length[i]],\n",
    "                    target_energy[i, : mel_length[i]].to(torch.float32),\n",
    "                )\n",
    "        ssim_loss = self.ssim_loss(mel_out, mel_target, mel_length)\n",
    "        mel_loss = torch.div(mel_loss, len(mel_target))\n",
    "        postnet_mel_loss = torch.div(postnet_mel_loss, len(mel_target))\n",
    "        dur_loss = torch.div(dur_loss, len(mel_target))\n",
    "        pitch_loss = torch.div(pitch_loss, len(mel_target))\n",
    "        energy_loss = torch.div(energy_loss, len(mel_target))\n",
    "\n",
    "        # spn_loss = bce_loss(spn_preds, spn_labels)\n",
    "        # if current_epoch > self.spn_loss_max_epochs:\n",
    "        #     self.spn_loss_weight = 0\n",
    "\n",
    "        total_loss = (\n",
    "            ssim_loss * self.ssim_loss_weight\n",
    "            + mel_loss * self.mel_loss_weight\n",
    "            + postnet_mel_loss * self.postnet_mel_loss_weight\n",
    "            + dur_loss * self.duration_loss_weight\n",
    "            + pitch_loss * self.pitch_loss_weight\n",
    "            + energy_loss * self.energy_loss_weight\n",
    "            # + spn_loss * self.spn_loss_weight\n",
    "        )\n",
    "\n",
    "        loss = {\n",
    "            \"total_loss\": total_loss,\n",
    "            \"ssim_loss\": ssim_loss * self.ssim_loss_weight,\n",
    "            \"mel_loss\": mel_loss * self.mel_loss_weight,\n",
    "            \"postnet_mel_loss\": postnet_mel_loss * self.postnet_mel_loss_weight,\n",
    "            \"dur_loss\": dur_loss * self.duration_loss_weight,\n",
    "            \"pitch_loss\": pitch_loss * self.pitch_loss_weight,\n",
    "            \"energy_loss\": energy_loss * self.energy_loss_weight,\n",
    "            # \"spn_loss\": spn_loss * self.spn_loss_weight,\n",
    "        }\n",
    "        return loss"
   ]
  },
  {
   "cell_type": "markdown",
   "id": "0fffaa7a",
   "metadata": {},
   "source": [
    "## Trainer"
   ]
  },
  {
   "cell_type": "code",
   "execution_count": 9,
   "id": "735a13e8",
   "metadata": {},
   "outputs": [],
   "source": [
    "import yaml\n",
    "\n",
    "# Load configuration from YAML file\n",
    "config_path = os.path.join('/workspace/emo_rank_tts/params.yaml')\n",
    "with open(config_path, 'r') as file:\n",
    "    config = yaml.safe_load(file)"
   ]
  },
  {
   "cell_type": "code",
   "execution_count": 13,
   "id": "b2a3712d",
   "metadata": {},
   "outputs": [
    {
     "data": {
      "application/vnd.jupyter.widget-view+json": {
       "model_id": "51f99fa449bc4d9b92a7b02d4d3bd8a3",
       "version_major": 2,
       "version_minor": 0
      },
      "text/plain": [
       "  0%|          | 0/687 [00:00<?, ?it/s]"
      ]
     },
     "metadata": {},
     "output_type": "display_data"
    },
    {
     "name": "stdout",
     "output_type": "stream",
     "text": [
      "==================================================\n",
      "Epoch: 1\n",
      "==================================================\n",
      "total_loss                                  8.6915\n",
      "ssim_loss                                   0.4338\n",
      "mel_loss                                    2.8304\n",
      "postnet_mel_loss                            3.6387\n",
      "dur_loss                                    0.3377\n",
      "pitch_loss                                  0.9505\n",
      "energy_loss                                 0.5005\n",
      "================================================== \n",
      "\n",
      "\n"
     ]
    },
    {
     "data": {
      "application/vnd.jupyter.widget-view+json": {
       "model_id": "458566d7f1b24600aa086827ab8c13b2",
       "version_major": 2,
       "version_minor": 0
      },
      "text/plain": [
       "  0%|          | 0/687 [00:00<?, ?it/s]"
      ]
     },
     "metadata": {},
     "output_type": "display_data"
    },
    {
     "name": "stdout",
     "output_type": "stream",
     "text": [
      "==================================================\n",
      "Epoch: 2\n",
      "==================================================\n",
      "total_loss                                  5.2044\n",
      "ssim_loss                                   0.3431\n",
      "mel_loss                                    1.3889\n",
      "postnet_mel_loss                            2.0560\n",
      "dur_loss                                    0.2241\n",
      "pitch_loss                                  0.8657\n",
      "energy_loss                                 0.3266\n",
      "================================================== \n",
      "\n",
      "\n"
     ]
    },
    {
     "data": {
      "application/vnd.jupyter.widget-view+json": {
       "model_id": "efa78d0304a044bb986ae95f7c93b465",
       "version_major": 2,
       "version_minor": 0
      },
      "text/plain": [
       "  0%|          | 0/687 [00:00<?, ?it/s]"
      ]
     },
     "metadata": {},
     "output_type": "display_data"
    },
    {
     "name": "stdout",
     "output_type": "stream",
     "text": [
      "==================================================\n",
      "Epoch: 3\n",
      "==================================================\n",
      "total_loss                                  4.5900\n",
      "ssim_loss                                   0.3241\n",
      "mel_loss                                    1.2164\n",
      "postnet_mel_loss                            1.6996\n",
      "dur_loss                                    0.2010\n",
      "pitch_loss                                  0.8445\n",
      "energy_loss                                 0.3043\n",
      "================================================== \n",
      "\n",
      "\n"
     ]
    },
    {
     "data": {
      "application/vnd.jupyter.widget-view+json": {
       "model_id": "00e1d2a55ade498c833d1dffcf7c100e",
       "version_major": 2,
       "version_minor": 0
      },
      "text/plain": [
       "  0%|          | 0/687 [00:00<?, ?it/s]"
      ]
     },
     "metadata": {},
     "output_type": "display_data"
    },
    {
     "name": "stdout",
     "output_type": "stream",
     "text": [
      "==================================================\n",
      "Epoch: 4\n",
      "==================================================\n",
      "total_loss                                  4.2138\n",
      "ssim_loss                                   0.3098\n",
      "mel_loss                                    1.1126\n",
      "postnet_mel_loss                            1.4844\n",
      "dur_loss                                    0.1876\n",
      "pitch_loss                                  0.8282\n",
      "energy_loss                                 0.2912\n",
      "================================================== \n",
      "\n",
      "\n"
     ]
    },
    {
     "data": {
      "application/vnd.jupyter.widget-view+json": {
       "model_id": "8f70d02cc02443418abe1a113350d3c0",
       "version_major": 2,
       "version_minor": 0
      },
      "text/plain": [
       "  0%|          | 0/687 [00:00<?, ?it/s]"
      ]
     },
     "metadata": {},
     "output_type": "display_data"
    },
    {
     "name": "stdout",
     "output_type": "stream",
     "text": [
      "==================================================\n",
      "Epoch: 5\n",
      "==================================================\n",
      "total_loss                                  3.9137\n",
      "ssim_loss                                   0.3001\n",
      "mel_loss                                    1.0298\n",
      "postnet_mel_loss                            1.3160\n",
      "dur_loss                                    0.1781\n",
      "pitch_loss                                  0.8053\n",
      "energy_loss                                 0.2843\n",
      "================================================== \n",
      "\n",
      "\n"
     ]
    },
    {
     "data": {
      "application/vnd.jupyter.widget-view+json": {
       "model_id": "f81003cde7f447ebbfa347f6dc9e26a1",
       "version_major": 2,
       "version_minor": 0
      },
      "text/plain": [
       "  0%|          | 0/687 [00:00<?, ?it/s]"
      ]
     },
     "metadata": {},
     "output_type": "display_data"
    },
    {
     "name": "stdout",
     "output_type": "stream",
     "text": [
      "==================================================\n",
      "Epoch: 6\n",
      "==================================================\n",
      "total_loss                                  3.6648\n",
      "ssim_loss                                   0.2884\n",
      "mel_loss                                    0.9607\n",
      "postnet_mel_loss                            1.1783\n",
      "dur_loss                                    0.1697\n",
      "pitch_loss                                  0.7911\n",
      "energy_loss                                 0.2766\n",
      "================================================== \n",
      "\n",
      "\n"
     ]
    },
    {
     "data": {
      "application/vnd.jupyter.widget-view+json": {
       "model_id": "ef99c6510c8a4f6687cfa6bbe1f92646",
       "version_major": 2,
       "version_minor": 0
      },
      "text/plain": [
       "  0%|          | 0/687 [00:00<?, ?it/s]"
      ]
     },
     "metadata": {},
     "output_type": "display_data"
    },
    {
     "name": "stdout",
     "output_type": "stream",
     "text": [
      "==================================================\n",
      "Epoch: 7\n",
      "==================================================\n",
      "total_loss                                  3.4301\n",
      "ssim_loss                                   0.2784\n",
      "mel_loss                                    0.8991\n",
      "postnet_mel_loss                            1.0601\n",
      "dur_loss                                    0.1632\n",
      "pitch_loss                                  0.7627\n",
      "energy_loss                                 0.2665\n",
      "================================================== \n",
      "\n",
      "\n"
     ]
    },
    {
     "data": {
      "application/vnd.jupyter.widget-view+json": {
       "model_id": "995a6e8ef83846f1952c25d899e55d68",
       "version_major": 2,
       "version_minor": 0
      },
      "text/plain": [
       "  0%|          | 0/687 [00:00<?, ?it/s]"
      ]
     },
     "metadata": {},
     "output_type": "display_data"
    },
    {
     "name": "stdout",
     "output_type": "stream",
     "text": [
      "==================================================\n",
      "Epoch: 8\n",
      "==================================================\n",
      "total_loss                                  3.2336\n",
      "ssim_loss                                   0.2685\n",
      "mel_loss                                    0.8456\n",
      "postnet_mel_loss                            0.9608\n",
      "dur_loss                                    0.1597\n",
      "pitch_loss                                  0.7392\n",
      "energy_loss                                 0.2599\n",
      "================================================== \n",
      "\n",
      "\n"
     ]
    },
    {
     "data": {
      "application/vnd.jupyter.widget-view+json": {
       "model_id": "646f31aded3241daa730739875e7c8d0",
       "version_major": 2,
       "version_minor": 0
      },
      "text/plain": [
       "  0%|          | 0/687 [00:00<?, ?it/s]"
      ]
     },
     "metadata": {},
     "output_type": "display_data"
    },
    {
     "name": "stdout",
     "output_type": "stream",
     "text": [
      "==================================================\n",
      "Epoch: 9\n",
      "==================================================\n",
      "total_loss                                  3.0458\n",
      "ssim_loss                                   0.2607\n",
      "mel_loss                                    0.7964\n",
      "postnet_mel_loss                            0.8749\n",
      "dur_loss                                    0.1551\n",
      "pitch_loss                                  0.7074\n",
      "energy_loss                                 0.2512\n",
      "================================================== \n",
      "\n",
      "\n"
     ]
    },
    {
     "data": {
      "application/vnd.jupyter.widget-view+json": {
       "model_id": "0642e855a2774e728a76032eb6a96a1c",
       "version_major": 2,
       "version_minor": 0
      },
      "text/plain": [
       "  0%|          | 0/687 [00:00<?, ?it/s]"
      ]
     },
     "metadata": {},
     "output_type": "display_data"
    },
    {
     "name": "stdout",
     "output_type": "stream",
     "text": [
      "==================================================\n",
      "Epoch: 10\n",
      "==================================================\n",
      "total_loss                                  2.9043\n",
      "ssim_loss                                   0.2533\n",
      "mel_loss                                    0.7618\n",
      "postnet_mel_loss                            0.8121\n",
      "dur_loss                                    0.1509\n",
      "pitch_loss                                  0.6801\n",
      "energy_loss                                 0.2461\n",
      "================================================== \n",
      "\n",
      "\n"
     ]
    },
    {
     "data": {
      "application/vnd.jupyter.widget-view+json": {
       "model_id": "1b537cc425e843bd9cfe5246c5949955",
       "version_major": 2,
       "version_minor": 0
      },
      "text/plain": [
       "  0%|          | 0/687 [00:00<?, ?it/s]"
      ]
     },
     "metadata": {},
     "output_type": "display_data"
    },
    {
     "name": "stdout",
     "output_type": "stream",
     "text": [
      "==================================================\n",
      "Epoch: 11\n",
      "==================================================\n",
      "total_loss                                  2.7646\n",
      "ssim_loss                                   0.2477\n",
      "mel_loss                                    0.7255\n",
      "postnet_mel_loss                            0.7553\n",
      "dur_loss                                    0.1474\n",
      "pitch_loss                                  0.6505\n",
      "energy_loss                                 0.2382\n",
      "================================================== \n",
      "\n",
      "\n"
     ]
    },
    {
     "data": {
      "application/vnd.jupyter.widget-view+json": {
       "model_id": "9c30f3416a9f407792b6546bbc147ce9",
       "version_major": 2,
       "version_minor": 0
      },
      "text/plain": [
       "  0%|          | 0/687 [00:00<?, ?it/s]"
      ]
     },
     "metadata": {},
     "output_type": "display_data"
    },
    {
     "name": "stdout",
     "output_type": "stream",
     "text": [
      "==================================================\n",
      "Epoch: 12\n",
      "==================================================\n",
      "total_loss                                  2.6295\n",
      "ssim_loss                                   0.2411\n",
      "mel_loss                                    0.6923\n",
      "postnet_mel_loss                            0.7082\n",
      "dur_loss                                    0.1441\n",
      "pitch_loss                                  0.6128\n",
      "energy_loss                                 0.2310\n",
      "================================================== \n",
      "\n",
      "\n"
     ]
    },
    {
     "data": {
      "application/vnd.jupyter.widget-view+json": {
       "model_id": "e5eea2e619994de988a3606854a3adbe",
       "version_major": 2,
       "version_minor": 0
      },
      "text/plain": [
       "  0%|          | 0/687 [00:00<?, ?it/s]"
      ]
     },
     "metadata": {},
     "output_type": "display_data"
    },
    {
     "name": "stdout",
     "output_type": "stream",
     "text": [
      "==================================================\n",
      "Epoch: 13\n",
      "==================================================\n",
      "total_loss                                  2.5429\n",
      "ssim_loss                                   0.2353\n",
      "mel_loss                                    0.6697\n",
      "postnet_mel_loss                            0.6771\n",
      "dur_loss                                    0.1414\n",
      "pitch_loss                                  0.5930\n",
      "energy_loss                                 0.2263\n",
      "================================================== \n",
      "\n",
      "\n"
     ]
    },
    {
     "data": {
      "application/vnd.jupyter.widget-view+json": {
       "model_id": "2f2c65c707304760b7bf05a1f786f13c",
       "version_major": 2,
       "version_minor": 0
      },
      "text/plain": [
       "  0%|          | 0/687 [00:00<?, ?it/s]"
      ]
     },
     "metadata": {},
     "output_type": "display_data"
    },
    {
     "name": "stdout",
     "output_type": "stream",
     "text": [
      "==================================================\n",
      "Epoch: 14\n",
      "==================================================\n",
      "total_loss                                  2.4506\n",
      "ssim_loss                                   0.2304\n",
      "mel_loss                                    0.6462\n",
      "postnet_mel_loss                            0.6492\n",
      "dur_loss                                    0.1387\n",
      "pitch_loss                                  0.5683\n",
      "energy_loss                                 0.2179\n",
      "================================================== \n",
      "\n",
      "\n"
     ]
    },
    {
     "data": {
      "application/vnd.jupyter.widget-view+json": {
       "model_id": "d5c484e1b770416d92dd32fce4f94235",
       "version_major": 2,
       "version_minor": 0
      },
      "text/plain": [
       "  0%|          | 0/687 [00:00<?, ?it/s]"
      ]
     },
     "metadata": {},
     "output_type": "display_data"
    },
    {
     "name": "stdout",
     "output_type": "stream",
     "text": [
      "==================================================\n",
      "Epoch: 15\n",
      "==================================================\n",
      "total_loss                                  2.3473\n",
      "ssim_loss                                   0.2268\n",
      "mel_loss                                    0.6224\n",
      "postnet_mel_loss                            0.6236\n",
      "dur_loss                                    0.1355\n",
      "pitch_loss                                  0.5281\n",
      "energy_loss                                 0.2109\n",
      "================================================== \n",
      "\n",
      "\n"
     ]
    },
    {
     "data": {
      "application/vnd.jupyter.widget-view+json": {
       "model_id": "8fb832522ad941f0b25bafdae242247d",
       "version_major": 2,
       "version_minor": 0
      },
      "text/plain": [
       "  0%|          | 0/687 [00:00<?, ?it/s]"
      ]
     },
     "metadata": {},
     "output_type": "display_data"
    },
    {
     "name": "stdout",
     "output_type": "stream",
     "text": [
      "==================================================\n",
      "Epoch: 16\n",
      "==================================================\n",
      "total_loss                                  2.2595\n",
      "ssim_loss                                   0.2228\n",
      "mel_loss                                    0.5992\n",
      "postnet_mel_loss                            0.5999\n",
      "dur_loss                                    0.1326\n",
      "pitch_loss                                  0.5011\n",
      "energy_loss                                 0.2039\n",
      "================================================== \n",
      "\n",
      "\n"
     ]
    },
    {
     "data": {
      "application/vnd.jupyter.widget-view+json": {
       "model_id": "5a9b9b1c3f12416cbd30dad4f5432fdd",
       "version_major": 2,
       "version_minor": 0
      },
      "text/plain": [
       "  0%|          | 0/687 [00:00<?, ?it/s]"
      ]
     },
     "metadata": {},
     "output_type": "display_data"
    },
    {
     "name": "stdout",
     "output_type": "stream",
     "text": [
      "==================================================\n",
      "Epoch: 17\n",
      "==================================================\n",
      "total_loss                                  2.1809\n",
      "ssim_loss                                   0.2159\n",
      "mel_loss                                    0.5817\n",
      "postnet_mel_loss                            0.5822\n",
      "dur_loss                                    0.1297\n",
      "pitch_loss                                  0.4750\n",
      "energy_loss                                 0.1964\n",
      "================================================== \n",
      "\n",
      "\n"
     ]
    },
    {
     "data": {
      "application/vnd.jupyter.widget-view+json": {
       "model_id": "fd4e98e37f8b44efbc0d2be81133db55",
       "version_major": 2,
       "version_minor": 0
      },
      "text/plain": [
       "  0%|          | 0/687 [00:00<?, ?it/s]"
      ]
     },
     "metadata": {},
     "output_type": "display_data"
    },
    {
     "name": "stdout",
     "output_type": "stream",
     "text": [
      "==================================================\n",
      "Epoch: 18\n",
      "==================================================\n",
      "total_loss                                  2.1309\n",
      "ssim_loss                                   0.2147\n",
      "mel_loss                                    0.5711\n",
      "postnet_mel_loss                            0.5716\n",
      "dur_loss                                    0.1268\n",
      "pitch_loss                                  0.4570\n",
      "energy_loss                                 0.1898\n",
      "================================================== \n",
      "\n",
      "\n"
     ]
    },
    {
     "data": {
      "application/vnd.jupyter.widget-view+json": {
       "model_id": "9720725834774b74947f8a70c92a4946",
       "version_major": 2,
       "version_minor": 0
      },
      "text/plain": [
       "  0%|          | 0/687 [00:00<?, ?it/s]"
      ]
     },
     "metadata": {},
     "output_type": "display_data"
    },
    {
     "name": "stdout",
     "output_type": "stream",
     "text": [
      "==================================================\n",
      "Epoch: 19\n",
      "==================================================\n",
      "total_loss                                  2.0894\n",
      "ssim_loss                                   0.2113\n",
      "mel_loss                                    0.5667\n",
      "postnet_mel_loss                            0.5672\n",
      "dur_loss                                    0.1249\n",
      "pitch_loss                                  0.4353\n",
      "energy_loss                                 0.1841\n",
      "================================================== \n",
      "\n",
      "\n"
     ]
    },
    {
     "data": {
      "application/vnd.jupyter.widget-view+json": {
       "model_id": "2b5bcc9eedda45aba15dd1c2feb71474",
       "version_major": 2,
       "version_minor": 0
      },
      "text/plain": [
       "  0%|          | 0/687 [00:00<?, ?it/s]"
      ]
     },
     "metadata": {},
     "output_type": "display_data"
    },
    {
     "name": "stdout",
     "output_type": "stream",
     "text": [
      "==================================================\n",
      "Epoch: 20\n",
      "==================================================\n",
      "total_loss                                  1.9949\n",
      "ssim_loss                                   0.2053\n",
      "mel_loss                                    0.5392\n",
      "postnet_mel_loss                            0.5396\n",
      "dur_loss                                    0.1223\n",
      "pitch_loss                                  0.4108\n",
      "energy_loss                                 0.1776\n",
      "================================================== \n",
      "\n",
      "\n"
     ]
    },
    {
     "data": {
      "application/vnd.jupyter.widget-view+json": {
       "model_id": "75adabe528b449be858c5a7207e6d97b",
       "version_major": 2,
       "version_minor": 0
      },
      "text/plain": [
       "  0%|          | 0/687 [00:00<?, ?it/s]"
      ]
     },
     "metadata": {},
     "output_type": "display_data"
    },
    {
     "name": "stdout",
     "output_type": "stream",
     "text": [
      "==================================================\n",
      "Epoch: 21\n",
      "==================================================\n",
      "total_loss                                  1.9413\n",
      "ssim_loss                                   0.2017\n",
      "mel_loss                                    0.5253\n",
      "postnet_mel_loss                            0.5257\n",
      "dur_loss                                    0.1210\n",
      "pitch_loss                                  0.3952\n",
      "energy_loss                                 0.1724\n",
      "================================================== \n",
      "\n",
      "\n"
     ]
    },
    {
     "data": {
      "application/vnd.jupyter.widget-view+json": {
       "model_id": "c0e50e3f5bcc4f279163168227aa8eb1",
       "version_major": 2,
       "version_minor": 0
      },
      "text/plain": [
       "  0%|          | 0/687 [00:00<?, ?it/s]"
      ]
     },
     "metadata": {},
     "output_type": "display_data"
    },
    {
     "name": "stdout",
     "output_type": "stream",
     "text": [
      "==================================================\n",
      "Epoch: 22\n",
      "==================================================\n",
      "total_loss                                  1.9051\n",
      "ssim_loss                                   0.2001\n",
      "mel_loss                                    0.5132\n",
      "postnet_mel_loss                            0.5136\n",
      "dur_loss                                    0.1186\n",
      "pitch_loss                                  0.3918\n",
      "energy_loss                                 0.1679\n",
      "================================================== \n",
      "\n",
      "\n"
     ]
    },
    {
     "data": {
      "application/vnd.jupyter.widget-view+json": {
       "model_id": "4b63862cdce74bf58e0ba4c67046e934",
       "version_major": 2,
       "version_minor": 0
      },
      "text/plain": [
       "  0%|          | 0/687 [00:00<?, ?it/s]"
      ]
     },
     "metadata": {},
     "output_type": "display_data"
    },
    {
     "name": "stdout",
     "output_type": "stream",
     "text": [
      "==================================================\n",
      "Epoch: 23\n",
      "==================================================\n",
      "total_loss                                  1.8460\n",
      "ssim_loss                                   0.1961\n",
      "mel_loss                                    0.4997\n",
      "postnet_mel_loss                            0.5003\n",
      "dur_loss                                    0.1152\n",
      "pitch_loss                                  0.3732\n",
      "energy_loss                                 0.1614\n",
      "================================================== \n",
      "\n",
      "\n"
     ]
    },
    {
     "data": {
      "application/vnd.jupyter.widget-view+json": {
       "model_id": "811de4e5e5304efa9175a846dc897493",
       "version_major": 2,
       "version_minor": 0
      },
      "text/plain": [
       "  0%|          | 0/687 [00:00<?, ?it/s]"
      ]
     },
     "metadata": {},
     "output_type": "display_data"
    },
    {
     "name": "stdout",
     "output_type": "stream",
     "text": [
      "==================================================\n",
      "Epoch: 24\n",
      "==================================================\n",
      "total_loss                                  1.8001\n",
      "ssim_loss                                   0.1942\n",
      "mel_loss                                    0.4898\n",
      "postnet_mel_loss                            0.4901\n",
      "dur_loss                                    0.1134\n",
      "pitch_loss                                  0.3572\n",
      "energy_loss                                 0.1553\n",
      "================================================== \n",
      "\n",
      "\n"
     ]
    },
    {
     "data": {
      "application/vnd.jupyter.widget-view+json": {
       "model_id": "798de0cf9ced49d59ebf441923647fb9",
       "version_major": 2,
       "version_minor": 0
      },
      "text/plain": [
       "  0%|          | 0/687 [00:00<?, ?it/s]"
      ]
     },
     "metadata": {},
     "output_type": "display_data"
    },
    {
     "name": "stdout",
     "output_type": "stream",
     "text": [
      "==================================================\n",
      "Epoch: 25\n",
      "==================================================\n",
      "total_loss                                  1.7799\n",
      "ssim_loss                                   0.1917\n",
      "mel_loss                                    0.4840\n",
      "postnet_mel_loss                            0.4843\n",
      "dur_loss                                    0.1118\n",
      "pitch_loss                                  0.3556\n",
      "energy_loss                                 0.1525\n",
      "================================================== \n",
      "\n",
      "\n"
     ]
    },
    {
     "data": {
      "application/vnd.jupyter.widget-view+json": {
       "model_id": "d43ff2ef04f74304b965b61e0bbf89e1",
       "version_major": 2,
       "version_minor": 0
      },
      "text/plain": [
       "  0%|          | 0/687 [00:00<?, ?it/s]"
      ]
     },
     "metadata": {},
     "output_type": "display_data"
    },
    {
     "name": "stdout",
     "output_type": "stream",
     "text": [
      "==================================================\n",
      "Epoch: 26\n",
      "==================================================\n",
      "total_loss                                  1.7450\n",
      "ssim_loss                                   0.1901\n",
      "mel_loss                                    0.4752\n",
      "postnet_mel_loss                            0.4755\n",
      "dur_loss                                    0.1100\n",
      "pitch_loss                                  0.3457\n",
      "energy_loss                                 0.1484\n",
      "================================================== \n",
      "\n",
      "\n"
     ]
    },
    {
     "data": {
      "application/vnd.jupyter.widget-view+json": {
       "model_id": "5470d19dcd604d859e9f5d51eadda5a5",
       "version_major": 2,
       "version_minor": 0
      },
      "text/plain": [
       "  0%|          | 0/687 [00:00<?, ?it/s]"
      ]
     },
     "metadata": {},
     "output_type": "display_data"
    },
    {
     "name": "stdout",
     "output_type": "stream",
     "text": [
      "==================================================\n",
      "Epoch: 27\n",
      "==================================================\n",
      "total_loss                                  1.6905\n",
      "ssim_loss                                   0.1871\n",
      "mel_loss                                    0.4600\n",
      "postnet_mel_loss                            0.4602\n",
      "dur_loss                                    0.1074\n",
      "pitch_loss                                  0.3326\n",
      "energy_loss                                 0.1432\n",
      "================================================== \n",
      "\n",
      "\n"
     ]
    },
    {
     "data": {
      "application/vnd.jupyter.widget-view+json": {
       "model_id": "990ed6c8b75a41269163053787289265",
       "version_major": 2,
       "version_minor": 0
      },
      "text/plain": [
       "  0%|          | 0/687 [00:00<?, ?it/s]"
      ]
     },
     "metadata": {},
     "output_type": "display_data"
    },
    {
     "name": "stdout",
     "output_type": "stream",
     "text": [
      "==================================================\n",
      "Epoch: 28\n",
      "==================================================\n",
      "total_loss                                  1.6453\n",
      "ssim_loss                                   0.1838\n",
      "mel_loss                                    0.4496\n",
      "postnet_mel_loss                            0.4499\n",
      "dur_loss                                    0.1052\n",
      "pitch_loss                                  0.3171\n",
      "energy_loss                                 0.1398\n",
      "================================================== \n",
      "\n",
      "\n"
     ]
    },
    {
     "data": {
      "application/vnd.jupyter.widget-view+json": {
       "model_id": "9c3cfefedbe840a79665f7770cf0d03c",
       "version_major": 2,
       "version_minor": 0
      },
      "text/plain": [
       "  0%|          | 0/687 [00:00<?, ?it/s]"
      ]
     },
     "metadata": {},
     "output_type": "display_data"
    },
    {
     "name": "stdout",
     "output_type": "stream",
     "text": [
      "==================================================\n",
      "Epoch: 29\n",
      "==================================================\n",
      "total_loss                                  1.6168\n",
      "ssim_loss                                   0.1815\n",
      "mel_loss                                    0.4407\n",
      "postnet_mel_loss                            0.4409\n",
      "dur_loss                                    0.1034\n",
      "pitch_loss                                  0.3162\n",
      "energy_loss                                 0.1341\n",
      "================================================== \n",
      "\n",
      "\n"
     ]
    },
    {
     "data": {
      "application/vnd.jupyter.widget-view+json": {
       "model_id": "a2173bb44b09468cb5815082b8a208e4",
       "version_major": 2,
       "version_minor": 0
      },
      "text/plain": [
       "  0%|          | 0/687 [00:00<?, ?it/s]"
      ]
     },
     "metadata": {},
     "output_type": "display_data"
    },
    {
     "name": "stdout",
     "output_type": "stream",
     "text": [
      "==================================================\n",
      "Epoch: 30\n",
      "==================================================\n",
      "total_loss                                  1.5655\n",
      "ssim_loss                                   0.1772\n",
      "mel_loss                                    0.4264\n",
      "postnet_mel_loss                            0.4267\n",
      "dur_loss                                    0.1014\n",
      "pitch_loss                                  0.3040\n",
      "energy_loss                                 0.1298\n",
      "================================================== \n",
      "\n",
      "\n"
     ]
    },
    {
     "data": {
      "application/vnd.jupyter.widget-view+json": {
       "model_id": "71914ba2fbd94c858f9d41937477d089",
       "version_major": 2,
       "version_minor": 0
      },
      "text/plain": [
       "  0%|          | 0/687 [00:00<?, ?it/s]"
      ]
     },
     "metadata": {},
     "output_type": "display_data"
    },
    {
     "name": "stdout",
     "output_type": "stream",
     "text": [
      "==================================================\n",
      "Epoch: 31\n",
      "==================================================\n",
      "total_loss                                  1.5553\n",
      "ssim_loss                                   0.1778\n",
      "mel_loss                                    0.4297\n",
      "postnet_mel_loss                            0.4300\n",
      "dur_loss                                    0.0997\n",
      "pitch_loss                                  0.2914\n",
      "energy_loss                                 0.1267\n",
      "================================================== \n",
      "\n",
      "\n"
     ]
    },
    {
     "data": {
      "application/vnd.jupyter.widget-view+json": {
       "model_id": "c24f62c5a95b430fab0d6b3225d355cf",
       "version_major": 2,
       "version_minor": 0
      },
      "text/plain": [
       "  0%|          | 0/687 [00:00<?, ?it/s]"
      ]
     },
     "metadata": {},
     "output_type": "display_data"
    },
    {
     "name": "stdout",
     "output_type": "stream",
     "text": [
      "==================================================\n",
      "Epoch: 32\n",
      "==================================================\n",
      "total_loss                                  1.5469\n",
      "ssim_loss                                   0.1765\n",
      "mel_loss                                    0.4270\n",
      "postnet_mel_loss                            0.4272\n",
      "dur_loss                                    0.0987\n",
      "pitch_loss                                  0.2932\n",
      "energy_loss                                 0.1243\n",
      "================================================== \n",
      "\n",
      "\n"
     ]
    },
    {
     "data": {
      "application/vnd.jupyter.widget-view+json": {
       "model_id": "5bb76c876e9e492e8b2901533ae7a07d",
       "version_major": 2,
       "version_minor": 0
      },
      "text/plain": [
       "  0%|          | 0/687 [00:00<?, ?it/s]"
      ]
     },
     "metadata": {},
     "output_type": "display_data"
    },
    {
     "name": "stdout",
     "output_type": "stream",
     "text": [
      "==================================================\n",
      "Epoch: 33\n",
      "==================================================\n",
      "total_loss                                  1.4794\n",
      "ssim_loss                                   0.1715\n",
      "mel_loss                                    0.4062\n",
      "postnet_mel_loss                            0.4064\n",
      "dur_loss                                    0.0957\n",
      "pitch_loss                                  0.2800\n",
      "energy_loss                                 0.1197\n",
      "================================================== \n",
      "\n",
      "\n"
     ]
    },
    {
     "data": {
      "application/vnd.jupyter.widget-view+json": {
       "model_id": "5536522d574b49fd8a71725e724cf401",
       "version_major": 2,
       "version_minor": 0
      },
      "text/plain": [
       "  0%|          | 0/687 [00:00<?, ?it/s]"
      ]
     },
     "metadata": {},
     "output_type": "display_data"
    },
    {
     "name": "stdout",
     "output_type": "stream",
     "text": [
      "==================================================\n",
      "Epoch: 34\n",
      "==================================================\n",
      "total_loss                                  1.4606\n",
      "ssim_loss                                   0.1700\n",
      "mel_loss                                    0.4021\n",
      "postnet_mel_loss                            0.4023\n",
      "dur_loss                                    0.0939\n",
      "pitch_loss                                  0.2751\n",
      "energy_loss                                 0.1173\n",
      "================================================== \n",
      "\n",
      "\n"
     ]
    },
    {
     "data": {
      "application/vnd.jupyter.widget-view+json": {
       "model_id": "5f3cc0b195754d63991a64bcbdfec5e6",
       "version_major": 2,
       "version_minor": 0
      },
      "text/plain": [
       "  0%|          | 0/687 [00:00<?, ?it/s]"
      ]
     },
     "metadata": {},
     "output_type": "display_data"
    },
    {
     "name": "stdout",
     "output_type": "stream",
     "text": [
      "==================================================\n",
      "Epoch: 35\n",
      "==================================================\n",
      "total_loss                                  1.4402\n",
      "ssim_loss                                   0.1688\n",
      "mel_loss                                    0.3998\n",
      "postnet_mel_loss                            0.4000\n",
      "dur_loss                                    0.0919\n",
      "pitch_loss                                  0.2656\n",
      "energy_loss                                 0.1140\n",
      "================================================== \n",
      "\n",
      "\n"
     ]
    },
    {
     "data": {
      "application/vnd.jupyter.widget-view+json": {
       "model_id": "e85fc20e31bf4afeacfa11abc2ac33d4",
       "version_major": 2,
       "version_minor": 0
      },
      "text/plain": [
       "  0%|          | 0/687 [00:00<?, ?it/s]"
      ]
     },
     "metadata": {},
     "output_type": "display_data"
    },
    {
     "name": "stdout",
     "output_type": "stream",
     "text": [
      "==================================================\n",
      "Epoch: 36\n",
      "==================================================\n",
      "total_loss                                  1.4056\n",
      "ssim_loss                                   0.1667\n",
      "mel_loss                                    0.3879\n",
      "postnet_mel_loss                            0.3881\n",
      "dur_loss                                    0.0907\n",
      "pitch_loss                                  0.2598\n",
      "energy_loss                                 0.1124\n",
      "================================================== \n",
      "\n",
      "\n"
     ]
    },
    {
     "data": {
      "application/vnd.jupyter.widget-view+json": {
       "model_id": "6610d51526f74b3f8a200b47d88d4225",
       "version_major": 2,
       "version_minor": 0
      },
      "text/plain": [
       "  0%|          | 0/687 [00:00<?, ?it/s]"
      ]
     },
     "metadata": {},
     "output_type": "display_data"
    },
    {
     "name": "stdout",
     "output_type": "stream",
     "text": [
      "==================================================\n",
      "Epoch: 37\n",
      "==================================================\n",
      "total_loss                                  1.4204\n",
      "ssim_loss                                   0.1659\n",
      "mel_loss                                    0.3930\n",
      "postnet_mel_loss                            0.3932\n",
      "dur_loss                                    0.0892\n",
      "pitch_loss                                  0.2666\n",
      "energy_loss                                 0.1124\n",
      "================================================== \n",
      "\n",
      "\n"
     ]
    },
    {
     "data": {
      "application/vnd.jupyter.widget-view+json": {
       "model_id": "e4939033dcb9499da0c38e8fdbca08dd",
       "version_major": 2,
       "version_minor": 0
      },
      "text/plain": [
       "  0%|          | 0/687 [00:00<?, ?it/s]"
      ]
     },
     "metadata": {},
     "output_type": "display_data"
    },
    {
     "name": "stdout",
     "output_type": "stream",
     "text": [
      "==================================================\n",
      "Epoch: 38\n",
      "==================================================\n",
      "total_loss                                  1.3823\n",
      "ssim_loss                                   0.1630\n",
      "mel_loss                                    0.3830\n",
      "postnet_mel_loss                            0.3832\n",
      "dur_loss                                    0.0879\n",
      "pitch_loss                                  0.2570\n",
      "energy_loss                                 0.1084\n",
      "================================================== \n",
      "\n",
      "\n"
     ]
    },
    {
     "data": {
      "application/vnd.jupyter.widget-view+json": {
       "model_id": "c5d4feed572045369bcbfd14f700d0d5",
       "version_major": 2,
       "version_minor": 0
      },
      "text/plain": [
       "  0%|          | 0/687 [00:00<?, ?it/s]"
      ]
     },
     "metadata": {},
     "output_type": "display_data"
    },
    {
     "name": "stdout",
     "output_type": "stream",
     "text": [
      "==================================================\n",
      "Epoch: 39\n",
      "==================================================\n",
      "total_loss                                  1.3321\n",
      "ssim_loss                                   0.1601\n",
      "mel_loss                                    0.3687\n",
      "postnet_mel_loss                            0.3689\n",
      "dur_loss                                    0.0853\n",
      "pitch_loss                                  0.2454\n",
      "energy_loss                                 0.1036\n",
      "================================================== \n",
      "\n",
      "\n"
     ]
    },
    {
     "data": {
      "application/vnd.jupyter.widget-view+json": {
       "model_id": "1eb9f5f9e16f4d1aac820aba9b80a0ea",
       "version_major": 2,
       "version_minor": 0
      },
      "text/plain": [
       "  0%|          | 0/687 [00:00<?, ?it/s]"
      ]
     },
     "metadata": {},
     "output_type": "display_data"
    },
    {
     "name": "stdout",
     "output_type": "stream",
     "text": [
      "==================================================\n",
      "Epoch: 40\n",
      "==================================================\n",
      "total_loss                                  1.3333\n",
      "ssim_loss                                   0.1584\n",
      "mel_loss                                    0.3686\n",
      "postnet_mel_loss                            0.3688\n",
      "dur_loss                                    0.0846\n",
      "pitch_loss                                  0.2505\n",
      "energy_loss                                 0.1024\n",
      "================================================== \n",
      "\n",
      "\n"
     ]
    },
    {
     "data": {
      "application/vnd.jupyter.widget-view+json": {
       "model_id": "7afc01ee5bda4e90befd18c04096a82e",
       "version_major": 2,
       "version_minor": 0
      },
      "text/plain": [
       "  0%|          | 0/687 [00:00<?, ?it/s]"
      ]
     },
     "metadata": {},
     "output_type": "display_data"
    },
    {
     "name": "stdout",
     "output_type": "stream",
     "text": [
      "==================================================\n",
      "Epoch: 41\n",
      "==================================================\n",
      "total_loss                                  1.3443\n",
      "ssim_loss                                   0.1608\n",
      "mel_loss                                    0.3797\n",
      "postnet_mel_loss                            0.3799\n",
      "dur_loss                                    0.0845\n",
      "pitch_loss                                  0.2385\n",
      "energy_loss                                 0.1009\n",
      "================================================== \n",
      "\n",
      "\n"
     ]
    },
    {
     "data": {
      "application/vnd.jupyter.widget-view+json": {
       "model_id": "2f6e89a509ee446daa237613c798bd7d",
       "version_major": 2,
       "version_minor": 0
      },
      "text/plain": [
       "  0%|          | 0/687 [00:00<?, ?it/s]"
      ]
     },
     "metadata": {},
     "output_type": "display_data"
    },
    {
     "name": "stdout",
     "output_type": "stream",
     "text": [
      "==================================================\n",
      "Epoch: 42\n",
      "==================================================\n",
      "total_loss                                  1.3032\n",
      "ssim_loss                                   0.1586\n",
      "mel_loss                                    0.3648\n",
      "postnet_mel_loss                            0.3649\n",
      "dur_loss                                    0.0821\n",
      "pitch_loss                                  0.2327\n",
      "energy_loss                                 0.1001\n",
      "================================================== \n",
      "\n",
      "\n"
     ]
    },
    {
     "data": {
      "application/vnd.jupyter.widget-view+json": {
       "model_id": "de483bdcd00044a0a2bb5751d0a04170",
       "version_major": 2,
       "version_minor": 0
      },
      "text/plain": [
       "  0%|          | 0/687 [00:00<?, ?it/s]"
      ]
     },
     "metadata": {},
     "output_type": "display_data"
    },
    {
     "name": "stdout",
     "output_type": "stream",
     "text": [
      "==================================================\n",
      "Epoch: 43\n",
      "==================================================\n",
      "total_loss                                  1.2620\n",
      "ssim_loss                                   0.1545\n",
      "mel_loss                                    0.3511\n",
      "postnet_mel_loss                            0.3513\n",
      "dur_loss                                    0.0790\n",
      "pitch_loss                                  0.2303\n",
      "energy_loss                                 0.0958\n",
      "================================================== \n",
      "\n",
      "\n"
     ]
    },
    {
     "data": {
      "application/vnd.jupyter.widget-view+json": {
       "model_id": "14dde941d7f74dd594a74d7ecd78d025",
       "version_major": 2,
       "version_minor": 0
      },
      "text/plain": [
       "  0%|          | 0/687 [00:00<?, ?it/s]"
      ]
     },
     "metadata": {},
     "output_type": "display_data"
    },
    {
     "name": "stdout",
     "output_type": "stream",
     "text": [
      "==================================================\n",
      "Epoch: 44\n",
      "==================================================\n",
      "total_loss                                  1.2622\n",
      "ssim_loss                                   0.1549\n",
      "mel_loss                                    0.3520\n",
      "postnet_mel_loss                            0.3522\n",
      "dur_loss                                    0.0793\n",
      "pitch_loss                                  0.2301\n",
      "energy_loss                                 0.0937\n",
      "================================================== \n",
      "\n",
      "\n"
     ]
    },
    {
     "data": {
      "application/vnd.jupyter.widget-view+json": {
       "model_id": "e2d18a56942d467a9d52b9ec5b66ee34",
       "version_major": 2,
       "version_minor": 0
      },
      "text/plain": [
       "  0%|          | 0/687 [00:00<?, ?it/s]"
      ]
     },
     "metadata": {},
     "output_type": "display_data"
    },
    {
     "name": "stdout",
     "output_type": "stream",
     "text": [
      "==================================================\n",
      "Epoch: 45\n",
      "==================================================\n",
      "total_loss                                  1.2488\n",
      "ssim_loss                                   0.1530\n",
      "mel_loss                                    0.3472\n",
      "postnet_mel_loss                            0.3540\n",
      "dur_loss                                    0.0774\n",
      "pitch_loss                                  0.2251\n",
      "energy_loss                                 0.0921\n",
      "================================================== \n",
      "\n",
      "\n"
     ]
    },
    {
     "data": {
      "application/vnd.jupyter.widget-view+json": {
       "model_id": "57544e6c82c240ff9a4838dafd81c04a",
       "version_major": 2,
       "version_minor": 0
      },
      "text/plain": [
       "  0%|          | 0/687 [00:00<?, ?it/s]"
      ]
     },
     "metadata": {},
     "output_type": "display_data"
    },
    {
     "name": "stdout",
     "output_type": "stream",
     "text": [
      "==================================================\n",
      "Epoch: 46\n",
      "==================================================\n",
      "total_loss                                  1.2556\n",
      "ssim_loss                                   0.1509\n",
      "mel_loss                                    0.3434\n",
      "postnet_mel_loss                            0.3647\n",
      "dur_loss                                    0.0764\n",
      "pitch_loss                                  0.2293\n",
      "energy_loss                                 0.0910\n",
      "================================================== \n",
      "\n",
      "\n"
     ]
    },
    {
     "data": {
      "application/vnd.jupyter.widget-view+json": {
       "model_id": "d3ab447b6b214594b152afdcbad71e3d",
       "version_major": 2,
       "version_minor": 0
      },
      "text/plain": [
       "  0%|          | 0/687 [00:00<?, ?it/s]"
      ]
     },
     "metadata": {},
     "output_type": "display_data"
    },
    {
     "name": "stdout",
     "output_type": "stream",
     "text": [
      "==================================================\n",
      "Epoch: 47\n",
      "==================================================\n",
      "total_loss                                  1.2107\n",
      "ssim_loss                                   0.1491\n",
      "mel_loss                                    0.3355\n",
      "postnet_mel_loss                            0.3384\n",
      "dur_loss                                    0.0744\n",
      "pitch_loss                                  0.2253\n",
      "energy_loss                                 0.0880\n",
      "================================================== \n",
      "\n",
      "\n"
     ]
    },
    {
     "data": {
      "application/vnd.jupyter.widget-view+json": {
       "model_id": "c454bc4189e3443faa015172fe9d1245",
       "version_major": 2,
       "version_minor": 0
      },
      "text/plain": [
       "  0%|          | 0/687 [00:00<?, ?it/s]"
      ]
     },
     "metadata": {},
     "output_type": "display_data"
    },
    {
     "name": "stdout",
     "output_type": "stream",
     "text": [
      "==================================================\n",
      "Epoch: 48\n",
      "==================================================\n",
      "total_loss                                  1.1915\n",
      "ssim_loss                                   0.1480\n",
      "mel_loss                                    0.3313\n",
      "postnet_mel_loss                            0.3318\n",
      "dur_loss                                    0.0737\n",
      "pitch_loss                                  0.2196\n",
      "energy_loss                                 0.0871\n",
      "================================================== \n",
      "\n",
      "\n"
     ]
    },
    {
     "data": {
      "application/vnd.jupyter.widget-view+json": {
       "model_id": "2d17afcb23f74c25afba51e48002b72d",
       "version_major": 2,
       "version_minor": 0
      },
      "text/plain": [
       "  0%|          | 0/687 [00:00<?, ?it/s]"
      ]
     },
     "metadata": {},
     "output_type": "display_data"
    },
    {
     "name": "stdout",
     "output_type": "stream",
     "text": [
      "==================================================\n",
      "Epoch: 49\n",
      "==================================================\n",
      "total_loss                                  1.1959\n",
      "ssim_loss                                   0.1487\n",
      "mel_loss                                    0.3359\n",
      "postnet_mel_loss                            0.3361\n",
      "dur_loss                                    0.0732\n",
      "pitch_loss                                  0.2147\n",
      "energy_loss                                 0.0873\n",
      "================================================== \n",
      "\n",
      "\n"
     ]
    },
    {
     "data": {
      "application/vnd.jupyter.widget-view+json": {
       "model_id": "18244df6bfb84a4e923a82bcec629bb2",
       "version_major": 2,
       "version_minor": 0
      },
      "text/plain": [
       "  0%|          | 0/687 [00:00<?, ?it/s]"
      ]
     },
     "metadata": {},
     "output_type": "display_data"
    },
    {
     "name": "stdout",
     "output_type": "stream",
     "text": [
      "==================================================\n",
      "Epoch: 50\n",
      "==================================================\n",
      "total_loss                                  1.1825\n",
      "ssim_loss                                   0.1484\n",
      "mel_loss                                    0.3321\n",
      "postnet_mel_loss                            0.3323\n",
      "dur_loss                                    0.0720\n",
      "pitch_loss                                  0.2126\n",
      "energy_loss                                 0.0851\n",
      "================================================== \n",
      "\n",
      "\n"
     ]
    },
    {
     "data": {
      "application/vnd.jupyter.widget-view+json": {
       "model_id": "303b34211f3743b99883cc30ea69ced7",
       "version_major": 2,
       "version_minor": 0
      },
      "text/plain": [
       "  0%|          | 0/687 [00:00<?, ?it/s]"
      ]
     },
     "metadata": {},
     "output_type": "display_data"
    },
    {
     "name": "stdout",
     "output_type": "stream",
     "text": [
      "==================================================\n",
      "Epoch: 51\n",
      "==================================================\n",
      "total_loss                                  1.1633\n",
      "ssim_loss                                   0.1455\n",
      "mel_loss                                    0.3269\n",
      "postnet_mel_loss                            0.3271\n",
      "dur_loss                                    0.0709\n",
      "pitch_loss                                  0.2100\n",
      "energy_loss                                 0.0830\n",
      "================================================== \n",
      "\n",
      "\n"
     ]
    },
    {
     "data": {
      "application/vnd.jupyter.widget-view+json": {
       "model_id": "ec4933c466da42abb0cad6c1120f737b",
       "version_major": 2,
       "version_minor": 0
      },
      "text/plain": [
       "  0%|          | 0/687 [00:00<?, ?it/s]"
      ]
     },
     "metadata": {},
     "output_type": "display_data"
    },
    {
     "name": "stdout",
     "output_type": "stream",
     "text": [
      "==================================================\n",
      "Epoch: 52\n",
      "==================================================\n",
      "total_loss                                  1.1260\n",
      "ssim_loss                                   0.1428\n",
      "mel_loss                                    0.3149\n",
      "postnet_mel_loss                            0.3151\n",
      "dur_loss                                    0.0687\n",
      "pitch_loss                                  0.2042\n",
      "energy_loss                                 0.0802\n",
      "================================================== \n",
      "\n",
      "\n"
     ]
    },
    {
     "data": {
      "application/vnd.jupyter.widget-view+json": {
       "model_id": "6340db6743b347afb594aa4092cdc311",
       "version_major": 2,
       "version_minor": 0
      },
      "text/plain": [
       "  0%|          | 0/687 [00:00<?, ?it/s]"
      ]
     },
     "metadata": {},
     "output_type": "display_data"
    },
    {
     "name": "stdout",
     "output_type": "stream",
     "text": [
      "==================================================\n",
      "Epoch: 53\n",
      "==================================================\n",
      "total_loss                                  1.1135\n",
      "ssim_loss                                   0.1411\n",
      "mel_loss                                    0.3109\n",
      "postnet_mel_loss                            0.3111\n",
      "dur_loss                                    0.0677\n",
      "pitch_loss                                  0.2034\n",
      "energy_loss                                 0.0794\n",
      "================================================== \n",
      "\n",
      "\n"
     ]
    },
    {
     "data": {
      "application/vnd.jupyter.widget-view+json": {
       "model_id": "592ffad264494abdafb84c75f7734e8b",
       "version_major": 2,
       "version_minor": 0
      },
      "text/plain": [
       "  0%|          | 0/687 [00:00<?, ?it/s]"
      ]
     },
     "metadata": {},
     "output_type": "display_data"
    },
    {
     "name": "stdout",
     "output_type": "stream",
     "text": [
      "==================================================\n",
      "Epoch: 54\n",
      "==================================================\n",
      "total_loss                                  1.1130\n",
      "ssim_loss                                   0.1417\n",
      "mel_loss                                    0.3106\n",
      "postnet_mel_loss                            0.3108\n",
      "dur_loss                                    0.0671\n",
      "pitch_loss                                  0.2041\n",
      "energy_loss                                 0.0788\n",
      "================================================== \n",
      "\n",
      "\n"
     ]
    },
    {
     "data": {
      "application/vnd.jupyter.widget-view+json": {
       "model_id": "9ddc6c81026c4e2c828777485c13bdbf",
       "version_major": 2,
       "version_minor": 0
      },
      "text/plain": [
       "  0%|          | 0/687 [00:00<?, ?it/s]"
      ]
     },
     "metadata": {},
     "output_type": "display_data"
    },
    {
     "name": "stdout",
     "output_type": "stream",
     "text": [
      "==================================================\n",
      "Epoch: 55\n",
      "==================================================\n",
      "total_loss                                  1.1106\n",
      "ssim_loss                                   0.1410\n",
      "mel_loss                                    0.3097\n",
      "postnet_mel_loss                            0.3099\n",
      "dur_loss                                    0.0664\n",
      "pitch_loss                                  0.2060\n",
      "energy_loss                                 0.0776\n",
      "================================================== \n",
      "\n",
      "\n"
     ]
    },
    {
     "data": {
      "application/vnd.jupyter.widget-view+json": {
       "model_id": "0b3f5745b99c436ca8d5af1f95176f02",
       "version_major": 2,
       "version_minor": 0
      },
      "text/plain": [
       "  0%|          | 0/687 [00:00<?, ?it/s]"
      ]
     },
     "metadata": {},
     "output_type": "display_data"
    },
    {
     "name": "stdout",
     "output_type": "stream",
     "text": [
      "==================================================\n",
      "Epoch: 56\n",
      "==================================================\n",
      "total_loss                                  1.1016\n",
      "ssim_loss                                   0.1407\n",
      "mel_loss                                    0.3100\n",
      "postnet_mel_loss                            0.3102\n",
      "dur_loss                                    0.0660\n",
      "pitch_loss                                  0.1974\n",
      "energy_loss                                 0.0772\n",
      "================================================== \n",
      "\n",
      "\n"
     ]
    },
    {
     "data": {
      "application/vnd.jupyter.widget-view+json": {
       "model_id": "4313e4ad2cbd4932875464ada6d9383e",
       "version_major": 2,
       "version_minor": 0
      },
      "text/plain": [
       "  0%|          | 0/687 [00:00<?, ?it/s]"
      ]
     },
     "metadata": {},
     "output_type": "display_data"
    },
    {
     "name": "stdout",
     "output_type": "stream",
     "text": [
      "==================================================\n",
      "Epoch: 57\n",
      "==================================================\n",
      "total_loss                                  1.0832\n",
      "ssim_loss                                   0.1379\n",
      "mel_loss                                    0.3038\n",
      "postnet_mel_loss                            0.3040\n",
      "dur_loss                                    0.0645\n",
      "pitch_loss                                  0.1975\n",
      "energy_loss                                 0.0755\n",
      "================================================== \n",
      "\n",
      "\n"
     ]
    },
    {
     "data": {
      "application/vnd.jupyter.widget-view+json": {
       "model_id": "6ff05d8f3a06409f94ee65663f9a4952",
       "version_major": 2,
       "version_minor": 0
      },
      "text/plain": [
       "  0%|          | 0/687 [00:00<?, ?it/s]"
      ]
     },
     "metadata": {},
     "output_type": "display_data"
    },
    {
     "name": "stdout",
     "output_type": "stream",
     "text": [
      "==================================================\n",
      "Epoch: 58\n",
      "==================================================\n",
      "total_loss                                  1.0657\n",
      "ssim_loss                                   0.1366\n",
      "mel_loss                                    0.2978\n",
      "postnet_mel_loss                            0.2980\n",
      "dur_loss                                    0.0629\n",
      "pitch_loss                                  0.1965\n",
      "energy_loss                                 0.0738\n",
      "================================================== \n",
      "\n",
      "\n"
     ]
    },
    {
     "data": {
      "application/vnd.jupyter.widget-view+json": {
       "model_id": "625cedde0ae349efbce9ab31ebc6efbd",
       "version_major": 2,
       "version_minor": 0
      },
      "text/plain": [
       "  0%|          | 0/687 [00:00<?, ?it/s]"
      ]
     },
     "metadata": {},
     "output_type": "display_data"
    },
    {
     "name": "stdout",
     "output_type": "stream",
     "text": [
      "==================================================\n",
      "Epoch: 59\n",
      "==================================================\n",
      "total_loss                                  1.0589\n",
      "ssim_loss                                   0.1357\n",
      "mel_loss                                    0.2951\n",
      "postnet_mel_loss                            0.2952\n",
      "dur_loss                                    0.0627\n",
      "pitch_loss                                  0.1961\n",
      "energy_loss                                 0.0740\n",
      "================================================== \n",
      "\n",
      "\n"
     ]
    },
    {
     "data": {
      "application/vnd.jupyter.widget-view+json": {
       "model_id": "a288d6ce92b243e3b3a96d52e87a0dd6",
       "version_major": 2,
       "version_minor": 0
      },
      "text/plain": [
       "  0%|          | 0/687 [00:00<?, ?it/s]"
      ]
     },
     "metadata": {},
     "output_type": "display_data"
    },
    {
     "name": "stdout",
     "output_type": "stream",
     "text": [
      "==================================================\n",
      "Epoch: 60\n",
      "==================================================\n",
      "total_loss                                  1.0630\n",
      "ssim_loss                                   0.1367\n",
      "mel_loss                                    0.2984\n",
      "postnet_mel_loss                            0.2986\n",
      "dur_loss                                    0.0622\n",
      "pitch_loss                                  0.1939\n",
      "energy_loss                                 0.0732\n",
      "================================================== \n",
      "\n",
      "\n"
     ]
    },
    {
     "data": {
      "application/vnd.jupyter.widget-view+json": {
       "model_id": "c5157a32bdbc4391b7bbd506d55a1550",
       "version_major": 2,
       "version_minor": 0
      },
      "text/plain": [
       "  0%|          | 0/687 [00:00<?, ?it/s]"
      ]
     },
     "metadata": {},
     "output_type": "display_data"
    },
    {
     "name": "stdout",
     "output_type": "stream",
     "text": [
      "==================================================\n",
      "Epoch: 61\n",
      "==================================================\n",
      "total_loss                                  1.0512\n",
      "ssim_loss                                   0.1354\n",
      "mel_loss                                    0.2947\n",
      "postnet_mel_loss                            0.2948\n",
      "dur_loss                                    0.0608\n",
      "pitch_loss                                  0.1937\n",
      "energy_loss                                 0.0717\n",
      "================================================== \n",
      "\n",
      "\n"
     ]
    },
    {
     "data": {
      "application/vnd.jupyter.widget-view+json": {
       "model_id": "2bb4ff72a93c4ccd8c7b955fcbb218e0",
       "version_major": 2,
       "version_minor": 0
      },
      "text/plain": [
       "  0%|          | 0/687 [00:00<?, ?it/s]"
      ]
     },
     "metadata": {},
     "output_type": "display_data"
    },
    {
     "name": "stdout",
     "output_type": "stream",
     "text": [
      "==================================================\n",
      "Epoch: 62\n",
      "==================================================\n",
      "total_loss                                  1.0316\n",
      "ssim_loss                                   0.1339\n",
      "mel_loss                                    0.2882\n",
      "postnet_mel_loss                            0.2883\n",
      "dur_loss                                    0.0606\n",
      "pitch_loss                                  0.1901\n",
      "energy_loss                                 0.0705\n",
      "================================================== \n",
      "\n",
      "\n"
     ]
    },
    {
     "data": {
      "application/vnd.jupyter.widget-view+json": {
       "model_id": "3be8f432b8b54a13a3735bce845f6dec",
       "version_major": 2,
       "version_minor": 0
      },
      "text/plain": [
       "  0%|          | 0/687 [00:00<?, ?it/s]"
      ]
     },
     "metadata": {},
     "output_type": "display_data"
    },
    {
     "name": "stdout",
     "output_type": "stream",
     "text": [
      "==================================================\n",
      "Epoch: 63\n",
      "==================================================\n",
      "total_loss                                  1.0310\n",
      "ssim_loss                                   0.1343\n",
      "mel_loss                                    0.2902\n",
      "postnet_mel_loss                            0.2904\n",
      "dur_loss                                    0.0592\n",
      "pitch_loss                                  0.1875\n",
      "energy_loss                                 0.0695\n",
      "================================================== \n",
      "\n",
      "\n"
     ]
    },
    {
     "data": {
      "application/vnd.jupyter.widget-view+json": {
       "model_id": "0794e1d2dfa548b487c46c5878b09fb8",
       "version_major": 2,
       "version_minor": 0
      },
      "text/plain": [
       "  0%|          | 0/687 [00:00<?, ?it/s]"
      ]
     },
     "metadata": {},
     "output_type": "display_data"
    },
    {
     "name": "stdout",
     "output_type": "stream",
     "text": [
      "==================================================\n",
      "Epoch: 64\n",
      "==================================================\n",
      "total_loss                                  1.0210\n",
      "ssim_loss                                   0.1337\n",
      "mel_loss                                    0.2891\n",
      "postnet_mel_loss                            0.2893\n",
      "dur_loss                                    0.0585\n",
      "pitch_loss                                  0.1816\n",
      "energy_loss                                 0.0688\n",
      "================================================== \n",
      "\n",
      "\n"
     ]
    },
    {
     "data": {
      "application/vnd.jupyter.widget-view+json": {
       "model_id": "0852fb95847649e890844a94dd4b3298",
       "version_major": 2,
       "version_minor": 0
      },
      "text/plain": [
       "  0%|          | 0/687 [00:00<?, ?it/s]"
      ]
     },
     "metadata": {},
     "output_type": "display_data"
    },
    {
     "name": "stdout",
     "output_type": "stream",
     "text": [
      "==================================================\n",
      "Epoch: 65\n",
      "==================================================\n",
      "total_loss                                  0.9985\n",
      "ssim_loss                                   0.1310\n",
      "mel_loss                                    0.2807\n",
      "postnet_mel_loss                            0.2808\n",
      "dur_loss                                    0.0575\n",
      "pitch_loss                                  0.1815\n",
      "energy_loss                                 0.0670\n",
      "================================================== \n",
      "\n",
      "\n"
     ]
    },
    {
     "data": {
      "application/vnd.jupyter.widget-view+json": {
       "model_id": "3e1fd1c0bae442b1ad83746dfb66b6bf",
       "version_major": 2,
       "version_minor": 0
      },
      "text/plain": [
       "  0%|          | 0/687 [00:00<?, ?it/s]"
      ]
     },
     "metadata": {},
     "output_type": "display_data"
    },
    {
     "name": "stdout",
     "output_type": "stream",
     "text": [
      "==================================================\n",
      "Epoch: 66\n",
      "==================================================\n",
      "total_loss                                  0.9880\n",
      "ssim_loss                                   0.1297\n",
      "mel_loss                                    0.2761\n",
      "postnet_mel_loss                            0.2762\n",
      "dur_loss                                    0.0572\n",
      "pitch_loss                                  0.1815\n",
      "energy_loss                                 0.0672\n",
      "================================================== \n",
      "\n",
      "\n"
     ]
    },
    {
     "data": {
      "application/vnd.jupyter.widget-view+json": {
       "model_id": "300cba7b0f084ac4962aee9123d642f7",
       "version_major": 2,
       "version_minor": 0
      },
      "text/plain": [
       "  0%|          | 0/687 [00:00<?, ?it/s]"
      ]
     },
     "metadata": {},
     "output_type": "display_data"
    },
    {
     "name": "stdout",
     "output_type": "stream",
     "text": [
      "==================================================\n",
      "Epoch: 67\n",
      "==================================================\n",
      "total_loss                                  1.0073\n",
      "ssim_loss                                   0.1309\n",
      "mel_loss                                    0.2815\n",
      "postnet_mel_loss                            0.2817\n",
      "dur_loss                                    0.0575\n",
      "pitch_loss                                  0.1889\n",
      "energy_loss                                 0.0668\n",
      "================================================== \n",
      "\n",
      "\n"
     ]
    },
    {
     "data": {
      "application/vnd.jupyter.widget-view+json": {
       "model_id": "4cf91e094c3b43238f0855be80d7474b",
       "version_major": 2,
       "version_minor": 0
      },
      "text/plain": [
       "  0%|          | 0/687 [00:00<?, ?it/s]"
      ]
     },
     "metadata": {},
     "output_type": "display_data"
    },
    {
     "name": "stdout",
     "output_type": "stream",
     "text": [
      "==================================================\n",
      "Epoch: 68\n",
      "==================================================\n",
      "total_loss                                  0.9882\n",
      "ssim_loss                                   0.1300\n",
      "mel_loss                                    0.2772\n",
      "postnet_mel_loss                            0.2773\n",
      "dur_loss                                    0.0569\n",
      "pitch_loss                                  0.1813\n",
      "energy_loss                                 0.0655\n",
      "================================================== \n",
      "\n",
      "\n"
     ]
    },
    {
     "data": {
      "application/vnd.jupyter.widget-view+json": {
       "model_id": "faa8cae1c2c340469e6c80d66388a198",
       "version_major": 2,
       "version_minor": 0
      },
      "text/plain": [
       "  0%|          | 0/687 [00:00<?, ?it/s]"
      ]
     },
     "metadata": {},
     "output_type": "display_data"
    },
    {
     "name": "stdout",
     "output_type": "stream",
     "text": [
      "==================================================\n",
      "Epoch: 69\n",
      "==================================================\n",
      "total_loss                                  0.9731\n",
      "ssim_loss                                   0.1279\n",
      "mel_loss                                    0.2725\n",
      "postnet_mel_loss                            0.2726\n",
      "dur_loss                                    0.0556\n",
      "pitch_loss                                  0.1810\n",
      "energy_loss                                 0.0635\n",
      "================================================== \n",
      "\n",
      "\n"
     ]
    },
    {
     "data": {
      "application/vnd.jupyter.widget-view+json": {
       "model_id": "792849c4bc8445b4a5072b61a8bc03ba",
       "version_major": 2,
       "version_minor": 0
      },
      "text/plain": [
       "  0%|          | 0/687 [00:00<?, ?it/s]"
      ]
     },
     "metadata": {},
     "output_type": "display_data"
    },
    {
     "name": "stdout",
     "output_type": "stream",
     "text": [
      "==================================================\n",
      "Epoch: 70\n",
      "==================================================\n",
      "total_loss                                  0.9715\n",
      "ssim_loss                                   0.1281\n",
      "mel_loss                                    0.2743\n",
      "postnet_mel_loss                            0.2744\n",
      "dur_loss                                    0.0547\n",
      "pitch_loss                                  0.1774\n",
      "energy_loss                                 0.0626\n",
      "================================================== \n",
      "\n",
      "\n"
     ]
    },
    {
     "data": {
      "application/vnd.jupyter.widget-view+json": {
       "model_id": "06c51ca6ec284e5dbfb0bc59e505ac7a",
       "version_major": 2,
       "version_minor": 0
      },
      "text/plain": [
       "  0%|          | 0/687 [00:00<?, ?it/s]"
      ]
     },
     "metadata": {},
     "output_type": "display_data"
    },
    {
     "name": "stdout",
     "output_type": "stream",
     "text": [
      "==================================================\n",
      "Epoch: 71\n",
      "==================================================\n",
      "total_loss                                  0.9581\n",
      "ssim_loss                                   0.1270\n",
      "mel_loss                                    0.2675\n",
      "postnet_mel_loss                            0.2676\n",
      "dur_loss                                    0.0540\n",
      "pitch_loss                                  0.1796\n",
      "energy_loss                                 0.0623\n",
      "================================================== \n",
      "\n",
      "\n"
     ]
    },
    {
     "data": {
      "application/vnd.jupyter.widget-view+json": {
       "model_id": "863b489671024514b96e91499fa0daf0",
       "version_major": 2,
       "version_minor": 0
      },
      "text/plain": [
       "  0%|          | 0/687 [00:00<?, ?it/s]"
      ]
     },
     "metadata": {},
     "output_type": "display_data"
    },
    {
     "name": "stdout",
     "output_type": "stream",
     "text": [
      "==================================================\n",
      "Epoch: 72\n",
      "==================================================\n",
      "total_loss                                  0.9575\n",
      "ssim_loss                                   0.1271\n",
      "mel_loss                                    0.2672\n",
      "postnet_mel_loss                            0.2673\n",
      "dur_loss                                    0.0541\n",
      "pitch_loss                                  0.1785\n",
      "energy_loss                                 0.0632\n",
      "================================================== \n",
      "\n",
      "\n"
     ]
    },
    {
     "data": {
      "application/vnd.jupyter.widget-view+json": {
       "model_id": "3e2cda78e3954e44bb3eeac9e98d3a86",
       "version_major": 2,
       "version_minor": 0
      },
      "text/plain": [
       "  0%|          | 0/687 [00:00<?, ?it/s]"
      ]
     },
     "metadata": {},
     "output_type": "display_data"
    },
    {
     "name": "stdout",
     "output_type": "stream",
     "text": [
      "==================================================\n",
      "Epoch: 73\n",
      "==================================================\n",
      "total_loss                                  0.9415\n",
      "ssim_loss                                   0.1251\n",
      "mel_loss                                    0.2629\n",
      "postnet_mel_loss                            0.2630\n",
      "dur_loss                                    0.0531\n",
      "pitch_loss                                  0.1760\n",
      "energy_loss                                 0.0613\n",
      "================================================== \n",
      "\n",
      "\n"
     ]
    },
    {
     "data": {
      "application/vnd.jupyter.widget-view+json": {
       "model_id": "35f60c18c62741348028d81f899552a2",
       "version_major": 2,
       "version_minor": 0
      },
      "text/plain": [
       "  0%|          | 0/687 [00:00<?, ?it/s]"
      ]
     },
     "metadata": {},
     "output_type": "display_data"
    },
    {
     "name": "stdout",
     "output_type": "stream",
     "text": [
      "==================================================\n",
      "Epoch: 74\n",
      "==================================================\n",
      "total_loss                                  0.9496\n",
      "ssim_loss                                   0.1249\n",
      "mel_loss                                    0.2630\n",
      "postnet_mel_loss                            0.2630\n",
      "dur_loss                                    0.0538\n",
      "pitch_loss                                  0.1823\n",
      "energy_loss                                 0.0625\n",
      "================================================== \n",
      "\n",
      "\n"
     ]
    },
    {
     "data": {
      "application/vnd.jupyter.widget-view+json": {
       "model_id": "fcc426eb298847f784230068398fee3c",
       "version_major": 2,
       "version_minor": 0
      },
      "text/plain": [
       "  0%|          | 0/687 [00:00<?, ?it/s]"
      ]
     },
     "metadata": {},
     "output_type": "display_data"
    },
    {
     "name": "stdout",
     "output_type": "stream",
     "text": [
      "==================================================\n",
      "Epoch: 75\n",
      "==================================================\n",
      "total_loss                                  0.9526\n",
      "ssim_loss                                   0.1252\n",
      "mel_loss                                    0.2646\n",
      "postnet_mel_loss                            0.2647\n",
      "dur_loss                                    0.0533\n",
      "pitch_loss                                  0.1842\n",
      "energy_loss                                 0.0607\n",
      "================================================== \n",
      "\n",
      "\n"
     ]
    },
    {
     "data": {
      "application/vnd.jupyter.widget-view+json": {
       "model_id": "1f72377b6ced489c9a45517ecc2731e3",
       "version_major": 2,
       "version_minor": 0
      },
      "text/plain": [
       "  0%|          | 0/687 [00:00<?, ?it/s]"
      ]
     },
     "metadata": {},
     "output_type": "display_data"
    },
    {
     "name": "stdout",
     "output_type": "stream",
     "text": [
      "==================================================\n",
      "Epoch: 76\n",
      "==================================================\n",
      "total_loss                                  0.9424\n",
      "ssim_loss                                   0.1244\n",
      "mel_loss                                    0.2628\n",
      "postnet_mel_loss                            0.2628\n",
      "dur_loss                                    0.0523\n",
      "pitch_loss                                  0.1810\n",
      "energy_loss                                 0.0591\n",
      "================================================== \n",
      "\n",
      "\n"
     ]
    },
    {
     "data": {
      "application/vnd.jupyter.widget-view+json": {
       "model_id": "cde797edaa8e4acfab2c082babc9f7a4",
       "version_major": 2,
       "version_minor": 0
      },
      "text/plain": [
       "  0%|          | 0/687 [00:00<?, ?it/s]"
      ]
     },
     "metadata": {},
     "output_type": "display_data"
    },
    {
     "name": "stdout",
     "output_type": "stream",
     "text": [
      "==================================================\n",
      "Epoch: 77\n",
      "==================================================\n",
      "total_loss                                  0.9307\n",
      "ssim_loss                                   0.1229\n",
      "mel_loss                                    0.2584\n",
      "postnet_mel_loss                            0.2585\n",
      "dur_loss                                    0.0516\n",
      "pitch_loss                                  0.1796\n",
      "energy_loss                                 0.0596\n",
      "================================================== \n",
      "\n",
      "\n"
     ]
    },
    {
     "data": {
      "application/vnd.jupyter.widget-view+json": {
       "model_id": "8069f07d5d164d1caea2242eeb0e942e",
       "version_major": 2,
       "version_minor": 0
      },
      "text/plain": [
       "  0%|          | 0/687 [00:00<?, ?it/s]"
      ]
     },
     "metadata": {},
     "output_type": "display_data"
    },
    {
     "name": "stdout",
     "output_type": "stream",
     "text": [
      "==================================================\n",
      "Epoch: 78\n",
      "==================================================\n",
      "total_loss                                  0.9199\n",
      "ssim_loss                                   0.1221\n",
      "mel_loss                                    0.2556\n",
      "postnet_mel_loss                            0.2557\n",
      "dur_loss                                    0.0521\n",
      "pitch_loss                                  0.1755\n",
      "energy_loss                                 0.0589\n",
      "================================================== \n",
      "\n",
      "\n"
     ]
    },
    {
     "data": {
      "application/vnd.jupyter.widget-view+json": {
       "model_id": "f00ea1d84fe149a281652db4b76680d7",
       "version_major": 2,
       "version_minor": 0
      },
      "text/plain": [
       "  0%|          | 0/687 [00:00<?, ?it/s]"
      ]
     },
     "metadata": {},
     "output_type": "display_data"
    },
    {
     "name": "stdout",
     "output_type": "stream",
     "text": [
      "==================================================\n",
      "Epoch: 79\n",
      "==================================================\n",
      "total_loss                                  0.9161\n",
      "ssim_loss                                   0.1219\n",
      "mel_loss                                    0.2563\n",
      "postnet_mel_loss                            0.2564\n",
      "dur_loss                                    0.0509\n",
      "pitch_loss                                  0.1730\n",
      "energy_loss                                 0.0576\n",
      "================================================== \n",
      "\n",
      "\n"
     ]
    },
    {
     "data": {
      "application/vnd.jupyter.widget-view+json": {
       "model_id": "cf6afe2bfde141d89a0ebd1091c92fa9",
       "version_major": 2,
       "version_minor": 0
      },
      "text/plain": [
       "  0%|          | 0/687 [00:00<?, ?it/s]"
      ]
     },
     "metadata": {},
     "output_type": "display_data"
    },
    {
     "name": "stdout",
     "output_type": "stream",
     "text": [
      "==================================================\n",
      "Epoch: 80\n",
      "==================================================\n",
      "total_loss                                  0.9394\n",
      "ssim_loss                                   0.1232\n",
      "mel_loss                                    0.2634\n",
      "postnet_mel_loss                            0.2634\n",
      "dur_loss                                    0.0513\n",
      "pitch_loss                                  0.1790\n",
      "energy_loss                                 0.0590\n",
      "================================================== \n",
      "\n",
      "\n"
     ]
    },
    {
     "data": {
      "application/vnd.jupyter.widget-view+json": {
       "model_id": "43ab1701a05e44e1be43e60f17401d1d",
       "version_major": 2,
       "version_minor": 0
      },
      "text/plain": [
       "  0%|          | 0/687 [00:00<?, ?it/s]"
      ]
     },
     "metadata": {},
     "output_type": "display_data"
    },
    {
     "name": "stdout",
     "output_type": "stream",
     "text": [
      "==================================================\n",
      "Epoch: 81\n",
      "==================================================\n",
      "total_loss                                  0.9383\n",
      "ssim_loss                                   0.1235\n",
      "mel_loss                                    0.2646\n",
      "postnet_mel_loss                            0.2647\n",
      "dur_loss                                    0.0512\n",
      "pitch_loss                                  0.1758\n",
      "energy_loss                                 0.0586\n",
      "================================================== \n",
      "\n",
      "\n"
     ]
    },
    {
     "data": {
      "application/vnd.jupyter.widget-view+json": {
       "model_id": "d7e6bcada94f4fa69ee96d2ba178bd96",
       "version_major": 2,
       "version_minor": 0
      },
      "text/plain": [
       "  0%|          | 0/687 [00:00<?, ?it/s]"
      ]
     },
     "metadata": {},
     "output_type": "display_data"
    },
    {
     "name": "stdout",
     "output_type": "stream",
     "text": [
      "==================================================\n",
      "Epoch: 82\n",
      "==================================================\n",
      "total_loss                                  0.8802\n",
      "ssim_loss                                   0.1198\n",
      "mel_loss                                    0.2462\n",
      "postnet_mel_loss                            0.2463\n",
      "dur_loss                                    0.0487\n",
      "pitch_loss                                  0.1639\n",
      "energy_loss                                 0.0553\n",
      "================================================== \n",
      "\n",
      "\n"
     ]
    },
    {
     "data": {
      "application/vnd.jupyter.widget-view+json": {
       "model_id": "fced827d5968433283491015f0f0990f",
       "version_major": 2,
       "version_minor": 0
      },
      "text/plain": [
       "  0%|          | 0/687 [00:00<?, ?it/s]"
      ]
     },
     "metadata": {},
     "output_type": "display_data"
    },
    {
     "name": "stdout",
     "output_type": "stream",
     "text": [
      "==================================================\n",
      "Epoch: 83\n",
      "==================================================\n",
      "total_loss                                  0.8682\n",
      "ssim_loss                                   0.1179\n",
      "mel_loss                                    0.2421\n",
      "postnet_mel_loss                            0.2421\n",
      "dur_loss                                    0.0480\n",
      "pitch_loss                                  0.1634\n",
      "energy_loss                                 0.0547\n",
      "================================================== \n",
      "\n",
      "\n"
     ]
    },
    {
     "data": {
      "application/vnd.jupyter.widget-view+json": {
       "model_id": "4c98bb69439540578a8093cc56f36ddb",
       "version_major": 2,
       "version_minor": 0
      },
      "text/plain": [
       "  0%|          | 0/687 [00:00<?, ?it/s]"
      ]
     },
     "metadata": {},
     "output_type": "display_data"
    },
    {
     "name": "stdout",
     "output_type": "stream",
     "text": [
      "==================================================\n",
      "Epoch: 84\n",
      "==================================================\n",
      "total_loss                                  0.8723\n",
      "ssim_loss                                   0.1177\n",
      "mel_loss                                    0.2425\n",
      "postnet_mel_loss                            0.2425\n",
      "dur_loss                                    0.0483\n",
      "pitch_loss                                  0.1664\n",
      "energy_loss                                 0.0549\n",
      "================================================== \n",
      "\n",
      "\n"
     ]
    },
    {
     "data": {
      "application/vnd.jupyter.widget-view+json": {
       "model_id": "172e049e443f4c0382fdd7533642c6df",
       "version_major": 2,
       "version_minor": 0
      },
      "text/plain": [
       "  0%|          | 0/687 [00:00<?, ?it/s]"
      ]
     },
     "metadata": {},
     "output_type": "display_data"
    },
    {
     "name": "stdout",
     "output_type": "stream",
     "text": [
      "==================================================\n",
      "Epoch: 85\n",
      "==================================================\n",
      "total_loss                                  0.8827\n",
      "ssim_loss                                   0.1188\n",
      "mel_loss                                    0.2461\n",
      "postnet_mel_loss                            0.2462\n",
      "dur_loss                                    0.0485\n",
      "pitch_loss                                  0.1673\n",
      "energy_loss                                 0.0558\n",
      "================================================== \n",
      "\n",
      "\n"
     ]
    },
    {
     "data": {
      "application/vnd.jupyter.widget-view+json": {
       "model_id": "f67d1656725047c1a014af2739913b67",
       "version_major": 2,
       "version_minor": 0
      },
      "text/plain": [
       "  0%|          | 0/687 [00:00<?, ?it/s]"
      ]
     },
     "metadata": {},
     "output_type": "display_data"
    },
    {
     "name": "stdout",
     "output_type": "stream",
     "text": [
      "==================================================\n",
      "Epoch: 86\n",
      "==================================================\n",
      "total_loss                                  0.8825\n",
      "ssim_loss                                   0.1181\n",
      "mel_loss                                    0.2472\n",
      "postnet_mel_loss                            0.2473\n",
      "dur_loss                                    0.0483\n",
      "pitch_loss                                  0.1668\n",
      "energy_loss                                 0.0548\n",
      "================================================== \n",
      "\n",
      "\n"
     ]
    },
    {
     "data": {
      "application/vnd.jupyter.widget-view+json": {
       "model_id": "d865fbfc486b4659958c44dbb59ac8c2",
       "version_major": 2,
       "version_minor": 0
      },
      "text/plain": [
       "  0%|          | 0/687 [00:00<?, ?it/s]"
      ]
     },
     "metadata": {},
     "output_type": "display_data"
    },
    {
     "name": "stdout",
     "output_type": "stream",
     "text": [
      "==================================================\n",
      "Epoch: 87\n",
      "==================================================\n",
      "total_loss                                  0.8743\n",
      "ssim_loss                                   0.1174\n",
      "mel_loss                                    0.2443\n",
      "postnet_mel_loss                            0.2444\n",
      "dur_loss                                    0.0475\n",
      "pitch_loss                                  0.1661\n",
      "energy_loss                                 0.0546\n",
      "================================================== \n",
      "\n",
      "\n"
     ]
    },
    {
     "data": {
      "application/vnd.jupyter.widget-view+json": {
       "model_id": "adc0bb5d02fb4d53a76c35db4c3c3e9d",
       "version_major": 2,
       "version_minor": 0
      },
      "text/plain": [
       "  0%|          | 0/687 [00:00<?, ?it/s]"
      ]
     },
     "metadata": {},
     "output_type": "display_data"
    },
    {
     "name": "stdout",
     "output_type": "stream",
     "text": [
      "==================================================\n",
      "Epoch: 88\n",
      "==================================================\n",
      "total_loss                                  0.9061\n",
      "ssim_loss                                   0.1216\n",
      "mel_loss                                    0.2598\n",
      "postnet_mel_loss                            0.2598\n",
      "dur_loss                                    0.0482\n",
      "pitch_loss                                  0.1621\n",
      "energy_loss                                 0.0547\n",
      "================================================== \n",
      "\n",
      "\n"
     ]
    },
    {
     "data": {
      "application/vnd.jupyter.widget-view+json": {
       "model_id": "26fb331d7e24464f911ee276f46c3c16",
       "version_major": 2,
       "version_minor": 0
      },
      "text/plain": [
       "  0%|          | 0/687 [00:00<?, ?it/s]"
      ]
     },
     "metadata": {},
     "output_type": "display_data"
    },
    {
     "name": "stdout",
     "output_type": "stream",
     "text": [
      "==================================================\n",
      "Epoch: 89\n",
      "==================================================\n",
      "total_loss                                  0.8642\n",
      "ssim_loss                                   0.1173\n",
      "mel_loss                                    0.2427\n",
      "postnet_mel_loss                            0.2428\n",
      "dur_loss                                    0.0470\n",
      "pitch_loss                                  0.1605\n",
      "energy_loss                                 0.0538\n",
      "================================================== \n",
      "\n",
      "\n"
     ]
    },
    {
     "data": {
      "application/vnd.jupyter.widget-view+json": {
       "model_id": "1165bf2487b44b1ea0c7cd95859935f4",
       "version_major": 2,
       "version_minor": 0
      },
      "text/plain": [
       "  0%|          | 0/687 [00:00<?, ?it/s]"
      ]
     },
     "metadata": {},
     "output_type": "display_data"
    },
    {
     "name": "stdout",
     "output_type": "stream",
     "text": [
      "==================================================\n",
      "Epoch: 90\n",
      "==================================================\n",
      "total_loss                                  0.8457\n",
      "ssim_loss                                   0.1148\n",
      "mel_loss                                    0.2354\n",
      "postnet_mel_loss                            0.2355\n",
      "dur_loss                                    0.0464\n",
      "pitch_loss                                  0.1618\n",
      "energy_loss                                 0.0519\n",
      "================================================== \n",
      "\n",
      "\n"
     ]
    },
    {
     "data": {
      "application/vnd.jupyter.widget-view+json": {
       "model_id": "d94efc2b67434a13b93716a9b31c088c",
       "version_major": 2,
       "version_minor": 0
      },
      "text/plain": [
       "  0%|          | 0/687 [00:00<?, ?it/s]"
      ]
     },
     "metadata": {},
     "output_type": "display_data"
    },
    {
     "name": "stdout",
     "output_type": "stream",
     "text": [
      "==================================================\n",
      "Epoch: 91\n",
      "==================================================\n",
      "total_loss                                  0.8394\n",
      "ssim_loss                                   0.1142\n",
      "mel_loss                                    0.2339\n",
      "postnet_mel_loss                            0.2340\n",
      "dur_loss                                    0.0461\n",
      "pitch_loss                                  0.1588\n",
      "energy_loss                                 0.0524\n",
      "================================================== \n",
      "\n",
      "\n"
     ]
    },
    {
     "data": {
      "application/vnd.jupyter.widget-view+json": {
       "model_id": "86203c68eb4e4db6870dcf001d175d0a",
       "version_major": 2,
       "version_minor": 0
      },
      "text/plain": [
       "  0%|          | 0/687 [00:00<?, ?it/s]"
      ]
     },
     "metadata": {},
     "output_type": "display_data"
    },
    {
     "name": "stdout",
     "output_type": "stream",
     "text": [
      "==================================================\n",
      "Epoch: 92\n",
      "==================================================\n",
      "total_loss                                  0.8394\n",
      "ssim_loss                                   0.1138\n",
      "mel_loss                                    0.2339\n",
      "postnet_mel_loss                            0.2340\n",
      "dur_loss                                    0.0459\n",
      "pitch_loss                                  0.1598\n",
      "energy_loss                                 0.0521\n",
      "================================================== \n",
      "\n",
      "\n"
     ]
    },
    {
     "data": {
      "application/vnd.jupyter.widget-view+json": {
       "model_id": "7631c57e40fc4f8c8acbd01e52da699d",
       "version_major": 2,
       "version_minor": 0
      },
      "text/plain": [
       "  0%|          | 0/687 [00:00<?, ?it/s]"
      ]
     },
     "metadata": {},
     "output_type": "display_data"
    },
    {
     "name": "stdout",
     "output_type": "stream",
     "text": [
      "==================================================\n",
      "Epoch: 93\n",
      "==================================================\n",
      "total_loss                                  0.8408\n",
      "ssim_loss                                   0.1143\n",
      "mel_loss                                    0.2345\n",
      "postnet_mel_loss                            0.2346\n",
      "dur_loss                                    0.0455\n",
      "pitch_loss                                  0.1607\n",
      "energy_loss                                 0.0513\n",
      "================================================== \n",
      "\n",
      "\n"
     ]
    },
    {
     "data": {
      "application/vnd.jupyter.widget-view+json": {
       "model_id": "5f97938ad9f64fb0a3ea188517ffd208",
       "version_major": 2,
       "version_minor": 0
      },
      "text/plain": [
       "  0%|          | 0/687 [00:00<?, ?it/s]"
      ]
     },
     "metadata": {},
     "output_type": "display_data"
    },
    {
     "name": "stdout",
     "output_type": "stream",
     "text": [
      "==================================================\n",
      "Epoch: 94\n",
      "==================================================\n",
      "total_loss                                  0.8378\n",
      "ssim_loss                                   0.1140\n",
      "mel_loss                                    0.2345\n",
      "postnet_mel_loss                            0.2345\n",
      "dur_loss                                    0.0451\n",
      "pitch_loss                                  0.1589\n",
      "energy_loss                                 0.0507\n",
      "================================================== \n",
      "\n",
      "\n"
     ]
    },
    {
     "data": {
      "application/vnd.jupyter.widget-view+json": {
       "model_id": "705b31c1413445238f8ce58d1fef5413",
       "version_major": 2,
       "version_minor": 0
      },
      "text/plain": [
       "  0%|          | 0/687 [00:00<?, ?it/s]"
      ]
     },
     "metadata": {},
     "output_type": "display_data"
    },
    {
     "name": "stdout",
     "output_type": "stream",
     "text": [
      "==================================================\n",
      "Epoch: 95\n",
      "==================================================\n",
      "total_loss                                  0.8453\n",
      "ssim_loss                                   0.1140\n",
      "mel_loss                                    0.2347\n",
      "postnet_mel_loss                            0.2348\n",
      "dur_loss                                    0.0456\n",
      "pitch_loss                                  0.1652\n",
      "energy_loss                                 0.0511\n",
      "================================================== \n",
      "\n",
      "\n"
     ]
    },
    {
     "data": {
      "application/vnd.jupyter.widget-view+json": {
       "model_id": "0df054f99a1743258c566048480c0ad2",
       "version_major": 2,
       "version_minor": 0
      },
      "text/plain": [
       "  0%|          | 0/687 [00:00<?, ?it/s]"
      ]
     },
     "metadata": {},
     "output_type": "display_data"
    },
    {
     "name": "stdout",
     "output_type": "stream",
     "text": [
      "==================================================\n",
      "Epoch: 96\n",
      "==================================================\n",
      "total_loss                                  0.8407\n",
      "ssim_loss                                   0.1137\n",
      "mel_loss                                    0.2352\n",
      "postnet_mel_loss                            0.2353\n",
      "dur_loss                                    0.0449\n",
      "pitch_loss                                  0.1611\n",
      "energy_loss                                 0.0504\n",
      "================================================== \n",
      "\n",
      "\n"
     ]
    },
    {
     "data": {
      "application/vnd.jupyter.widget-view+json": {
       "model_id": "b2a66331c83c4bd8addb026f7edfa8e8",
       "version_major": 2,
       "version_minor": 0
      },
      "text/plain": [
       "  0%|          | 0/687 [00:00<?, ?it/s]"
      ]
     },
     "metadata": {},
     "output_type": "display_data"
    },
    {
     "name": "stdout",
     "output_type": "stream",
     "text": [
      "==================================================\n",
      "Epoch: 97\n",
      "==================================================\n",
      "total_loss                                  0.8361\n",
      "ssim_loss                                   0.1136\n",
      "mel_loss                                    0.2327\n",
      "postnet_mel_loss                            0.2328\n",
      "dur_loss                                    0.0449\n",
      "pitch_loss                                  0.1617\n",
      "energy_loss                                 0.0502\n",
      "================================================== \n",
      "\n",
      "\n"
     ]
    },
    {
     "data": {
      "application/vnd.jupyter.widget-view+json": {
       "model_id": "c6aa3f81929445479aa75e227d79583c",
       "version_major": 2,
       "version_minor": 0
      },
      "text/plain": [
       "  0%|          | 0/687 [00:00<?, ?it/s]"
      ]
     },
     "metadata": {},
     "output_type": "display_data"
    },
    {
     "name": "stdout",
     "output_type": "stream",
     "text": [
      "==================================================\n",
      "Epoch: 98\n",
      "==================================================\n",
      "total_loss                                  0.8198\n",
      "ssim_loss                                   0.1124\n",
      "mel_loss                                    0.2293\n",
      "postnet_mel_loss                            0.2293\n",
      "dur_loss                                    0.0441\n",
      "pitch_loss                                  0.1556\n",
      "energy_loss                                 0.0491\n",
      "================================================== \n",
      "\n",
      "\n"
     ]
    },
    {
     "data": {
      "application/vnd.jupyter.widget-view+json": {
       "model_id": "3c0ba774e1504bb9b2076f229d97a43e",
       "version_major": 2,
       "version_minor": 0
      },
      "text/plain": [
       "  0%|          | 0/687 [00:00<?, ?it/s]"
      ]
     },
     "metadata": {},
     "output_type": "display_data"
    },
    {
     "name": "stdout",
     "output_type": "stream",
     "text": [
      "==================================================\n",
      "Epoch: 99\n",
      "==================================================\n",
      "total_loss                                  0.8162\n",
      "ssim_loss                                   0.1113\n",
      "mel_loss                                    0.2275\n",
      "postnet_mel_loss                            0.2276\n",
      "dur_loss                                    0.0438\n",
      "pitch_loss                                  0.1571\n",
      "energy_loss                                 0.0489\n",
      "================================================== \n",
      "\n",
      "\n"
     ]
    },
    {
     "data": {
      "application/vnd.jupyter.widget-view+json": {
       "model_id": "294d6a8b388c41dbb79c1c676b6e6fc4",
       "version_major": 2,
       "version_minor": 0
      },
      "text/plain": [
       "  0%|          | 0/687 [00:00<?, ?it/s]"
      ]
     },
     "metadata": {},
     "output_type": "display_data"
    },
    {
     "name": "stdout",
     "output_type": "stream",
     "text": [
      "==================================================\n",
      "Epoch: 100\n",
      "==================================================\n",
      "total_loss                                  0.8177\n",
      "ssim_loss                                   0.1117\n",
      "mel_loss                                    0.2294\n",
      "postnet_mel_loss                            0.2294\n",
      "dur_loss                                    0.0434\n",
      "pitch_loss                                  0.1552\n",
      "energy_loss                                 0.0485\n",
      "================================================== \n",
      "\n",
      "\n"
     ]
    },
    {
     "data": {
      "application/vnd.jupyter.widget-view+json": {
       "model_id": "0e2658985b2f4da088087db1c8b09bcf",
       "version_major": 2,
       "version_minor": 0
      },
      "text/plain": [
       "  0%|          | 0/687 [00:00<?, ?it/s]"
      ]
     },
     "metadata": {},
     "output_type": "display_data"
    },
    {
     "name": "stdout",
     "output_type": "stream",
     "text": [
      "==================================================\n",
      "Epoch: 101\n",
      "==================================================\n",
      "total_loss                                  0.8283\n",
      "ssim_loss                                   0.1133\n",
      "mel_loss                                    0.2339\n",
      "postnet_mel_loss                            0.2339\n",
      "dur_loss                                    0.0438\n",
      "pitch_loss                                  0.1546\n",
      "energy_loss                                 0.0488\n",
      "================================================== \n",
      "\n",
      "\n"
     ]
    },
    {
     "data": {
      "application/vnd.jupyter.widget-view+json": {
       "model_id": "299ab41be9be45ffb5abc9316dccab73",
       "version_major": 2,
       "version_minor": 0
      },
      "text/plain": [
       "  0%|          | 0/687 [00:00<?, ?it/s]"
      ]
     },
     "metadata": {},
     "output_type": "display_data"
    },
    {
     "name": "stdout",
     "output_type": "stream",
     "text": [
      "==================================================\n",
      "Epoch: 102\n",
      "==================================================\n",
      "total_loss                                  0.8083\n",
      "ssim_loss                                   0.1113\n",
      "mel_loss                                    0.2265\n",
      "postnet_mel_loss                            0.2265\n",
      "dur_loss                                    0.0432\n",
      "pitch_loss                                  0.1531\n",
      "energy_loss                                 0.0477\n",
      "================================================== \n",
      "\n",
      "\n"
     ]
    },
    {
     "data": {
      "application/vnd.jupyter.widget-view+json": {
       "model_id": "cd7b8adebc0e499c9e8cd8a0aabfcf55",
       "version_major": 2,
       "version_minor": 0
      },
      "text/plain": [
       "  0%|          | 0/687 [00:00<?, ?it/s]"
      ]
     },
     "metadata": {},
     "output_type": "display_data"
    },
    {
     "name": "stdout",
     "output_type": "stream",
     "text": [
      "==================================================\n",
      "Epoch: 103\n",
      "==================================================\n",
      "total_loss                                  0.8010\n",
      "ssim_loss                                   0.1100\n",
      "mel_loss                                    0.2234\n",
      "postnet_mel_loss                            0.2235\n",
      "dur_loss                                    0.0430\n",
      "pitch_loss                                  0.1533\n",
      "energy_loss                                 0.0480\n",
      "================================================== \n",
      "\n",
      "\n"
     ]
    },
    {
     "data": {
      "application/vnd.jupyter.widget-view+json": {
       "model_id": "5c41ac2c157142cfb8f6458591a97656",
       "version_major": 2,
       "version_minor": 0
      },
      "text/plain": [
       "  0%|          | 0/687 [00:00<?, ?it/s]"
      ]
     },
     "metadata": {},
     "output_type": "display_data"
    },
    {
     "name": "stdout",
     "output_type": "stream",
     "text": [
      "==================================================\n",
      "Epoch: 104\n",
      "==================================================\n",
      "total_loss                                  0.8074\n",
      "ssim_loss                                   0.1104\n",
      "mel_loss                                    0.2280\n",
      "postnet_mel_loss                            0.2280\n",
      "dur_loss                                    0.0426\n",
      "pitch_loss                                  0.1515\n",
      "energy_loss                                 0.0469\n",
      "================================================== \n",
      "\n",
      "\n"
     ]
    },
    {
     "data": {
      "application/vnd.jupyter.widget-view+json": {
       "model_id": "97951af0f228489bbcd85ce3839f45a1",
       "version_major": 2,
       "version_minor": 0
      },
      "text/plain": [
       "  0%|          | 0/687 [00:00<?, ?it/s]"
      ]
     },
     "metadata": {},
     "output_type": "display_data"
    },
    {
     "name": "stdout",
     "output_type": "stream",
     "text": [
      "==================================================\n",
      "Epoch: 105\n",
      "==================================================\n",
      "total_loss                                  0.8047\n",
      "ssim_loss                                   0.1107\n",
      "mel_loss                                    0.2265\n",
      "postnet_mel_loss                            0.2265\n",
      "dur_loss                                    0.0421\n",
      "pitch_loss                                  0.1523\n",
      "energy_loss                                 0.0465\n",
      "================================================== \n",
      "\n",
      "\n"
     ]
    },
    {
     "data": {
      "application/vnd.jupyter.widget-view+json": {
       "model_id": "9d0f7337a1414bc1bad2580cfe4ed611",
       "version_major": 2,
       "version_minor": 0
      },
      "text/plain": [
       "  0%|          | 0/687 [00:00<?, ?it/s]"
      ]
     },
     "metadata": {},
     "output_type": "display_data"
    },
    {
     "name": "stdout",
     "output_type": "stream",
     "text": [
      "==================================================\n",
      "Epoch: 106\n",
      "==================================================\n",
      "total_loss                                  0.7892\n",
      "ssim_loss                                   0.1089\n",
      "mel_loss                                    0.2207\n",
      "postnet_mel_loss                            0.2207\n",
      "dur_loss                                    0.0420\n",
      "pitch_loss                                  0.1511\n",
      "energy_loss                                 0.0458\n",
      "================================================== \n",
      "\n",
      "\n"
     ]
    },
    {
     "data": {
      "application/vnd.jupyter.widget-view+json": {
       "model_id": "9cc1877cf2eb476f867dadeb8dba9f61",
       "version_major": 2,
       "version_minor": 0
      },
      "text/plain": [
       "  0%|          | 0/687 [00:00<?, ?it/s]"
      ]
     },
     "metadata": {},
     "output_type": "display_data"
    },
    {
     "name": "stdout",
     "output_type": "stream",
     "text": [
      "==================================================\n",
      "Epoch: 107\n",
      "==================================================\n",
      "total_loss                                  0.7938\n",
      "ssim_loss                                   0.1096\n",
      "mel_loss                                    0.2224\n",
      "postnet_mel_loss                            0.2225\n",
      "dur_loss                                    0.0420\n",
      "pitch_loss                                  0.1516\n",
      "energy_loss                                 0.0457\n",
      "================================================== \n",
      "\n",
      "\n"
     ]
    },
    {
     "data": {
      "application/vnd.jupyter.widget-view+json": {
       "model_id": "0122a52eb17a45f8a7c3390833ca8fee",
       "version_major": 2,
       "version_minor": 0
      },
      "text/plain": [
       "  0%|          | 0/687 [00:00<?, ?it/s]"
      ]
     },
     "metadata": {},
     "output_type": "display_data"
    },
    {
     "name": "stdout",
     "output_type": "stream",
     "text": [
      "==================================================\n",
      "Epoch: 108\n",
      "==================================================\n",
      "total_loss                                  0.7909\n",
      "ssim_loss                                   0.1086\n",
      "mel_loss                                    0.2196\n",
      "postnet_mel_loss                            0.2197\n",
      "dur_loss                                    0.0420\n",
      "pitch_loss                                  0.1548\n",
      "energy_loss                                 0.0462\n",
      "================================================== \n",
      "\n",
      "\n"
     ]
    },
    {
     "data": {
      "application/vnd.jupyter.widget-view+json": {
       "model_id": "81427362f2b54dfd8aee8ded91135d2b",
       "version_major": 2,
       "version_minor": 0
      },
      "text/plain": [
       "  0%|          | 0/687 [00:00<?, ?it/s]"
      ]
     },
     "metadata": {},
     "output_type": "display_data"
    },
    {
     "name": "stdout",
     "output_type": "stream",
     "text": [
      "==================================================\n",
      "Epoch: 109\n",
      "==================================================\n",
      "total_loss                                  0.7842\n",
      "ssim_loss                                   0.1076\n",
      "mel_loss                                    0.2165\n",
      "postnet_mel_loss                            0.2165\n",
      "dur_loss                                    0.0417\n",
      "pitch_loss                                  0.1565\n",
      "energy_loss                                 0.0454\n",
      "================================================== \n",
      "\n",
      "\n"
     ]
    },
    {
     "data": {
      "application/vnd.jupyter.widget-view+json": {
       "model_id": "39aab5b4fcf14e44a1d20bca21c3923e",
       "version_major": 2,
       "version_minor": 0
      },
      "text/plain": [
       "  0%|          | 0/687 [00:00<?, ?it/s]"
      ]
     },
     "metadata": {},
     "output_type": "display_data"
    },
    {
     "name": "stdout",
     "output_type": "stream",
     "text": [
      "==================================================\n",
      "Epoch: 110\n",
      "==================================================\n",
      "total_loss                                  0.7783\n",
      "ssim_loss                                   0.1069\n",
      "mel_loss                                    0.2174\n",
      "postnet_mel_loss                            0.2175\n",
      "dur_loss                                    0.0414\n",
      "pitch_loss                                  0.1500\n",
      "energy_loss                                 0.0451\n",
      "================================================== \n",
      "\n",
      "\n"
     ]
    },
    {
     "data": {
      "application/vnd.jupyter.widget-view+json": {
       "model_id": "2ea8fe4386174b658da28480ec3bade9",
       "version_major": 2,
       "version_minor": 0
      },
      "text/plain": [
       "  0%|          | 0/687 [00:00<?, ?it/s]"
      ]
     },
     "metadata": {},
     "output_type": "display_data"
    },
    {
     "name": "stdout",
     "output_type": "stream",
     "text": [
      "==================================================\n",
      "Epoch: 111\n",
      "==================================================\n",
      "total_loss                                  0.7813\n",
      "ssim_loss                                   0.1069\n",
      "mel_loss                                    0.2162\n",
      "postnet_mel_loss                            0.2163\n",
      "dur_loss                                    0.0408\n",
      "pitch_loss                                  0.1564\n",
      "energy_loss                                 0.0446\n",
      "================================================== \n",
      "\n",
      "\n"
     ]
    },
    {
     "data": {
      "application/vnd.jupyter.widget-view+json": {
       "model_id": "349ae7ef9d144fa6937f8df8ff2418ac",
       "version_major": 2,
       "version_minor": 0
      },
      "text/plain": [
       "  0%|          | 0/687 [00:00<?, ?it/s]"
      ]
     },
     "metadata": {},
     "output_type": "display_data"
    },
    {
     "name": "stdout",
     "output_type": "stream",
     "text": [
      "==================================================\n",
      "Epoch: 112\n",
      "==================================================\n",
      "total_loss                                  0.7814\n",
      "ssim_loss                                   0.1075\n",
      "mel_loss                                    0.2192\n",
      "postnet_mel_loss                            0.2192\n",
      "dur_loss                                    0.0406\n",
      "pitch_loss                                  0.1510\n",
      "energy_loss                                 0.0439\n",
      "================================================== \n",
      "\n",
      "\n"
     ]
    },
    {
     "data": {
      "application/vnd.jupyter.widget-view+json": {
       "model_id": "f3b4fba41caf4622915dbf5fde2ce223",
       "version_major": 2,
       "version_minor": 0
      },
      "text/plain": [
       "  0%|          | 0/687 [00:00<?, ?it/s]"
      ]
     },
     "metadata": {},
     "output_type": "display_data"
    },
    {
     "name": "stdout",
     "output_type": "stream",
     "text": [
      "==================================================\n",
      "Epoch: 113\n",
      "==================================================\n",
      "total_loss                                  0.8075\n",
      "ssim_loss                                   0.1109\n",
      "mel_loss                                    0.2307\n",
      "postnet_mel_loss                            0.2307\n",
      "dur_loss                                    0.0414\n",
      "pitch_loss                                  0.1491\n",
      "energy_loss                                 0.0447\n",
      "================================================== \n",
      "\n",
      "\n"
     ]
    },
    {
     "data": {
      "application/vnd.jupyter.widget-view+json": {
       "model_id": "30e616fcff88406781288c3cb19cf7d1",
       "version_major": 2,
       "version_minor": 0
      },
      "text/plain": [
       "  0%|          | 0/687 [00:00<?, ?it/s]"
      ]
     },
     "metadata": {},
     "output_type": "display_data"
    },
    {
     "name": "stdout",
     "output_type": "stream",
     "text": [
      "==================================================\n",
      "Epoch: 114\n",
      "==================================================\n",
      "total_loss                                  0.8226\n",
      "ssim_loss                                   0.1123\n",
      "mel_loss                                    0.2367\n",
      "postnet_mel_loss                            0.2368\n",
      "dur_loss                                    0.0416\n",
      "pitch_loss                                  0.1508\n",
      "energy_loss                                 0.0444\n",
      "================================================== \n",
      "\n",
      "\n"
     ]
    },
    {
     "data": {
      "application/vnd.jupyter.widget-view+json": {
       "model_id": "2729a590c5da494499ab05404f544526",
       "version_major": 2,
       "version_minor": 0
      },
      "text/plain": [
       "  0%|          | 0/687 [00:00<?, ?it/s]"
      ]
     },
     "metadata": {},
     "output_type": "display_data"
    },
    {
     "name": "stdout",
     "output_type": "stream",
     "text": [
      "==================================================\n",
      "Epoch: 115\n",
      "==================================================\n",
      "total_loss                                  0.7695\n",
      "ssim_loss                                   0.1067\n",
      "mel_loss                                    0.2164\n",
      "postnet_mel_loss                            0.2164\n",
      "dur_loss                                    0.0398\n",
      "pitch_loss                                  0.1472\n",
      "energy_loss                                 0.0430\n",
      "================================================== \n",
      "\n",
      "\n"
     ]
    },
    {
     "data": {
      "application/vnd.jupyter.widget-view+json": {
       "model_id": "29f1f4e356b64731bc27b201d41519d1",
       "version_major": 2,
       "version_minor": 0
      },
      "text/plain": [
       "  0%|          | 0/687 [00:00<?, ?it/s]"
      ]
     },
     "metadata": {},
     "output_type": "display_data"
    },
    {
     "name": "stdout",
     "output_type": "stream",
     "text": [
      "==================================================\n",
      "Epoch: 116\n",
      "==================================================\n",
      "total_loss                                  0.7458\n",
      "ssim_loss                                   0.1042\n",
      "mel_loss                                    0.2074\n",
      "postnet_mel_loss                            0.2074\n",
      "dur_loss                                    0.0393\n",
      "pitch_loss                                  0.1454\n",
      "energy_loss                                 0.0422\n",
      "================================================== \n",
      "\n",
      "\n"
     ]
    },
    {
     "data": {
      "application/vnd.jupyter.widget-view+json": {
       "model_id": "ad1762ad1508476e80995c41b8efe1c0",
       "version_major": 2,
       "version_minor": 0
      },
      "text/plain": [
       "  0%|          | 0/687 [00:00<?, ?it/s]"
      ]
     },
     "metadata": {},
     "output_type": "display_data"
    },
    {
     "name": "stdout",
     "output_type": "stream",
     "text": [
      "==================================================\n",
      "Epoch: 117\n",
      "==================================================\n",
      "total_loss                                  0.7450\n",
      "ssim_loss                                   0.1045\n",
      "mel_loss                                    0.2068\n",
      "postnet_mel_loss                            0.2068\n",
      "dur_loss                                    0.0392\n",
      "pitch_loss                                  0.1458\n",
      "energy_loss                                 0.0419\n",
      "================================================== \n",
      "\n",
      "\n"
     ]
    },
    {
     "data": {
      "application/vnd.jupyter.widget-view+json": {
       "model_id": "5a7a9b6c6dd146b8a4f7c53da0151a9b",
       "version_major": 2,
       "version_minor": 0
      },
      "text/plain": [
       "  0%|          | 0/687 [00:00<?, ?it/s]"
      ]
     },
     "metadata": {},
     "output_type": "display_data"
    },
    {
     "name": "stdout",
     "output_type": "stream",
     "text": [
      "==================================================\n",
      "Epoch: 118\n",
      "==================================================\n",
      "total_loss                                  0.7567\n",
      "ssim_loss                                   0.1054\n",
      "mel_loss                                    0.2099\n",
      "postnet_mel_loss                            0.2099\n",
      "dur_loss                                    0.0395\n",
      "pitch_loss                                  0.1494\n",
      "energy_loss                                 0.0426\n",
      "================================================== \n",
      "\n",
      "\n"
     ]
    },
    {
     "data": {
      "application/vnd.jupyter.widget-view+json": {
       "model_id": "3a242e74bce6441581003c7080f386cd",
       "version_major": 2,
       "version_minor": 0
      },
      "text/plain": [
       "  0%|          | 0/687 [00:00<?, ?it/s]"
      ]
     },
     "metadata": {},
     "output_type": "display_data"
    },
    {
     "name": "stdout",
     "output_type": "stream",
     "text": [
      "==================================================\n",
      "Epoch: 119\n",
      "==================================================\n",
      "total_loss                                  0.7567\n",
      "ssim_loss                                   0.1048\n",
      "mel_loss                                    0.2105\n",
      "postnet_mel_loss                            0.2105\n",
      "dur_loss                                    0.0394\n",
      "pitch_loss                                  0.1489\n",
      "energy_loss                                 0.0427\n",
      "================================================== \n",
      "\n",
      "\n"
     ]
    },
    {
     "data": {
      "application/vnd.jupyter.widget-view+json": {
       "model_id": "2f3d580ffe014ddf9007b9942f203db0",
       "version_major": 2,
       "version_minor": 0
      },
      "text/plain": [
       "  0%|          | 0/687 [00:00<?, ?it/s]"
      ]
     },
     "metadata": {},
     "output_type": "display_data"
    },
    {
     "name": "stdout",
     "output_type": "stream",
     "text": [
      "==================================================\n",
      "Epoch: 120\n",
      "==================================================\n",
      "total_loss                                  0.7595\n",
      "ssim_loss                                   0.1049\n",
      "mel_loss                                    0.2108\n",
      "postnet_mel_loss                            0.2109\n",
      "dur_loss                                    0.0393\n",
      "pitch_loss                                  0.1511\n",
      "energy_loss                                 0.0425\n",
      "================================================== \n",
      "\n",
      "\n"
     ]
    },
    {
     "data": {
      "application/vnd.jupyter.widget-view+json": {
       "model_id": "0b03e0e861b34d0a9e7dd0dcf840aa86",
       "version_major": 2,
       "version_minor": 0
      },
      "text/plain": [
       "  0%|          | 0/687 [00:00<?, ?it/s]"
      ]
     },
     "metadata": {},
     "output_type": "display_data"
    },
    {
     "name": "stdout",
     "output_type": "stream",
     "text": [
      "==================================================\n",
      "Epoch: 121\n",
      "==================================================\n",
      "total_loss                                  0.7523\n",
      "ssim_loss                                   0.1035\n",
      "mel_loss                                    0.2092\n",
      "postnet_mel_loss                            0.2092\n",
      "dur_loss                                    0.0393\n",
      "pitch_loss                                  0.1486\n",
      "energy_loss                                 0.0426\n",
      "================================================== \n",
      "\n",
      "\n"
     ]
    },
    {
     "data": {
      "application/vnd.jupyter.widget-view+json": {
       "model_id": "3ff5d5d65cf04cec99169058a50867c7",
       "version_major": 2,
       "version_minor": 0
      },
      "text/plain": [
       "  0%|          | 0/687 [00:00<?, ?it/s]"
      ]
     },
     "metadata": {},
     "output_type": "display_data"
    },
    {
     "name": "stdout",
     "output_type": "stream",
     "text": [
      "==================================================\n",
      "Epoch: 122\n",
      "==================================================\n",
      "total_loss                                  0.7470\n",
      "ssim_loss                                   0.1035\n",
      "mel_loss                                    0.2073\n",
      "postnet_mel_loss                            0.2074\n",
      "dur_loss                                    0.0392\n",
      "pitch_loss                                  0.1480\n",
      "energy_loss                                 0.0416\n",
      "================================================== \n",
      "\n",
      "\n"
     ]
    },
    {
     "data": {
      "application/vnd.jupyter.widget-view+json": {
       "model_id": "fffef962b3aa48aba7574499dd312e54",
       "version_major": 2,
       "version_minor": 0
      },
      "text/plain": [
       "  0%|          | 0/687 [00:00<?, ?it/s]"
      ]
     },
     "metadata": {},
     "output_type": "display_data"
    },
    {
     "name": "stdout",
     "output_type": "stream",
     "text": [
      "==================================================\n",
      "Epoch: 123\n",
      "==================================================\n",
      "total_loss                                  0.7408\n",
      "ssim_loss                                   0.1027\n",
      "mel_loss                                    0.2064\n",
      "postnet_mel_loss                            0.2064\n",
      "dur_loss                                    0.0387\n",
      "pitch_loss                                  0.1449\n",
      "energy_loss                                 0.0416\n",
      "================================================== \n",
      "\n",
      "\n"
     ]
    },
    {
     "data": {
      "application/vnd.jupyter.widget-view+json": {
       "model_id": "3cb0b49668524a9c8b64df6b8a5dda3d",
       "version_major": 2,
       "version_minor": 0
      },
      "text/plain": [
       "  0%|          | 0/687 [00:00<?, ?it/s]"
      ]
     },
     "metadata": {},
     "output_type": "display_data"
    },
    {
     "name": "stdout",
     "output_type": "stream",
     "text": [
      "==================================================\n",
      "Epoch: 124\n",
      "==================================================\n",
      "total_loss                                  0.7452\n",
      "ssim_loss                                   0.1043\n",
      "mel_loss                                    0.2072\n",
      "postnet_mel_loss                            0.2072\n",
      "dur_loss                                    0.0382\n",
      "pitch_loss                                  0.1471\n",
      "energy_loss                                 0.0412\n",
      "================================================== \n",
      "\n",
      "\n"
     ]
    },
    {
     "data": {
      "application/vnd.jupyter.widget-view+json": {
       "model_id": "c69b3c5dc75145418e5227a9a3c67a7a",
       "version_major": 2,
       "version_minor": 0
      },
      "text/plain": [
       "  0%|          | 0/687 [00:00<?, ?it/s]"
      ]
     },
     "metadata": {},
     "output_type": "display_data"
    },
    {
     "name": "stdout",
     "output_type": "stream",
     "text": [
      "==================================================\n",
      "Epoch: 125\n",
      "==================================================\n",
      "total_loss                                  0.7399\n",
      "ssim_loss                                   0.1033\n",
      "mel_loss                                    0.2070\n",
      "postnet_mel_loss                            0.2070\n",
      "dur_loss                                    0.0386\n",
      "pitch_loss                                  0.1432\n",
      "energy_loss                                 0.0409\n",
      "================================================== \n",
      "\n",
      "\n"
     ]
    },
    {
     "data": {
      "application/vnd.jupyter.widget-view+json": {
       "model_id": "4a5fd52034b549938c2c9e1ed40f58b8",
       "version_major": 2,
       "version_minor": 0
      },
      "text/plain": [
       "  0%|          | 0/687 [00:00<?, ?it/s]"
      ]
     },
     "metadata": {},
     "output_type": "display_data"
    },
    {
     "name": "stdout",
     "output_type": "stream",
     "text": [
      "==================================================\n",
      "Epoch: 126\n",
      "==================================================\n",
      "total_loss                                  0.7473\n",
      "ssim_loss                                   0.1037\n",
      "mel_loss                                    0.2096\n",
      "postnet_mel_loss                            0.2096\n",
      "dur_loss                                    0.0385\n",
      "pitch_loss                                  0.1450\n",
      "energy_loss                                 0.0409\n",
      "================================================== \n",
      "\n",
      "\n"
     ]
    },
    {
     "data": {
      "application/vnd.jupyter.widget-view+json": {
       "model_id": "3daf5a9f7ec94ba1ba03585dee0a48ea",
       "version_major": 2,
       "version_minor": 0
      },
      "text/plain": [
       "  0%|          | 0/687 [00:00<?, ?it/s]"
      ]
     },
     "metadata": {},
     "output_type": "display_data"
    },
    {
     "name": "stdout",
     "output_type": "stream",
     "text": [
      "==================================================\n",
      "Epoch: 127\n",
      "==================================================\n",
      "total_loss                                  0.7585\n",
      "ssim_loss                                   0.1046\n",
      "mel_loss                                    0.2145\n",
      "postnet_mel_loss                            0.2146\n",
      "dur_loss                                    0.0387\n",
      "pitch_loss                                  0.1448\n",
      "energy_loss                                 0.0413\n",
      "================================================== \n",
      "\n",
      "\n"
     ]
    },
    {
     "data": {
      "application/vnd.jupyter.widget-view+json": {
       "model_id": "34b8042871e94efba04be81f3320c763",
       "version_major": 2,
       "version_minor": 0
      },
      "text/plain": [
       "  0%|          | 0/687 [00:00<?, ?it/s]"
      ]
     },
     "metadata": {},
     "output_type": "display_data"
    },
    {
     "name": "stdout",
     "output_type": "stream",
     "text": [
      "==================================================\n",
      "Epoch: 128\n",
      "==================================================\n",
      "total_loss                                  0.7307\n",
      "ssim_loss                                   0.1020\n",
      "mel_loss                                    0.2043\n",
      "postnet_mel_loss                            0.2043\n",
      "dur_loss                                    0.0378\n",
      "pitch_loss                                  0.1429\n",
      "energy_loss                                 0.0395\n",
      "================================================== \n",
      "\n",
      "\n"
     ]
    },
    {
     "data": {
      "application/vnd.jupyter.widget-view+json": {
       "model_id": "64364b1469d041c685e49a79b1790ed9",
       "version_major": 2,
       "version_minor": 0
      },
      "text/plain": [
       "  0%|          | 0/687 [00:00<?, ?it/s]"
      ]
     },
     "metadata": {},
     "output_type": "display_data"
    },
    {
     "name": "stdout",
     "output_type": "stream",
     "text": [
      "==================================================\n",
      "Epoch: 129\n",
      "==================================================\n",
      "total_loss                                  0.7304\n",
      "ssim_loss                                   0.1015\n",
      "mel_loss                                    0.2011\n",
      "postnet_mel_loss                            0.2012\n",
      "dur_loss                                    0.0375\n",
      "pitch_loss                                  0.1498\n",
      "energy_loss                                 0.0394\n",
      "================================================== \n",
      "\n",
      "\n"
     ]
    },
    {
     "data": {
      "application/vnd.jupyter.widget-view+json": {
       "model_id": "27ceaae1ec30476ca3255cc4788fa2fb",
       "version_major": 2,
       "version_minor": 0
      },
      "text/plain": [
       "  0%|          | 0/687 [00:00<?, ?it/s]"
      ]
     },
     "metadata": {},
     "output_type": "display_data"
    },
    {
     "name": "stdout",
     "output_type": "stream",
     "text": [
      "==================================================\n",
      "Epoch: 130\n",
      "==================================================\n",
      "total_loss                                  0.7362\n",
      "ssim_loss                                   0.1023\n",
      "mel_loss                                    0.2035\n",
      "postnet_mel_loss                            0.2035\n",
      "dur_loss                                    0.0380\n",
      "pitch_loss                                  0.1490\n",
      "energy_loss                                 0.0401\n",
      "================================================== \n",
      "\n",
      "\n"
     ]
    },
    {
     "data": {
      "application/vnd.jupyter.widget-view+json": {
       "model_id": "19e36ee69f2f415d90e94296adfdbb23",
       "version_major": 2,
       "version_minor": 0
      },
      "text/plain": [
       "  0%|          | 0/687 [00:00<?, ?it/s]"
      ]
     },
     "metadata": {},
     "output_type": "display_data"
    },
    {
     "name": "stdout",
     "output_type": "stream",
     "text": [
      "==================================================\n",
      "Epoch: 131\n",
      "==================================================\n",
      "total_loss                                  0.7262\n",
      "ssim_loss                                   0.1026\n",
      "mel_loss                                    0.2027\n",
      "postnet_mel_loss                            0.2027\n",
      "dur_loss                                    0.0369\n",
      "pitch_loss                                  0.1420\n",
      "energy_loss                                 0.0393\n",
      "================================================== \n",
      "\n",
      "\n"
     ]
    },
    {
     "data": {
      "application/vnd.jupyter.widget-view+json": {
       "model_id": "a1dc29641b0c45cd9e09f561502757da",
       "version_major": 2,
       "version_minor": 0
      },
      "text/plain": [
       "  0%|          | 0/687 [00:00<?, ?it/s]"
      ]
     },
     "metadata": {},
     "output_type": "display_data"
    },
    {
     "name": "stdout",
     "output_type": "stream",
     "text": [
      "==================================================\n",
      "Epoch: 132\n",
      "==================================================\n",
      "total_loss                                  0.7206\n",
      "ssim_loss                                   0.1012\n",
      "mel_loss                                    0.2005\n",
      "postnet_mel_loss                            0.2005\n",
      "dur_loss                                    0.0370\n",
      "pitch_loss                                  0.1424\n",
      "energy_loss                                 0.0391\n",
      "================================================== \n",
      "\n",
      "\n"
     ]
    },
    {
     "data": {
      "application/vnd.jupyter.widget-view+json": {
       "model_id": "597d38dc52c645d09365619590f87e74",
       "version_major": 2,
       "version_minor": 0
      },
      "text/plain": [
       "  0%|          | 0/687 [00:00<?, ?it/s]"
      ]
     },
     "metadata": {},
     "output_type": "display_data"
    },
    {
     "name": "stdout",
     "output_type": "stream",
     "text": [
      "==================================================\n",
      "Epoch: 133\n",
      "==================================================\n",
      "total_loss                                  0.7131\n",
      "ssim_loss                                   0.0999\n",
      "mel_loss                                    0.1987\n",
      "postnet_mel_loss                            0.1987\n",
      "dur_loss                                    0.0369\n",
      "pitch_loss                                  0.1406\n",
      "energy_loss                                 0.0382\n",
      "================================================== \n",
      "\n",
      "\n"
     ]
    },
    {
     "data": {
      "application/vnd.jupyter.widget-view+json": {
       "model_id": "7c2285294f13461cb113ad0b5c8f020f",
       "version_major": 2,
       "version_minor": 0
      },
      "text/plain": [
       "  0%|          | 0/687 [00:00<?, ?it/s]"
      ]
     },
     "metadata": {},
     "output_type": "display_data"
    },
    {
     "name": "stdout",
     "output_type": "stream",
     "text": [
      "==================================================\n",
      "Epoch: 134\n",
      "==================================================\n",
      "total_loss                                  0.7199\n",
      "ssim_loss                                   0.1005\n",
      "mel_loss                                    0.1996\n",
      "postnet_mel_loss                            0.1997\n",
      "dur_loss                                    0.0371\n",
      "pitch_loss                                  0.1440\n",
      "energy_loss                                 0.0391\n",
      "================================================== \n",
      "\n",
      "\n"
     ]
    },
    {
     "data": {
      "application/vnd.jupyter.widget-view+json": {
       "model_id": "20483b9cea8f4deaa94ad81fc670e526",
       "version_major": 2,
       "version_minor": 0
      },
      "text/plain": [
       "  0%|          | 0/687 [00:00<?, ?it/s]"
      ]
     },
     "metadata": {},
     "output_type": "display_data"
    },
    {
     "name": "stdout",
     "output_type": "stream",
     "text": [
      "==================================================\n",
      "Epoch: 135\n",
      "==================================================\n",
      "total_loss                                  0.7249\n",
      "ssim_loss                                   0.1011\n",
      "mel_loss                                    0.2026\n",
      "postnet_mel_loss                            0.2026\n",
      "dur_loss                                    0.0371\n",
      "pitch_loss                                  0.1427\n",
      "energy_loss                                 0.0389\n",
      "================================================== \n",
      "\n",
      "\n"
     ]
    },
    {
     "data": {
      "application/vnd.jupyter.widget-view+json": {
       "model_id": "dfba6f9563cc47879e4b12c862a893f3",
       "version_major": 2,
       "version_minor": 0
      },
      "text/plain": [
       "  0%|          | 0/687 [00:00<?, ?it/s]"
      ]
     },
     "metadata": {},
     "output_type": "display_data"
    },
    {
     "name": "stdout",
     "output_type": "stream",
     "text": [
      "==================================================\n",
      "Epoch: 136\n",
      "==================================================\n",
      "total_loss                                  0.7213\n",
      "ssim_loss                                   0.1005\n",
      "mel_loss                                    0.1997\n",
      "postnet_mel_loss                            0.1997\n",
      "dur_loss                                    0.0370\n",
      "pitch_loss                                  0.1456\n",
      "energy_loss                                 0.0388\n",
      "================================================== \n",
      "\n",
      "\n"
     ]
    },
    {
     "data": {
      "application/vnd.jupyter.widget-view+json": {
       "model_id": "b09919b7929b461f9eb73ac908913a27",
       "version_major": 2,
       "version_minor": 0
      },
      "text/plain": [
       "  0%|          | 0/687 [00:00<?, ?it/s]"
      ]
     },
     "metadata": {},
     "output_type": "display_data"
    },
    {
     "name": "stdout",
     "output_type": "stream",
     "text": [
      "==================================================\n",
      "Epoch: 137\n",
      "==================================================\n",
      "total_loss                                  0.7076\n",
      "ssim_loss                                   0.0994\n",
      "mel_loss                                    0.1969\n",
      "postnet_mel_loss                            0.1969\n",
      "dur_loss                                    0.0366\n",
      "pitch_loss                                  0.1401\n",
      "energy_loss                                 0.0378\n",
      "================================================== \n",
      "\n",
      "\n"
     ]
    },
    {
     "data": {
      "application/vnd.jupyter.widget-view+json": {
       "model_id": "ef4a34ca2a464d049d1ef663d7688e3e",
       "version_major": 2,
       "version_minor": 0
      },
      "text/plain": [
       "  0%|          | 0/687 [00:00<?, ?it/s]"
      ]
     },
     "metadata": {},
     "output_type": "display_data"
    },
    {
     "name": "stdout",
     "output_type": "stream",
     "text": [
      "==================================================\n",
      "Epoch: 138\n",
      "==================================================\n",
      "total_loss                                  0.7084\n",
      "ssim_loss                                   0.0994\n",
      "mel_loss                                    0.1971\n",
      "postnet_mel_loss                            0.1971\n",
      "dur_loss                                    0.0365\n",
      "pitch_loss                                  0.1401\n",
      "energy_loss                                 0.0382\n",
      "================================================== \n",
      "\n",
      "\n"
     ]
    },
    {
     "data": {
      "application/vnd.jupyter.widget-view+json": {
       "model_id": "e4c5e7866d4c4e0d95e4f9c60fcd5ab6",
       "version_major": 2,
       "version_minor": 0
      },
      "text/plain": [
       "  0%|          | 0/687 [00:00<?, ?it/s]"
      ]
     },
     "metadata": {},
     "output_type": "display_data"
    },
    {
     "name": "stdout",
     "output_type": "stream",
     "text": [
      "==================================================\n",
      "Epoch: 139\n",
      "==================================================\n",
      "total_loss                                  0.7072\n",
      "ssim_loss                                   0.0993\n",
      "mel_loss                                    0.1963\n",
      "postnet_mel_loss                            0.1964\n",
      "dur_loss                                    0.0362\n",
      "pitch_loss                                  0.1407\n",
      "energy_loss                                 0.0383\n",
      "================================================== \n",
      "\n",
      "\n"
     ]
    },
    {
     "data": {
      "application/vnd.jupyter.widget-view+json": {
       "model_id": "4b0d0877bb814dfbb0376c46a26e5f0a",
       "version_major": 2,
       "version_minor": 0
      },
      "text/plain": [
       "  0%|          | 0/687 [00:00<?, ?it/s]"
      ]
     },
     "metadata": {},
     "output_type": "display_data"
    },
    {
     "name": "stdout",
     "output_type": "stream",
     "text": [
      "==================================================\n",
      "Epoch: 140\n",
      "==================================================\n",
      "total_loss                                  0.7049\n",
      "ssim_loss                                   0.0988\n",
      "mel_loss                                    0.1956\n",
      "postnet_mel_loss                            0.1957\n",
      "dur_loss                                    0.0362\n",
      "pitch_loss                                  0.1400\n",
      "energy_loss                                 0.0386\n",
      "================================================== \n",
      "\n",
      "\n"
     ]
    },
    {
     "data": {
      "application/vnd.jupyter.widget-view+json": {
       "model_id": "c9c6cdc5b3664c898ec631b010bf3415",
       "version_major": 2,
       "version_minor": 0
      },
      "text/plain": [
       "  0%|          | 0/687 [00:00<?, ?it/s]"
      ]
     },
     "metadata": {},
     "output_type": "display_data"
    },
    {
     "name": "stdout",
     "output_type": "stream",
     "text": [
      "==================================================\n",
      "Epoch: 141\n",
      "==================================================\n",
      "total_loss                                  0.6997\n",
      "ssim_loss                                   0.0984\n",
      "mel_loss                                    0.1957\n",
      "postnet_mel_loss                            0.1958\n",
      "dur_loss                                    0.0358\n",
      "pitch_loss                                  0.1371\n",
      "energy_loss                                 0.0368\n",
      "================================================== \n",
      "\n",
      "\n"
     ]
    },
    {
     "data": {
      "application/vnd.jupyter.widget-view+json": {
       "model_id": "73b44a149d014fdeaad3469534ebef66",
       "version_major": 2,
       "version_minor": 0
      },
      "text/plain": [
       "  0%|          | 0/687 [00:00<?, ?it/s]"
      ]
     },
     "metadata": {},
     "output_type": "display_data"
    },
    {
     "name": "stdout",
     "output_type": "stream",
     "text": [
      "==================================================\n",
      "Epoch: 142\n",
      "==================================================\n",
      "total_loss                                  0.6989\n",
      "ssim_loss                                   0.0987\n",
      "mel_loss                                    0.1950\n",
      "postnet_mel_loss                            0.1950\n",
      "dur_loss                                    0.0355\n",
      "pitch_loss                                  0.1381\n",
      "energy_loss                                 0.0365\n",
      "================================================== \n",
      "\n",
      "\n"
     ]
    },
    {
     "data": {
      "application/vnd.jupyter.widget-view+json": {
       "model_id": "f3b6a519341f4a44a2461da2162297e0",
       "version_major": 2,
       "version_minor": 0
      },
      "text/plain": [
       "  0%|          | 0/687 [00:00<?, ?it/s]"
      ]
     },
     "metadata": {},
     "output_type": "display_data"
    },
    {
     "name": "stdout",
     "output_type": "stream",
     "text": [
      "==================================================\n",
      "Epoch: 143\n",
      "==================================================\n",
      "total_loss                                  0.6959\n",
      "ssim_loss                                   0.0983\n",
      "mel_loss                                    0.1941\n",
      "postnet_mel_loss                            0.1941\n",
      "dur_loss                                    0.0355\n",
      "pitch_loss                                  0.1372\n",
      "energy_loss                                 0.0366\n",
      "================================================== \n",
      "\n",
      "\n"
     ]
    },
    {
     "data": {
      "application/vnd.jupyter.widget-view+json": {
       "model_id": "7e2732252ad14fcfab1dc77abc997feb",
       "version_major": 2,
       "version_minor": 0
      },
      "text/plain": [
       "  0%|          | 0/687 [00:00<?, ?it/s]"
      ]
     },
     "metadata": {},
     "output_type": "display_data"
    },
    {
     "name": "stdout",
     "output_type": "stream",
     "text": [
      "==================================================\n",
      "Epoch: 144\n",
      "==================================================\n",
      "total_loss                                  0.6974\n",
      "ssim_loss                                   0.0978\n",
      "mel_loss                                    0.1945\n",
      "postnet_mel_loss                            0.1945\n",
      "dur_loss                                    0.0357\n",
      "pitch_loss                                  0.1381\n",
      "energy_loss                                 0.0367\n",
      "================================================== \n",
      "\n",
      "\n"
     ]
    },
    {
     "data": {
      "application/vnd.jupyter.widget-view+json": {
       "model_id": "da42f1df87bd4fa5bc6dec2a90868bf8",
       "version_major": 2,
       "version_minor": 0
      },
      "text/plain": [
       "  0%|          | 0/687 [00:00<?, ?it/s]"
      ]
     },
     "metadata": {},
     "output_type": "display_data"
    },
    {
     "name": "stdout",
     "output_type": "stream",
     "text": [
      "==================================================\n",
      "Epoch: 145\n",
      "==================================================\n",
      "total_loss                                  0.6912\n",
      "ssim_loss                                   0.0975\n",
      "mel_loss                                    0.1926\n",
      "postnet_mel_loss                            0.1926\n",
      "dur_loss                                    0.0351\n",
      "pitch_loss                                  0.1366\n",
      "energy_loss                                 0.0367\n",
      "================================================== \n",
      "\n",
      "\n"
     ]
    },
    {
     "data": {
      "application/vnd.jupyter.widget-view+json": {
       "model_id": "c85bfbfce46447b3b4c4375f6b239636",
       "version_major": 2,
       "version_minor": 0
      },
      "text/plain": [
       "  0%|          | 0/687 [00:00<?, ?it/s]"
      ]
     },
     "metadata": {},
     "output_type": "display_data"
    },
    {
     "name": "stdout",
     "output_type": "stream",
     "text": [
      "==================================================\n",
      "Epoch: 146\n",
      "==================================================\n",
      "total_loss                                  0.7178\n",
      "ssim_loss                                   0.1000\n",
      "mel_loss                                    0.2021\n",
      "postnet_mel_loss                            0.2021\n",
      "dur_loss                                    0.0362\n",
      "pitch_loss                                  0.1400\n",
      "energy_loss                                 0.0373\n",
      "================================================== \n",
      "\n",
      "\n"
     ]
    },
    {
     "data": {
      "application/vnd.jupyter.widget-view+json": {
       "model_id": "f2b4a9f3c72943ba805a9ff48fd33b87",
       "version_major": 2,
       "version_minor": 0
      },
      "text/plain": [
       "  0%|          | 0/687 [00:00<?, ?it/s]"
      ]
     },
     "metadata": {},
     "output_type": "display_data"
    },
    {
     "name": "stdout",
     "output_type": "stream",
     "text": [
      "==================================================\n",
      "Epoch: 147\n",
      "==================================================\n",
      "total_loss                                  0.7052\n",
      "ssim_loss                                   0.0994\n",
      "mel_loss                                    0.1986\n",
      "postnet_mel_loss                            0.1986\n",
      "dur_loss                                    0.0357\n",
      "pitch_loss                                  0.1364\n",
      "energy_loss                                 0.0366\n",
      "================================================== \n",
      "\n",
      "\n"
     ]
    },
    {
     "data": {
      "application/vnd.jupyter.widget-view+json": {
       "model_id": "40312242376747f5bf772ee956e381fe",
       "version_major": 2,
       "version_minor": 0
      },
      "text/plain": [
       "  0%|          | 0/687 [00:00<?, ?it/s]"
      ]
     },
     "metadata": {},
     "output_type": "display_data"
    },
    {
     "name": "stdout",
     "output_type": "stream",
     "text": [
      "==================================================\n",
      "Epoch: 148\n",
      "==================================================\n",
      "total_loss                                  0.6828\n",
      "ssim_loss                                   0.0966\n",
      "mel_loss                                    0.1909\n",
      "postnet_mel_loss                            0.1909\n",
      "dur_loss                                    0.0347\n",
      "pitch_loss                                  0.1341\n",
      "energy_loss                                 0.0355\n",
      "================================================== \n",
      "\n",
      "\n"
     ]
    },
    {
     "data": {
      "application/vnd.jupyter.widget-view+json": {
       "model_id": "6af689b6853e40b7a76441af07c1e3f4",
       "version_major": 2,
       "version_minor": 0
      },
      "text/plain": [
       "  0%|          | 0/687 [00:00<?, ?it/s]"
      ]
     },
     "metadata": {},
     "output_type": "display_data"
    },
    {
     "name": "stdout",
     "output_type": "stream",
     "text": [
      "==================================================\n",
      "Epoch: 149\n",
      "==================================================\n",
      "total_loss                                  0.6841\n",
      "ssim_loss                                   0.0966\n",
      "mel_loss                                    0.1888\n",
      "postnet_mel_loss                            0.1888\n",
      "dur_loss                                    0.0347\n",
      "pitch_loss                                  0.1398\n",
      "energy_loss                                 0.0354\n",
      "================================================== \n",
      "\n",
      "\n"
     ]
    },
    {
     "data": {
      "application/vnd.jupyter.widget-view+json": {
       "model_id": "aa5a7915e07c480ea6398d19361d02d1",
       "version_major": 2,
       "version_minor": 0
      },
      "text/plain": [
       "  0%|          | 0/687 [00:00<?, ?it/s]"
      ]
     },
     "metadata": {},
     "output_type": "display_data"
    },
    {
     "name": "stdout",
     "output_type": "stream",
     "text": [
      "==================================================\n",
      "Epoch: 150\n",
      "==================================================\n",
      "total_loss                                  0.6858\n",
      "ssim_loss                                   0.0965\n",
      "mel_loss                                    0.1895\n",
      "postnet_mel_loss                            0.1895\n",
      "dur_loss                                    0.0350\n",
      "pitch_loss                                  0.1398\n",
      "energy_loss                                 0.0355\n",
      "================================================== \n",
      "\n",
      "\n"
     ]
    },
    {
     "data": {
      "application/vnd.jupyter.widget-view+json": {
       "model_id": "5a6c8d8f275b4c52bc3345b6ee3c8b91",
       "version_major": 2,
       "version_minor": 0
      },
      "text/plain": [
       "  0%|          | 0/687 [00:00<?, ?it/s]"
      ]
     },
     "metadata": {},
     "output_type": "display_data"
    },
    {
     "name": "stdout",
     "output_type": "stream",
     "text": [
      "==================================================\n",
      "Epoch: 151\n",
      "==================================================\n",
      "total_loss                                  0.6841\n",
      "ssim_loss                                   0.0967\n",
      "mel_loss                                    0.1890\n",
      "postnet_mel_loss                            0.1890\n",
      "dur_loss                                    0.0349\n",
      "pitch_loss                                  0.1392\n",
      "energy_loss                                 0.0354\n",
      "================================================== \n",
      "\n",
      "\n"
     ]
    },
    {
     "data": {
      "application/vnd.jupyter.widget-view+json": {
       "model_id": "3af7debf151e452587d2da4e8894ea56",
       "version_major": 2,
       "version_minor": 0
      },
      "text/plain": [
       "  0%|          | 0/687 [00:00<?, ?it/s]"
      ]
     },
     "metadata": {},
     "output_type": "display_data"
    },
    {
     "name": "stdout",
     "output_type": "stream",
     "text": [
      "==================================================\n",
      "Epoch: 152\n",
      "==================================================\n",
      "total_loss                                  0.6775\n",
      "ssim_loss                                   0.0960\n",
      "mel_loss                                    0.1883\n",
      "postnet_mel_loss                            0.1883\n",
      "dur_loss                                    0.0347\n",
      "pitch_loss                                  0.1353\n",
      "energy_loss                                 0.0350\n",
      "================================================== \n",
      "\n",
      "\n"
     ]
    },
    {
     "data": {
      "application/vnd.jupyter.widget-view+json": {
       "model_id": "86ea0a25b2554a2fa23e40934f405827",
       "version_major": 2,
       "version_minor": 0
      },
      "text/plain": [
       "  0%|          | 0/687 [00:00<?, ?it/s]"
      ]
     },
     "metadata": {},
     "output_type": "display_data"
    },
    {
     "name": "stdout",
     "output_type": "stream",
     "text": [
      "==================================================\n",
      "Epoch: 153\n",
      "==================================================\n",
      "total_loss                                  0.6893\n",
      "ssim_loss                                   0.0974\n",
      "mel_loss                                    0.1925\n",
      "postnet_mel_loss                            0.1925\n",
      "dur_loss                                    0.0346\n",
      "pitch_loss                                  0.1370\n",
      "energy_loss                                 0.0352\n",
      "================================================== \n",
      "\n",
      "\n"
     ]
    },
    {
     "data": {
      "application/vnd.jupyter.widget-view+json": {
       "model_id": "93f3f538366242728c76a7adb3a81a5f",
       "version_major": 2,
       "version_minor": 0
      },
      "text/plain": [
       "  0%|          | 0/687 [00:00<?, ?it/s]"
      ]
     },
     "metadata": {},
     "output_type": "display_data"
    },
    {
     "name": "stdout",
     "output_type": "stream",
     "text": [
      "==================================================\n",
      "Epoch: 154\n",
      "==================================================\n",
      "total_loss                                  0.6842\n",
      "ssim_loss                                   0.0973\n",
      "mel_loss                                    0.1917\n",
      "postnet_mel_loss                            0.1917\n",
      "dur_loss                                    0.0344\n",
      "pitch_loss                                  0.1344\n",
      "energy_loss                                 0.0346\n",
      "================================================== \n",
      "\n",
      "\n"
     ]
    },
    {
     "data": {
      "application/vnd.jupyter.widget-view+json": {
       "model_id": "76ec2375f88b4f99a36b9793abbea675",
       "version_major": 2,
       "version_minor": 0
      },
      "text/plain": [
       "  0%|          | 0/687 [00:00<?, ?it/s]"
      ]
     },
     "metadata": {},
     "output_type": "display_data"
    },
    {
     "name": "stdout",
     "output_type": "stream",
     "text": [
      "==================================================\n",
      "Epoch: 155\n",
      "==================================================\n",
      "total_loss                                  0.6714\n",
      "ssim_loss                                   0.0951\n",
      "mel_loss                                    0.1862\n",
      "postnet_mel_loss                            0.1862\n",
      "dur_loss                                    0.0342\n",
      "pitch_loss                                  0.1349\n",
      "energy_loss                                 0.0347\n",
      "================================================== \n",
      "\n",
      "\n"
     ]
    },
    {
     "data": {
      "application/vnd.jupyter.widget-view+json": {
       "model_id": "3707280b6fb746a7b3a90e94ffba11fc",
       "version_major": 2,
       "version_minor": 0
      },
      "text/plain": [
       "  0%|          | 0/687 [00:00<?, ?it/s]"
      ]
     },
     "metadata": {},
     "output_type": "display_data"
    },
    {
     "name": "stdout",
     "output_type": "stream",
     "text": [
      "==================================================\n",
      "Epoch: 156\n",
      "==================================================\n",
      "total_loss                                  0.6678\n",
      "ssim_loss                                   0.0953\n",
      "mel_loss                                    0.1857\n",
      "postnet_mel_loss                            0.1857\n",
      "dur_loss                                    0.0340\n",
      "pitch_loss                                  0.1329\n",
      "energy_loss                                 0.0342\n",
      "================================================== \n",
      "\n",
      "\n"
     ]
    },
    {
     "data": {
      "application/vnd.jupyter.widget-view+json": {
       "model_id": "f670700d5ca24cb4a6d29601c05db49d",
       "version_major": 2,
       "version_minor": 0
      },
      "text/plain": [
       "  0%|          | 0/687 [00:00<?, ?it/s]"
      ]
     },
     "metadata": {},
     "output_type": "display_data"
    },
    {
     "name": "stdout",
     "output_type": "stream",
     "text": [
      "==================================================\n",
      "Epoch: 157\n",
      "==================================================\n",
      "total_loss                                  0.6693\n",
      "ssim_loss                                   0.0952\n",
      "mel_loss                                    0.1859\n",
      "postnet_mel_loss                            0.1859\n",
      "dur_loss                                    0.0340\n",
      "pitch_loss                                  0.1341\n",
      "energy_loss                                 0.0343\n",
      "================================================== \n",
      "\n",
      "\n"
     ]
    },
    {
     "data": {
      "application/vnd.jupyter.widget-view+json": {
       "model_id": "13dccf8493754f77900a8bd20b4dc620",
       "version_major": 2,
       "version_minor": 0
      },
      "text/plain": [
       "  0%|          | 0/687 [00:00<?, ?it/s]"
      ]
     },
     "metadata": {},
     "output_type": "display_data"
    },
    {
     "name": "stdout",
     "output_type": "stream",
     "text": [
      "==================================================\n",
      "Epoch: 158\n",
      "==================================================\n",
      "total_loss                                  0.6774\n",
      "ssim_loss                                   0.0957\n",
      "mel_loss                                    0.1874\n",
      "postnet_mel_loss                            0.1874\n",
      "dur_loss                                    0.0347\n",
      "pitch_loss                                  0.1375\n",
      "energy_loss                                 0.0347\n",
      "================================================== \n",
      "\n",
      "\n"
     ]
    },
    {
     "data": {
      "application/vnd.jupyter.widget-view+json": {
       "model_id": "ebb736f7495f4c27b07aa930626dfc84",
       "version_major": 2,
       "version_minor": 0
      },
      "text/plain": [
       "  0%|          | 0/687 [00:00<?, ?it/s]"
      ]
     },
     "metadata": {},
     "output_type": "display_data"
    },
    {
     "name": "stdout",
     "output_type": "stream",
     "text": [
      "==================================================\n",
      "Epoch: 159\n",
      "==================================================\n",
      "total_loss                                  0.6743\n",
      "ssim_loss                                   0.0950\n",
      "mel_loss                                    0.1861\n",
      "postnet_mel_loss                            0.1861\n",
      "dur_loss                                    0.0339\n",
      "pitch_loss                                  0.1386\n",
      "energy_loss                                 0.0346\n",
      "================================================== \n",
      "\n",
      "\n"
     ]
    },
    {
     "data": {
      "application/vnd.jupyter.widget-view+json": {
       "model_id": "c89e8b2a477841c0bccfbe00ed1cd8cb",
       "version_major": 2,
       "version_minor": 0
      },
      "text/plain": [
       "  0%|          | 0/687 [00:00<?, ?it/s]"
      ]
     },
     "metadata": {},
     "output_type": "display_data"
    },
    {
     "name": "stdout",
     "output_type": "stream",
     "text": [
      "==================================================\n",
      "Epoch: 160\n",
      "==================================================\n",
      "total_loss                                  0.6614\n",
      "ssim_loss                                   0.0938\n",
      "mel_loss                                    0.1845\n",
      "postnet_mel_loss                            0.1845\n",
      "dur_loss                                    0.0333\n",
      "pitch_loss                                  0.1322\n",
      "energy_loss                                 0.0332\n",
      "================================================== \n",
      "\n",
      "\n"
     ]
    },
    {
     "data": {
      "application/vnd.jupyter.widget-view+json": {
       "model_id": "a885316024d646dcade201d926d50059",
       "version_major": 2,
       "version_minor": 0
      },
      "text/plain": [
       "  0%|          | 0/687 [00:00<?, ?it/s]"
      ]
     },
     "metadata": {},
     "output_type": "display_data"
    },
    {
     "name": "stdout",
     "output_type": "stream",
     "text": [
      "==================================================\n",
      "Epoch: 161\n",
      "==================================================\n",
      "total_loss                                  0.6643\n",
      "ssim_loss                                   0.0942\n",
      "mel_loss                                    0.1850\n",
      "postnet_mel_loss                            0.1850\n",
      "dur_loss                                    0.0335\n",
      "pitch_loss                                  0.1331\n",
      "energy_loss                                 0.0334\n",
      "================================================== \n",
      "\n",
      "\n"
     ]
    },
    {
     "data": {
      "application/vnd.jupyter.widget-view+json": {
       "model_id": "1d3406edd28a418f8eca1037c059f4cb",
       "version_major": 2,
       "version_minor": 0
      },
      "text/plain": [
       "  0%|          | 0/687 [00:00<?, ?it/s]"
      ]
     },
     "metadata": {},
     "output_type": "display_data"
    },
    {
     "name": "stdout",
     "output_type": "stream",
     "text": [
      "==================================================\n",
      "Epoch: 162\n",
      "==================================================\n",
      "total_loss                                  0.6673\n",
      "ssim_loss                                   0.0944\n",
      "mel_loss                                    0.1862\n",
      "postnet_mel_loss                            0.1862\n",
      "dur_loss                                    0.0334\n",
      "pitch_loss                                  0.1332\n",
      "energy_loss                                 0.0339\n",
      "================================================== \n",
      "\n",
      "\n"
     ]
    },
    {
     "data": {
      "application/vnd.jupyter.widget-view+json": {
       "model_id": "335ef16e6b9646eb9090cfcddc580934",
       "version_major": 2,
       "version_minor": 0
      },
      "text/plain": [
       "  0%|          | 0/687 [00:00<?, ?it/s]"
      ]
     },
     "metadata": {},
     "output_type": "display_data"
    },
    {
     "name": "stdout",
     "output_type": "stream",
     "text": [
      "==================================================\n",
      "Epoch: 163\n",
      "==================================================\n",
      "total_loss                                  0.6717\n",
      "ssim_loss                                   0.0947\n",
      "mel_loss                                    0.1870\n",
      "postnet_mel_loss                            0.1870\n",
      "dur_loss                                    0.0335\n",
      "pitch_loss                                  0.1361\n",
      "energy_loss                                 0.0334\n",
      "================================================== \n",
      "\n",
      "\n"
     ]
    },
    {
     "data": {
      "application/vnd.jupyter.widget-view+json": {
       "model_id": "9fdac81fc54147bd800993ff03344eb5",
       "version_major": 2,
       "version_minor": 0
      },
      "text/plain": [
       "  0%|          | 0/687 [00:00<?, ?it/s]"
      ]
     },
     "metadata": {},
     "output_type": "display_data"
    },
    {
     "name": "stdout",
     "output_type": "stream",
     "text": [
      "==================================================\n",
      "Epoch: 164\n",
      "==================================================\n",
      "total_loss                                  0.6744\n",
      "ssim_loss                                   0.0952\n",
      "mel_loss                                    0.1873\n",
      "postnet_mel_loss                            0.1873\n",
      "dur_loss                                    0.0338\n",
      "pitch_loss                                  0.1367\n",
      "energy_loss                                 0.0341\n",
      "================================================== \n",
      "\n",
      "\n"
     ]
    },
    {
     "data": {
      "application/vnd.jupyter.widget-view+json": {
       "model_id": "41efc573796b4e8fb0df5a5741ed18da",
       "version_major": 2,
       "version_minor": 0
      },
      "text/plain": [
       "  0%|          | 0/687 [00:00<?, ?it/s]"
      ]
     },
     "metadata": {},
     "output_type": "display_data"
    },
    {
     "name": "stdout",
     "output_type": "stream",
     "text": [
      "==================================================\n",
      "Epoch: 165\n",
      "==================================================\n",
      "total_loss                                  0.6642\n",
      "ssim_loss                                   0.0940\n",
      "mel_loss                                    0.1845\n",
      "postnet_mel_loss                            0.1845\n",
      "dur_loss                                    0.0336\n",
      "pitch_loss                                  0.1347\n",
      "energy_loss                                 0.0329\n",
      "================================================== \n",
      "\n",
      "\n"
     ]
    },
    {
     "data": {
      "application/vnd.jupyter.widget-view+json": {
       "model_id": "711535e24a8f4332bac15f0faea6ba86",
       "version_major": 2,
       "version_minor": 0
      },
      "text/plain": [
       "  0%|          | 0/687 [00:00<?, ?it/s]"
      ]
     },
     "metadata": {},
     "output_type": "display_data"
    },
    {
     "name": "stdout",
     "output_type": "stream",
     "text": [
      "==================================================\n",
      "Epoch: 166\n",
      "==================================================\n",
      "total_loss                                  0.6668\n",
      "ssim_loss                                   0.0943\n",
      "mel_loss                                    0.1863\n",
      "postnet_mel_loss                            0.1863\n",
      "dur_loss                                    0.0332\n",
      "pitch_loss                                  0.1339\n",
      "energy_loss                                 0.0329\n",
      "================================================== \n",
      "\n",
      "\n"
     ]
    },
    {
     "data": {
      "application/vnd.jupyter.widget-view+json": {
       "model_id": "eb4a19c2ac644ddca871c45345abee89",
       "version_major": 2,
       "version_minor": 0
      },
      "text/plain": [
       "  0%|          | 0/687 [00:00<?, ?it/s]"
      ]
     },
     "metadata": {},
     "output_type": "display_data"
    },
    {
     "name": "stdout",
     "output_type": "stream",
     "text": [
      "==================================================\n",
      "Epoch: 167\n",
      "==================================================\n",
      "total_loss                                  0.6566\n",
      "ssim_loss                                   0.0930\n",
      "mel_loss                                    0.1818\n",
      "postnet_mel_loss                            0.1818\n",
      "dur_loss                                    0.0328\n",
      "pitch_loss                                  0.1343\n",
      "energy_loss                                 0.0328\n",
      "================================================== \n",
      "\n",
      "\n"
     ]
    },
    {
     "data": {
      "application/vnd.jupyter.widget-view+json": {
       "model_id": "69177a2e9aa34d9fa98305a1b8893270",
       "version_major": 2,
       "version_minor": 0
      },
      "text/plain": [
       "  0%|          | 0/687 [00:00<?, ?it/s]"
      ]
     },
     "metadata": {},
     "output_type": "display_data"
    },
    {
     "name": "stdout",
     "output_type": "stream",
     "text": [
      "==================================================\n",
      "Epoch: 168\n",
      "==================================================\n",
      "total_loss                                  0.6484\n",
      "ssim_loss                                   0.0925\n",
      "mel_loss                                    0.1795\n",
      "postnet_mel_loss                            0.1794\n",
      "dur_loss                                    0.0326\n",
      "pitch_loss                                  0.1322\n",
      "energy_loss                                 0.0322\n",
      "================================================== \n",
      "\n",
      "\n"
     ]
    },
    {
     "data": {
      "application/vnd.jupyter.widget-view+json": {
       "model_id": "6ae1e2e4a5af406d97a11f9b6f3db068",
       "version_major": 2,
       "version_minor": 0
      },
      "text/plain": [
       "  0%|          | 0/687 [00:00<?, ?it/s]"
      ]
     },
     "metadata": {},
     "output_type": "display_data"
    },
    {
     "name": "stdout",
     "output_type": "stream",
     "text": [
      "==================================================\n",
      "Epoch: 169\n",
      "==================================================\n",
      "total_loss                                  0.6491\n",
      "ssim_loss                                   0.0924\n",
      "mel_loss                                    0.1801\n",
      "postnet_mel_loss                            0.1801\n",
      "dur_loss                                    0.0325\n",
      "pitch_loss                                  0.1315\n",
      "energy_loss                                 0.0325\n",
      "================================================== \n",
      "\n",
      "\n"
     ]
    },
    {
     "data": {
      "application/vnd.jupyter.widget-view+json": {
       "model_id": "f45c855e727b4639b16fd556ce1d3c8a",
       "version_major": 2,
       "version_minor": 0
      },
      "text/plain": [
       "  0%|          | 0/687 [00:00<?, ?it/s]"
      ]
     },
     "metadata": {},
     "output_type": "display_data"
    },
    {
     "name": "stdout",
     "output_type": "stream",
     "text": [
      "==================================================\n",
      "Epoch: 170\n",
      "==================================================\n",
      "total_loss                                  0.6563\n",
      "ssim_loss                                   0.0933\n",
      "mel_loss                                    0.1809\n",
      "postnet_mel_loss                            0.1808\n",
      "dur_loss                                    0.0330\n",
      "pitch_loss                                  0.1349\n",
      "energy_loss                                 0.0334\n",
      "================================================== \n",
      "\n",
      "\n"
     ]
    },
    {
     "data": {
      "application/vnd.jupyter.widget-view+json": {
       "model_id": "faac611264a84f1980801ef73f2e711a",
       "version_major": 2,
       "version_minor": 0
      },
      "text/plain": [
       "  0%|          | 0/687 [00:00<?, ?it/s]"
      ]
     },
     "metadata": {},
     "output_type": "display_data"
    },
    {
     "name": "stdout",
     "output_type": "stream",
     "text": [
      "==================================================\n",
      "Epoch: 171\n",
      "==================================================\n",
      "total_loss                                  0.6515\n",
      "ssim_loss                                   0.0926\n",
      "mel_loss                                    0.1808\n",
      "postnet_mel_loss                            0.1808\n",
      "dur_loss                                    0.0326\n",
      "pitch_loss                                  0.1323\n",
      "energy_loss                                 0.0325\n",
      "================================================== \n",
      "\n",
      "\n"
     ]
    },
    {
     "data": {
      "application/vnd.jupyter.widget-view+json": {
       "model_id": "dceaf00c7e0b4870a234ee8e6e76ef42",
       "version_major": 2,
       "version_minor": 0
      },
      "text/plain": [
       "  0%|          | 0/687 [00:00<?, ?it/s]"
      ]
     },
     "metadata": {},
     "output_type": "display_data"
    },
    {
     "name": "stdout",
     "output_type": "stream",
     "text": [
      "==================================================\n",
      "Epoch: 172\n",
      "==================================================\n",
      "total_loss                                  0.6616\n",
      "ssim_loss                                   0.0941\n",
      "mel_loss                                    0.1860\n",
      "postnet_mel_loss                            0.1860\n",
      "dur_loss                                    0.0328\n",
      "pitch_loss                                  0.1306\n",
      "energy_loss                                 0.0321\n",
      "================================================== \n",
      "\n",
      "\n"
     ]
    },
    {
     "data": {
      "application/vnd.jupyter.widget-view+json": {
       "model_id": "d610778f90a441e5940fa46ab75a6654",
       "version_major": 2,
       "version_minor": 0
      },
      "text/plain": [
       "  0%|          | 0/687 [00:00<?, ?it/s]"
      ]
     },
     "metadata": {},
     "output_type": "display_data"
    },
    {
     "name": "stdout",
     "output_type": "stream",
     "text": [
      "==================================================\n",
      "Epoch: 173\n",
      "==================================================\n",
      "total_loss                                  0.6572\n",
      "ssim_loss                                   0.0930\n",
      "mel_loss                                    0.1815\n",
      "postnet_mel_loss                            0.1815\n",
      "dur_loss                                    0.0327\n",
      "pitch_loss                                  0.1363\n",
      "energy_loss                                 0.0322\n",
      "================================================== \n",
      "\n",
      "\n"
     ]
    },
    {
     "data": {
      "application/vnd.jupyter.widget-view+json": {
       "model_id": "68c5b195955b4e50b319a134185b3ee3",
       "version_major": 2,
       "version_minor": 0
      },
      "text/plain": [
       "  0%|          | 0/687 [00:00<?, ?it/s]"
      ]
     },
     "metadata": {},
     "output_type": "display_data"
    },
    {
     "name": "stdout",
     "output_type": "stream",
     "text": [
      "==================================================\n",
      "Epoch: 174\n",
      "==================================================\n",
      "total_loss                                  0.6481\n",
      "ssim_loss                                   0.0927\n",
      "mel_loss                                    0.1782\n",
      "postnet_mel_loss                            0.1782\n",
      "dur_loss                                    0.0325\n",
      "pitch_loss                                  0.1344\n",
      "energy_loss                                 0.0321\n",
      "================================================== \n",
      "\n",
      "\n"
     ]
    },
    {
     "data": {
      "application/vnd.jupyter.widget-view+json": {
       "model_id": "201a8a5f6daa47b0a813735c14cf9d3d",
       "version_major": 2,
       "version_minor": 0
      },
      "text/plain": [
       "  0%|          | 0/687 [00:00<?, ?it/s]"
      ]
     },
     "metadata": {},
     "output_type": "display_data"
    },
    {
     "name": "stdout",
     "output_type": "stream",
     "text": [
      "==================================================\n",
      "Epoch: 175\n",
      "==================================================\n",
      "total_loss                                  0.6561\n",
      "ssim_loss                                   0.0932\n",
      "mel_loss                                    0.1815\n",
      "postnet_mel_loss                            0.1815\n",
      "dur_loss                                    0.0327\n",
      "pitch_loss                                  0.1346\n",
      "energy_loss                                 0.0326\n",
      "================================================== \n",
      "\n",
      "\n"
     ]
    },
    {
     "data": {
      "application/vnd.jupyter.widget-view+json": {
       "model_id": "edcc220ebbfe466a89330c98b627df22",
       "version_major": 2,
       "version_minor": 0
      },
      "text/plain": [
       "  0%|          | 0/687 [00:00<?, ?it/s]"
      ]
     },
     "metadata": {},
     "output_type": "display_data"
    },
    {
     "name": "stdout",
     "output_type": "stream",
     "text": [
      "==================================================\n",
      "Epoch: 176\n",
      "==================================================\n",
      "total_loss                                  0.6601\n",
      "ssim_loss                                   0.0936\n",
      "mel_loss                                    0.1833\n",
      "postnet_mel_loss                            0.1833\n",
      "dur_loss                                    0.0331\n",
      "pitch_loss                                  0.1343\n",
      "energy_loss                                 0.0324\n",
      "================================================== \n",
      "\n",
      "\n"
     ]
    },
    {
     "data": {
      "application/vnd.jupyter.widget-view+json": {
       "model_id": "f354e9e6f18841d68f0af78091a91f94",
       "version_major": 2,
       "version_minor": 0
      },
      "text/plain": [
       "  0%|          | 0/687 [00:00<?, ?it/s]"
      ]
     },
     "metadata": {},
     "output_type": "display_data"
    },
    {
     "name": "stdout",
     "output_type": "stream",
     "text": [
      "==================================================\n",
      "Epoch: 177\n",
      "==================================================\n",
      "total_loss                                  0.6445\n",
      "ssim_loss                                   0.0913\n",
      "mel_loss                                    0.1779\n",
      "postnet_mel_loss                            0.1779\n",
      "dur_loss                                    0.0322\n",
      "pitch_loss                                  0.1333\n",
      "energy_loss                                 0.0318\n",
      "================================================== \n",
      "\n",
      "\n"
     ]
    },
    {
     "data": {
      "application/vnd.jupyter.widget-view+json": {
       "model_id": "42df0cf36e6846a29e77e989e1e764af",
       "version_major": 2,
       "version_minor": 0
      },
      "text/plain": [
       "  0%|          | 0/687 [00:00<?, ?it/s]"
      ]
     },
     "metadata": {},
     "output_type": "display_data"
    },
    {
     "name": "stdout",
     "output_type": "stream",
     "text": [
      "==================================================\n",
      "Epoch: 178\n",
      "==================================================\n",
      "total_loss                                  0.6585\n",
      "ssim_loss                                   0.0935\n",
      "mel_loss                                    0.1829\n",
      "postnet_mel_loss                            0.1829\n",
      "dur_loss                                    0.0325\n",
      "pitch_loss                                  0.1347\n",
      "energy_loss                                 0.0320\n",
      "================================================== \n",
      "\n",
      "\n"
     ]
    },
    {
     "data": {
      "application/vnd.jupyter.widget-view+json": {
       "model_id": "9a8500aa9566462aa24f89e88a903d14",
       "version_major": 2,
       "version_minor": 0
      },
      "text/plain": [
       "  0%|          | 0/687 [00:00<?, ?it/s]"
      ]
     },
     "metadata": {},
     "output_type": "display_data"
    },
    {
     "name": "stdout",
     "output_type": "stream",
     "text": [
      "==================================================\n",
      "Epoch: 179\n",
      "==================================================\n",
      "total_loss                                  0.6552\n",
      "ssim_loss                                   0.0931\n",
      "mel_loss                                    0.1810\n",
      "postnet_mel_loss                            0.1810\n",
      "dur_loss                                    0.0323\n",
      "pitch_loss                                  0.1365\n",
      "energy_loss                                 0.0314\n",
      "================================================== \n",
      "\n",
      "\n"
     ]
    },
    {
     "data": {
      "application/vnd.jupyter.widget-view+json": {
       "model_id": "9dbeba4f3dfe40b7976e35841be96455",
       "version_major": 2,
       "version_minor": 0
      },
      "text/plain": [
       "  0%|          | 0/687 [00:00<?, ?it/s]"
      ]
     },
     "metadata": {},
     "output_type": "display_data"
    },
    {
     "name": "stdout",
     "output_type": "stream",
     "text": [
      "==================================================\n",
      "Epoch: 180\n",
      "==================================================\n",
      "total_loss                                  0.6373\n",
      "ssim_loss                                   0.0910\n",
      "mel_loss                                    0.1755\n",
      "postnet_mel_loss                            0.1755\n",
      "dur_loss                                    0.0319\n",
      "pitch_loss                                  0.1325\n",
      "energy_loss                                 0.0309\n",
      "================================================== \n",
      "\n",
      "\n"
     ]
    },
    {
     "data": {
      "application/vnd.jupyter.widget-view+json": {
       "model_id": "100b68cdfb21428ca955b259a85f3cc1",
       "version_major": 2,
       "version_minor": 0
      },
      "text/plain": [
       "  0%|          | 0/687 [00:00<?, ?it/s]"
      ]
     },
     "metadata": {},
     "output_type": "display_data"
    },
    {
     "name": "stdout",
     "output_type": "stream",
     "text": [
      "==================================================\n",
      "Epoch: 181\n",
      "==================================================\n",
      "total_loss                                  0.6318\n",
      "ssim_loss                                   0.0909\n",
      "mel_loss                                    0.1744\n",
      "postnet_mel_loss                            0.1744\n",
      "dur_loss                                    0.0315\n",
      "pitch_loss                                  0.1305\n",
      "energy_loss                                 0.0300\n",
      "================================================== \n",
      "\n",
      "\n"
     ]
    },
    {
     "data": {
      "application/vnd.jupyter.widget-view+json": {
       "model_id": "a12ff6ced14c4e1cbb4871fdaed84cb4",
       "version_major": 2,
       "version_minor": 0
      },
      "text/plain": [
       "  0%|          | 0/687 [00:00<?, ?it/s]"
      ]
     },
     "metadata": {},
     "output_type": "display_data"
    },
    {
     "name": "stdout",
     "output_type": "stream",
     "text": [
      "==================================================\n",
      "Epoch: 182\n",
      "==================================================\n",
      "total_loss                                  0.6345\n",
      "ssim_loss                                   0.0908\n",
      "mel_loss                                    0.1751\n",
      "postnet_mel_loss                            0.1750\n",
      "dur_loss                                    0.0317\n",
      "pitch_loss                                  0.1314\n",
      "energy_loss                                 0.0305\n",
      "================================================== \n",
      "\n",
      "\n"
     ]
    },
    {
     "data": {
      "application/vnd.jupyter.widget-view+json": {
       "model_id": "b0e4e7b2125c4af0821a4427a3cb99ab",
       "version_major": 2,
       "version_minor": 0
      },
      "text/plain": [
       "  0%|          | 0/687 [00:00<?, ?it/s]"
      ]
     },
     "metadata": {},
     "output_type": "display_data"
    },
    {
     "name": "stdout",
     "output_type": "stream",
     "text": [
      "==================================================\n",
      "Epoch: 183\n",
      "==================================================\n",
      "total_loss                                  0.6422\n",
      "ssim_loss                                   0.0913\n",
      "mel_loss                                    0.1777\n",
      "postnet_mel_loss                            0.1777\n",
      "dur_loss                                    0.0317\n",
      "pitch_loss                                  0.1325\n",
      "energy_loss                                 0.0313\n",
      "================================================== \n",
      "\n",
      "\n"
     ]
    },
    {
     "data": {
      "application/vnd.jupyter.widget-view+json": {
       "model_id": "54f7b77385ab47a4aff7a9563cc18a34",
       "version_major": 2,
       "version_minor": 0
      },
      "text/plain": [
       "  0%|          | 0/687 [00:00<?, ?it/s]"
      ]
     },
     "metadata": {},
     "output_type": "display_data"
    },
    {
     "name": "stdout",
     "output_type": "stream",
     "text": [
      "==================================================\n",
      "Epoch: 184\n",
      "==================================================\n",
      "total_loss                                  0.6456\n",
      "ssim_loss                                   0.0916\n",
      "mel_loss                                    0.1794\n",
      "postnet_mel_loss                            0.1794\n",
      "dur_loss                                    0.0317\n",
      "pitch_loss                                  0.1320\n",
      "energy_loss                                 0.0315\n",
      "================================================== \n",
      "\n",
      "\n"
     ]
    },
    {
     "data": {
      "application/vnd.jupyter.widget-view+json": {
       "model_id": "19816e2965cd4cf896db979cd2200bbc",
       "version_major": 2,
       "version_minor": 0
      },
      "text/plain": [
       "  0%|          | 0/687 [00:00<?, ?it/s]"
      ]
     },
     "metadata": {},
     "output_type": "display_data"
    },
    {
     "name": "stdout",
     "output_type": "stream",
     "text": [
      "==================================================\n",
      "Epoch: 185\n",
      "==================================================\n",
      "total_loss                                  0.6408\n",
      "ssim_loss                                   0.0916\n",
      "mel_loss                                    0.1767\n",
      "postnet_mel_loss                            0.1767\n",
      "dur_loss                                    0.0323\n",
      "pitch_loss                                  0.1322\n",
      "energy_loss                                 0.0313\n",
      "================================================== \n",
      "\n",
      "\n"
     ]
    },
    {
     "data": {
      "application/vnd.jupyter.widget-view+json": {
       "model_id": "ee0d3385a31747a98f6eeb5c064161d8",
       "version_major": 2,
       "version_minor": 0
      },
      "text/plain": [
       "  0%|          | 0/687 [00:00<?, ?it/s]"
      ]
     },
     "metadata": {},
     "output_type": "display_data"
    },
    {
     "name": "stdout",
     "output_type": "stream",
     "text": [
      "==================================================\n",
      "Epoch: 186\n",
      "==================================================\n",
      "total_loss                                  0.6356\n",
      "ssim_loss                                   0.0907\n",
      "mel_loss                                    0.1754\n",
      "postnet_mel_loss                            0.1754\n",
      "dur_loss                                    0.0319\n",
      "pitch_loss                                  0.1317\n",
      "energy_loss                                 0.0305\n",
      "================================================== \n",
      "\n",
      "\n"
     ]
    },
    {
     "data": {
      "application/vnd.jupyter.widget-view+json": {
       "model_id": "8310ab3cbc1643ca8ea1aa55176ee035",
       "version_major": 2,
       "version_minor": 0
      },
      "text/plain": [
       "  0%|          | 0/687 [00:00<?, ?it/s]"
      ]
     },
     "metadata": {},
     "output_type": "display_data"
    },
    {
     "name": "stdout",
     "output_type": "stream",
     "text": [
      "==================================================\n",
      "Epoch: 187\n",
      "==================================================\n",
      "total_loss                                  0.6269\n",
      "ssim_loss                                   0.0903\n",
      "mel_loss                                    0.1736\n",
      "postnet_mel_loss                            0.1736\n",
      "dur_loss                                    0.0315\n",
      "pitch_loss                                  0.1278\n",
      "energy_loss                                 0.0301\n",
      "================================================== \n",
      "\n",
      "\n"
     ]
    },
    {
     "data": {
      "application/vnd.jupyter.widget-view+json": {
       "model_id": "8e1dc30b93594c78a96bd33281fc52c6",
       "version_major": 2,
       "version_minor": 0
      },
      "text/plain": [
       "  0%|          | 0/687 [00:00<?, ?it/s]"
      ]
     },
     "metadata": {},
     "output_type": "display_data"
    },
    {
     "name": "stdout",
     "output_type": "stream",
     "text": [
      "==================================================\n",
      "Epoch: 188\n",
      "==================================================\n",
      "total_loss                                  0.6362\n",
      "ssim_loss                                   0.0905\n",
      "mel_loss                                    0.1757\n",
      "postnet_mel_loss                            0.1757\n",
      "dur_loss                                    0.0317\n",
      "pitch_loss                                  0.1321\n",
      "energy_loss                                 0.0304\n",
      "================================================== \n",
      "\n",
      "\n"
     ]
    },
    {
     "data": {
      "application/vnd.jupyter.widget-view+json": {
       "model_id": "16d89fa3c4e4401c9f32322c9fc786d1",
       "version_major": 2,
       "version_minor": 0
      },
      "text/plain": [
       "  0%|          | 0/687 [00:00<?, ?it/s]"
      ]
     },
     "metadata": {},
     "output_type": "display_data"
    },
    {
     "name": "stdout",
     "output_type": "stream",
     "text": [
      "==================================================\n",
      "Epoch: 189\n",
      "==================================================\n",
      "total_loss                                  0.6354\n",
      "ssim_loss                                   0.0908\n",
      "mel_loss                                    0.1762\n",
      "postnet_mel_loss                            0.1762\n",
      "dur_loss                                    0.0318\n",
      "pitch_loss                                  0.1294\n",
      "energy_loss                                 0.0310\n",
      "================================================== \n",
      "\n",
      "\n"
     ]
    },
    {
     "data": {
      "application/vnd.jupyter.widget-view+json": {
       "model_id": "a5b22d70bcdc496ab205b7d9e389a4c0",
       "version_major": 2,
       "version_minor": 0
      },
      "text/plain": [
       "  0%|          | 0/687 [00:00<?, ?it/s]"
      ]
     },
     "metadata": {},
     "output_type": "display_data"
    },
    {
     "name": "stdout",
     "output_type": "stream",
     "text": [
      "==================================================\n",
      "Epoch: 190\n",
      "==================================================\n",
      "total_loss                                  0.6330\n",
      "ssim_loss                                   0.0905\n",
      "mel_loss                                    0.1746\n",
      "postnet_mel_loss                            0.1745\n",
      "dur_loss                                    0.0316\n",
      "pitch_loss                                  0.1311\n",
      "energy_loss                                 0.0307\n",
      "================================================== \n",
      "\n",
      "\n"
     ]
    },
    {
     "data": {
      "application/vnd.jupyter.widget-view+json": {
       "model_id": "e12ecc58a34a4c038a98a852bf64060d",
       "version_major": 2,
       "version_minor": 0
      },
      "text/plain": [
       "  0%|          | 0/687 [00:00<?, ?it/s]"
      ]
     },
     "metadata": {},
     "output_type": "display_data"
    },
    {
     "name": "stdout",
     "output_type": "stream",
     "text": [
      "==================================================\n",
      "Epoch: 191\n",
      "==================================================\n",
      "total_loss                                  0.6350\n",
      "ssim_loss                                   0.0908\n",
      "mel_loss                                    0.1776\n",
      "postnet_mel_loss                            0.1776\n",
      "dur_loss                                    0.0311\n",
      "pitch_loss                                  0.1277\n",
      "energy_loss                                 0.0301\n",
      "================================================== \n",
      "\n",
      "\n"
     ]
    },
    {
     "data": {
      "application/vnd.jupyter.widget-view+json": {
       "model_id": "34375f895bae4aed8b006e6eaa6d5728",
       "version_major": 2,
       "version_minor": 0
      },
      "text/plain": [
       "  0%|          | 0/687 [00:00<?, ?it/s]"
      ]
     },
     "metadata": {},
     "output_type": "display_data"
    },
    {
     "name": "stdout",
     "output_type": "stream",
     "text": [
      "==================================================\n",
      "Epoch: 192\n",
      "==================================================\n",
      "total_loss                                  0.6359\n",
      "ssim_loss                                   0.0907\n",
      "mel_loss                                    0.1764\n",
      "postnet_mel_loss                            0.1764\n",
      "dur_loss                                    0.0314\n",
      "pitch_loss                                  0.1307\n",
      "energy_loss                                 0.0302\n",
      "================================================== \n",
      "\n",
      "\n"
     ]
    },
    {
     "data": {
      "application/vnd.jupyter.widget-view+json": {
       "model_id": "b342638c72fb44ea831abcd2030e36be",
       "version_major": 2,
       "version_minor": 0
      },
      "text/plain": [
       "  0%|          | 0/687 [00:00<?, ?it/s]"
      ]
     },
     "metadata": {},
     "output_type": "display_data"
    },
    {
     "name": "stdout",
     "output_type": "stream",
     "text": [
      "==================================================\n",
      "Epoch: 193\n",
      "==================================================\n",
      "total_loss                                  0.6359\n",
      "ssim_loss                                   0.0908\n",
      "mel_loss                                    0.1756\n",
      "postnet_mel_loss                            0.1757\n",
      "dur_loss                                    0.0316\n",
      "pitch_loss                                  0.1317\n",
      "energy_loss                                 0.0306\n",
      "================================================== \n",
      "\n",
      "\n"
     ]
    },
    {
     "data": {
      "application/vnd.jupyter.widget-view+json": {
       "model_id": "cf5cfc8c278341f684f595516d2ec796",
       "version_major": 2,
       "version_minor": 0
      },
      "text/plain": [
       "  0%|          | 0/687 [00:00<?, ?it/s]"
      ]
     },
     "metadata": {},
     "output_type": "display_data"
    },
    {
     "name": "stdout",
     "output_type": "stream",
     "text": [
      "==================================================\n",
      "Epoch: 194\n",
      "==================================================\n",
      "total_loss                                  0.6407\n",
      "ssim_loss                                   0.0909\n",
      "mel_loss                                    0.1759\n",
      "postnet_mel_loss                            0.1759\n",
      "dur_loss                                    0.0317\n",
      "pitch_loss                                  0.1359\n",
      "energy_loss                                 0.0303\n",
      "================================================== \n",
      "\n",
      "\n"
     ]
    },
    {
     "data": {
      "application/vnd.jupyter.widget-view+json": {
       "model_id": "27961fb1847c49e888e2a5300926680c",
       "version_major": 2,
       "version_minor": 0
      },
      "text/plain": [
       "  0%|          | 0/687 [00:00<?, ?it/s]"
      ]
     },
     "metadata": {},
     "output_type": "display_data"
    },
    {
     "name": "stdout",
     "output_type": "stream",
     "text": [
      "==================================================\n",
      "Epoch: 195\n",
      "==================================================\n",
      "total_loss                                  0.6260\n",
      "ssim_loss                                   0.0893\n",
      "mel_loss                                    0.1718\n",
      "postnet_mel_loss                            0.1717\n",
      "dur_loss                                    0.0315\n",
      "pitch_loss                                  0.1313\n",
      "energy_loss                                 0.0303\n",
      "================================================== \n",
      "\n",
      "\n"
     ]
    },
    {
     "data": {
      "application/vnd.jupyter.widget-view+json": {
       "model_id": "4bb426170c724b5c87488bd5898c31a9",
       "version_major": 2,
       "version_minor": 0
      },
      "text/plain": [
       "  0%|          | 0/687 [00:00<?, ?it/s]"
      ]
     },
     "metadata": {},
     "output_type": "display_data"
    },
    {
     "name": "stdout",
     "output_type": "stream",
     "text": [
      "==================================================\n",
      "Epoch: 196\n",
      "==================================================\n",
      "total_loss                                  0.6183\n",
      "ssim_loss                                   0.0888\n",
      "mel_loss                                    0.1698\n",
      "postnet_mel_loss                            0.1698\n",
      "dur_loss                                    0.0309\n",
      "pitch_loss                                  0.1296\n",
      "energy_loss                                 0.0294\n",
      "================================================== \n",
      "\n",
      "\n"
     ]
    },
    {
     "data": {
      "application/vnd.jupyter.widget-view+json": {
       "model_id": "2c1eea765e6c45acbfd9fcfb3740111c",
       "version_major": 2,
       "version_minor": 0
      },
      "text/plain": [
       "  0%|          | 0/687 [00:00<?, ?it/s]"
      ]
     },
     "metadata": {},
     "output_type": "display_data"
    },
    {
     "name": "stdout",
     "output_type": "stream",
     "text": [
      "==================================================\n",
      "Epoch: 197\n",
      "==================================================\n",
      "total_loss                                  0.6147\n",
      "ssim_loss                                   0.0884\n",
      "mel_loss                                    0.1699\n",
      "postnet_mel_loss                            0.1699\n",
      "dur_loss                                    0.0307\n",
      "pitch_loss                                  0.1268\n",
      "energy_loss                                 0.0290\n",
      "================================================== \n",
      "\n",
      "\n"
     ]
    },
    {
     "data": {
      "application/vnd.jupyter.widget-view+json": {
       "model_id": "3cf95f74d956480a81ecb0ce131d2b9f",
       "version_major": 2,
       "version_minor": 0
      },
      "text/plain": [
       "  0%|          | 0/687 [00:00<?, ?it/s]"
      ]
     },
     "metadata": {},
     "output_type": "display_data"
    },
    {
     "name": "stdout",
     "output_type": "stream",
     "text": [
      "==================================================\n",
      "Epoch: 198\n",
      "==================================================\n",
      "total_loss                                  0.6226\n",
      "ssim_loss                                   0.0893\n",
      "mel_loss                                    0.1723\n",
      "postnet_mel_loss                            0.1723\n",
      "dur_loss                                    0.0310\n",
      "pitch_loss                                  0.1279\n",
      "energy_loss                                 0.0299\n",
      "================================================== \n",
      "\n",
      "\n"
     ]
    },
    {
     "data": {
      "application/vnd.jupyter.widget-view+json": {
       "model_id": "fe7396279524424284365e5c321a015d",
       "version_major": 2,
       "version_minor": 0
      },
      "text/plain": [
       "  0%|          | 0/687 [00:00<?, ?it/s]"
      ]
     },
     "metadata": {},
     "output_type": "display_data"
    },
    {
     "name": "stdout",
     "output_type": "stream",
     "text": [
      "==================================================\n",
      "Epoch: 199\n",
      "==================================================\n",
      "total_loss                                  0.6293\n",
      "ssim_loss                                   0.0895\n",
      "mel_loss                                    0.1738\n",
      "postnet_mel_loss                            0.1738\n",
      "dur_loss                                    0.0311\n",
      "pitch_loss                                  0.1308\n",
      "energy_loss                                 0.0302\n",
      "================================================== \n",
      "\n",
      "\n"
     ]
    },
    {
     "data": {
      "application/vnd.jupyter.widget-view+json": {
       "model_id": "04e17cb53e1f41dca5971b1f880d02b3",
       "version_major": 2,
       "version_minor": 0
      },
      "text/plain": [
       "  0%|          | 0/687 [00:00<?, ?it/s]"
      ]
     },
     "metadata": {},
     "output_type": "display_data"
    },
    {
     "name": "stdout",
     "output_type": "stream",
     "text": [
      "==================================================\n",
      "Epoch: 200\n",
      "==================================================\n",
      "total_loss                                  0.6186\n",
      "ssim_loss                                   0.0885\n",
      "mel_loss                                    0.1708\n",
      "postnet_mel_loss                            0.1708\n",
      "dur_loss                                    0.0309\n",
      "pitch_loss                                  0.1281\n",
      "energy_loss                                 0.0296\n",
      "================================================== \n",
      "\n",
      "\n"
     ]
    },
    {
     "data": {
      "application/vnd.jupyter.widget-view+json": {
       "model_id": "2f075ce9635941de87bd347aadb9c92f",
       "version_major": 2,
       "version_minor": 0
      },
      "text/plain": [
       "  0%|          | 0/687 [00:00<?, ?it/s]"
      ]
     },
     "metadata": {},
     "output_type": "display_data"
    },
    {
     "name": "stdout",
     "output_type": "stream",
     "text": [
      "==================================================\n",
      "Epoch: 201\n",
      "==================================================\n",
      "total_loss                                  0.6181\n",
      "ssim_loss                                   0.0893\n",
      "mel_loss                                    0.1702\n",
      "postnet_mel_loss                            0.1702\n",
      "dur_loss                                    0.0309\n",
      "pitch_loss                                  0.1275\n",
      "energy_loss                                 0.0299\n",
      "================================================== \n",
      "\n",
      "\n"
     ]
    },
    {
     "data": {
      "application/vnd.jupyter.widget-view+json": {
       "model_id": "cdfd8c0396fa4c26ae3adda2aec1dc16",
       "version_major": 2,
       "version_minor": 0
      },
      "text/plain": [
       "  0%|          | 0/687 [00:00<?, ?it/s]"
      ]
     },
     "metadata": {},
     "output_type": "display_data"
    },
    {
     "name": "stdout",
     "output_type": "stream",
     "text": [
      "==================================================\n",
      "Epoch: 202\n",
      "==================================================\n",
      "total_loss                                  0.6142\n",
      "ssim_loss                                   0.0883\n",
      "mel_loss                                    0.1698\n",
      "postnet_mel_loss                            0.1697\n",
      "dur_loss                                    0.0305\n",
      "pitch_loss                                  0.1267\n",
      "energy_loss                                 0.0292\n",
      "================================================== \n",
      "\n",
      "\n"
     ]
    },
    {
     "data": {
      "application/vnd.jupyter.widget-view+json": {
       "model_id": "81888a55138c4a178c00c7fd2b44c8ce",
       "version_major": 2,
       "version_minor": 0
      },
      "text/plain": [
       "  0%|          | 0/687 [00:00<?, ?it/s]"
      ]
     },
     "metadata": {},
     "output_type": "display_data"
    },
    {
     "name": "stdout",
     "output_type": "stream",
     "text": [
      "==================================================\n",
      "Epoch: 203\n",
      "==================================================\n",
      "total_loss                                  0.6155\n",
      "ssim_loss                                   0.0883\n",
      "mel_loss                                    0.1698\n",
      "postnet_mel_loss                            0.1698\n",
      "dur_loss                                    0.0304\n",
      "pitch_loss                                  0.1273\n",
      "energy_loss                                 0.0298\n",
      "================================================== \n",
      "\n",
      "\n"
     ]
    },
    {
     "data": {
      "application/vnd.jupyter.widget-view+json": {
       "model_id": "da413021b72c42c181f339b138e92216",
       "version_major": 2,
       "version_minor": 0
      },
      "text/plain": [
       "  0%|          | 0/687 [00:00<?, ?it/s]"
      ]
     },
     "metadata": {},
     "output_type": "display_data"
    },
    {
     "name": "stdout",
     "output_type": "stream",
     "text": [
      "==================================================\n",
      "Epoch: 204\n",
      "==================================================\n",
      "total_loss                                  0.6159\n",
      "ssim_loss                                   0.0878\n",
      "mel_loss                                    0.1701\n",
      "postnet_mel_loss                            0.1700\n",
      "dur_loss                                    0.0307\n",
      "pitch_loss                                  0.1282\n",
      "energy_loss                                 0.0290\n",
      "================================================== \n",
      "\n",
      "\n"
     ]
    },
    {
     "data": {
      "application/vnd.jupyter.widget-view+json": {
       "model_id": "36d892bf3d144aed9b3df9b94bf2ef44",
       "version_major": 2,
       "version_minor": 0
      },
      "text/plain": [
       "  0%|          | 0/687 [00:00<?, ?it/s]"
      ]
     },
     "metadata": {},
     "output_type": "display_data"
    },
    {
     "name": "stdout",
     "output_type": "stream",
     "text": [
      "==================================================\n",
      "Epoch: 205\n",
      "==================================================\n",
      "total_loss                                  0.6166\n",
      "ssim_loss                                   0.0882\n",
      "mel_loss                                    0.1708\n",
      "postnet_mel_loss                            0.1708\n",
      "dur_loss                                    0.0307\n",
      "pitch_loss                                  0.1270\n",
      "energy_loss                                 0.0292\n",
      "================================================== \n",
      "\n",
      "\n"
     ]
    },
    {
     "data": {
      "application/vnd.jupyter.widget-view+json": {
       "model_id": "c7370b45a03e4e02b48ba1cbceb4a66f",
       "version_major": 2,
       "version_minor": 0
      },
      "text/plain": [
       "  0%|          | 0/687 [00:00<?, ?it/s]"
      ]
     },
     "metadata": {},
     "output_type": "display_data"
    },
    {
     "name": "stdout",
     "output_type": "stream",
     "text": [
      "==================================================\n",
      "Epoch: 206\n",
      "==================================================\n",
      "total_loss                                  0.6131\n",
      "ssim_loss                                   0.0874\n",
      "mel_loss                                    0.1690\n",
      "postnet_mel_loss                            0.1689\n",
      "dur_loss                                    0.0305\n",
      "pitch_loss                                  0.1282\n",
      "energy_loss                                 0.0291\n",
      "================================================== \n",
      "\n",
      "\n"
     ]
    },
    {
     "data": {
      "application/vnd.jupyter.widget-view+json": {
       "model_id": "44a20d7a64ea4c078f6bc50ef8ae8786",
       "version_major": 2,
       "version_minor": 0
      },
      "text/plain": [
       "  0%|          | 0/687 [00:00<?, ?it/s]"
      ]
     },
     "metadata": {},
     "output_type": "display_data"
    },
    {
     "name": "stdout",
     "output_type": "stream",
     "text": [
      "==================================================\n",
      "Epoch: 207\n",
      "==================================================\n",
      "total_loss                                  0.6166\n",
      "ssim_loss                                   0.0881\n",
      "mel_loss                                    0.1702\n",
      "postnet_mel_loss                            0.1702\n",
      "dur_loss                                    0.0303\n",
      "pitch_loss                                  0.1284\n",
      "energy_loss                                 0.0294\n",
      "================================================== \n",
      "\n",
      "\n"
     ]
    },
    {
     "data": {
      "application/vnd.jupyter.widget-view+json": {
       "model_id": "5c6fd191dd264b4e90687fc54b91a468",
       "version_major": 2,
       "version_minor": 0
      },
      "text/plain": [
       "  0%|          | 0/687 [00:00<?, ?it/s]"
      ]
     },
     "metadata": {},
     "output_type": "display_data"
    },
    {
     "name": "stdout",
     "output_type": "stream",
     "text": [
      "==================================================\n",
      "Epoch: 208\n",
      "==================================================\n",
      "total_loss                                  0.6212\n",
      "ssim_loss                                   0.0887\n",
      "mel_loss                                    0.1715\n",
      "postnet_mel_loss                            0.1714\n",
      "dur_loss                                    0.0304\n",
      "pitch_loss                                  0.1303\n",
      "energy_loss                                 0.0290\n",
      "================================================== \n",
      "\n",
      "\n"
     ]
    },
    {
     "data": {
      "application/vnd.jupyter.widget-view+json": {
       "model_id": "420279b8dc8e4f2792c0c70247f0455e",
       "version_major": 2,
       "version_minor": 0
      },
      "text/plain": [
       "  0%|          | 0/687 [00:00<?, ?it/s]"
      ]
     },
     "metadata": {},
     "output_type": "display_data"
    },
    {
     "name": "stdout",
     "output_type": "stream",
     "text": [
      "==================================================\n",
      "Epoch: 209\n",
      "==================================================\n",
      "total_loss                                  0.6034\n",
      "ssim_loss                                   0.0871\n",
      "mel_loss                                    0.1671\n",
      "postnet_mel_loss                            0.1670\n",
      "dur_loss                                    0.0301\n",
      "pitch_loss                                  0.1244\n",
      "energy_loss                                 0.0278\n",
      "================================================== \n",
      "\n",
      "\n"
     ]
    },
    {
     "data": {
      "application/vnd.jupyter.widget-view+json": {
       "model_id": "928ac2c89ecd47cf9c29663cf547e17b",
       "version_major": 2,
       "version_minor": 0
      },
      "text/plain": [
       "  0%|          | 0/687 [00:00<?, ?it/s]"
      ]
     },
     "metadata": {},
     "output_type": "display_data"
    },
    {
     "name": "stdout",
     "output_type": "stream",
     "text": [
      "==================================================\n",
      "Epoch: 210\n",
      "==================================================\n",
      "total_loss                                  0.6035\n",
      "ssim_loss                                   0.0871\n",
      "mel_loss                                    0.1665\n",
      "postnet_mel_loss                            0.1665\n",
      "dur_loss                                    0.0301\n",
      "pitch_loss                                  0.1252\n",
      "energy_loss                                 0.0281\n",
      "================================================== \n",
      "\n",
      "\n"
     ]
    },
    {
     "data": {
      "application/vnd.jupyter.widget-view+json": {
       "model_id": "eb1de326bc274148ad3aea2533e95996",
       "version_major": 2,
       "version_minor": 0
      },
      "text/plain": [
       "  0%|          | 0/687 [00:00<?, ?it/s]"
      ]
     },
     "metadata": {},
     "output_type": "display_data"
    },
    {
     "name": "stdout",
     "output_type": "stream",
     "text": [
      "==================================================\n",
      "Epoch: 211\n",
      "==================================================\n",
      "total_loss                                  0.6058\n",
      "ssim_loss                                   0.0873\n",
      "mel_loss                                    0.1670\n",
      "postnet_mel_loss                            0.1669\n",
      "dur_loss                                    0.0303\n",
      "pitch_loss                                  0.1257\n",
      "energy_loss                                 0.0286\n",
      "================================================== \n",
      "\n",
      "\n"
     ]
    },
    {
     "data": {
      "application/vnd.jupyter.widget-view+json": {
       "model_id": "6b7f8f83e89e49549980873856936fa5",
       "version_major": 2,
       "version_minor": 0
      },
      "text/plain": [
       "  0%|          | 0/687 [00:00<?, ?it/s]"
      ]
     },
     "metadata": {},
     "output_type": "display_data"
    },
    {
     "name": "stdout",
     "output_type": "stream",
     "text": [
      "==================================================\n",
      "Epoch: 212\n",
      "==================================================\n",
      "total_loss                                  0.6127\n",
      "ssim_loss                                   0.0876\n",
      "mel_loss                                    0.1674\n",
      "postnet_mel_loss                            0.1674\n",
      "dur_loss                                    0.0302\n",
      "pitch_loss                                  0.1312\n",
      "energy_loss                                 0.0287\n",
      "================================================== \n",
      "\n",
      "\n"
     ]
    },
    {
     "data": {
      "application/vnd.jupyter.widget-view+json": {
       "model_id": "ef0977aee5f44c7fb912fa3797b438ca",
       "version_major": 2,
       "version_minor": 0
      },
      "text/plain": [
       "  0%|          | 0/687 [00:00<?, ?it/s]"
      ]
     },
     "metadata": {},
     "output_type": "display_data"
    },
    {
     "name": "stdout",
     "output_type": "stream",
     "text": [
      "==================================================\n",
      "Epoch: 213\n",
      "==================================================\n",
      "total_loss                                  0.6137\n",
      "ssim_loss                                   0.0875\n",
      "mel_loss                                    0.1688\n",
      "postnet_mel_loss                            0.1687\n",
      "dur_loss                                    0.0307\n",
      "pitch_loss                                  0.1289\n",
      "energy_loss                                 0.0291\n",
      "================================================== \n",
      "\n",
      "\n"
     ]
    },
    {
     "data": {
      "application/vnd.jupyter.widget-view+json": {
       "model_id": "cc874c7dbdbf4d1fb51b36ed36bf5fc8",
       "version_major": 2,
       "version_minor": 0
      },
      "text/plain": [
       "  0%|          | 0/687 [00:00<?, ?it/s]"
      ]
     },
     "metadata": {},
     "output_type": "display_data"
    },
    {
     "name": "stdout",
     "output_type": "stream",
     "text": [
      "==================================================\n",
      "Epoch: 214\n",
      "==================================================\n",
      "total_loss                                  0.6062\n",
      "ssim_loss                                   0.0872\n",
      "mel_loss                                    0.1672\n",
      "postnet_mel_loss                            0.1671\n",
      "dur_loss                                    0.0298\n",
      "pitch_loss                                  0.1266\n",
      "energy_loss                                 0.0282\n",
      "================================================== \n",
      "\n",
      "\n"
     ]
    },
    {
     "data": {
      "application/vnd.jupyter.widget-view+json": {
       "model_id": "52432fd007c84cabb23eff4fcafa748c",
       "version_major": 2,
       "version_minor": 0
      },
      "text/plain": [
       "  0%|          | 0/687 [00:00<?, ?it/s]"
      ]
     },
     "metadata": {},
     "output_type": "display_data"
    },
    {
     "name": "stdout",
     "output_type": "stream",
     "text": [
      "==================================================\n",
      "Epoch: 215\n",
      "==================================================\n",
      "total_loss                                  0.5998\n",
      "ssim_loss                                   0.0866\n",
      "mel_loss                                    0.1652\n",
      "postnet_mel_loss                            0.1652\n",
      "dur_loss                                    0.0296\n",
      "pitch_loss                                  0.1252\n",
      "energy_loss                                 0.0279\n",
      "================================================== \n",
      "\n",
      "\n"
     ]
    },
    {
     "data": {
      "application/vnd.jupyter.widget-view+json": {
       "model_id": "2263371719ff4cb5b338712ec5bd2074",
       "version_major": 2,
       "version_minor": 0
      },
      "text/plain": [
       "  0%|          | 0/687 [00:00<?, ?it/s]"
      ]
     },
     "metadata": {},
     "output_type": "display_data"
    },
    {
     "name": "stdout",
     "output_type": "stream",
     "text": [
      "==================================================\n",
      "Epoch: 216\n",
      "==================================================\n",
      "total_loss                                  0.6030\n",
      "ssim_loss                                   0.0868\n",
      "mel_loss                                    0.1656\n",
      "postnet_mel_loss                            0.1656\n",
      "dur_loss                                    0.0296\n",
      "pitch_loss                                  0.1276\n",
      "energy_loss                                 0.0278\n",
      "================================================== \n",
      "\n",
      "\n"
     ]
    },
    {
     "data": {
      "application/vnd.jupyter.widget-view+json": {
       "model_id": "519622b28bb34954a15ae1d0edd26fbd",
       "version_major": 2,
       "version_minor": 0
      },
      "text/plain": [
       "  0%|          | 0/687 [00:00<?, ?it/s]"
      ]
     },
     "metadata": {},
     "output_type": "display_data"
    },
    {
     "name": "stdout",
     "output_type": "stream",
     "text": [
      "==================================================\n",
      "Epoch: 217\n",
      "==================================================\n",
      "total_loss                                  0.6043\n",
      "ssim_loss                                   0.0870\n",
      "mel_loss                                    0.1661\n",
      "postnet_mel_loss                            0.1661\n",
      "dur_loss                                    0.0301\n",
      "pitch_loss                                  0.1269\n",
      "energy_loss                                 0.0282\n",
      "================================================== \n",
      "\n",
      "\n"
     ]
    },
    {
     "data": {
      "application/vnd.jupyter.widget-view+json": {
       "model_id": "8b852b60676f47fd8590415ea2382730",
       "version_major": 2,
       "version_minor": 0
      },
      "text/plain": [
       "  0%|          | 0/687 [00:00<?, ?it/s]"
      ]
     },
     "metadata": {},
     "output_type": "display_data"
    },
    {
     "name": "stdout",
     "output_type": "stream",
     "text": [
      "==================================================\n",
      "Epoch: 218\n",
      "==================================================\n",
      "total_loss                                  0.6044\n",
      "ssim_loss                                   0.0865\n",
      "mel_loss                                    0.1663\n",
      "postnet_mel_loss                            0.1663\n",
      "dur_loss                                    0.0298\n",
      "pitch_loss                                  0.1279\n",
      "energy_loss                                 0.0276\n",
      "================================================== \n",
      "\n",
      "\n"
     ]
    },
    {
     "data": {
      "application/vnd.jupyter.widget-view+json": {
       "model_id": "5063d22693d447d7bbf9af180c2442b0",
       "version_major": 2,
       "version_minor": 0
      },
      "text/plain": [
       "  0%|          | 0/687 [00:00<?, ?it/s]"
      ]
     },
     "metadata": {},
     "output_type": "display_data"
    },
    {
     "name": "stdout",
     "output_type": "stream",
     "text": [
      "==================================================\n",
      "Epoch: 219\n",
      "==================================================\n",
      "total_loss                                  0.5983\n",
      "ssim_loss                                   0.0859\n",
      "mel_loss                                    0.1650\n",
      "postnet_mel_loss                            0.1650\n",
      "dur_loss                                    0.0295\n",
      "pitch_loss                                  0.1252\n",
      "energy_loss                                 0.0276\n",
      "================================================== \n",
      "\n",
      "\n"
     ]
    },
    {
     "data": {
      "application/vnd.jupyter.widget-view+json": {
       "model_id": "05f01001e2b54d86842d248134f95388",
       "version_major": 2,
       "version_minor": 0
      },
      "text/plain": [
       "  0%|          | 0/687 [00:00<?, ?it/s]"
      ]
     },
     "metadata": {},
     "output_type": "display_data"
    },
    {
     "name": "stdout",
     "output_type": "stream",
     "text": [
      "==================================================\n",
      "Epoch: 220\n",
      "==================================================\n",
      "total_loss                                  0.6041\n",
      "ssim_loss                                   0.0863\n",
      "mel_loss                                    0.1649\n",
      "postnet_mel_loss                            0.1649\n",
      "dur_loss                                    0.0297\n",
      "pitch_loss                                  0.1304\n",
      "energy_loss                                 0.0278\n",
      "================================================== \n",
      "\n",
      "\n"
     ]
    },
    {
     "data": {
      "application/vnd.jupyter.widget-view+json": {
       "model_id": "43a853b8edfb424e81a53bbc69866f49",
       "version_major": 2,
       "version_minor": 0
      },
      "text/plain": [
       "  0%|          | 0/687 [00:00<?, ?it/s]"
      ]
     },
     "metadata": {},
     "output_type": "display_data"
    },
    {
     "name": "stdout",
     "output_type": "stream",
     "text": [
      "==================================================\n",
      "Epoch: 221\n",
      "==================================================\n",
      "total_loss                                  0.5994\n",
      "ssim_loss                                   0.0865\n",
      "mel_loss                                    0.1646\n",
      "postnet_mel_loss                            0.1645\n",
      "dur_loss                                    0.0294\n",
      "pitch_loss                                  0.1266\n",
      "energy_loss                                 0.0277\n",
      "================================================== \n",
      "\n",
      "\n"
     ]
    },
    {
     "data": {
      "application/vnd.jupyter.widget-view+json": {
       "model_id": "88f58c77e9784c3b89ff755895493c85",
       "version_major": 2,
       "version_minor": 0
      },
      "text/plain": [
       "  0%|          | 0/687 [00:00<?, ?it/s]"
      ]
     },
     "metadata": {},
     "output_type": "display_data"
    },
    {
     "name": "stdout",
     "output_type": "stream",
     "text": [
      "==================================================\n",
      "Epoch: 222\n",
      "==================================================\n",
      "total_loss                                  0.6000\n",
      "ssim_loss                                   0.0862\n",
      "mel_loss                                    0.1654\n",
      "postnet_mel_loss                            0.1654\n",
      "dur_loss                                    0.0294\n",
      "pitch_loss                                  0.1258\n",
      "energy_loss                                 0.0279\n",
      "================================================== \n",
      "\n",
      "\n"
     ]
    },
    {
     "data": {
      "application/vnd.jupyter.widget-view+json": {
       "model_id": "f37cf6f2adaf41acadf42fe32310af60",
       "version_major": 2,
       "version_minor": 0
      },
      "text/plain": [
       "  0%|          | 0/687 [00:00<?, ?it/s]"
      ]
     },
     "metadata": {},
     "output_type": "display_data"
    },
    {
     "name": "stdout",
     "output_type": "stream",
     "text": [
      "==================================================\n",
      "Epoch: 223\n",
      "==================================================\n",
      "total_loss                                  0.5980\n",
      "ssim_loss                                   0.0859\n",
      "mel_loss                                    0.1651\n",
      "postnet_mel_loss                            0.1650\n",
      "dur_loss                                    0.0295\n",
      "pitch_loss                                  0.1254\n",
      "energy_loss                                 0.0270\n",
      "================================================== \n",
      "\n",
      "\n"
     ]
    },
    {
     "data": {
      "application/vnd.jupyter.widget-view+json": {
       "model_id": "5f00c26deda84d85af469a7c6b516f17",
       "version_major": 2,
       "version_minor": 0
      },
      "text/plain": [
       "  0%|          | 0/687 [00:00<?, ?it/s]"
      ]
     },
     "metadata": {},
     "output_type": "display_data"
    },
    {
     "name": "stdout",
     "output_type": "stream",
     "text": [
      "==================================================\n",
      "Epoch: 224\n",
      "==================================================\n",
      "total_loss                                  0.6310\n",
      "ssim_loss                                   0.0902\n",
      "mel_loss                                    0.1782\n",
      "postnet_mel_loss                            0.1782\n",
      "dur_loss                                    0.0303\n",
      "pitch_loss                                  0.1256\n",
      "energy_loss                                 0.0286\n",
      "================================================== \n",
      "\n",
      "\n"
     ]
    },
    {
     "data": {
      "application/vnd.jupyter.widget-view+json": {
       "model_id": "f4f1e3b0e27f42368b59779281d68b1f",
       "version_major": 2,
       "version_minor": 0
      },
      "text/plain": [
       "  0%|          | 0/687 [00:00<?, ?it/s]"
      ]
     },
     "metadata": {},
     "output_type": "display_data"
    },
    {
     "name": "stdout",
     "output_type": "stream",
     "text": [
      "==================================================\n",
      "Epoch: 225\n",
      "==================================================\n",
      "total_loss                                  0.6025\n",
      "ssim_loss                                   0.0862\n",
      "mel_loss                                    0.1671\n",
      "postnet_mel_loss                            0.1671\n",
      "dur_loss                                    0.0294\n",
      "pitch_loss                                  0.1253\n",
      "energy_loss                                 0.0274\n",
      "================================================== \n",
      "\n",
      "\n"
     ]
    },
    {
     "data": {
      "application/vnd.jupyter.widget-view+json": {
       "model_id": "445e331fae264403b2872f1bca5f469e",
       "version_major": 2,
       "version_minor": 0
      },
      "text/plain": [
       "  0%|          | 0/687 [00:00<?, ?it/s]"
      ]
     },
     "metadata": {},
     "output_type": "display_data"
    },
    {
     "name": "stdout",
     "output_type": "stream",
     "text": [
      "==================================================\n",
      "Epoch: 226\n",
      "==================================================\n",
      "total_loss                                  0.5854\n",
      "ssim_loss                                   0.0853\n",
      "mel_loss                                    0.1613\n",
      "postnet_mel_loss                            0.1613\n",
      "dur_loss                                    0.0290\n",
      "pitch_loss                                  0.1221\n",
      "energy_loss                                 0.0264\n",
      "================================================== \n",
      "\n",
      "\n"
     ]
    },
    {
     "data": {
      "application/vnd.jupyter.widget-view+json": {
       "model_id": "e68a2d9134e1440c9561d967d63b3fb5",
       "version_major": 2,
       "version_minor": 0
      },
      "text/plain": [
       "  0%|          | 0/687 [00:00<?, ?it/s]"
      ]
     },
     "metadata": {},
     "output_type": "display_data"
    },
    {
     "name": "stdout",
     "output_type": "stream",
     "text": [
      "==================================================\n",
      "Epoch: 227\n",
      "==================================================\n",
      "total_loss                                  0.5808\n",
      "ssim_loss                                   0.0843\n",
      "mel_loss                                    0.1602\n",
      "postnet_mel_loss                            0.1601\n",
      "dur_loss                                    0.0288\n",
      "pitch_loss                                  0.1212\n",
      "energy_loss                                 0.0261\n",
      "================================================== \n",
      "\n",
      "\n"
     ]
    },
    {
     "data": {
      "application/vnd.jupyter.widget-view+json": {
       "model_id": "29f3cc605ccc40c59b9ab0c24731ff15",
       "version_major": 2,
       "version_minor": 0
      },
      "text/plain": [
       "  0%|          | 0/687 [00:00<?, ?it/s]"
      ]
     },
     "metadata": {},
     "output_type": "display_data"
    },
    {
     "name": "stdout",
     "output_type": "stream",
     "text": [
      "==================================================\n",
      "Epoch: 228\n",
      "==================================================\n",
      "total_loss                                  0.5842\n",
      "ssim_loss                                   0.0852\n",
      "mel_loss                                    0.1606\n",
      "postnet_mel_loss                            0.1605\n",
      "dur_loss                                    0.0289\n",
      "pitch_loss                                  0.1224\n",
      "energy_loss                                 0.0267\n",
      "================================================== \n",
      "\n",
      "\n"
     ]
    },
    {
     "data": {
      "application/vnd.jupyter.widget-view+json": {
       "model_id": "d5b993dd690a47e7b44b5a6261a43980",
       "version_major": 2,
       "version_minor": 0
      },
      "text/plain": [
       "  0%|          | 0/687 [00:00<?, ?it/s]"
      ]
     },
     "metadata": {},
     "output_type": "display_data"
    },
    {
     "name": "stdout",
     "output_type": "stream",
     "text": [
      "==================================================\n",
      "Epoch: 229\n",
      "==================================================\n",
      "total_loss                                  0.5885\n",
      "ssim_loss                                   0.0852\n",
      "mel_loss                                    0.1624\n",
      "postnet_mel_loss                            0.1624\n",
      "dur_loss                                    0.0291\n",
      "pitch_loss                                  0.1227\n",
      "energy_loss                                 0.0267\n",
      "================================================== \n",
      "\n",
      "\n"
     ]
    },
    {
     "data": {
      "application/vnd.jupyter.widget-view+json": {
       "model_id": "1de92256fd594a159193061a05dc4a39",
       "version_major": 2,
       "version_minor": 0
      },
      "text/plain": [
       "  0%|          | 0/687 [00:00<?, ?it/s]"
      ]
     },
     "metadata": {},
     "output_type": "display_data"
    },
    {
     "name": "stdout",
     "output_type": "stream",
     "text": [
      "==================================================\n",
      "Epoch: 230\n",
      "==================================================\n",
      "total_loss                                  0.5978\n",
      "ssim_loss                                   0.0861\n",
      "mel_loss                                    0.1641\n",
      "postnet_mel_loss                            0.1641\n",
      "dur_loss                                    0.0294\n",
      "pitch_loss                                  0.1264\n",
      "energy_loss                                 0.0278\n",
      "================================================== \n",
      "\n",
      "\n"
     ]
    },
    {
     "data": {
      "application/vnd.jupyter.widget-view+json": {
       "model_id": "e57b05337db74d8999fd1dfdf28a180d",
       "version_major": 2,
       "version_minor": 0
      },
      "text/plain": [
       "  0%|          | 0/687 [00:00<?, ?it/s]"
      ]
     },
     "metadata": {},
     "output_type": "display_data"
    },
    {
     "name": "stdout",
     "output_type": "stream",
     "text": [
      "==================================================\n",
      "Epoch: 231\n",
      "==================================================\n",
      "total_loss                                  0.5956\n",
      "ssim_loss                                   0.0853\n",
      "mel_loss                                    0.1634\n",
      "postnet_mel_loss                            0.1633\n",
      "dur_loss                                    0.0294\n",
      "pitch_loss                                  0.1270\n",
      "energy_loss                                 0.0271\n",
      "================================================== \n",
      "\n",
      "\n"
     ]
    },
    {
     "data": {
      "application/vnd.jupyter.widget-view+json": {
       "model_id": "49b6f5d1e4d7452bbbf563e21fc02271",
       "version_major": 2,
       "version_minor": 0
      },
      "text/plain": [
       "  0%|          | 0/687 [00:00<?, ?it/s]"
      ]
     },
     "metadata": {},
     "output_type": "display_data"
    },
    {
     "name": "stdout",
     "output_type": "stream",
     "text": [
      "==================================================\n",
      "Epoch: 232\n",
      "==================================================\n",
      "total_loss                                  0.5860\n",
      "ssim_loss                                   0.0842\n",
      "mel_loss                                    0.1618\n",
      "postnet_mel_loss                            0.1617\n",
      "dur_loss                                    0.0289\n",
      "pitch_loss                                  0.1227\n",
      "energy_loss                                 0.0267\n",
      "================================================== \n",
      "\n",
      "\n"
     ]
    },
    {
     "data": {
      "application/vnd.jupyter.widget-view+json": {
       "model_id": "f807732abfcd47459c29d1d6211cadb9",
       "version_major": 2,
       "version_minor": 0
      },
      "text/plain": [
       "  0%|          | 0/687 [00:00<?, ?it/s]"
      ]
     },
     "metadata": {},
     "output_type": "display_data"
    },
    {
     "name": "stdout",
     "output_type": "stream",
     "text": [
      "==================================================\n",
      "Epoch: 233\n",
      "==================================================\n",
      "total_loss                                  0.5878\n",
      "ssim_loss                                   0.0849\n",
      "mel_loss                                    0.1616\n",
      "postnet_mel_loss                            0.1615\n",
      "dur_loss                                    0.0287\n",
      "pitch_loss                                  0.1248\n",
      "energy_loss                                 0.0262\n",
      "================================================== \n",
      "\n",
      "\n"
     ]
    },
    {
     "data": {
      "application/vnd.jupyter.widget-view+json": {
       "model_id": "f0b704a41d974854b7c7f5a787292a41",
       "version_major": 2,
       "version_minor": 0
      },
      "text/plain": [
       "  0%|          | 0/687 [00:00<?, ?it/s]"
      ]
     },
     "metadata": {},
     "output_type": "display_data"
    },
    {
     "name": "stdout",
     "output_type": "stream",
     "text": [
      "==================================================\n",
      "Epoch: 234\n",
      "==================================================\n",
      "total_loss                                  0.5912\n",
      "ssim_loss                                   0.0849\n",
      "mel_loss                                    0.1623\n",
      "postnet_mel_loss                            0.1623\n",
      "dur_loss                                    0.0289\n",
      "pitch_loss                                  0.1261\n",
      "energy_loss                                 0.0268\n",
      "================================================== \n",
      "\n",
      "\n"
     ]
    },
    {
     "data": {
      "application/vnd.jupyter.widget-view+json": {
       "model_id": "872b54580db44c65ac39feae378e4442",
       "version_major": 2,
       "version_minor": 0
      },
      "text/plain": [
       "  0%|          | 0/687 [00:00<?, ?it/s]"
      ]
     },
     "metadata": {},
     "output_type": "display_data"
    },
    {
     "name": "stdout",
     "output_type": "stream",
     "text": [
      "==================================================\n",
      "Epoch: 235\n",
      "==================================================\n",
      "total_loss                                  0.5861\n",
      "ssim_loss                                   0.0849\n",
      "mel_loss                                    0.1612\n",
      "postnet_mel_loss                            0.1611\n",
      "dur_loss                                    0.0288\n",
      "pitch_loss                                  0.1234\n",
      "energy_loss                                 0.0266\n",
      "================================================== \n",
      "\n",
      "\n"
     ]
    },
    {
     "data": {
      "application/vnd.jupyter.widget-view+json": {
       "model_id": "6dbb97d0d575469c8a2ee905fdf42ed0",
       "version_major": 2,
       "version_minor": 0
      },
      "text/plain": [
       "  0%|          | 0/687 [00:00<?, ?it/s]"
      ]
     },
     "metadata": {},
     "output_type": "display_data"
    },
    {
     "name": "stdout",
     "output_type": "stream",
     "text": [
      "==================================================\n",
      "Epoch: 236\n",
      "==================================================\n",
      "total_loss                                  0.6123\n",
      "ssim_loss                                   0.0866\n",
      "mel_loss                                    0.1709\n",
      "postnet_mel_loss                            0.1708\n",
      "dur_loss                                    0.0295\n",
      "pitch_loss                                  0.1271\n",
      "energy_loss                                 0.0274\n",
      "================================================== \n",
      "\n",
      "\n"
     ]
    },
    {
     "data": {
      "application/vnd.jupyter.widget-view+json": {
       "model_id": "cadc4c3a65b64035a5da2879f9d2f76b",
       "version_major": 2,
       "version_minor": 0
      },
      "text/plain": [
       "  0%|          | 0/687 [00:00<?, ?it/s]"
      ]
     },
     "metadata": {},
     "output_type": "display_data"
    },
    {
     "name": "stdout",
     "output_type": "stream",
     "text": [
      "==================================================\n",
      "Epoch: 237\n",
      "==================================================\n",
      "total_loss                                  0.5932\n",
      "ssim_loss                                   0.0858\n",
      "mel_loss                                    0.1636\n",
      "postnet_mel_loss                            0.1636\n",
      "dur_loss                                    0.0290\n",
      "pitch_loss                                  0.1244\n",
      "energy_loss                                 0.0269\n",
      "================================================== \n",
      "\n",
      "\n"
     ]
    },
    {
     "data": {
      "application/vnd.jupyter.widget-view+json": {
       "model_id": "e7cb803451e543ff8643df8efe256866",
       "version_major": 2,
       "version_minor": 0
      },
      "text/plain": [
       "  0%|          | 0/687 [00:00<?, ?it/s]"
      ]
     },
     "metadata": {},
     "output_type": "display_data"
    },
    {
     "name": "stdout",
     "output_type": "stream",
     "text": [
      "==================================================\n",
      "Epoch: 238\n",
      "==================================================\n",
      "total_loss                                  0.5846\n",
      "ssim_loss                                   0.0844\n",
      "mel_loss                                    0.1596\n",
      "postnet_mel_loss                            0.1596\n",
      "dur_loss                                    0.0286\n",
      "pitch_loss                                  0.1260\n",
      "energy_loss                                 0.0263\n",
      "================================================== \n",
      "\n",
      "\n"
     ]
    },
    {
     "data": {
      "application/vnd.jupyter.widget-view+json": {
       "model_id": "4c9c3fab2b1a493da46c3289cf91c660",
       "version_major": 2,
       "version_minor": 0
      },
      "text/plain": [
       "  0%|          | 0/687 [00:00<?, ?it/s]"
      ]
     },
     "metadata": {},
     "output_type": "display_data"
    },
    {
     "name": "stdout",
     "output_type": "stream",
     "text": [
      "==================================================\n",
      "Epoch: 239\n",
      "==================================================\n",
      "total_loss                                  0.5791\n",
      "ssim_loss                                   0.0841\n",
      "mel_loss                                    0.1583\n",
      "postnet_mel_loss                            0.1583\n",
      "dur_loss                                    0.0288\n",
      "pitch_loss                                  0.1237\n",
      "energy_loss                                 0.0260\n",
      "================================================== \n",
      "\n",
      "\n"
     ]
    },
    {
     "data": {
      "application/vnd.jupyter.widget-view+json": {
       "model_id": "d3a16dd289514fe68b160297eb3e5e38",
       "version_major": 2,
       "version_minor": 0
      },
      "text/plain": [
       "  0%|          | 0/687 [00:00<?, ?it/s]"
      ]
     },
     "metadata": {},
     "output_type": "display_data"
    },
    {
     "name": "stdout",
     "output_type": "stream",
     "text": [
      "==================================================\n",
      "Epoch: 240\n",
      "==================================================\n",
      "total_loss                                  0.5786\n",
      "ssim_loss                                   0.0837\n",
      "mel_loss                                    0.1592\n",
      "postnet_mel_loss                            0.1591\n",
      "dur_loss                                    0.0287\n",
      "pitch_loss                                  0.1218\n",
      "energy_loss                                 0.0260\n",
      "================================================== \n",
      "\n",
      "\n"
     ]
    },
    {
     "data": {
      "application/vnd.jupyter.widget-view+json": {
       "model_id": "a31ec44e25dc4aaca6ce8eadb4acab83",
       "version_major": 2,
       "version_minor": 0
      },
      "text/plain": [
       "  0%|          | 0/687 [00:00<?, ?it/s]"
      ]
     },
     "metadata": {},
     "output_type": "display_data"
    },
    {
     "name": "stdout",
     "output_type": "stream",
     "text": [
      "==================================================\n",
      "Epoch: 241\n",
      "==================================================\n",
      "total_loss                                  0.5813\n",
      "ssim_loss                                   0.0838\n",
      "mel_loss                                    0.1597\n",
      "postnet_mel_loss                            0.1596\n",
      "dur_loss                                    0.0286\n",
      "pitch_loss                                  0.1234\n",
      "energy_loss                                 0.0263\n",
      "================================================== \n",
      "\n",
      "\n"
     ]
    },
    {
     "data": {
      "application/vnd.jupyter.widget-view+json": {
       "model_id": "abf08d3515ee4cd292e80d2528575a07",
       "version_major": 2,
       "version_minor": 0
      },
      "text/plain": [
       "  0%|          | 0/687 [00:00<?, ?it/s]"
      ]
     },
     "metadata": {},
     "output_type": "display_data"
    },
    {
     "name": "stdout",
     "output_type": "stream",
     "text": [
      "==================================================\n",
      "Epoch: 242\n",
      "==================================================\n",
      "total_loss                                  0.5832\n",
      "ssim_loss                                   0.0837\n",
      "mel_loss                                    0.1607\n",
      "postnet_mel_loss                            0.1607\n",
      "dur_loss                                    0.0286\n",
      "pitch_loss                                  0.1234\n",
      "energy_loss                                 0.0261\n",
      "================================================== \n",
      "\n",
      "\n"
     ]
    },
    {
     "data": {
      "application/vnd.jupyter.widget-view+json": {
       "model_id": "8d1a98d44ad348d5a915234684b40734",
       "version_major": 2,
       "version_minor": 0
      },
      "text/plain": [
       "  0%|          | 0/687 [00:00<?, ?it/s]"
      ]
     },
     "metadata": {},
     "output_type": "display_data"
    },
    {
     "name": "stdout",
     "output_type": "stream",
     "text": [
      "==================================================\n",
      "Epoch: 243\n",
      "==================================================\n",
      "total_loss                                  0.5835\n",
      "ssim_loss                                   0.0843\n",
      "mel_loss                                    0.1600\n",
      "postnet_mel_loss                            0.1599\n",
      "dur_loss                                    0.0286\n",
      "pitch_loss                                  0.1243\n",
      "energy_loss                                 0.0265\n",
      "================================================== \n",
      "\n",
      "\n"
     ]
    },
    {
     "data": {
      "application/vnd.jupyter.widget-view+json": {
       "model_id": "6ef2597cfe8444aab51ac7e06ddf22d6",
       "version_major": 2,
       "version_minor": 0
      },
      "text/plain": [
       "  0%|          | 0/687 [00:00<?, ?it/s]"
      ]
     },
     "metadata": {},
     "output_type": "display_data"
    },
    {
     "name": "stdout",
     "output_type": "stream",
     "text": [
      "==================================================\n",
      "Epoch: 244\n",
      "==================================================\n",
      "total_loss                                  0.5829\n",
      "ssim_loss                                   0.0842\n",
      "mel_loss                                    0.1596\n",
      "postnet_mel_loss                            0.1595\n",
      "dur_loss                                    0.0285\n",
      "pitch_loss                                  0.1250\n",
      "energy_loss                                 0.0261\n",
      "================================================== \n",
      "\n",
      "\n"
     ]
    },
    {
     "data": {
      "application/vnd.jupyter.widget-view+json": {
       "model_id": "86ef73b0c1f54bb397bcd520041dac44",
       "version_major": 2,
       "version_minor": 0
      },
      "text/plain": [
       "  0%|          | 0/687 [00:00<?, ?it/s]"
      ]
     },
     "metadata": {},
     "output_type": "display_data"
    },
    {
     "name": "stdout",
     "output_type": "stream",
     "text": [
      "==================================================\n",
      "Epoch: 245\n",
      "==================================================\n",
      "total_loss                                  0.5869\n",
      "ssim_loss                                   0.0841\n",
      "mel_loss                                    0.1604\n",
      "postnet_mel_loss                            0.1604\n",
      "dur_loss                                    0.0289\n",
      "pitch_loss                                  0.1267\n",
      "energy_loss                                 0.0262\n",
      "================================================== \n",
      "\n",
      "\n"
     ]
    },
    {
     "data": {
      "application/vnd.jupyter.widget-view+json": {
       "model_id": "9f9ae2ffac044c7ba35939a3d93d7ba7",
       "version_major": 2,
       "version_minor": 0
      },
      "text/plain": [
       "  0%|          | 0/687 [00:00<?, ?it/s]"
      ]
     },
     "metadata": {},
     "output_type": "display_data"
    },
    {
     "name": "stdout",
     "output_type": "stream",
     "text": [
      "==================================================\n",
      "Epoch: 246\n",
      "==================================================\n",
      "total_loss                                  0.5948\n",
      "ssim_loss                                   0.0859\n",
      "mel_loss                                    0.1648\n",
      "postnet_mel_loss                            0.1648\n",
      "dur_loss                                    0.0287\n",
      "pitch_loss                                  0.1242\n",
      "energy_loss                                 0.0265\n",
      "================================================== \n",
      "\n",
      "\n"
     ]
    },
    {
     "data": {
      "application/vnd.jupyter.widget-view+json": {
       "model_id": "6ea5b8cc7abe4d6d9f26aef5ece3c7e5",
       "version_major": 2,
       "version_minor": 0
      },
      "text/plain": [
       "  0%|          | 0/687 [00:00<?, ?it/s]"
      ]
     },
     "metadata": {},
     "output_type": "display_data"
    },
    {
     "name": "stdout",
     "output_type": "stream",
     "text": [
      "==================================================\n",
      "Epoch: 247\n",
      "==================================================\n",
      "total_loss                                  0.5789\n",
      "ssim_loss                                   0.0841\n",
      "mel_loss                                    0.1594\n",
      "postnet_mel_loss                            0.1593\n",
      "dur_loss                                    0.0284\n",
      "pitch_loss                                  0.1225\n",
      "energy_loss                                 0.0252\n",
      "================================================== \n",
      "\n",
      "\n"
     ]
    },
    {
     "data": {
      "application/vnd.jupyter.widget-view+json": {
       "model_id": "92c69b7005914953b784a75241fa1edc",
       "version_major": 2,
       "version_minor": 0
      },
      "text/plain": [
       "  0%|          | 0/687 [00:00<?, ?it/s]"
      ]
     },
     "metadata": {},
     "output_type": "display_data"
    },
    {
     "name": "stdout",
     "output_type": "stream",
     "text": [
      "==================================================\n",
      "Epoch: 248\n",
      "==================================================\n",
      "total_loss                                  0.5928\n",
      "ssim_loss                                   0.0853\n",
      "mel_loss                                    0.1646\n",
      "postnet_mel_loss                            0.1646\n",
      "dur_loss                                    0.0286\n",
      "pitch_loss                                  0.1235\n",
      "energy_loss                                 0.0261\n",
      "================================================== \n",
      "\n",
      "\n"
     ]
    },
    {
     "data": {
      "application/vnd.jupyter.widget-view+json": {
       "model_id": "38414d7a75204af3830fca764355e119",
       "version_major": 2,
       "version_minor": 0
      },
      "text/plain": [
       "  0%|          | 0/687 [00:00<?, ?it/s]"
      ]
     },
     "metadata": {},
     "output_type": "display_data"
    },
    {
     "name": "stdout",
     "output_type": "stream",
     "text": [
      "==================================================\n",
      "Epoch: 249\n",
      "==================================================\n",
      "total_loss                                  0.5844\n",
      "ssim_loss                                   0.0846\n",
      "mel_loss                                    0.1608\n",
      "postnet_mel_loss                            0.1607\n",
      "dur_loss                                    0.0289\n",
      "pitch_loss                                  0.1237\n",
      "energy_loss                                 0.0258\n",
      "================================================== \n",
      "\n",
      "\n"
     ]
    },
    {
     "data": {
      "application/vnd.jupyter.widget-view+json": {
       "model_id": "2f07cabee1ce40798d98860d3fc4bb70",
       "version_major": 2,
       "version_minor": 0
      },
      "text/plain": [
       "  0%|          | 0/687 [00:00<?, ?it/s]"
      ]
     },
     "metadata": {},
     "output_type": "display_data"
    },
    {
     "name": "stdout",
     "output_type": "stream",
     "text": [
      "==================================================\n",
      "Epoch: 250\n",
      "==================================================\n",
      "total_loss                                  0.5732\n",
      "ssim_loss                                   0.0827\n",
      "mel_loss                                    0.1568\n",
      "postnet_mel_loss                            0.1567\n",
      "dur_loss                                    0.0282\n",
      "pitch_loss                                  0.1236\n",
      "energy_loss                                 0.0253\n",
      "================================================== \n",
      "\n",
      "\n"
     ]
    },
    {
     "data": {
      "application/vnd.jupyter.widget-view+json": {
       "model_id": "d8089fdbfbef4cf19117c976ead74df3",
       "version_major": 2,
       "version_minor": 0
      },
      "text/plain": [
       "  0%|          | 0/687 [00:00<?, ?it/s]"
      ]
     },
     "metadata": {},
     "output_type": "display_data"
    },
    {
     "name": "stdout",
     "output_type": "stream",
     "text": [
      "==================================================\n",
      "Epoch: 251\n",
      "==================================================\n",
      "total_loss                                  0.5759\n",
      "ssim_loss                                   0.0831\n",
      "mel_loss                                    0.1573\n",
      "postnet_mel_loss                            0.1572\n",
      "dur_loss                                    0.0282\n",
      "pitch_loss                                  0.1244\n",
      "energy_loss                                 0.0259\n",
      "================================================== \n",
      "\n",
      "\n"
     ]
    },
    {
     "data": {
      "application/vnd.jupyter.widget-view+json": {
       "model_id": "ea2041270d4d4a0d95eff2baaf85fa5e",
       "version_major": 2,
       "version_minor": 0
      },
      "text/plain": [
       "  0%|          | 0/687 [00:00<?, ?it/s]"
      ]
     },
     "metadata": {},
     "output_type": "display_data"
    },
    {
     "name": "stdout",
     "output_type": "stream",
     "text": [
      "==================================================\n",
      "Epoch: 252\n",
      "==================================================\n",
      "total_loss                                  0.5745\n",
      "ssim_loss                                   0.0831\n",
      "mel_loss                                    0.1582\n",
      "postnet_mel_loss                            0.1581\n",
      "dur_loss                                    0.0282\n",
      "pitch_loss                                  0.1212\n",
      "energy_loss                                 0.0258\n",
      "================================================== \n",
      "\n",
      "\n"
     ]
    },
    {
     "data": {
      "application/vnd.jupyter.widget-view+json": {
       "model_id": "cda6d3a4fb1d42f6a7850df999cd9f35",
       "version_major": 2,
       "version_minor": 0
      },
      "text/plain": [
       "  0%|          | 0/687 [00:00<?, ?it/s]"
      ]
     },
     "metadata": {},
     "output_type": "display_data"
    },
    {
     "name": "stdout",
     "output_type": "stream",
     "text": [
      "==================================================\n",
      "Epoch: 253\n",
      "==================================================\n",
      "total_loss                                  0.5759\n",
      "ssim_loss                                   0.0835\n",
      "mel_loss                                    0.1581\n",
      "postnet_mel_loss                            0.1580\n",
      "dur_loss                                    0.0283\n",
      "pitch_loss                                  0.1228\n",
      "energy_loss                                 0.0250\n",
      "================================================== \n",
      "\n",
      "\n"
     ]
    },
    {
     "data": {
      "application/vnd.jupyter.widget-view+json": {
       "model_id": "7955db384091439a9e80a42eae760593",
       "version_major": 2,
       "version_minor": 0
      },
      "text/plain": [
       "  0%|          | 0/687 [00:00<?, ?it/s]"
      ]
     },
     "metadata": {},
     "output_type": "display_data"
    },
    {
     "name": "stdout",
     "output_type": "stream",
     "text": [
      "==================================================\n",
      "Epoch: 254\n",
      "==================================================\n",
      "total_loss                                  0.5736\n",
      "ssim_loss                                   0.0830\n",
      "mel_loss                                    0.1580\n",
      "postnet_mel_loss                            0.1579\n",
      "dur_loss                                    0.0281\n",
      "pitch_loss                                  0.1213\n",
      "energy_loss                                 0.0253\n",
      "================================================== \n",
      "\n",
      "\n"
     ]
    },
    {
     "data": {
      "application/vnd.jupyter.widget-view+json": {
       "model_id": "4b55b23331b3495e98a5a498cd093145",
       "version_major": 2,
       "version_minor": 0
      },
      "text/plain": [
       "  0%|          | 0/687 [00:00<?, ?it/s]"
      ]
     },
     "metadata": {},
     "output_type": "display_data"
    },
    {
     "name": "stdout",
     "output_type": "stream",
     "text": [
      "==================================================\n",
      "Epoch: 255\n",
      "==================================================\n",
      "total_loss                                  0.5699\n",
      "ssim_loss                                   0.0828\n",
      "mel_loss                                    0.1570\n",
      "postnet_mel_loss                            0.1569\n",
      "dur_loss                                    0.0280\n",
      "pitch_loss                                  0.1204\n",
      "energy_loss                                 0.0248\n",
      "================================================== \n",
      "\n",
      "\n"
     ]
    },
    {
     "data": {
      "application/vnd.jupyter.widget-view+json": {
       "model_id": "589d5a0641b944fc8b692019bf524627",
       "version_major": 2,
       "version_minor": 0
      },
      "text/plain": [
       "  0%|          | 0/687 [00:00<?, ?it/s]"
      ]
     },
     "metadata": {},
     "output_type": "display_data"
    },
    {
     "name": "stdout",
     "output_type": "stream",
     "text": [
      "==================================================\n",
      "Epoch: 256\n",
      "==================================================\n",
      "total_loss                                  0.5700\n",
      "ssim_loss                                   0.0823\n",
      "mel_loss                                    0.1571\n",
      "postnet_mel_loss                            0.1571\n",
      "dur_loss                                    0.0281\n",
      "pitch_loss                                  0.1205\n",
      "energy_loss                                 0.0249\n",
      "================================================== \n",
      "\n",
      "\n"
     ]
    },
    {
     "data": {
      "application/vnd.jupyter.widget-view+json": {
       "model_id": "ed622946a8e645af8a221f4a7e1b48c4",
       "version_major": 2,
       "version_minor": 0
      },
      "text/plain": [
       "  0%|          | 0/687 [00:00<?, ?it/s]"
      ]
     },
     "metadata": {},
     "output_type": "display_data"
    },
    {
     "name": "stdout",
     "output_type": "stream",
     "text": [
      "==================================================\n",
      "Epoch: 257\n",
      "==================================================\n",
      "total_loss                                  0.5754\n",
      "ssim_loss                                   0.0830\n",
      "mel_loss                                    0.1570\n",
      "postnet_mel_loss                            0.1569\n",
      "dur_loss                                    0.0282\n",
      "pitch_loss                                  0.1248\n",
      "energy_loss                                 0.0255\n",
      "================================================== \n",
      "\n",
      "\n"
     ]
    },
    {
     "data": {
      "application/vnd.jupyter.widget-view+json": {
       "model_id": "1824a35ff1194669ae5bac1b801a50f5",
       "version_major": 2,
       "version_minor": 0
      },
      "text/plain": [
       "  0%|          | 0/687 [00:00<?, ?it/s]"
      ]
     },
     "metadata": {},
     "output_type": "display_data"
    },
    {
     "name": "stdout",
     "output_type": "stream",
     "text": [
      "==================================================\n",
      "Epoch: 258\n",
      "==================================================\n",
      "total_loss                                  0.5797\n",
      "ssim_loss                                   0.0838\n",
      "mel_loss                                    0.1593\n",
      "postnet_mel_loss                            0.1592\n",
      "dur_loss                                    0.0282\n",
      "pitch_loss                                  0.1239\n",
      "energy_loss                                 0.0253\n",
      "================================================== \n",
      "\n",
      "\n"
     ]
    },
    {
     "data": {
      "application/vnd.jupyter.widget-view+json": {
       "model_id": "022e94feba7942f284637af2ffe6f0e2",
       "version_major": 2,
       "version_minor": 0
      },
      "text/plain": [
       "  0%|          | 0/687 [00:00<?, ?it/s]"
      ]
     },
     "metadata": {},
     "output_type": "display_data"
    },
    {
     "name": "stdout",
     "output_type": "stream",
     "text": [
      "==================================================\n",
      "Epoch: 259\n",
      "==================================================\n",
      "total_loss                                  0.5776\n",
      "ssim_loss                                   0.0834\n",
      "mel_loss                                    0.1590\n",
      "postnet_mel_loss                            0.1589\n",
      "dur_loss                                    0.0282\n",
      "pitch_loss                                  0.1227\n",
      "energy_loss                                 0.0255\n",
      "================================================== \n",
      "\n",
      "\n"
     ]
    },
    {
     "data": {
      "application/vnd.jupyter.widget-view+json": {
       "model_id": "f5b8d10de2f14be68e15787f9c9e6f7c",
       "version_major": 2,
       "version_minor": 0
      },
      "text/plain": [
       "  0%|          | 0/687 [00:00<?, ?it/s]"
      ]
     },
     "metadata": {},
     "output_type": "display_data"
    },
    {
     "name": "stdout",
     "output_type": "stream",
     "text": [
      "==================================================\n",
      "Epoch: 260\n",
      "==================================================\n",
      "total_loss                                  0.5721\n",
      "ssim_loss                                   0.0830\n",
      "mel_loss                                    0.1565\n",
      "postnet_mel_loss                            0.1564\n",
      "dur_loss                                    0.0281\n",
      "pitch_loss                                  0.1227\n",
      "energy_loss                                 0.0254\n",
      "================================================== \n",
      "\n",
      "\n"
     ]
    },
    {
     "data": {
      "application/vnd.jupyter.widget-view+json": {
       "model_id": "f53bd8d46f65450aa6fb7ad2909384a2",
       "version_major": 2,
       "version_minor": 0
      },
      "text/plain": [
       "  0%|          | 0/687 [00:00<?, ?it/s]"
      ]
     },
     "metadata": {},
     "output_type": "display_data"
    },
    {
     "name": "stdout",
     "output_type": "stream",
     "text": [
      "==================================================\n",
      "Epoch: 261\n",
      "==================================================\n",
      "total_loss                                  0.5675\n",
      "ssim_loss                                   0.0818\n",
      "mel_loss                                    0.1557\n",
      "postnet_mel_loss                            0.1556\n",
      "dur_loss                                    0.0280\n",
      "pitch_loss                                  0.1213\n",
      "energy_loss                                 0.0251\n",
      "================================================== \n",
      "\n",
      "\n"
     ]
    },
    {
     "data": {
      "application/vnd.jupyter.widget-view+json": {
       "model_id": "6e1c13144e3c4adf8a23f85389749dc6",
       "version_major": 2,
       "version_minor": 0
      },
      "text/plain": [
       "  0%|          | 0/687 [00:00<?, ?it/s]"
      ]
     },
     "metadata": {},
     "output_type": "display_data"
    },
    {
     "name": "stdout",
     "output_type": "stream",
     "text": [
      "==================================================\n",
      "Epoch: 262\n",
      "==================================================\n",
      "total_loss                                  0.5721\n",
      "ssim_loss                                   0.0829\n",
      "mel_loss                                    0.1559\n",
      "postnet_mel_loss                            0.1558\n",
      "dur_loss                                    0.0281\n",
      "pitch_loss                                  0.1247\n",
      "energy_loss                                 0.0247\n",
      "================================================== \n",
      "\n",
      "\n"
     ]
    },
    {
     "data": {
      "application/vnd.jupyter.widget-view+json": {
       "model_id": "2255b3d2e6eb450f99c8281498f5dd92",
       "version_major": 2,
       "version_minor": 0
      },
      "text/plain": [
       "  0%|          | 0/687 [00:00<?, ?it/s]"
      ]
     },
     "metadata": {},
     "output_type": "display_data"
    },
    {
     "name": "stdout",
     "output_type": "stream",
     "text": [
      "==================================================\n",
      "Epoch: 263\n",
      "==================================================\n",
      "total_loss                                  0.5686\n",
      "ssim_loss                                   0.0822\n",
      "mel_loss                                    0.1550\n",
      "postnet_mel_loss                            0.1549\n",
      "dur_loss                                    0.0276\n",
      "pitch_loss                                  0.1245\n",
      "energy_loss                                 0.0244\n",
      "================================================== \n",
      "\n",
      "\n"
     ]
    },
    {
     "data": {
      "application/vnd.jupyter.widget-view+json": {
       "model_id": "204de72d06a841a9a9321dacf858ad01",
       "version_major": 2,
       "version_minor": 0
      },
      "text/plain": [
       "  0%|          | 0/687 [00:00<?, ?it/s]"
      ]
     },
     "metadata": {},
     "output_type": "display_data"
    },
    {
     "name": "stdout",
     "output_type": "stream",
     "text": [
      "==================================================\n",
      "Epoch: 264\n",
      "==================================================\n",
      "total_loss                                  0.5660\n",
      "ssim_loss                                   0.0817\n",
      "mel_loss                                    0.1551\n",
      "postnet_mel_loss                            0.1550\n",
      "dur_loss                                    0.0278\n",
      "pitch_loss                                  0.1219\n",
      "energy_loss                                 0.0246\n",
      "================================================== \n",
      "\n",
      "\n"
     ]
    },
    {
     "data": {
      "application/vnd.jupyter.widget-view+json": {
       "model_id": "121105a244504b198638e5fbcb521e56",
       "version_major": 2,
       "version_minor": 0
      },
      "text/plain": [
       "  0%|          | 0/687 [00:00<?, ?it/s]"
      ]
     },
     "metadata": {},
     "output_type": "display_data"
    },
    {
     "name": "stdout",
     "output_type": "stream",
     "text": [
      "==================================================\n",
      "Epoch: 265\n",
      "==================================================\n",
      "total_loss                                  0.5682\n",
      "ssim_loss                                   0.0823\n",
      "mel_loss                                    0.1554\n",
      "postnet_mel_loss                            0.1553\n",
      "dur_loss                                    0.0277\n",
      "pitch_loss                                  0.1228\n",
      "energy_loss                                 0.0248\n",
      "================================================== \n",
      "\n",
      "\n"
     ]
    },
    {
     "data": {
      "application/vnd.jupyter.widget-view+json": {
       "model_id": "815868bc36b548889efc1e01dc818227",
       "version_major": 2,
       "version_minor": 0
      },
      "text/plain": [
       "  0%|          | 0/687 [00:00<?, ?it/s]"
      ]
     },
     "metadata": {},
     "output_type": "display_data"
    },
    {
     "name": "stdout",
     "output_type": "stream",
     "text": [
      "==================================================\n",
      "Epoch: 266\n",
      "==================================================\n",
      "total_loss                                  0.5757\n",
      "ssim_loss                                   0.0827\n",
      "mel_loss                                    0.1590\n",
      "postnet_mel_loss                            0.1589\n",
      "dur_loss                                    0.0282\n",
      "pitch_loss                                  0.1214\n",
      "energy_loss                                 0.0256\n",
      "================================================== \n",
      "\n",
      "\n"
     ]
    },
    {
     "data": {
      "application/vnd.jupyter.widget-view+json": {
       "model_id": "1e621a2b1e9e4443962985ade4c5cead",
       "version_major": 2,
       "version_minor": 0
      },
      "text/plain": [
       "  0%|          | 0/687 [00:00<?, ?it/s]"
      ]
     },
     "metadata": {},
     "output_type": "display_data"
    },
    {
     "name": "stdout",
     "output_type": "stream",
     "text": [
      "==================================================\n",
      "Epoch: 267\n",
      "==================================================\n",
      "total_loss                                  0.5698\n",
      "ssim_loss                                   0.0823\n",
      "mel_loss                                    0.1559\n",
      "postnet_mel_loss                            0.1558\n",
      "dur_loss                                    0.0278\n",
      "pitch_loss                                  0.1234\n",
      "energy_loss                                 0.0246\n",
      "================================================== \n",
      "\n",
      "\n"
     ]
    },
    {
     "data": {
      "application/vnd.jupyter.widget-view+json": {
       "model_id": "fc15bdc10b6b40c68446b9c9839af253",
       "version_major": 2,
       "version_minor": 0
      },
      "text/plain": [
       "  0%|          | 0/687 [00:00<?, ?it/s]"
      ]
     },
     "metadata": {},
     "output_type": "display_data"
    },
    {
     "name": "stdout",
     "output_type": "stream",
     "text": [
      "==================================================\n",
      "Epoch: 268\n",
      "==================================================\n",
      "total_loss                                  0.5639\n",
      "ssim_loss                                   0.0819\n",
      "mel_loss                                    0.1548\n",
      "postnet_mel_loss                            0.1547\n",
      "dur_loss                                    0.0277\n",
      "pitch_loss                                  0.1201\n",
      "energy_loss                                 0.0247\n",
      "================================================== \n",
      "\n",
      "\n"
     ]
    },
    {
     "data": {
      "application/vnd.jupyter.widget-view+json": {
       "model_id": "f4ed3d09a8b44ec9a8ccc8ca87b29534",
       "version_major": 2,
       "version_minor": 0
      },
      "text/plain": [
       "  0%|          | 0/687 [00:00<?, ?it/s]"
      ]
     },
     "metadata": {},
     "output_type": "display_data"
    },
    {
     "name": "stdout",
     "output_type": "stream",
     "text": [
      "==================================================\n",
      "Epoch: 269\n",
      "==================================================\n",
      "total_loss                                  0.5637\n",
      "ssim_loss                                   0.0819\n",
      "mel_loss                                    0.1547\n",
      "postnet_mel_loss                            0.1546\n",
      "dur_loss                                    0.0276\n",
      "pitch_loss                                  0.1199\n",
      "energy_loss                                 0.0250\n",
      "================================================== \n",
      "\n",
      "\n"
     ]
    },
    {
     "data": {
      "application/vnd.jupyter.widget-view+json": {
       "model_id": "183790e63bf74465b39fa65bf49f0cd5",
       "version_major": 2,
       "version_minor": 0
      },
      "text/plain": [
       "  0%|          | 0/687 [00:00<?, ?it/s]"
      ]
     },
     "metadata": {},
     "output_type": "display_data"
    },
    {
     "name": "stdout",
     "output_type": "stream",
     "text": [
      "==================================================\n",
      "Epoch: 270\n",
      "==================================================\n",
      "total_loss                                  0.5654\n",
      "ssim_loss                                   0.0818\n",
      "mel_loss                                    0.1547\n",
      "postnet_mel_loss                            0.1546\n",
      "dur_loss                                    0.0278\n",
      "pitch_loss                                  0.1215\n",
      "energy_loss                                 0.0249\n",
      "================================================== \n",
      "\n",
      "\n"
     ]
    },
    {
     "data": {
      "application/vnd.jupyter.widget-view+json": {
       "model_id": "2422d3882bab405185aaa843e0222a9f",
       "version_major": 2,
       "version_minor": 0
      },
      "text/plain": [
       "  0%|          | 0/687 [00:00<?, ?it/s]"
      ]
     },
     "metadata": {},
     "output_type": "display_data"
    },
    {
     "name": "stdout",
     "output_type": "stream",
     "text": [
      "==================================================\n",
      "Epoch: 271\n",
      "==================================================\n",
      "total_loss                                  0.5648\n",
      "ssim_loss                                   0.0817\n",
      "mel_loss                                    0.1541\n",
      "postnet_mel_loss                            0.1540\n",
      "dur_loss                                    0.0276\n",
      "pitch_loss                                  0.1224\n",
      "energy_loss                                 0.0249\n",
      "================================================== \n",
      "\n",
      "\n"
     ]
    },
    {
     "data": {
      "application/vnd.jupyter.widget-view+json": {
       "model_id": "7da6b3dd3eea43dd8a1151ec1ef40389",
       "version_major": 2,
       "version_minor": 0
      },
      "text/plain": [
       "  0%|          | 0/687 [00:00<?, ?it/s]"
      ]
     },
     "metadata": {},
     "output_type": "display_data"
    },
    {
     "name": "stdout",
     "output_type": "stream",
     "text": [
      "==================================================\n",
      "Epoch: 272\n",
      "==================================================\n",
      "total_loss                                  0.5636\n",
      "ssim_loss                                   0.0815\n",
      "mel_loss                                    0.1539\n",
      "postnet_mel_loss                            0.1538\n",
      "dur_loss                                    0.0276\n",
      "pitch_loss                                  0.1223\n",
      "energy_loss                                 0.0244\n",
      "================================================== \n",
      "\n",
      "\n"
     ]
    },
    {
     "data": {
      "application/vnd.jupyter.widget-view+json": {
       "model_id": "183c6930b6e543ad81405136e362ad48",
       "version_major": 2,
       "version_minor": 0
      },
      "text/plain": [
       "  0%|          | 0/687 [00:00<?, ?it/s]"
      ]
     },
     "metadata": {},
     "output_type": "display_data"
    },
    {
     "name": "stdout",
     "output_type": "stream",
     "text": [
      "==================================================\n",
      "Epoch: 273\n",
      "==================================================\n",
      "total_loss                                  0.5633\n",
      "ssim_loss                                   0.0818\n",
      "mel_loss                                    0.1541\n",
      "postnet_mel_loss                            0.1539\n",
      "dur_loss                                    0.0277\n",
      "pitch_loss                                  0.1211\n",
      "energy_loss                                 0.0247\n",
      "================================================== \n",
      "\n",
      "\n"
     ]
    },
    {
     "data": {
      "application/vnd.jupyter.widget-view+json": {
       "model_id": "1a637791a8594d988285445ee7d7935c",
       "version_major": 2,
       "version_minor": 0
      },
      "text/plain": [
       "  0%|          | 0/687 [00:00<?, ?it/s]"
      ]
     },
     "metadata": {},
     "output_type": "display_data"
    },
    {
     "name": "stdout",
     "output_type": "stream",
     "text": [
      "==================================================\n",
      "Epoch: 274\n",
      "==================================================\n",
      "total_loss                                  0.5613\n",
      "ssim_loss                                   0.0809\n",
      "mel_loss                                    0.1539\n",
      "postnet_mel_loss                            0.1538\n",
      "dur_loss                                    0.0275\n",
      "pitch_loss                                  0.1205\n",
      "energy_loss                                 0.0246\n",
      "================================================== \n",
      "\n",
      "\n"
     ]
    },
    {
     "data": {
      "application/vnd.jupyter.widget-view+json": {
       "model_id": "1c524badbbc34f609469ace2dca332c4",
       "version_major": 2,
       "version_minor": 0
      },
      "text/plain": [
       "  0%|          | 0/687 [00:00<?, ?it/s]"
      ]
     },
     "metadata": {},
     "output_type": "display_data"
    },
    {
     "name": "stdout",
     "output_type": "stream",
     "text": [
      "==================================================\n",
      "Epoch: 275\n",
      "==================================================\n",
      "total_loss                                  0.5627\n",
      "ssim_loss                                   0.0812\n",
      "mel_loss                                    0.1533\n",
      "postnet_mel_loss                            0.1532\n",
      "dur_loss                                    0.0277\n",
      "pitch_loss                                  0.1224\n",
      "energy_loss                                 0.0248\n",
      "================================================== \n",
      "\n",
      "\n"
     ]
    },
    {
     "data": {
      "application/vnd.jupyter.widget-view+json": {
       "model_id": "9f585a7ab36b4e1aa077371621c4293f",
       "version_major": 2,
       "version_minor": 0
      },
      "text/plain": [
       "  0%|          | 0/687 [00:00<?, ?it/s]"
      ]
     },
     "metadata": {},
     "output_type": "display_data"
    },
    {
     "name": "stdout",
     "output_type": "stream",
     "text": [
      "==================================================\n",
      "Epoch: 276\n",
      "==================================================\n",
      "total_loss                                  0.5610\n",
      "ssim_loss                                   0.0813\n",
      "mel_loss                                    0.1534\n",
      "postnet_mel_loss                            0.1532\n",
      "dur_loss                                    0.0275\n",
      "pitch_loss                                  0.1213\n",
      "energy_loss                                 0.0243\n",
      "================================================== \n",
      "\n",
      "\n"
     ]
    },
    {
     "data": {
      "application/vnd.jupyter.widget-view+json": {
       "model_id": "2bd81bde24ba4c219dc685376d4eae57",
       "version_major": 2,
       "version_minor": 0
      },
      "text/plain": [
       "  0%|          | 0/687 [00:00<?, ?it/s]"
      ]
     },
     "metadata": {},
     "output_type": "display_data"
    },
    {
     "name": "stdout",
     "output_type": "stream",
     "text": [
      "==================================================\n",
      "Epoch: 277\n",
      "==================================================\n",
      "total_loss                                  0.5590\n",
      "ssim_loss                                   0.0809\n",
      "mel_loss                                    0.1530\n",
      "postnet_mel_loss                            0.1529\n",
      "dur_loss                                    0.0273\n",
      "pitch_loss                                  0.1207\n",
      "energy_loss                                 0.0241\n",
      "================================================== \n",
      "\n",
      "\n"
     ]
    },
    {
     "data": {
      "application/vnd.jupyter.widget-view+json": {
       "model_id": "b23d9df4ed564753bd5c22f25f86ae93",
       "version_major": 2,
       "version_minor": 0
      },
      "text/plain": [
       "  0%|          | 0/687 [00:00<?, ?it/s]"
      ]
     },
     "metadata": {},
     "output_type": "display_data"
    },
    {
     "name": "stdout",
     "output_type": "stream",
     "text": [
      "==================================================\n",
      "Epoch: 278\n",
      "==================================================\n",
      "total_loss                                  0.5622\n",
      "ssim_loss                                   0.0816\n",
      "mel_loss                                    0.1540\n",
      "postnet_mel_loss                            0.1539\n",
      "dur_loss                                    0.0275\n",
      "pitch_loss                                  0.1207\n",
      "energy_loss                                 0.0246\n",
      "================================================== \n",
      "\n",
      "\n"
     ]
    },
    {
     "data": {
      "application/vnd.jupyter.widget-view+json": {
       "model_id": "3543ed36d5174311bc39ba663a47c9c5",
       "version_major": 2,
       "version_minor": 0
      },
      "text/plain": [
       "  0%|          | 0/687 [00:00<?, ?it/s]"
      ]
     },
     "metadata": {},
     "output_type": "display_data"
    },
    {
     "name": "stdout",
     "output_type": "stream",
     "text": [
      "==================================================\n",
      "Epoch: 279\n",
      "==================================================\n",
      "total_loss                                  0.5598\n",
      "ssim_loss                                   0.0813\n",
      "mel_loss                                    0.1532\n",
      "postnet_mel_loss                            0.1531\n",
      "dur_loss                                    0.0273\n",
      "pitch_loss                                  0.1207\n",
      "energy_loss                                 0.0243\n",
      "================================================== \n",
      "\n",
      "\n"
     ]
    },
    {
     "data": {
      "application/vnd.jupyter.widget-view+json": {
       "model_id": "f7f752e77344441aa9e9745183436df2",
       "version_major": 2,
       "version_minor": 0
      },
      "text/plain": [
       "  0%|          | 0/687 [00:00<?, ?it/s]"
      ]
     },
     "metadata": {},
     "output_type": "display_data"
    },
    {
     "name": "stdout",
     "output_type": "stream",
     "text": [
      "==================================================\n",
      "Epoch: 280\n",
      "==================================================\n",
      "total_loss                                  0.5549\n",
      "ssim_loss                                   0.0811\n",
      "mel_loss                                    0.1525\n",
      "postnet_mel_loss                            0.1524\n",
      "dur_loss                                    0.0273\n",
      "pitch_loss                                  0.1178\n",
      "energy_loss                                 0.0239\n",
      "================================================== \n",
      "\n",
      "\n"
     ]
    },
    {
     "data": {
      "application/vnd.jupyter.widget-view+json": {
       "model_id": "f77c110afd70419080a47b31476a29e0",
       "version_major": 2,
       "version_minor": 0
      },
      "text/plain": [
       "  0%|          | 0/687 [00:00<?, ?it/s]"
      ]
     },
     "metadata": {},
     "output_type": "display_data"
    },
    {
     "name": "stdout",
     "output_type": "stream",
     "text": [
      "==================================================\n",
      "Epoch: 281\n",
      "==================================================\n",
      "total_loss                                  0.5588\n",
      "ssim_loss                                   0.0805\n",
      "mel_loss                                    0.1527\n",
      "postnet_mel_loss                            0.1526\n",
      "dur_loss                                    0.0275\n",
      "pitch_loss                                  0.1212\n",
      "energy_loss                                 0.0243\n",
      "================================================== \n",
      "\n",
      "\n"
     ]
    },
    {
     "data": {
      "application/vnd.jupyter.widget-view+json": {
       "model_id": "61d005f88f314fd38b1f1ea61889429c",
       "version_major": 2,
       "version_minor": 0
      },
      "text/plain": [
       "  0%|          | 0/687 [00:00<?, ?it/s]"
      ]
     },
     "metadata": {},
     "output_type": "display_data"
    },
    {
     "name": "stdout",
     "output_type": "stream",
     "text": [
      "==================================================\n",
      "Epoch: 282\n",
      "==================================================\n",
      "total_loss                                  0.5600\n",
      "ssim_loss                                   0.0803\n",
      "mel_loss                                    0.1527\n",
      "postnet_mel_loss                            0.1526\n",
      "dur_loss                                    0.0275\n",
      "pitch_loss                                  0.1229\n",
      "energy_loss                                 0.0240\n",
      "================================================== \n",
      "\n",
      "\n"
     ]
    },
    {
     "data": {
      "application/vnd.jupyter.widget-view+json": {
       "model_id": "13f299c4e9204b2ea194453731791c61",
       "version_major": 2,
       "version_minor": 0
      },
      "text/plain": [
       "  0%|          | 0/687 [00:00<?, ?it/s]"
      ]
     },
     "metadata": {},
     "output_type": "display_data"
    },
    {
     "name": "stdout",
     "output_type": "stream",
     "text": [
      "==================================================\n",
      "Epoch: 283\n",
      "==================================================\n",
      "total_loss                                  0.5599\n",
      "ssim_loss                                   0.0810\n",
      "mel_loss                                    0.1531\n",
      "postnet_mel_loss                            0.1531\n",
      "dur_loss                                    0.0275\n",
      "pitch_loss                                  0.1211\n",
      "energy_loss                                 0.0241\n",
      "================================================== \n",
      "\n",
      "\n"
     ]
    },
    {
     "data": {
      "application/vnd.jupyter.widget-view+json": {
       "model_id": "f963e99228ed4f3d862877a6c0d18112",
       "version_major": 2,
       "version_minor": 0
      },
      "text/plain": [
       "  0%|          | 0/687 [00:00<?, ?it/s]"
      ]
     },
     "metadata": {},
     "output_type": "display_data"
    },
    {
     "name": "stdout",
     "output_type": "stream",
     "text": [
      "==================================================\n",
      "Epoch: 284\n",
      "==================================================\n",
      "total_loss                                  0.5536\n",
      "ssim_loss                                   0.0802\n",
      "mel_loss                                    0.1519\n",
      "postnet_mel_loss                            0.1518\n",
      "dur_loss                                    0.0272\n",
      "pitch_loss                                  0.1189\n",
      "energy_loss                                 0.0237\n",
      "================================================== \n",
      "\n",
      "\n"
     ]
    },
    {
     "data": {
      "application/vnd.jupyter.widget-view+json": {
       "model_id": "df3bfd2e8d684a749571e7135ef9a2b7",
       "version_major": 2,
       "version_minor": 0
      },
      "text/plain": [
       "  0%|          | 0/687 [00:00<?, ?it/s]"
      ]
     },
     "metadata": {},
     "output_type": "display_data"
    },
    {
     "name": "stdout",
     "output_type": "stream",
     "text": [
      "==================================================\n",
      "Epoch: 285\n",
      "==================================================\n",
      "total_loss                                  0.5586\n",
      "ssim_loss                                   0.0806\n",
      "mel_loss                                    0.1526\n",
      "postnet_mel_loss                            0.1525\n",
      "dur_loss                                    0.0272\n",
      "pitch_loss                                  0.1218\n",
      "energy_loss                                 0.0241\n",
      "================================================== \n",
      "\n",
      "\n"
     ]
    },
    {
     "data": {
      "application/vnd.jupyter.widget-view+json": {
       "model_id": "acc5ff3fd4094c0b920e256ac2c7c68d",
       "version_major": 2,
       "version_minor": 0
      },
      "text/plain": [
       "  0%|          | 0/687 [00:00<?, ?it/s]"
      ]
     },
     "metadata": {},
     "output_type": "display_data"
    },
    {
     "name": "stdout",
     "output_type": "stream",
     "text": [
      "==================================================\n",
      "Epoch: 286\n",
      "==================================================\n",
      "total_loss                                  0.5492\n",
      "ssim_loss                                   0.0800\n",
      "mel_loss                                    0.1510\n",
      "postnet_mel_loss                            0.1508\n",
      "dur_loss                                    0.0268\n",
      "pitch_loss                                  0.1173\n",
      "energy_loss                                 0.0233\n",
      "================================================== \n",
      "\n",
      "\n"
     ]
    },
    {
     "data": {
      "application/vnd.jupyter.widget-view+json": {
       "model_id": "0e73d62af40746d9bf601cb771a9f370",
       "version_major": 2,
       "version_minor": 0
      },
      "text/plain": [
       "  0%|          | 0/687 [00:00<?, ?it/s]"
      ]
     },
     "metadata": {},
     "output_type": "display_data"
    },
    {
     "name": "stdout",
     "output_type": "stream",
     "text": [
      "==================================================\n",
      "Epoch: 287\n",
      "==================================================\n",
      "total_loss                                  0.5537\n",
      "ssim_loss                                   0.0808\n",
      "mel_loss                                    0.1514\n",
      "postnet_mel_loss                            0.1513\n",
      "dur_loss                                    0.0270\n",
      "pitch_loss                                  0.1197\n",
      "energy_loss                                 0.0236\n",
      "================================================== \n",
      "\n",
      "\n"
     ]
    },
    {
     "data": {
      "application/vnd.jupyter.widget-view+json": {
       "model_id": "0a9899eeaa52427fbda5c49a60beeb60",
       "version_major": 2,
       "version_minor": 0
      },
      "text/plain": [
       "  0%|          | 0/687 [00:00<?, ?it/s]"
      ]
     },
     "metadata": {},
     "output_type": "display_data"
    },
    {
     "name": "stdout",
     "output_type": "stream",
     "text": [
      "==================================================\n",
      "Epoch: 288\n",
      "==================================================\n",
      "total_loss                                  0.5817\n",
      "ssim_loss                                   0.0833\n",
      "mel_loss                                    0.1635\n",
      "postnet_mel_loss                            0.1634\n",
      "dur_loss                                    0.0276\n",
      "pitch_loss                                  0.1200\n",
      "energy_loss                                 0.0240\n",
      "================================================== \n",
      "\n",
      "\n"
     ]
    },
    {
     "data": {
      "application/vnd.jupyter.widget-view+json": {
       "model_id": "cb32f2c32ca44fccab8c4e41fb6cd6b1",
       "version_major": 2,
       "version_minor": 0
      },
      "text/plain": [
       "  0%|          | 0/687 [00:00<?, ?it/s]"
      ]
     },
     "metadata": {},
     "output_type": "display_data"
    },
    {
     "name": "stdout",
     "output_type": "stream",
     "text": [
      "==================================================\n",
      "Epoch: 289\n",
      "==================================================\n",
      "total_loss                                  0.5601\n",
      "ssim_loss                                   0.0816\n",
      "mel_loss                                    0.1553\n",
      "postnet_mel_loss                            0.1552\n",
      "dur_loss                                    0.0272\n",
      "pitch_loss                                  0.1176\n",
      "energy_loss                                 0.0233\n",
      "================================================== \n",
      "\n",
      "\n"
     ]
    },
    {
     "data": {
      "application/vnd.jupyter.widget-view+json": {
       "model_id": "bb88600cb8354fbca7f1408e5e02ec77",
       "version_major": 2,
       "version_minor": 0
      },
      "text/plain": [
       "  0%|          | 0/687 [00:00<?, ?it/s]"
      ]
     },
     "metadata": {},
     "output_type": "display_data"
    },
    {
     "name": "stdout",
     "output_type": "stream",
     "text": [
      "==================================================\n",
      "Epoch: 290\n",
      "==================================================\n",
      "total_loss                                  0.5469\n",
      "ssim_loss                                   0.0801\n",
      "mel_loss                                    0.1494\n",
      "postnet_mel_loss                            0.1492\n",
      "dur_loss                                    0.0270\n",
      "pitch_loss                                  0.1182\n",
      "energy_loss                                 0.0229\n",
      "================================================== \n",
      "\n",
      "\n"
     ]
    },
    {
     "data": {
      "application/vnd.jupyter.widget-view+json": {
       "model_id": "399f86de3afc4a008590f92fe73f536b",
       "version_major": 2,
       "version_minor": 0
      },
      "text/plain": [
       "  0%|          | 0/687 [00:00<?, ?it/s]"
      ]
     },
     "metadata": {},
     "output_type": "display_data"
    },
    {
     "name": "stdout",
     "output_type": "stream",
     "text": [
      "==================================================\n",
      "Epoch: 291\n",
      "==================================================\n",
      "total_loss                                  0.5434\n",
      "ssim_loss                                   0.0793\n",
      "mel_loss                                    0.1483\n",
      "postnet_mel_loss                            0.1482\n",
      "dur_loss                                    0.0267\n",
      "pitch_loss                                  0.1181\n",
      "energy_loss                                 0.0228\n",
      "================================================== \n",
      "\n",
      "\n"
     ]
    },
    {
     "data": {
      "application/vnd.jupyter.widget-view+json": {
       "model_id": "39e3a8759db047668da8b128a1a4c0c5",
       "version_major": 2,
       "version_minor": 0
      },
      "text/plain": [
       "  0%|          | 0/687 [00:00<?, ?it/s]"
      ]
     },
     "metadata": {},
     "output_type": "display_data"
    },
    {
     "name": "stdout",
     "output_type": "stream",
     "text": [
      "==================================================\n",
      "Epoch: 292\n",
      "==================================================\n",
      "total_loss                                  0.5490\n",
      "ssim_loss                                   0.0799\n",
      "mel_loss                                    0.1501\n",
      "postnet_mel_loss                            0.1499\n",
      "dur_loss                                    0.0271\n",
      "pitch_loss                                  0.1186\n",
      "energy_loss                                 0.0234\n",
      "================================================== \n",
      "\n",
      "\n"
     ]
    },
    {
     "data": {
      "application/vnd.jupyter.widget-view+json": {
       "model_id": "2e4e47d6a53f4527bf144a46d19225a5",
       "version_major": 2,
       "version_minor": 0
      },
      "text/plain": [
       "  0%|          | 0/687 [00:00<?, ?it/s]"
      ]
     },
     "metadata": {},
     "output_type": "display_data"
    },
    {
     "name": "stdout",
     "output_type": "stream",
     "text": [
      "==================================================\n",
      "Epoch: 293\n",
      "==================================================\n",
      "total_loss                                  0.5528\n",
      "ssim_loss                                   0.0803\n",
      "mel_loss                                    0.1506\n",
      "postnet_mel_loss                            0.1505\n",
      "dur_loss                                    0.0271\n",
      "pitch_loss                                  0.1211\n",
      "energy_loss                                 0.0233\n",
      "================================================== \n",
      "\n",
      "\n"
     ]
    },
    {
     "data": {
      "application/vnd.jupyter.widget-view+json": {
       "model_id": "6e4fa531bceb461088d53ae286399895",
       "version_major": 2,
       "version_minor": 0
      },
      "text/plain": [
       "  0%|          | 0/687 [00:00<?, ?it/s]"
      ]
     },
     "metadata": {},
     "output_type": "display_data"
    },
    {
     "name": "stdout",
     "output_type": "stream",
     "text": [
      "==================================================\n",
      "Epoch: 294\n",
      "==================================================\n",
      "total_loss                                  0.5506\n",
      "ssim_loss                                   0.0801\n",
      "mel_loss                                    0.1500\n",
      "postnet_mel_loss                            0.1499\n",
      "dur_loss                                    0.0270\n",
      "pitch_loss                                  0.1202\n",
      "energy_loss                                 0.0234\n",
      "================================================== \n",
      "\n",
      "\n"
     ]
    },
    {
     "data": {
      "application/vnd.jupyter.widget-view+json": {
       "model_id": "ef3f7b245b294a2aa644da8f01e354fd",
       "version_major": 2,
       "version_minor": 0
      },
      "text/plain": [
       "  0%|          | 0/687 [00:00<?, ?it/s]"
      ]
     },
     "metadata": {},
     "output_type": "display_data"
    },
    {
     "name": "stdout",
     "output_type": "stream",
     "text": [
      "==================================================\n",
      "Epoch: 295\n",
      "==================================================\n",
      "total_loss                                  0.5570\n",
      "ssim_loss                                   0.0812\n",
      "mel_loss                                    0.1530\n",
      "postnet_mel_loss                            0.1528\n",
      "dur_loss                                    0.0269\n",
      "pitch_loss                                  0.1193\n",
      "energy_loss                                 0.0239\n",
      "================================================== \n",
      "\n",
      "\n"
     ]
    },
    {
     "data": {
      "application/vnd.jupyter.widget-view+json": {
       "model_id": "dc5e3e7fcee94dd785144bf51080613f",
       "version_major": 2,
       "version_minor": 0
      },
      "text/plain": [
       "  0%|          | 0/687 [00:00<?, ?it/s]"
      ]
     },
     "metadata": {},
     "output_type": "display_data"
    },
    {
     "name": "stdout",
     "output_type": "stream",
     "text": [
      "==================================================\n",
      "Epoch: 296\n",
      "==================================================\n",
      "total_loss                                  0.5576\n",
      "ssim_loss                                   0.0806\n",
      "mel_loss                                    0.1524\n",
      "postnet_mel_loss                            0.1523\n",
      "dur_loss                                    0.0270\n",
      "pitch_loss                                  0.1215\n",
      "energy_loss                                 0.0239\n",
      "================================================== \n",
      "\n",
      "\n"
     ]
    },
    {
     "data": {
      "application/vnd.jupyter.widget-view+json": {
       "model_id": "dae8d81b916d49c38ccb94a1d76c97e8",
       "version_major": 2,
       "version_minor": 0
      },
      "text/plain": [
       "  0%|          | 0/687 [00:00<?, ?it/s]"
      ]
     },
     "metadata": {},
     "output_type": "display_data"
    },
    {
     "name": "stdout",
     "output_type": "stream",
     "text": [
      "==================================================\n",
      "Epoch: 297\n",
      "==================================================\n",
      "total_loss                                  0.5451\n",
      "ssim_loss                                   0.0797\n",
      "mel_loss                                    0.1489\n",
      "postnet_mel_loss                            0.1487\n",
      "dur_loss                                    0.0269\n",
      "pitch_loss                                  0.1181\n",
      "energy_loss                                 0.0228\n",
      "================================================== \n",
      "\n",
      "\n"
     ]
    },
    {
     "data": {
      "application/vnd.jupyter.widget-view+json": {
       "model_id": "f36e9c20e5b146eb88c98a2c6524c760",
       "version_major": 2,
       "version_minor": 0
      },
      "text/plain": [
       "  0%|          | 0/687 [00:00<?, ?it/s]"
      ]
     },
     "metadata": {},
     "output_type": "display_data"
    },
    {
     "name": "stdout",
     "output_type": "stream",
     "text": [
      "==================================================\n",
      "Epoch: 298\n",
      "==================================================\n",
      "total_loss                                  0.5446\n",
      "ssim_loss                                   0.0793\n",
      "mel_loss                                    0.1489\n",
      "postnet_mel_loss                            0.1487\n",
      "dur_loss                                    0.0267\n",
      "pitch_loss                                  0.1181\n",
      "energy_loss                                 0.0229\n",
      "================================================== \n",
      "\n",
      "\n"
     ]
    },
    {
     "data": {
      "application/vnd.jupyter.widget-view+json": {
       "model_id": "75c517554f3641a9a51e8c18e24ef55b",
       "version_major": 2,
       "version_minor": 0
      },
      "text/plain": [
       "  0%|          | 0/687 [00:00<?, ?it/s]"
      ]
     },
     "metadata": {},
     "output_type": "display_data"
    },
    {
     "name": "stdout",
     "output_type": "stream",
     "text": [
      "==================================================\n",
      "Epoch: 299\n",
      "==================================================\n",
      "total_loss                                  0.5487\n",
      "ssim_loss                                   0.0792\n",
      "mel_loss                                    0.1500\n",
      "postnet_mel_loss                            0.1499\n",
      "dur_loss                                    0.0269\n",
      "pitch_loss                                  0.1192\n",
      "energy_loss                                 0.0236\n",
      "================================================== \n",
      "\n",
      "\n"
     ]
    },
    {
     "data": {
      "application/vnd.jupyter.widget-view+json": {
       "model_id": "adbaea0a5f2b4542bbb04381c0c6c075",
       "version_major": 2,
       "version_minor": 0
      },
      "text/plain": [
       "  0%|          | 0/687 [00:00<?, ?it/s]"
      ]
     },
     "metadata": {},
     "output_type": "display_data"
    },
    {
     "name": "stdout",
     "output_type": "stream",
     "text": [
      "==================================================\n",
      "Epoch: 300\n",
      "==================================================\n",
      "total_loss                                  0.5469\n",
      "ssim_loss                                   0.0791\n",
      "mel_loss                                    0.1499\n",
      "postnet_mel_loss                            0.1497\n",
      "dur_loss                                    0.0268\n",
      "pitch_loss                                  0.1183\n",
      "energy_loss                                 0.0232\n",
      "================================================== \n",
      "\n",
      "\n"
     ]
    },
    {
     "data": {
      "application/vnd.jupyter.widget-view+json": {
       "model_id": "4c965f72425b4e2cb0145c5867e0bc7d",
       "version_major": 2,
       "version_minor": 0
      },
      "text/plain": [
       "  0%|          | 0/687 [00:00<?, ?it/s]"
      ]
     },
     "metadata": {},
     "output_type": "display_data"
    },
    {
     "name": "stdout",
     "output_type": "stream",
     "text": [
      "==================================================\n",
      "Epoch: 301\n",
      "==================================================\n",
      "total_loss                                  0.5458\n",
      "ssim_loss                                   0.0792\n",
      "mel_loss                                    0.1493\n",
      "postnet_mel_loss                            0.1492\n",
      "dur_loss                                    0.0266\n",
      "pitch_loss                                  0.1188\n",
      "energy_loss                                 0.0227\n",
      "================================================== \n",
      "\n",
      "\n"
     ]
    },
    {
     "data": {
      "application/vnd.jupyter.widget-view+json": {
       "model_id": "e7af625809eb442987ced7ff718e507e",
       "version_major": 2,
       "version_minor": 0
      },
      "text/plain": [
       "  0%|          | 0/687 [00:00<?, ?it/s]"
      ]
     },
     "metadata": {},
     "output_type": "display_data"
    },
    {
     "name": "stdout",
     "output_type": "stream",
     "text": [
      "==================================================\n",
      "Epoch: 302\n",
      "==================================================\n",
      "total_loss                                  0.5469\n",
      "ssim_loss                                   0.0794\n",
      "mel_loss                                    0.1495\n",
      "postnet_mel_loss                            0.1493\n",
      "dur_loss                                    0.0265\n",
      "pitch_loss                                  0.1192\n",
      "energy_loss                                 0.0230\n",
      "================================================== \n",
      "\n",
      "\n"
     ]
    },
    {
     "data": {
      "application/vnd.jupyter.widget-view+json": {
       "model_id": "0720d8fbc22e4a4a81e27eb1ea2b23c6",
       "version_major": 2,
       "version_minor": 0
      },
      "text/plain": [
       "  0%|          | 0/687 [00:00<?, ?it/s]"
      ]
     },
     "metadata": {},
     "output_type": "display_data"
    },
    {
     "name": "stdout",
     "output_type": "stream",
     "text": [
      "==================================================\n",
      "Epoch: 303\n",
      "==================================================\n",
      "total_loss                                  0.5464\n",
      "ssim_loss                                   0.0794\n",
      "mel_loss                                    0.1494\n",
      "postnet_mel_loss                            0.1493\n",
      "dur_loss                                    0.0265\n",
      "pitch_loss                                  0.1187\n",
      "energy_loss                                 0.0230\n",
      "================================================== \n",
      "\n",
      "\n"
     ]
    },
    {
     "data": {
      "application/vnd.jupyter.widget-view+json": {
       "model_id": "e1d23cadc8ee4fa4ac2217f57299dfbc",
       "version_major": 2,
       "version_minor": 0
      },
      "text/plain": [
       "  0%|          | 0/687 [00:00<?, ?it/s]"
      ]
     },
     "metadata": {},
     "output_type": "display_data"
    },
    {
     "name": "stdout",
     "output_type": "stream",
     "text": [
      "==================================================\n",
      "Epoch: 304\n",
      "==================================================\n",
      "total_loss                                  0.5445\n",
      "ssim_loss                                   0.0790\n",
      "mel_loss                                    0.1493\n",
      "postnet_mel_loss                            0.1491\n",
      "dur_loss                                    0.0267\n",
      "pitch_loss                                  0.1172\n",
      "energy_loss                                 0.0232\n",
      "================================================== \n",
      "\n",
      "\n"
     ]
    },
    {
     "data": {
      "application/vnd.jupyter.widget-view+json": {
       "model_id": "daf50c4490e04d728e284f5ac1a9e962",
       "version_major": 2,
       "version_minor": 0
      },
      "text/plain": [
       "  0%|          | 0/687 [00:00<?, ?it/s]"
      ]
     },
     "metadata": {},
     "output_type": "display_data"
    },
    {
     "name": "stdout",
     "output_type": "stream",
     "text": [
      "==================================================\n",
      "Epoch: 305\n",
      "==================================================\n",
      "total_loss                                  0.5475\n",
      "ssim_loss                                   0.0800\n",
      "mel_loss                                    0.1494\n",
      "postnet_mel_loss                            0.1493\n",
      "dur_loss                                    0.0268\n",
      "pitch_loss                                  0.1189\n",
      "energy_loss                                 0.0230\n",
      "================================================== \n",
      "\n",
      "\n"
     ]
    },
    {
     "data": {
      "application/vnd.jupyter.widget-view+json": {
       "model_id": "95f6922185864aefa57c5f9fe2be3e4b",
       "version_major": 2,
       "version_minor": 0
      },
      "text/plain": [
       "  0%|          | 0/687 [00:00<?, ?it/s]"
      ]
     },
     "metadata": {},
     "output_type": "display_data"
    },
    {
     "name": "stdout",
     "output_type": "stream",
     "text": [
      "==================================================\n",
      "Epoch: 306\n",
      "==================================================\n",
      "total_loss                                  0.5440\n",
      "ssim_loss                                   0.0789\n",
      "mel_loss                                    0.1489\n",
      "postnet_mel_loss                            0.1487\n",
      "dur_loss                                    0.0267\n",
      "pitch_loss                                  0.1179\n",
      "energy_loss                                 0.0229\n",
      "================================================== \n",
      "\n",
      "\n"
     ]
    },
    {
     "data": {
      "application/vnd.jupyter.widget-view+json": {
       "model_id": "25e4cc1e503d4ec1944f8c78bf6433e7",
       "version_major": 2,
       "version_minor": 0
      },
      "text/plain": [
       "  0%|          | 0/687 [00:00<?, ?it/s]"
      ]
     },
     "metadata": {},
     "output_type": "display_data"
    },
    {
     "name": "stdout",
     "output_type": "stream",
     "text": [
      "==================================================\n",
      "Epoch: 307\n",
      "==================================================\n",
      "total_loss                                  0.5503\n",
      "ssim_loss                                   0.0794\n",
      "mel_loss                                    0.1492\n",
      "postnet_mel_loss                            0.1491\n",
      "dur_loss                                    0.0271\n",
      "pitch_loss                                  0.1219\n",
      "energy_loss                                 0.0236\n",
      "================================================== \n",
      "\n",
      "\n"
     ]
    },
    {
     "data": {
      "application/vnd.jupyter.widget-view+json": {
       "model_id": "1e2772f698fd42068bad2c5599eb1ec3",
       "version_major": 2,
       "version_minor": 0
      },
      "text/plain": [
       "  0%|          | 0/687 [00:00<?, ?it/s]"
      ]
     },
     "metadata": {},
     "output_type": "display_data"
    },
    {
     "name": "stdout",
     "output_type": "stream",
     "text": [
      "==================================================\n",
      "Epoch: 308\n",
      "==================================================\n",
      "total_loss                                  0.5453\n",
      "ssim_loss                                   0.0790\n",
      "mel_loss                                    0.1491\n",
      "postnet_mel_loss                            0.1489\n",
      "dur_loss                                    0.0270\n",
      "pitch_loss                                  0.1183\n",
      "energy_loss                                 0.0230\n",
      "================================================== \n",
      "\n",
      "\n"
     ]
    },
    {
     "data": {
      "application/vnd.jupyter.widget-view+json": {
       "model_id": "0565632e412a425ba915981ee90eaa20",
       "version_major": 2,
       "version_minor": 0
      },
      "text/plain": [
       "  0%|          | 0/687 [00:00<?, ?it/s]"
      ]
     },
     "metadata": {},
     "output_type": "display_data"
    },
    {
     "name": "stdout",
     "output_type": "stream",
     "text": [
      "==================================================\n",
      "Epoch: 309\n",
      "==================================================\n",
      "total_loss                                  0.5414\n",
      "ssim_loss                                   0.0790\n",
      "mel_loss                                    0.1477\n",
      "postnet_mel_loss                            0.1476\n",
      "dur_loss                                    0.0265\n",
      "pitch_loss                                  0.1183\n",
      "energy_loss                                 0.0223\n",
      "================================================== \n",
      "\n",
      "\n"
     ]
    },
    {
     "data": {
      "application/vnd.jupyter.widget-view+json": {
       "model_id": "24512e7a26ec4474a264154aca60ce72",
       "version_major": 2,
       "version_minor": 0
      },
      "text/plain": [
       "  0%|          | 0/687 [00:00<?, ?it/s]"
      ]
     },
     "metadata": {},
     "output_type": "display_data"
    },
    {
     "name": "stdout",
     "output_type": "stream",
     "text": [
      "==================================================\n",
      "Epoch: 310\n",
      "==================================================\n",
      "total_loss                                  0.5390\n",
      "ssim_loss                                   0.0786\n",
      "mel_loss                                    0.1475\n",
      "postnet_mel_loss                            0.1474\n",
      "dur_loss                                    0.0264\n",
      "pitch_loss                                  0.1169\n",
      "energy_loss                                 0.0222\n",
      "================================================== \n",
      "\n",
      "\n"
     ]
    },
    {
     "data": {
      "application/vnd.jupyter.widget-view+json": {
       "model_id": "b2ef4a93d1994f939b74617a8b147e9a",
       "version_major": 2,
       "version_minor": 0
      },
      "text/plain": [
       "  0%|          | 0/687 [00:00<?, ?it/s]"
      ]
     },
     "metadata": {},
     "output_type": "display_data"
    },
    {
     "name": "stdout",
     "output_type": "stream",
     "text": [
      "==================================================\n",
      "Epoch: 311\n",
      "==================================================\n",
      "total_loss                                  0.5465\n",
      "ssim_loss                                   0.0791\n",
      "mel_loss                                    0.1498\n",
      "postnet_mel_loss                            0.1497\n",
      "dur_loss                                    0.0264\n",
      "pitch_loss                                  0.1188\n",
      "energy_loss                                 0.0227\n",
      "================================================== \n",
      "\n",
      "\n"
     ]
    },
    {
     "data": {
      "application/vnd.jupyter.widget-view+json": {
       "model_id": "2da6edbe0d204d7c9eddd6686fff2cbc",
       "version_major": 2,
       "version_minor": 0
      },
      "text/plain": [
       "  0%|          | 0/687 [00:00<?, ?it/s]"
      ]
     },
     "metadata": {},
     "output_type": "display_data"
    },
    {
     "name": "stdout",
     "output_type": "stream",
     "text": [
      "==================================================\n",
      "Epoch: 312\n",
      "==================================================\n",
      "total_loss                                  0.5477\n",
      "ssim_loss                                   0.0797\n",
      "mel_loss                                    0.1498\n",
      "postnet_mel_loss                            0.1496\n",
      "dur_loss                                    0.0265\n",
      "pitch_loss                                  0.1192\n",
      "energy_loss                                 0.0229\n",
      "================================================== \n",
      "\n",
      "\n"
     ]
    },
    {
     "data": {
      "application/vnd.jupyter.widget-view+json": {
       "model_id": "cf3c9df461e2469fa6b149f299477f41",
       "version_major": 2,
       "version_minor": 0
      },
      "text/plain": [
       "  0%|          | 0/687 [00:00<?, ?it/s]"
      ]
     },
     "metadata": {},
     "output_type": "display_data"
    },
    {
     "name": "stdout",
     "output_type": "stream",
     "text": [
      "==================================================\n",
      "Epoch: 313\n",
      "==================================================\n",
      "total_loss                                  0.5503\n",
      "ssim_loss                                   0.0800\n",
      "mel_loss                                    0.1518\n",
      "postnet_mel_loss                            0.1516\n",
      "dur_loss                                    0.0267\n",
      "pitch_loss                                  0.1176\n",
      "energy_loss                                 0.0227\n",
      "================================================== \n",
      "\n",
      "\n"
     ]
    },
    {
     "data": {
      "application/vnd.jupyter.widget-view+json": {
       "model_id": "55d6d0514cea4a57b7c3109c3ba17a18",
       "version_major": 2,
       "version_minor": 0
      },
      "text/plain": [
       "  0%|          | 0/687 [00:00<?, ?it/s]"
      ]
     },
     "metadata": {},
     "output_type": "display_data"
    },
    {
     "name": "stdout",
     "output_type": "stream",
     "text": [
      "==================================================\n",
      "Epoch: 314\n",
      "==================================================\n",
      "total_loss                                  0.5454\n",
      "ssim_loss                                   0.0791\n",
      "mel_loss                                    0.1496\n",
      "postnet_mel_loss                            0.1494\n",
      "dur_loss                                    0.0267\n",
      "pitch_loss                                  0.1183\n",
      "energy_loss                                 0.0224\n",
      "================================================== \n",
      "\n",
      "\n"
     ]
    },
    {
     "data": {
      "application/vnd.jupyter.widget-view+json": {
       "model_id": "d0e97e95959a492b83af477b69cf5bba",
       "version_major": 2,
       "version_minor": 0
      },
      "text/plain": [
       "  0%|          | 0/687 [00:00<?, ?it/s]"
      ]
     },
     "metadata": {},
     "output_type": "display_data"
    },
    {
     "name": "stdout",
     "output_type": "stream",
     "text": [
      "==================================================\n",
      "Epoch: 315\n",
      "==================================================\n",
      "total_loss                                  0.5372\n",
      "ssim_loss                                   0.0781\n",
      "mel_loss                                    0.1467\n",
      "postnet_mel_loss                            0.1466\n",
      "dur_loss                                    0.0262\n",
      "pitch_loss                                  0.1175\n",
      "energy_loss                                 0.0222\n",
      "================================================== \n",
      "\n",
      "\n"
     ]
    },
    {
     "data": {
      "application/vnd.jupyter.widget-view+json": {
       "model_id": "7bf31ad6670143fe979a23d377cb4cdb",
       "version_major": 2,
       "version_minor": 0
      },
      "text/plain": [
       "  0%|          | 0/687 [00:00<?, ?it/s]"
      ]
     },
     "metadata": {},
     "output_type": "display_data"
    },
    {
     "name": "stdout",
     "output_type": "stream",
     "text": [
      "==================================================\n",
      "Epoch: 316\n",
      "==================================================\n",
      "total_loss                                  0.5373\n",
      "ssim_loss                                   0.0783\n",
      "mel_loss                                    0.1458\n",
      "postnet_mel_loss                            0.1456\n",
      "dur_loss                                    0.0263\n",
      "pitch_loss                                  0.1191\n",
      "energy_loss                                 0.0222\n",
      "================================================== \n",
      "\n",
      "\n"
     ]
    },
    {
     "data": {
      "application/vnd.jupyter.widget-view+json": {
       "model_id": "ff4af7fd00e443d6bf7e582b33ccea4f",
       "version_major": 2,
       "version_minor": 0
      },
      "text/plain": [
       "  0%|          | 0/687 [00:00<?, ?it/s]"
      ]
     },
     "metadata": {},
     "output_type": "display_data"
    },
    {
     "name": "stdout",
     "output_type": "stream",
     "text": [
      "==================================================\n",
      "Epoch: 317\n",
      "==================================================\n",
      "total_loss                                  0.5384\n",
      "ssim_loss                                   0.0784\n",
      "mel_loss                                    0.1464\n",
      "postnet_mel_loss                            0.1462\n",
      "dur_loss                                    0.0264\n",
      "pitch_loss                                  0.1185\n",
      "energy_loss                                 0.0225\n",
      "================================================== \n",
      "\n",
      "\n"
     ]
    },
    {
     "data": {
      "application/vnd.jupyter.widget-view+json": {
       "model_id": "670ef49d18194a0a8fde502d788e73c4",
       "version_major": 2,
       "version_minor": 0
      },
      "text/plain": [
       "  0%|          | 0/687 [00:00<?, ?it/s]"
      ]
     },
     "metadata": {},
     "output_type": "display_data"
    },
    {
     "name": "stdout",
     "output_type": "stream",
     "text": [
      "==================================================\n",
      "Epoch: 318\n",
      "==================================================\n",
      "total_loss                                  0.5375\n",
      "ssim_loss                                   0.0783\n",
      "mel_loss                                    0.1468\n",
      "postnet_mel_loss                            0.1467\n",
      "dur_loss                                    0.0263\n",
      "pitch_loss                                  0.1170\n",
      "energy_loss                                 0.0225\n",
      "================================================== \n",
      "\n",
      "\n"
     ]
    },
    {
     "data": {
      "application/vnd.jupyter.widget-view+json": {
       "model_id": "22ecab1917694ac5beedf48762a7af62",
       "version_major": 2,
       "version_minor": 0
      },
      "text/plain": [
       "  0%|          | 0/687 [00:00<?, ?it/s]"
      ]
     },
     "metadata": {},
     "output_type": "display_data"
    },
    {
     "name": "stdout",
     "output_type": "stream",
     "text": [
      "==================================================\n",
      "Epoch: 319\n",
      "==================================================\n",
      "total_loss                                  0.5407\n",
      "ssim_loss                                   0.0783\n",
      "mel_loss                                    0.1471\n",
      "postnet_mel_loss                            0.1470\n",
      "dur_loss                                    0.0263\n",
      "pitch_loss                                  0.1190\n",
      "energy_loss                                 0.0230\n",
      "================================================== \n",
      "\n",
      "\n"
     ]
    },
    {
     "data": {
      "application/vnd.jupyter.widget-view+json": {
       "model_id": "a47007c9c09848de967f8236a27f96e0",
       "version_major": 2,
       "version_minor": 0
      },
      "text/plain": [
       "  0%|          | 0/687 [00:00<?, ?it/s]"
      ]
     },
     "metadata": {},
     "output_type": "display_data"
    },
    {
     "name": "stdout",
     "output_type": "stream",
     "text": [
      "==================================================\n",
      "Epoch: 320\n",
      "==================================================\n",
      "total_loss                                  0.5416\n",
      "ssim_loss                                   0.0783\n",
      "mel_loss                                    0.1485\n",
      "postnet_mel_loss                            0.1484\n",
      "dur_loss                                    0.0263\n",
      "pitch_loss                                  0.1177\n",
      "energy_loss                                 0.0224\n",
      "================================================== \n",
      "\n",
      "\n"
     ]
    },
    {
     "data": {
      "application/vnd.jupyter.widget-view+json": {
       "model_id": "18382395779945bb85fd683a45775c28",
       "version_major": 2,
       "version_minor": 0
      },
      "text/plain": [
       "  0%|          | 0/687 [00:00<?, ?it/s]"
      ]
     },
     "metadata": {},
     "output_type": "display_data"
    },
    {
     "name": "stdout",
     "output_type": "stream",
     "text": [
      "==================================================\n",
      "Epoch: 321\n",
      "==================================================\n",
      "total_loss                                  0.5379\n",
      "ssim_loss                                   0.0783\n",
      "mel_loss                                    0.1473\n",
      "postnet_mel_loss                            0.1471\n",
      "dur_loss                                    0.0263\n",
      "pitch_loss                                  0.1159\n",
      "energy_loss                                 0.0229\n",
      "================================================== \n",
      "\n",
      "\n"
     ]
    },
    {
     "data": {
      "application/vnd.jupyter.widget-view+json": {
       "model_id": "b29cfc9f7ca9476fb3343694b570cdbe",
       "version_major": 2,
       "version_minor": 0
      },
      "text/plain": [
       "  0%|          | 0/687 [00:00<?, ?it/s]"
      ]
     },
     "metadata": {},
     "output_type": "display_data"
    },
    {
     "name": "stdout",
     "output_type": "stream",
     "text": [
      "==================================================\n",
      "Epoch: 322\n",
      "==================================================\n",
      "total_loss                                  0.5463\n",
      "ssim_loss                                   0.0793\n",
      "mel_loss                                    0.1512\n",
      "postnet_mel_loss                            0.1511\n",
      "dur_loss                                    0.0265\n",
      "pitch_loss                                  0.1157\n",
      "energy_loss                                 0.0225\n",
      "================================================== \n",
      "\n",
      "\n"
     ]
    },
    {
     "data": {
      "application/vnd.jupyter.widget-view+json": {
       "model_id": "098b87039ea84accb3f7cea0b3bee1c0",
       "version_major": 2,
       "version_minor": 0
      },
      "text/plain": [
       "  0%|          | 0/687 [00:00<?, ?it/s]"
      ]
     },
     "metadata": {},
     "output_type": "display_data"
    },
    {
     "name": "stdout",
     "output_type": "stream",
     "text": [
      "==================================================\n",
      "Epoch: 323\n",
      "==================================================\n",
      "total_loss                                  0.5522\n",
      "ssim_loss                                   0.0799\n",
      "mel_loss                                    0.1526\n",
      "postnet_mel_loss                            0.1524\n",
      "dur_loss                                    0.0266\n",
      "pitch_loss                                  0.1180\n",
      "energy_loss                                 0.0228\n",
      "================================================== \n",
      "\n",
      "\n"
     ]
    },
    {
     "data": {
      "application/vnd.jupyter.widget-view+json": {
       "model_id": "af80d29607b545099d71f2bd23f05485",
       "version_major": 2,
       "version_minor": 0
      },
      "text/plain": [
       "  0%|          | 0/687 [00:00<?, ?it/s]"
      ]
     },
     "metadata": {},
     "output_type": "display_data"
    },
    {
     "name": "stdout",
     "output_type": "stream",
     "text": [
      "==================================================\n",
      "Epoch: 324\n",
      "==================================================\n",
      "total_loss                                  0.5369\n",
      "ssim_loss                                   0.0783\n",
      "mel_loss                                    0.1456\n",
      "postnet_mel_loss                            0.1456\n",
      "dur_loss                                    0.0265\n",
      "pitch_loss                                  0.1188\n",
      "energy_loss                                 0.0222\n",
      "================================================== \n",
      "\n",
      "\n"
     ]
    },
    {
     "data": {
      "application/vnd.jupyter.widget-view+json": {
       "model_id": "9fc1c163cefe415ba72bb251191952db",
       "version_major": 2,
       "version_minor": 0
      },
      "text/plain": [
       "  0%|          | 0/687 [00:00<?, ?it/s]"
      ]
     },
     "metadata": {},
     "output_type": "display_data"
    },
    {
     "name": "stdout",
     "output_type": "stream",
     "text": [
      "==================================================\n",
      "Epoch: 325\n",
      "==================================================\n",
      "total_loss                                  0.5323\n",
      "ssim_loss                                   0.0774\n",
      "mel_loss                                    0.1442\n",
      "postnet_mel_loss                            0.1442\n",
      "dur_loss                                    0.0262\n",
      "pitch_loss                                  0.1183\n",
      "energy_loss                                 0.0220\n",
      "================================================== \n",
      "\n",
      "\n"
     ]
    },
    {
     "data": {
      "application/vnd.jupyter.widget-view+json": {
       "model_id": "ad9e25e8d2d44b01b0a7938b037d4799",
       "version_major": 2,
       "version_minor": 0
      },
      "text/plain": [
       "  0%|          | 0/687 [00:00<?, ?it/s]"
      ]
     },
     "metadata": {},
     "output_type": "display_data"
    },
    {
     "name": "stdout",
     "output_type": "stream",
     "text": [
      "==================================================\n",
      "Epoch: 326\n",
      "==================================================\n",
      "total_loss                                  0.5340\n",
      "ssim_loss                                   0.0777\n",
      "mel_loss                                    0.1449\n",
      "postnet_mel_loss                            0.1447\n",
      "dur_loss                                    0.0263\n",
      "pitch_loss                                  0.1185\n",
      "energy_loss                                 0.0219\n",
      "================================================== \n",
      "\n",
      "\n"
     ]
    },
    {
     "data": {
      "application/vnd.jupyter.widget-view+json": {
       "model_id": "7174f41fb63d4bee9febdef035882309",
       "version_major": 2,
       "version_minor": 0
      },
      "text/plain": [
       "  0%|          | 0/687 [00:00<?, ?it/s]"
      ]
     },
     "metadata": {},
     "output_type": "display_data"
    },
    {
     "name": "stdout",
     "output_type": "stream",
     "text": [
      "==================================================\n",
      "Epoch: 327\n",
      "==================================================\n",
      "total_loss                                  0.5416\n",
      "ssim_loss                                   0.0785\n",
      "mel_loss                                    0.1469\n",
      "postnet_mel_loss                            0.1468\n",
      "dur_loss                                    0.0264\n",
      "pitch_loss                                  0.1202\n",
      "energy_loss                                 0.0228\n",
      "================================================== \n",
      "\n",
      "\n"
     ]
    },
    {
     "data": {
      "application/vnd.jupyter.widget-view+json": {
       "model_id": "ab3bb96aad7d46438f05925d27a42a88",
       "version_major": 2,
       "version_minor": 0
      },
      "text/plain": [
       "  0%|          | 0/687 [00:00<?, ?it/s]"
      ]
     },
     "metadata": {},
     "output_type": "display_data"
    },
    {
     "name": "stdout",
     "output_type": "stream",
     "text": [
      "==================================================\n",
      "Epoch: 328\n",
      "==================================================\n",
      "total_loss                                  0.5503\n",
      "ssim_loss                                   0.0791\n",
      "mel_loss                                    0.1498\n",
      "postnet_mel_loss                            0.1497\n",
      "dur_loss                                    0.0267\n",
      "pitch_loss                                  0.1225\n",
      "energy_loss                                 0.0226\n",
      "================================================== \n",
      "\n",
      "\n"
     ]
    },
    {
     "data": {
      "application/vnd.jupyter.widget-view+json": {
       "model_id": "9c65f79f9a3e4d5d998408073ebb76d8",
       "version_major": 2,
       "version_minor": 0
      },
      "text/plain": [
       "  0%|          | 0/687 [00:00<?, ?it/s]"
      ]
     },
     "metadata": {},
     "output_type": "display_data"
    },
    {
     "name": "stdout",
     "output_type": "stream",
     "text": [
      "==================================================\n",
      "Epoch: 329\n",
      "==================================================\n",
      "total_loss                                  0.5391\n",
      "ssim_loss                                   0.0775\n",
      "mel_loss                                    0.1461\n",
      "postnet_mel_loss                            0.1460\n",
      "dur_loss                                    0.0263\n",
      "pitch_loss                                  0.1211\n",
      "energy_loss                                 0.0221\n",
      "================================================== \n",
      "\n",
      "\n"
     ]
    },
    {
     "data": {
      "application/vnd.jupyter.widget-view+json": {
       "model_id": "9f1d3c9be24a4fe08a6407d43303f9ea",
       "version_major": 2,
       "version_minor": 0
      },
      "text/plain": [
       "  0%|          | 0/687 [00:00<?, ?it/s]"
      ]
     },
     "metadata": {},
     "output_type": "display_data"
    },
    {
     "name": "stdout",
     "output_type": "stream",
     "text": [
      "==================================================\n",
      "Epoch: 330\n",
      "==================================================\n",
      "total_loss                                  0.5334\n",
      "ssim_loss                                   0.0775\n",
      "mel_loss                                    0.1444\n",
      "postnet_mel_loss                            0.1442\n",
      "dur_loss                                    0.0259\n",
      "pitch_loss                                  0.1198\n",
      "energy_loss                                 0.0215\n",
      "================================================== \n",
      "\n",
      "\n"
     ]
    },
    {
     "data": {
      "application/vnd.jupyter.widget-view+json": {
       "model_id": "5f6aff86b52b42a283e63aeebc4d5033",
       "version_major": 2,
       "version_minor": 0
      },
      "text/plain": [
       "  0%|          | 0/687 [00:00<?, ?it/s]"
      ]
     },
     "metadata": {},
     "output_type": "display_data"
    },
    {
     "name": "stdout",
     "output_type": "stream",
     "text": [
      "==================================================\n",
      "Epoch: 331\n",
      "==================================================\n",
      "total_loss                                  0.5319\n",
      "ssim_loss                                   0.0775\n",
      "mel_loss                                    0.1444\n",
      "postnet_mel_loss                            0.1442\n",
      "dur_loss                                    0.0258\n",
      "pitch_loss                                  0.1187\n",
      "energy_loss                                 0.0212\n",
      "================================================== \n",
      "\n",
      "\n"
     ]
    },
    {
     "data": {
      "application/vnd.jupyter.widget-view+json": {
       "model_id": "6417a8923459470e87cfc24ff1cdf7c3",
       "version_major": 2,
       "version_minor": 0
      },
      "text/plain": [
       "  0%|          | 0/687 [00:00<?, ?it/s]"
      ]
     },
     "metadata": {},
     "output_type": "display_data"
    },
    {
     "name": "stdout",
     "output_type": "stream",
     "text": [
      "==================================================\n",
      "Epoch: 332\n",
      "==================================================\n",
      "total_loss                                  0.5334\n",
      "ssim_loss                                   0.0778\n",
      "mel_loss                                    0.1455\n",
      "postnet_mel_loss                            0.1453\n",
      "dur_loss                                    0.0258\n",
      "pitch_loss                                  0.1175\n",
      "energy_loss                                 0.0214\n",
      "================================================== \n",
      "\n",
      "\n"
     ]
    },
    {
     "data": {
      "application/vnd.jupyter.widget-view+json": {
       "model_id": "1df62337708348f393b03e84475aa825",
       "version_major": 2,
       "version_minor": 0
      },
      "text/plain": [
       "  0%|          | 0/687 [00:00<?, ?it/s]"
      ]
     },
     "metadata": {},
     "output_type": "display_data"
    },
    {
     "name": "stdout",
     "output_type": "stream",
     "text": [
      "==================================================\n",
      "Epoch: 333\n",
      "==================================================\n",
      "total_loss                                  0.5329\n",
      "ssim_loss                                   0.0778\n",
      "mel_loss                                    0.1455\n",
      "postnet_mel_loss                            0.1454\n",
      "dur_loss                                    0.0259\n",
      "pitch_loss                                  0.1168\n",
      "energy_loss                                 0.0216\n",
      "================================================== \n",
      "\n",
      "\n"
     ]
    },
    {
     "data": {
      "application/vnd.jupyter.widget-view+json": {
       "model_id": "674455abe075415485583eb44cb48adc",
       "version_major": 2,
       "version_minor": 0
      },
      "text/plain": [
       "  0%|          | 0/687 [00:00<?, ?it/s]"
      ]
     },
     "metadata": {},
     "output_type": "display_data"
    },
    {
     "name": "stdout",
     "output_type": "stream",
     "text": [
      "==================================================\n",
      "Epoch: 334\n",
      "==================================================\n",
      "total_loss                                  0.5323\n",
      "ssim_loss                                   0.0771\n",
      "mel_loss                                    0.1452\n",
      "postnet_mel_loss                            0.1450\n",
      "dur_loss                                    0.0259\n",
      "pitch_loss                                  0.1175\n",
      "energy_loss                                 0.0216\n",
      "================================================== \n",
      "\n",
      "\n"
     ]
    },
    {
     "data": {
      "application/vnd.jupyter.widget-view+json": {
       "model_id": "a040844032bd4067a69ceb1866c2bb69",
       "version_major": 2,
       "version_minor": 0
      },
      "text/plain": [
       "  0%|          | 0/687 [00:00<?, ?it/s]"
      ]
     },
     "metadata": {},
     "output_type": "display_data"
    },
    {
     "name": "stdout",
     "output_type": "stream",
     "text": [
      "==================================================\n",
      "Epoch: 335\n",
      "==================================================\n",
      "total_loss                                  0.5323\n",
      "ssim_loss                                   0.0776\n",
      "mel_loss                                    0.1451\n",
      "postnet_mel_loss                            0.1449\n",
      "dur_loss                                    0.0260\n",
      "pitch_loss                                  0.1169\n",
      "energy_loss                                 0.0217\n",
      "================================================== \n",
      "\n",
      "\n"
     ]
    },
    {
     "data": {
      "application/vnd.jupyter.widget-view+json": {
       "model_id": "964f11e502894849b8f895bb183ef1ca",
       "version_major": 2,
       "version_minor": 0
      },
      "text/plain": [
       "  0%|          | 0/687 [00:00<?, ?it/s]"
      ]
     },
     "metadata": {},
     "output_type": "display_data"
    },
    {
     "name": "stdout",
     "output_type": "stream",
     "text": [
      "==================================================\n",
      "Epoch: 336\n",
      "==================================================\n",
      "total_loss                                  0.5329\n",
      "ssim_loss                                   0.0772\n",
      "mel_loss                                    0.1449\n",
      "postnet_mel_loss                            0.1447\n",
      "dur_loss                                    0.0261\n",
      "pitch_loss                                  0.1181\n",
      "energy_loss                                 0.0219\n",
      "================================================== \n",
      "\n",
      "\n"
     ]
    },
    {
     "data": {
      "application/vnd.jupyter.widget-view+json": {
       "model_id": "a290c914d3d4471797a6cf59e4b48e6c",
       "version_major": 2,
       "version_minor": 0
      },
      "text/plain": [
       "  0%|          | 0/687 [00:00<?, ?it/s]"
      ]
     },
     "metadata": {},
     "output_type": "display_data"
    },
    {
     "name": "stdout",
     "output_type": "stream",
     "text": [
      "==================================================\n",
      "Epoch: 337\n",
      "==================================================\n",
      "total_loss                                  0.5340\n",
      "ssim_loss                                   0.0780\n",
      "mel_loss                                    0.1450\n",
      "postnet_mel_loss                            0.1448\n",
      "dur_loss                                    0.0259\n",
      "pitch_loss                                  0.1186\n",
      "energy_loss                                 0.0216\n",
      "================================================== \n",
      "\n",
      "\n"
     ]
    },
    {
     "data": {
      "application/vnd.jupyter.widget-view+json": {
       "model_id": "65a0aca5c4cb4195b0aa95b17316790a",
       "version_major": 2,
       "version_minor": 0
      },
      "text/plain": [
       "  0%|          | 0/687 [00:00<?, ?it/s]"
      ]
     },
     "metadata": {},
     "output_type": "display_data"
    },
    {
     "name": "stdout",
     "output_type": "stream",
     "text": [
      "==================================================\n",
      "Epoch: 338\n",
      "==================================================\n",
      "total_loss                                  0.5406\n",
      "ssim_loss                                   0.0782\n",
      "mel_loss                                    0.1477\n",
      "postnet_mel_loss                            0.1475\n",
      "dur_loss                                    0.0264\n",
      "pitch_loss                                  0.1183\n",
      "energy_loss                                 0.0224\n",
      "================================================== \n",
      "\n",
      "\n"
     ]
    },
    {
     "data": {
      "application/vnd.jupyter.widget-view+json": {
       "model_id": "d3f882e8f5244ac0b4c160a21835a319",
       "version_major": 2,
       "version_minor": 0
      },
      "text/plain": [
       "  0%|          | 0/687 [00:00<?, ?it/s]"
      ]
     },
     "metadata": {},
     "output_type": "display_data"
    },
    {
     "name": "stdout",
     "output_type": "stream",
     "text": [
      "==================================================\n",
      "Epoch: 339\n",
      "==================================================\n",
      "total_loss                                  0.5387\n",
      "ssim_loss                                   0.0785\n",
      "mel_loss                                    0.1473\n",
      "postnet_mel_loss                            0.1471\n",
      "dur_loss                                    0.0264\n",
      "pitch_loss                                  0.1170\n",
      "energy_loss                                 0.0224\n",
      "================================================== \n",
      "\n",
      "\n"
     ]
    },
    {
     "data": {
      "application/vnd.jupyter.widget-view+json": {
       "model_id": "d69a4e8bab7e4671acf8319d5426f323",
       "version_major": 2,
       "version_minor": 0
      },
      "text/plain": [
       "  0%|          | 0/687 [00:00<?, ?it/s]"
      ]
     },
     "metadata": {},
     "output_type": "display_data"
    },
    {
     "name": "stdout",
     "output_type": "stream",
     "text": [
      "==================================================\n",
      "Epoch: 340\n",
      "==================================================\n",
      "total_loss                                  0.5268\n",
      "ssim_loss                                   0.0771\n",
      "mel_loss                                    0.1433\n",
      "postnet_mel_loss                            0.1431\n",
      "dur_loss                                    0.0258\n",
      "pitch_loss                                  0.1159\n",
      "energy_loss                                 0.0216\n",
      "================================================== \n",
      "\n",
      "\n"
     ]
    },
    {
     "data": {
      "application/vnd.jupyter.widget-view+json": {
       "model_id": "11ed7e3c77d04e249071bdb4e20f24b6",
       "version_major": 2,
       "version_minor": 0
      },
      "text/plain": [
       "  0%|          | 0/687 [00:00<?, ?it/s]"
      ]
     },
     "metadata": {},
     "output_type": "display_data"
    },
    {
     "name": "stdout",
     "output_type": "stream",
     "text": [
      "==================================================\n",
      "Epoch: 341\n",
      "==================================================\n",
      "total_loss                                  0.5275\n",
      "ssim_loss                                   0.0771\n",
      "mel_loss                                    0.1433\n",
      "postnet_mel_loss                            0.1432\n",
      "dur_loss                                    0.0258\n",
      "pitch_loss                                  0.1165\n",
      "energy_loss                                 0.0216\n",
      "================================================== \n",
      "\n",
      "\n"
     ]
    },
    {
     "data": {
      "application/vnd.jupyter.widget-view+json": {
       "model_id": "0fac7a549a1b44da93661bafba837fa0",
       "version_major": 2,
       "version_minor": 0
      },
      "text/plain": [
       "  0%|          | 0/687 [00:00<?, ?it/s]"
      ]
     },
     "metadata": {},
     "output_type": "display_data"
    },
    {
     "name": "stdout",
     "output_type": "stream",
     "text": [
      "==================================================\n",
      "Epoch: 342\n",
      "==================================================\n",
      "total_loss                                  0.5278\n",
      "ssim_loss                                   0.0768\n",
      "mel_loss                                    0.1437\n",
      "postnet_mel_loss                            0.1436\n",
      "dur_loss                                    0.0259\n",
      "pitch_loss                                  0.1158\n",
      "energy_loss                                 0.0220\n",
      "================================================== \n",
      "\n",
      "\n"
     ]
    },
    {
     "data": {
      "application/vnd.jupyter.widget-view+json": {
       "model_id": "7f18ff037f5947388f9e21345f9f8366",
       "version_major": 2,
       "version_minor": 0
      },
      "text/plain": [
       "  0%|          | 0/687 [00:00<?, ?it/s]"
      ]
     },
     "metadata": {},
     "output_type": "display_data"
    },
    {
     "name": "stdout",
     "output_type": "stream",
     "text": [
      "==================================================\n",
      "Epoch: 343\n",
      "==================================================\n",
      "total_loss                                  0.5290\n",
      "ssim_loss                                   0.0773\n",
      "mel_loss                                    0.1441\n",
      "postnet_mel_loss                            0.1440\n",
      "dur_loss                                    0.0259\n",
      "pitch_loss                                  0.1162\n",
      "energy_loss                                 0.0215\n",
      "================================================== \n",
      "\n",
      "\n"
     ]
    },
    {
     "data": {
      "application/vnd.jupyter.widget-view+json": {
       "model_id": "92308ca7391d4c0184cafe7cce7821ed",
       "version_major": 2,
       "version_minor": 0
      },
      "text/plain": [
       "  0%|          | 0/687 [00:00<?, ?it/s]"
      ]
     },
     "metadata": {},
     "output_type": "display_data"
    },
    {
     "name": "stdout",
     "output_type": "stream",
     "text": [
      "==================================================\n",
      "Epoch: 344\n",
      "==================================================\n",
      "total_loss                                  0.5326\n",
      "ssim_loss                                   0.0774\n",
      "mel_loss                                    0.1447\n",
      "postnet_mel_loss                            0.1445\n",
      "dur_loss                                    0.0259\n",
      "pitch_loss                                  0.1183\n",
      "energy_loss                                 0.0217\n",
      "================================================== \n",
      "\n",
      "\n"
     ]
    },
    {
     "data": {
      "application/vnd.jupyter.widget-view+json": {
       "model_id": "9dbad745db2644efa6c3b8e9596955c2",
       "version_major": 2,
       "version_minor": 0
      },
      "text/plain": [
       "  0%|          | 0/687 [00:00<?, ?it/s]"
      ]
     },
     "metadata": {},
     "output_type": "display_data"
    },
    {
     "name": "stdout",
     "output_type": "stream",
     "text": [
      "==================================================\n",
      "Epoch: 345\n",
      "==================================================\n",
      "total_loss                                  0.5311\n",
      "ssim_loss                                   0.0772\n",
      "mel_loss                                    0.1454\n",
      "postnet_mel_loss                            0.1452\n",
      "dur_loss                                    0.0258\n",
      "pitch_loss                                  0.1162\n",
      "energy_loss                                 0.0214\n",
      "================================================== \n",
      "\n",
      "\n"
     ]
    },
    {
     "data": {
      "application/vnd.jupyter.widget-view+json": {
       "model_id": "b9b1d867de674c2b9f0f50552b5418f0",
       "version_major": 2,
       "version_minor": 0
      },
      "text/plain": [
       "  0%|          | 0/687 [00:00<?, ?it/s]"
      ]
     },
     "metadata": {},
     "output_type": "display_data"
    },
    {
     "name": "stdout",
     "output_type": "stream",
     "text": [
      "==================================================\n",
      "Epoch: 346\n",
      "==================================================\n",
      "total_loss                                  0.5284\n",
      "ssim_loss                                   0.0768\n",
      "mel_loss                                    0.1441\n",
      "postnet_mel_loss                            0.1439\n",
      "dur_loss                                    0.0259\n",
      "pitch_loss                                  0.1161\n",
      "energy_loss                                 0.0216\n",
      "================================================== \n",
      "\n",
      "\n"
     ]
    },
    {
     "data": {
      "application/vnd.jupyter.widget-view+json": {
       "model_id": "31c1a0a59dd64b57bdefee6a5164d70c",
       "version_major": 2,
       "version_minor": 0
      },
      "text/plain": [
       "  0%|          | 0/687 [00:00<?, ?it/s]"
      ]
     },
     "metadata": {},
     "output_type": "display_data"
    },
    {
     "name": "stdout",
     "output_type": "stream",
     "text": [
      "==================================================\n",
      "Epoch: 347\n",
      "==================================================\n",
      "total_loss                                  0.5310\n",
      "ssim_loss                                   0.0768\n",
      "mel_loss                                    0.1436\n",
      "postnet_mel_loss                            0.1435\n",
      "dur_loss                                    0.0261\n",
      "pitch_loss                                  0.1192\n",
      "energy_loss                                 0.0218\n",
      "================================================== \n",
      "\n",
      "\n"
     ]
    },
    {
     "data": {
      "application/vnd.jupyter.widget-view+json": {
       "model_id": "b83ec5953f0e4d36a68ef2b63072ff8a",
       "version_major": 2,
       "version_minor": 0
      },
      "text/plain": [
       "  0%|          | 0/687 [00:00<?, ?it/s]"
      ]
     },
     "metadata": {},
     "output_type": "display_data"
    },
    {
     "name": "stdout",
     "output_type": "stream",
     "text": [
      "==================================================\n",
      "Epoch: 348\n",
      "==================================================\n",
      "total_loss                                  0.5292\n",
      "ssim_loss                                   0.0770\n",
      "mel_loss                                    0.1433\n",
      "postnet_mel_loss                            0.1432\n",
      "dur_loss                                    0.0260\n",
      "pitch_loss                                  0.1183\n",
      "energy_loss                                 0.0214\n",
      "================================================== \n",
      "\n",
      "\n"
     ]
    },
    {
     "data": {
      "application/vnd.jupyter.widget-view+json": {
       "model_id": "4f7a7b16be3c47c5894997c369faffd9",
       "version_major": 2,
       "version_minor": 0
      },
      "text/plain": [
       "  0%|          | 0/687 [00:00<?, ?it/s]"
      ]
     },
     "metadata": {},
     "output_type": "display_data"
    },
    {
     "name": "stdout",
     "output_type": "stream",
     "text": [
      "==================================================\n",
      "Epoch: 349\n",
      "==================================================\n",
      "total_loss                                  0.5250\n",
      "ssim_loss                                   0.0767\n",
      "mel_loss                                    0.1429\n",
      "postnet_mel_loss                            0.1427\n",
      "dur_loss                                    0.0257\n",
      "pitch_loss                                  0.1160\n",
      "energy_loss                                 0.0210\n",
      "================================================== \n",
      "\n",
      "\n"
     ]
    },
    {
     "data": {
      "application/vnd.jupyter.widget-view+json": {
       "model_id": "51885745d83d4ba08f931b4aad092599",
       "version_major": 2,
       "version_minor": 0
      },
      "text/plain": [
       "  0%|          | 0/687 [00:00<?, ?it/s]"
      ]
     },
     "metadata": {},
     "output_type": "display_data"
    },
    {
     "name": "stdout",
     "output_type": "stream",
     "text": [
      "==================================================\n",
      "Epoch: 350\n",
      "==================================================\n",
      "total_loss                                  0.5260\n",
      "ssim_loss                                   0.0767\n",
      "mel_loss                                    0.1432\n",
      "postnet_mel_loss                            0.1430\n",
      "dur_loss                                    0.0259\n",
      "pitch_loss                                  0.1156\n",
      "energy_loss                                 0.0215\n",
      "================================================== \n",
      "\n",
      "\n"
     ]
    },
    {
     "data": {
      "application/vnd.jupyter.widget-view+json": {
       "model_id": "23dae903e8e2402caccba0d1d0a8ae8e",
       "version_major": 2,
       "version_minor": 0
      },
      "text/plain": [
       "  0%|          | 0/687 [00:00<?, ?it/s]"
      ]
     },
     "metadata": {},
     "output_type": "display_data"
    },
    {
     "name": "stdout",
     "output_type": "stream",
     "text": [
      "==================================================\n",
      "Epoch: 351\n",
      "==================================================\n",
      "total_loss                                  0.5276\n",
      "ssim_loss                                   0.0768\n",
      "mel_loss                                    0.1432\n",
      "postnet_mel_loss                            0.1431\n",
      "dur_loss                                    0.0258\n",
      "pitch_loss                                  0.1172\n",
      "energy_loss                                 0.0215\n",
      "================================================== \n",
      "\n",
      "\n"
     ]
    },
    {
     "data": {
      "application/vnd.jupyter.widget-view+json": {
       "model_id": "34797940dc204e3b8579a46bb620550e",
       "version_major": 2,
       "version_minor": 0
      },
      "text/plain": [
       "  0%|          | 0/687 [00:00<?, ?it/s]"
      ]
     },
     "metadata": {},
     "output_type": "display_data"
    },
    {
     "name": "stdout",
     "output_type": "stream",
     "text": [
      "==================================================\n",
      "Epoch: 352\n",
      "==================================================\n",
      "total_loss                                  0.5293\n",
      "ssim_loss                                   0.0772\n",
      "mel_loss                                    0.1442\n",
      "postnet_mel_loss                            0.1440\n",
      "dur_loss                                    0.0258\n",
      "pitch_loss                                  0.1169\n",
      "energy_loss                                 0.0213\n",
      "================================================== \n",
      "\n",
      "\n"
     ]
    },
    {
     "data": {
      "application/vnd.jupyter.widget-view+json": {
       "model_id": "5ac9203790d04ae4b15c11b0c7a6b6a2",
       "version_major": 2,
       "version_minor": 0
      },
      "text/plain": [
       "  0%|          | 0/687 [00:00<?, ?it/s]"
      ]
     },
     "metadata": {},
     "output_type": "display_data"
    },
    {
     "name": "stdout",
     "output_type": "stream",
     "text": [
      "==================================================\n",
      "Epoch: 353\n",
      "==================================================\n",
      "total_loss                                  0.5299\n",
      "ssim_loss                                   0.0764\n",
      "mel_loss                                    0.1436\n",
      "postnet_mel_loss                            0.1434\n",
      "dur_loss                                    0.0259\n",
      "pitch_loss                                  0.1192\n",
      "energy_loss                                 0.0214\n",
      "================================================== \n",
      "\n",
      "\n"
     ]
    },
    {
     "data": {
      "application/vnd.jupyter.widget-view+json": {
       "model_id": "6e9336604c1d4a0baa2a1abb3145383a",
       "version_major": 2,
       "version_minor": 0
      },
      "text/plain": [
       "  0%|          | 0/687 [00:00<?, ?it/s]"
      ]
     },
     "metadata": {},
     "output_type": "display_data"
    },
    {
     "name": "stdout",
     "output_type": "stream",
     "text": [
      "==================================================\n",
      "Epoch: 354\n",
      "==================================================\n",
      "total_loss                                  0.5442\n",
      "ssim_loss                                   0.0783\n",
      "mel_loss                                    0.1503\n",
      "postnet_mel_loss                            0.1502\n",
      "dur_loss                                    0.0262\n",
      "pitch_loss                                  0.1171\n",
      "energy_loss                                 0.0221\n",
      "================================================== \n",
      "\n",
      "\n"
     ]
    },
    {
     "data": {
      "application/vnd.jupyter.widget-view+json": {
       "model_id": "1db768ce69e3463f88eefc429779f37b",
       "version_major": 2,
       "version_minor": 0
      },
      "text/plain": [
       "  0%|          | 0/687 [00:00<?, ?it/s]"
      ]
     },
     "metadata": {},
     "output_type": "display_data"
    },
    {
     "name": "stdout",
     "output_type": "stream",
     "text": [
      "==================================================\n",
      "Epoch: 355\n",
      "==================================================\n",
      "total_loss                                  0.5336\n",
      "ssim_loss                                   0.0775\n",
      "mel_loss                                    0.1458\n",
      "postnet_mel_loss                            0.1456\n",
      "dur_loss                                    0.0259\n",
      "pitch_loss                                  0.1175\n",
      "energy_loss                                 0.0212\n",
      "================================================== \n",
      "\n",
      "\n"
     ]
    },
    {
     "data": {
      "application/vnd.jupyter.widget-view+json": {
       "model_id": "2132292e3f4f4751ae1aa59c6ee7ece9",
       "version_major": 2,
       "version_minor": 0
      },
      "text/plain": [
       "  0%|          | 0/687 [00:00<?, ?it/s]"
      ]
     },
     "metadata": {},
     "output_type": "display_data"
    },
    {
     "name": "stdout",
     "output_type": "stream",
     "text": [
      "==================================================\n",
      "Epoch: 356\n",
      "==================================================\n",
      "total_loss                                  0.5269\n",
      "ssim_loss                                   0.0766\n",
      "mel_loss                                    0.1429\n",
      "postnet_mel_loss                            0.1427\n",
      "dur_loss                                    0.0256\n",
      "pitch_loss                                  0.1179\n",
      "energy_loss                                 0.0213\n",
      "================================================== \n",
      "\n",
      "\n"
     ]
    },
    {
     "data": {
      "application/vnd.jupyter.widget-view+json": {
       "model_id": "174c31834b8d48bdbd07d685ce48cac0",
       "version_major": 2,
       "version_minor": 0
      },
      "text/plain": [
       "  0%|          | 0/687 [00:00<?, ?it/s]"
      ]
     },
     "metadata": {},
     "output_type": "display_data"
    },
    {
     "name": "stdout",
     "output_type": "stream",
     "text": [
      "==================================================\n",
      "Epoch: 357\n",
      "==================================================\n",
      "total_loss                                  0.5190\n",
      "ssim_loss                                   0.0758\n",
      "mel_loss                                    0.1405\n",
      "postnet_mel_loss                            0.1403\n",
      "dur_loss                                    0.0255\n",
      "pitch_loss                                  0.1163\n",
      "energy_loss                                 0.0206\n",
      "================================================== \n",
      "\n",
      "\n"
     ]
    },
    {
     "data": {
      "application/vnd.jupyter.widget-view+json": {
       "model_id": "a2b46b99262d40e9bf5431ce65909e9b",
       "version_major": 2,
       "version_minor": 0
      },
      "text/plain": [
       "  0%|          | 0/687 [00:00<?, ?it/s]"
      ]
     },
     "metadata": {},
     "output_type": "display_data"
    },
    {
     "name": "stdout",
     "output_type": "stream",
     "text": [
      "==================================================\n",
      "Epoch: 358\n",
      "==================================================\n",
      "total_loss                                  0.5243\n",
      "ssim_loss                                   0.0762\n",
      "mel_loss                                    0.1413\n",
      "postnet_mel_loss                            0.1412\n",
      "dur_loss                                    0.0257\n",
      "pitch_loss                                  0.1187\n",
      "energy_loss                                 0.0211\n",
      "================================================== \n",
      "\n",
      "\n"
     ]
    },
    {
     "data": {
      "application/vnd.jupyter.widget-view+json": {
       "model_id": "28e305ed5dd746bd9e5c571f83a7613b",
       "version_major": 2,
       "version_minor": 0
      },
      "text/plain": [
       "  0%|          | 0/687 [00:00<?, ?it/s]"
      ]
     },
     "metadata": {},
     "output_type": "display_data"
    },
    {
     "name": "stdout",
     "output_type": "stream",
     "text": [
      "==================================================\n",
      "Epoch: 359\n",
      "==================================================\n",
      "total_loss                                  0.5223\n",
      "ssim_loss                                   0.0757\n",
      "mel_loss                                    0.1422\n",
      "postnet_mel_loss                            0.1420\n",
      "dur_loss                                    0.0256\n",
      "pitch_loss                                  0.1158\n",
      "energy_loss                                 0.0210\n",
      "================================================== \n",
      "\n",
      "\n"
     ]
    },
    {
     "data": {
      "application/vnd.jupyter.widget-view+json": {
       "model_id": "74ea9129289a46d195cf3c90c2f509c3",
       "version_major": 2,
       "version_minor": 0
      },
      "text/plain": [
       "  0%|          | 0/687 [00:00<?, ?it/s]"
      ]
     },
     "metadata": {},
     "output_type": "display_data"
    },
    {
     "name": "stdout",
     "output_type": "stream",
     "text": [
      "==================================================\n",
      "Epoch: 360\n",
      "==================================================\n",
      "total_loss                                  0.5238\n",
      "ssim_loss                                   0.0761\n",
      "mel_loss                                    0.1426\n",
      "postnet_mel_loss                            0.1424\n",
      "dur_loss                                    0.0258\n",
      "pitch_loss                                  0.1160\n",
      "energy_loss                                 0.0210\n",
      "================================================== \n",
      "\n",
      "\n"
     ]
    },
    {
     "data": {
      "application/vnd.jupyter.widget-view+json": {
       "model_id": "2d81cd36e1e84a21897bd95cedbe55a2",
       "version_major": 2,
       "version_minor": 0
      },
      "text/plain": [
       "  0%|          | 0/687 [00:00<?, ?it/s]"
      ]
     },
     "metadata": {},
     "output_type": "display_data"
    },
    {
     "name": "stdout",
     "output_type": "stream",
     "text": [
      "==================================================\n",
      "Epoch: 361\n",
      "==================================================\n",
      "total_loss                                  0.5421\n",
      "ssim_loss                                   0.0786\n",
      "mel_loss                                    0.1490\n",
      "postnet_mel_loss                            0.1489\n",
      "dur_loss                                    0.0261\n",
      "pitch_loss                                  0.1182\n",
      "energy_loss                                 0.0215\n",
      "================================================== \n",
      "\n",
      "\n"
     ]
    },
    {
     "data": {
      "application/vnd.jupyter.widget-view+json": {
       "model_id": "9ca1e6e96e2a4693ae6a72d20e268bc1",
       "version_major": 2,
       "version_minor": 0
      },
      "text/plain": [
       "  0%|          | 0/687 [00:00<?, ?it/s]"
      ]
     },
     "metadata": {},
     "output_type": "display_data"
    },
    {
     "name": "stdout",
     "output_type": "stream",
     "text": [
      "==================================================\n",
      "Epoch: 362\n",
      "==================================================\n",
      "total_loss                                  0.5291\n",
      "ssim_loss                                   0.0769\n",
      "mel_loss                                    0.1443\n",
      "postnet_mel_loss                            0.1441\n",
      "dur_loss                                    0.0256\n",
      "pitch_loss                                  0.1171\n",
      "energy_loss                                 0.0210\n",
      "================================================== \n",
      "\n",
      "\n"
     ]
    },
    {
     "data": {
      "application/vnd.jupyter.widget-view+json": {
       "model_id": "f67067eadfaf4fd889f8e6a78f827971",
       "version_major": 2,
       "version_minor": 0
      },
      "text/plain": [
       "  0%|          | 0/687 [00:00<?, ?it/s]"
      ]
     },
     "metadata": {},
     "output_type": "display_data"
    },
    {
     "name": "stdout",
     "output_type": "stream",
     "text": [
      "==================================================\n",
      "Epoch: 363\n",
      "==================================================\n",
      "total_loss                                  0.5205\n",
      "ssim_loss                                   0.0763\n",
      "mel_loss                                    0.1415\n",
      "postnet_mel_loss                            0.1413\n",
      "dur_loss                                    0.0254\n",
      "pitch_loss                                  0.1154\n",
      "energy_loss                                 0.0206\n",
      "================================================== \n",
      "\n",
      "\n"
     ]
    },
    {
     "data": {
      "application/vnd.jupyter.widget-view+json": {
       "model_id": "50ab3644f15b48a288556d616a53bc52",
       "version_major": 2,
       "version_minor": 0
      },
      "text/plain": [
       "  0%|          | 0/687 [00:00<?, ?it/s]"
      ]
     },
     "metadata": {},
     "output_type": "display_data"
    },
    {
     "name": "stdout",
     "output_type": "stream",
     "text": [
      "==================================================\n",
      "Epoch: 364\n",
      "==================================================\n",
      "total_loss                                  0.5232\n",
      "ssim_loss                                   0.0765\n",
      "mel_loss                                    0.1426\n",
      "postnet_mel_loss                            0.1425\n",
      "dur_loss                                    0.0256\n",
      "pitch_loss                                  0.1150\n",
      "energy_loss                                 0.0209\n",
      "================================================== \n",
      "\n",
      "\n"
     ]
    },
    {
     "data": {
      "application/vnd.jupyter.widget-view+json": {
       "model_id": "ee7e88e7e6a243699d593a5a72b17b2e",
       "version_major": 2,
       "version_minor": 0
      },
      "text/plain": [
       "  0%|          | 0/687 [00:00<?, ?it/s]"
      ]
     },
     "metadata": {},
     "output_type": "display_data"
    },
    {
     "name": "stdout",
     "output_type": "stream",
     "text": [
      "==================================================\n",
      "Epoch: 365\n",
      "==================================================\n",
      "total_loss                                  0.5284\n",
      "ssim_loss                                   0.0768\n",
      "mel_loss                                    0.1435\n",
      "postnet_mel_loss                            0.1433\n",
      "dur_loss                                    0.0258\n",
      "pitch_loss                                  0.1178\n",
      "energy_loss                                 0.0212\n",
      "================================================== \n",
      "\n",
      "\n"
     ]
    },
    {
     "data": {
      "application/vnd.jupyter.widget-view+json": {
       "model_id": "b7d37a2a28384af5b88e47b5359c507c",
       "version_major": 2,
       "version_minor": 0
      },
      "text/plain": [
       "  0%|          | 0/687 [00:00<?, ?it/s]"
      ]
     },
     "metadata": {},
     "output_type": "display_data"
    },
    {
     "name": "stdout",
     "output_type": "stream",
     "text": [
      "==================================================\n",
      "Epoch: 366\n",
      "==================================================\n",
      "total_loss                                  0.5193\n",
      "ssim_loss                                   0.0755\n",
      "mel_loss                                    0.1412\n",
      "postnet_mel_loss                            0.1410\n",
      "dur_loss                                    0.0255\n",
      "pitch_loss                                  0.1153\n",
      "energy_loss                                 0.0207\n",
      "================================================== \n",
      "\n",
      "\n"
     ]
    },
    {
     "data": {
      "application/vnd.jupyter.widget-view+json": {
       "model_id": "cff594afab024442ae215b66b7bd62dc",
       "version_major": 2,
       "version_minor": 0
      },
      "text/plain": [
       "  0%|          | 0/687 [00:00<?, ?it/s]"
      ]
     },
     "metadata": {},
     "output_type": "display_data"
    },
    {
     "name": "stdout",
     "output_type": "stream",
     "text": [
      "==================================================\n",
      "Epoch: 367\n",
      "==================================================\n",
      "total_loss                                  0.5262\n",
      "ssim_loss                                   0.0766\n",
      "mel_loss                                    0.1439\n",
      "postnet_mel_loss                            0.1437\n",
      "dur_loss                                    0.0256\n",
      "pitch_loss                                  0.1151\n",
      "energy_loss                                 0.0213\n",
      "================================================== \n",
      "\n",
      "\n"
     ]
    },
    {
     "data": {
      "application/vnd.jupyter.widget-view+json": {
       "model_id": "4599d64a0d2b4a8cabf9fffb4a06f918",
       "version_major": 2,
       "version_minor": 0
      },
      "text/plain": [
       "  0%|          | 0/687 [00:00<?, ?it/s]"
      ]
     },
     "metadata": {},
     "output_type": "display_data"
    },
    {
     "name": "stdout",
     "output_type": "stream",
     "text": [
      "==================================================\n",
      "Epoch: 368\n",
      "==================================================\n",
      "total_loss                                  0.5376\n",
      "ssim_loss                                   0.0775\n",
      "mel_loss                                    0.1472\n",
      "postnet_mel_loss                            0.1470\n",
      "dur_loss                                    0.0259\n",
      "pitch_loss                                  0.1180\n",
      "energy_loss                                 0.0220\n",
      "================================================== \n",
      "\n",
      "\n"
     ]
    },
    {
     "data": {
      "application/vnd.jupyter.widget-view+json": {
       "model_id": "9016cc9d55094711b2c653c128f99e52",
       "version_major": 2,
       "version_minor": 0
      },
      "text/plain": [
       "  0%|          | 0/687 [00:00<?, ?it/s]"
      ]
     },
     "metadata": {},
     "output_type": "display_data"
    },
    {
     "name": "stdout",
     "output_type": "stream",
     "text": [
      "==================================================\n",
      "Epoch: 369\n",
      "==================================================\n",
      "total_loss                                  0.5255\n",
      "ssim_loss                                   0.0767\n",
      "mel_loss                                    0.1436\n",
      "postnet_mel_loss                            0.1435\n",
      "dur_loss                                    0.0254\n",
      "pitch_loss                                  0.1153\n",
      "energy_loss                                 0.0211\n",
      "================================================== \n",
      "\n",
      "\n"
     ]
    },
    {
     "data": {
      "application/vnd.jupyter.widget-view+json": {
       "model_id": "def6b7c2e84f4923ba2ee5b75c0a504f",
       "version_major": 2,
       "version_minor": 0
      },
      "text/plain": [
       "  0%|          | 0/687 [00:00<?, ?it/s]"
      ]
     },
     "metadata": {},
     "output_type": "display_data"
    },
    {
     "name": "stdout",
     "output_type": "stream",
     "text": [
      "==================================================\n",
      "Epoch: 370\n",
      "==================================================\n",
      "total_loss                                  0.5264\n",
      "ssim_loss                                   0.0770\n",
      "mel_loss                                    0.1442\n",
      "postnet_mel_loss                            0.1441\n",
      "dur_loss                                    0.0256\n",
      "pitch_loss                                  0.1147\n",
      "energy_loss                                 0.0208\n",
      "================================================== \n",
      "\n",
      "\n"
     ]
    },
    {
     "data": {
      "application/vnd.jupyter.widget-view+json": {
       "model_id": "99d77a1dbaf848af80d576cdf96fae7b",
       "version_major": 2,
       "version_minor": 0
      },
      "text/plain": [
       "  0%|          | 0/687 [00:00<?, ?it/s]"
      ]
     },
     "metadata": {},
     "output_type": "display_data"
    },
    {
     "name": "stdout",
     "output_type": "stream",
     "text": [
      "==================================================\n",
      "Epoch: 371\n",
      "==================================================\n",
      "total_loss                                  0.5168\n",
      "ssim_loss                                   0.0755\n",
      "mel_loss                                    0.1403\n",
      "postnet_mel_loss                            0.1401\n",
      "dur_loss                                    0.0254\n",
      "pitch_loss                                  0.1151\n",
      "energy_loss                                 0.0205\n",
      "================================================== \n",
      "\n",
      "\n"
     ]
    },
    {
     "data": {
      "application/vnd.jupyter.widget-view+json": {
       "model_id": "d5b3901664e1444da14dc49a1c629e41",
       "version_major": 2,
       "version_minor": 0
      },
      "text/plain": [
       "  0%|          | 0/687 [00:00<?, ?it/s]"
      ]
     },
     "metadata": {},
     "output_type": "display_data"
    },
    {
     "name": "stdout",
     "output_type": "stream",
     "text": [
      "==================================================\n",
      "Epoch: 372\n",
      "==================================================\n",
      "total_loss                                  0.5168\n",
      "ssim_loss                                   0.0756\n",
      "mel_loss                                    0.1398\n",
      "postnet_mel_loss                            0.1396\n",
      "dur_loss                                    0.0254\n",
      "pitch_loss                                  0.1158\n",
      "energy_loss                                 0.0206\n",
      "================================================== \n",
      "\n",
      "\n"
     ]
    },
    {
     "data": {
      "application/vnd.jupyter.widget-view+json": {
       "model_id": "e450df8ddaa2481c8415956d4d0f5c75",
       "version_major": 2,
       "version_minor": 0
      },
      "text/plain": [
       "  0%|          | 0/687 [00:00<?, ?it/s]"
      ]
     },
     "metadata": {},
     "output_type": "display_data"
    },
    {
     "name": "stdout",
     "output_type": "stream",
     "text": [
      "==================================================\n",
      "Epoch: 373\n",
      "==================================================\n",
      "total_loss                                  0.5161\n",
      "ssim_loss                                   0.0753\n",
      "mel_loss                                    0.1402\n",
      "postnet_mel_loss                            0.1400\n",
      "dur_loss                                    0.0253\n",
      "pitch_loss                                  0.1144\n",
      "energy_loss                                 0.0209\n",
      "================================================== \n",
      "\n",
      "\n"
     ]
    },
    {
     "data": {
      "application/vnd.jupyter.widget-view+json": {
       "model_id": "de81bd12dc9441c2bd6900aa74b7652f",
       "version_major": 2,
       "version_minor": 0
      },
      "text/plain": [
       "  0%|          | 0/687 [00:00<?, ?it/s]"
      ]
     },
     "metadata": {},
     "output_type": "display_data"
    },
    {
     "name": "stdout",
     "output_type": "stream",
     "text": [
      "==================================================\n",
      "Epoch: 374\n",
      "==================================================\n",
      "total_loss                                  0.5183\n",
      "ssim_loss                                   0.0757\n",
      "mel_loss                                    0.1413\n",
      "postnet_mel_loss                            0.1411\n",
      "dur_loss                                    0.0254\n",
      "pitch_loss                                  0.1144\n",
      "energy_loss                                 0.0204\n",
      "================================================== \n",
      "\n",
      "\n"
     ]
    },
    {
     "data": {
      "application/vnd.jupyter.widget-view+json": {
       "model_id": "7614b1a492494c82a0c65f26081c3574",
       "version_major": 2,
       "version_minor": 0
      },
      "text/plain": [
       "  0%|          | 0/687 [00:00<?, ?it/s]"
      ]
     },
     "metadata": {},
     "output_type": "display_data"
    },
    {
     "name": "stdout",
     "output_type": "stream",
     "text": [
      "==================================================\n",
      "Epoch: 375\n",
      "==================================================\n",
      "total_loss                                  0.5214\n",
      "ssim_loss                                   0.0754\n",
      "mel_loss                                    0.1411\n",
      "postnet_mel_loss                            0.1409\n",
      "dur_loss                                    0.0254\n",
      "pitch_loss                                  0.1179\n",
      "energy_loss                                 0.0207\n",
      "================================================== \n",
      "\n",
      "\n"
     ]
    },
    {
     "data": {
      "application/vnd.jupyter.widget-view+json": {
       "model_id": "0bea0d2c7e0c4e25986e9ce622aa66b8",
       "version_major": 2,
       "version_minor": 0
      },
      "text/plain": [
       "  0%|          | 0/687 [00:00<?, ?it/s]"
      ]
     },
     "metadata": {},
     "output_type": "display_data"
    },
    {
     "name": "stdout",
     "output_type": "stream",
     "text": [
      "==================================================\n",
      "Epoch: 376\n",
      "==================================================\n",
      "total_loss                                  0.5179\n",
      "ssim_loss                                   0.0758\n",
      "mel_loss                                    0.1409\n",
      "postnet_mel_loss                            0.1407\n",
      "dur_loss                                    0.0253\n",
      "pitch_loss                                  0.1144\n",
      "energy_loss                                 0.0207\n",
      "================================================== \n",
      "\n",
      "\n"
     ]
    },
    {
     "data": {
      "application/vnd.jupyter.widget-view+json": {
       "model_id": "9f5453030ea54e39add1948f1b78d26b",
       "version_major": 2,
       "version_minor": 0
      },
      "text/plain": [
       "  0%|          | 0/687 [00:00<?, ?it/s]"
      ]
     },
     "metadata": {},
     "output_type": "display_data"
    },
    {
     "name": "stdout",
     "output_type": "stream",
     "text": [
      "==================================================\n",
      "Epoch: 377\n",
      "==================================================\n",
      "total_loss                                  0.5184\n",
      "ssim_loss                                   0.0761\n",
      "mel_loss                                    0.1413\n",
      "postnet_mel_loss                            0.1411\n",
      "dur_loss                                    0.0253\n",
      "pitch_loss                                  0.1142\n",
      "energy_loss                                 0.0204\n",
      "================================================== \n",
      "\n",
      "\n"
     ]
    },
    {
     "data": {
      "application/vnd.jupyter.widget-view+json": {
       "model_id": "d3e7155593894ecc914f9663dc1f4045",
       "version_major": 2,
       "version_minor": 0
      },
      "text/plain": [
       "  0%|          | 0/687 [00:00<?, ?it/s]"
      ]
     },
     "metadata": {},
     "output_type": "display_data"
    },
    {
     "name": "stdout",
     "output_type": "stream",
     "text": [
      "==================================================\n",
      "Epoch: 378\n",
      "==================================================\n",
      "total_loss                                  0.5196\n",
      "ssim_loss                                   0.0759\n",
      "mel_loss                                    0.1411\n",
      "postnet_mel_loss                            0.1410\n",
      "dur_loss                                    0.0254\n",
      "pitch_loss                                  0.1155\n",
      "energy_loss                                 0.0207\n",
      "================================================== \n",
      "\n",
      "\n"
     ]
    },
    {
     "data": {
      "application/vnd.jupyter.widget-view+json": {
       "model_id": "7edeac0ea7b143f6a816c4ff7cdbc894",
       "version_major": 2,
       "version_minor": 0
      },
      "text/plain": [
       "  0%|          | 0/687 [00:00<?, ?it/s]"
      ]
     },
     "metadata": {},
     "output_type": "display_data"
    },
    {
     "name": "stdout",
     "output_type": "stream",
     "text": [
      "==================================================\n",
      "Epoch: 379\n",
      "==================================================\n",
      "total_loss                                  0.5198\n",
      "ssim_loss                                   0.0755\n",
      "mel_loss                                    0.1404\n",
      "postnet_mel_loss                            0.1402\n",
      "dur_loss                                    0.0254\n",
      "pitch_loss                                  0.1174\n",
      "energy_loss                                 0.0209\n",
      "================================================== \n",
      "\n",
      "\n"
     ]
    },
    {
     "data": {
      "application/vnd.jupyter.widget-view+json": {
       "model_id": "1900c3f6a951405a9bac74017bed98e5",
       "version_major": 2,
       "version_minor": 0
      },
      "text/plain": [
       "  0%|          | 0/687 [00:00<?, ?it/s]"
      ]
     },
     "metadata": {},
     "output_type": "display_data"
    },
    {
     "name": "stdout",
     "output_type": "stream",
     "text": [
      "==================================================\n",
      "Epoch: 380\n",
      "==================================================\n",
      "total_loss                                  0.5178\n",
      "ssim_loss                                   0.0751\n",
      "mel_loss                                    0.1401\n",
      "postnet_mel_loss                            0.1399\n",
      "dur_loss                                    0.0253\n",
      "pitch_loss                                  0.1165\n",
      "energy_loss                                 0.0210\n",
      "================================================== \n",
      "\n",
      "\n"
     ]
    },
    {
     "data": {
      "application/vnd.jupyter.widget-view+json": {
       "model_id": "c554b4923daf41fea4020af8517a3957",
       "version_major": 2,
       "version_minor": 0
      },
      "text/plain": [
       "  0%|          | 0/687 [00:00<?, ?it/s]"
      ]
     },
     "metadata": {},
     "output_type": "display_data"
    },
    {
     "ename": "KeyboardInterrupt",
     "evalue": "",
     "output_type": "error",
     "traceback": [
      "\u001b[0;31m---------------------------------------------------------------------------\u001b[0m",
      "\u001b[0;31mKeyboardInterrupt\u001b[0m                         Traceback (most recent call last)",
      "Cell \u001b[0;32mIn[13], line 44\u001b[0m\n\u001b[1;32m     41\u001b[0m global_step \u001b[38;5;241m+\u001b[39m\u001b[38;5;241m=\u001b[39m \u001b[38;5;241m1\u001b[39m\n\u001b[1;32m     43\u001b[0m \u001b[38;5;66;03m# Forward pass\u001b[39;00m\n\u001b[0;32m---> 44\u001b[0m predictions \u001b[38;5;241m=\u001b[39m \u001b[43mmodel\u001b[49m\u001b[43m(\u001b[49m\u001b[43mphoneme\u001b[49m\u001b[43m,\u001b[49m\u001b[43m \u001b[49m\u001b[43mspeakers\u001b[49m\u001b[43m,\u001b[49m\u001b[43m \u001b[49m\u001b[43mtarget_duration\u001b[49m\u001b[43m,\u001b[49m\u001b[43m \u001b[49m\u001b[43mtarget_pitch\u001b[49m\u001b[43m,\u001b[49m\u001b[43m \u001b[49m\u001b[43mtarget_energy\u001b[49m\u001b[43m)\u001b[49m\n\u001b[1;32m     47\u001b[0m \u001b[38;5;66;03m# Compute loss\u001b[39;00m\n\u001b[1;32m     48\u001b[0m targets \u001b[38;5;241m=\u001b[39m (mel_target, target_duration, target_pitch, target_energy, mel_length, phon_len)\n",
      "File \u001b[0;32m/opt/conda/lib/python3.10/site-packages/torch/nn/modules/module.py:1511\u001b[0m, in \u001b[0;36mModule._wrapped_call_impl\u001b[0;34m(self, *args, **kwargs)\u001b[0m\n\u001b[1;32m   1509\u001b[0m     \u001b[38;5;28;01mreturn\u001b[39;00m \u001b[38;5;28mself\u001b[39m\u001b[38;5;241m.\u001b[39m_compiled_call_impl(\u001b[38;5;241m*\u001b[39margs, \u001b[38;5;241m*\u001b[39m\u001b[38;5;241m*\u001b[39mkwargs)  \u001b[38;5;66;03m# type: ignore[misc]\u001b[39;00m\n\u001b[1;32m   1510\u001b[0m \u001b[38;5;28;01melse\u001b[39;00m:\n\u001b[0;32m-> 1511\u001b[0m     \u001b[38;5;28;01mreturn\u001b[39;00m \u001b[38;5;28;43mself\u001b[39;49m\u001b[38;5;241;43m.\u001b[39;49m\u001b[43m_call_impl\u001b[49m\u001b[43m(\u001b[49m\u001b[38;5;241;43m*\u001b[39;49m\u001b[43margs\u001b[49m\u001b[43m,\u001b[49m\u001b[43m \u001b[49m\u001b[38;5;241;43m*\u001b[39;49m\u001b[38;5;241;43m*\u001b[39;49m\u001b[43mkwargs\u001b[49m\u001b[43m)\u001b[49m\n",
      "File \u001b[0;32m/opt/conda/lib/python3.10/site-packages/torch/nn/modules/module.py:1520\u001b[0m, in \u001b[0;36mModule._call_impl\u001b[0;34m(self, *args, **kwargs)\u001b[0m\n\u001b[1;32m   1515\u001b[0m \u001b[38;5;66;03m# If we don't have any hooks, we want to skip the rest of the logic in\u001b[39;00m\n\u001b[1;32m   1516\u001b[0m \u001b[38;5;66;03m# this function, and just call forward.\u001b[39;00m\n\u001b[1;32m   1517\u001b[0m \u001b[38;5;28;01mif\u001b[39;00m \u001b[38;5;129;01mnot\u001b[39;00m (\u001b[38;5;28mself\u001b[39m\u001b[38;5;241m.\u001b[39m_backward_hooks \u001b[38;5;129;01mor\u001b[39;00m \u001b[38;5;28mself\u001b[39m\u001b[38;5;241m.\u001b[39m_backward_pre_hooks \u001b[38;5;129;01mor\u001b[39;00m \u001b[38;5;28mself\u001b[39m\u001b[38;5;241m.\u001b[39m_forward_hooks \u001b[38;5;129;01mor\u001b[39;00m \u001b[38;5;28mself\u001b[39m\u001b[38;5;241m.\u001b[39m_forward_pre_hooks\n\u001b[1;32m   1518\u001b[0m         \u001b[38;5;129;01mor\u001b[39;00m _global_backward_pre_hooks \u001b[38;5;129;01mor\u001b[39;00m _global_backward_hooks\n\u001b[1;32m   1519\u001b[0m         \u001b[38;5;129;01mor\u001b[39;00m _global_forward_hooks \u001b[38;5;129;01mor\u001b[39;00m _global_forward_pre_hooks):\n\u001b[0;32m-> 1520\u001b[0m     \u001b[38;5;28;01mreturn\u001b[39;00m \u001b[43mforward_call\u001b[49m\u001b[43m(\u001b[49m\u001b[38;5;241;43m*\u001b[39;49m\u001b[43margs\u001b[49m\u001b[43m,\u001b[49m\u001b[43m \u001b[49m\u001b[38;5;241;43m*\u001b[39;49m\u001b[38;5;241;43m*\u001b[39;49m\u001b[43mkwargs\u001b[49m\u001b[43m)\u001b[49m\n\u001b[1;32m   1522\u001b[0m \u001b[38;5;28;01mtry\u001b[39;00m:\n\u001b[1;32m   1523\u001b[0m     result \u001b[38;5;241m=\u001b[39m \u001b[38;5;28;01mNone\u001b[39;00m\n",
      "Cell \u001b[0;32mIn[8], line 413\u001b[0m, in \u001b[0;36mFastSpeech2.forward\u001b[0;34m(self, tokens, speakers, durations, pitch, energy, pace, pitch_rate, energy_rate)\u001b[0m\n\u001b[1;32m    410\u001b[0m pos \u001b[38;5;241m=\u001b[39m \u001b[38;5;28mself\u001b[39m\u001b[38;5;241m.\u001b[39msinusoidal_positional_embed_decoder(spec_feats)\n\u001b[1;32m    411\u001b[0m spec_feats \u001b[38;5;241m=\u001b[39m torch\u001b[38;5;241m.\u001b[39madd(spec_feats, pos) \u001b[38;5;241m*\u001b[39m srcmask_inverted\n\u001b[0;32m--> 413\u001b[0m output_mel_feats, memory, \u001b[38;5;241m*\u001b[39m_ \u001b[38;5;241m=\u001b[39m \u001b[38;5;28;43mself\u001b[39;49m\u001b[38;5;241;43m.\u001b[39;49m\u001b[43mdecoder\u001b[49m\u001b[43m(\u001b[49m\n\u001b[1;32m    414\u001b[0m \u001b[43m    \u001b[49m\u001b[43mspec_feats\u001b[49m\u001b[43m,\u001b[49m\u001b[43m \u001b[49m\u001b[43msrc_mask\u001b[49m\u001b[38;5;241;43m=\u001b[39;49m\u001b[43mattn_mask\u001b[49m\u001b[43m,\u001b[49m\u001b[43m \u001b[49m\u001b[43msrc_key_padding_mask\u001b[49m\u001b[38;5;241;43m=\u001b[39;49m\u001b[43msrcmask\u001b[49m\n\u001b[1;32m    415\u001b[0m \u001b[43m\u001b[49m\u001b[43m)\u001b[49m\n\u001b[1;32m    417\u001b[0m \u001b[38;5;66;03m# postnet\u001b[39;00m\n\u001b[1;32m    418\u001b[0m mel_post \u001b[38;5;241m=\u001b[39m \u001b[38;5;28mself\u001b[39m\u001b[38;5;241m.\u001b[39mlinear(output_mel_feats) \u001b[38;5;241m*\u001b[39m srcmask_inverted\n",
      "File \u001b[0;32m/opt/conda/lib/python3.10/site-packages/torch/nn/modules/module.py:1511\u001b[0m, in \u001b[0;36mModule._wrapped_call_impl\u001b[0;34m(self, *args, **kwargs)\u001b[0m\n\u001b[1;32m   1509\u001b[0m     \u001b[38;5;28;01mreturn\u001b[39;00m \u001b[38;5;28mself\u001b[39m\u001b[38;5;241m.\u001b[39m_compiled_call_impl(\u001b[38;5;241m*\u001b[39margs, \u001b[38;5;241m*\u001b[39m\u001b[38;5;241m*\u001b[39mkwargs)  \u001b[38;5;66;03m# type: ignore[misc]\u001b[39;00m\n\u001b[1;32m   1510\u001b[0m \u001b[38;5;28;01melse\u001b[39;00m:\n\u001b[0;32m-> 1511\u001b[0m     \u001b[38;5;28;01mreturn\u001b[39;00m \u001b[38;5;28;43mself\u001b[39;49m\u001b[38;5;241;43m.\u001b[39;49m\u001b[43m_call_impl\u001b[49m\u001b[43m(\u001b[49m\u001b[38;5;241;43m*\u001b[39;49m\u001b[43margs\u001b[49m\u001b[43m,\u001b[49m\u001b[43m \u001b[49m\u001b[38;5;241;43m*\u001b[39;49m\u001b[38;5;241;43m*\u001b[39;49m\u001b[43mkwargs\u001b[49m\u001b[43m)\u001b[49m\n",
      "File \u001b[0;32m/opt/conda/lib/python3.10/site-packages/torch/nn/modules/module.py:1520\u001b[0m, in \u001b[0;36mModule._call_impl\u001b[0;34m(self, *args, **kwargs)\u001b[0m\n\u001b[1;32m   1515\u001b[0m \u001b[38;5;66;03m# If we don't have any hooks, we want to skip the rest of the logic in\u001b[39;00m\n\u001b[1;32m   1516\u001b[0m \u001b[38;5;66;03m# this function, and just call forward.\u001b[39;00m\n\u001b[1;32m   1517\u001b[0m \u001b[38;5;28;01mif\u001b[39;00m \u001b[38;5;129;01mnot\u001b[39;00m (\u001b[38;5;28mself\u001b[39m\u001b[38;5;241m.\u001b[39m_backward_hooks \u001b[38;5;129;01mor\u001b[39;00m \u001b[38;5;28mself\u001b[39m\u001b[38;5;241m.\u001b[39m_backward_pre_hooks \u001b[38;5;129;01mor\u001b[39;00m \u001b[38;5;28mself\u001b[39m\u001b[38;5;241m.\u001b[39m_forward_hooks \u001b[38;5;129;01mor\u001b[39;00m \u001b[38;5;28mself\u001b[39m\u001b[38;5;241m.\u001b[39m_forward_pre_hooks\n\u001b[1;32m   1518\u001b[0m         \u001b[38;5;129;01mor\u001b[39;00m _global_backward_pre_hooks \u001b[38;5;129;01mor\u001b[39;00m _global_backward_hooks\n\u001b[1;32m   1519\u001b[0m         \u001b[38;5;129;01mor\u001b[39;00m _global_forward_hooks \u001b[38;5;129;01mor\u001b[39;00m _global_forward_pre_hooks):\n\u001b[0;32m-> 1520\u001b[0m     \u001b[38;5;28;01mreturn\u001b[39;00m \u001b[43mforward_call\u001b[49m\u001b[43m(\u001b[49m\u001b[38;5;241;43m*\u001b[39;49m\u001b[43margs\u001b[49m\u001b[43m,\u001b[49m\u001b[43m \u001b[49m\u001b[38;5;241;43m*\u001b[39;49m\u001b[38;5;241;43m*\u001b[39;49m\u001b[43mkwargs\u001b[49m\u001b[43m)\u001b[49m\n\u001b[1;32m   1522\u001b[0m \u001b[38;5;28;01mtry\u001b[39;00m:\n\u001b[1;32m   1523\u001b[0m     result \u001b[38;5;241m=\u001b[39m \u001b[38;5;28;01mNone\u001b[39;00m\n",
      "File \u001b[0;32m/opt/conda/lib/python3.10/site-packages/speechbrain/lobes/models/transformer/Transformer.py:639\u001b[0m, in \u001b[0;36mTransformerEncoder.forward\u001b[0;34m(self, src, src_mask, src_key_padding_mask, pos_embs, dynchunktrain_config)\u001b[0m\n\u001b[1;32m    633\u001b[0m \u001b[38;5;28;01mfor\u001b[39;00m i, enc_layer \u001b[38;5;129;01min\u001b[39;00m \u001b[38;5;28menumerate\u001b[39m(\u001b[38;5;28mself\u001b[39m\u001b[38;5;241m.\u001b[39mlayers):\n\u001b[1;32m    634\u001b[0m     \u001b[38;5;28;01mif\u001b[39;00m (\n\u001b[1;32m    635\u001b[0m         \u001b[38;5;129;01mnot\u001b[39;00m \u001b[38;5;28mself\u001b[39m\u001b[38;5;241m.\u001b[39mtraining\n\u001b[1;32m    636\u001b[0m         \u001b[38;5;129;01mor\u001b[39;00m \u001b[38;5;28mself\u001b[39m\u001b[38;5;241m.\u001b[39mlayerdrop_prob \u001b[38;5;241m==\u001b[39m \u001b[38;5;241m0.0\u001b[39m\n\u001b[1;32m    637\u001b[0m         \u001b[38;5;129;01mor\u001b[39;00m keep_probs[i] \u001b[38;5;241m>\u001b[39m \u001b[38;5;28mself\u001b[39m\u001b[38;5;241m.\u001b[39mlayerdrop_prob\n\u001b[1;32m    638\u001b[0m     ):\n\u001b[0;32m--> 639\u001b[0m         output, attention \u001b[38;5;241m=\u001b[39m \u001b[43menc_layer\u001b[49m\u001b[43m(\u001b[49m\n\u001b[1;32m    640\u001b[0m \u001b[43m            \u001b[49m\u001b[43moutput\u001b[49m\u001b[43m,\u001b[49m\n\u001b[1;32m    641\u001b[0m \u001b[43m            \u001b[49m\u001b[43msrc_mask\u001b[49m\u001b[38;5;241;43m=\u001b[39;49m\u001b[43msrc_mask\u001b[49m\u001b[43m,\u001b[49m\n\u001b[1;32m    642\u001b[0m \u001b[43m            \u001b[49m\u001b[43msrc_key_padding_mask\u001b[49m\u001b[38;5;241;43m=\u001b[39;49m\u001b[43msrc_key_padding_mask\u001b[49m\u001b[43m,\u001b[49m\n\u001b[1;32m    643\u001b[0m \u001b[43m            \u001b[49m\u001b[43mpos_embs\u001b[49m\u001b[38;5;241;43m=\u001b[39;49m\u001b[43mpos_embs\u001b[49m\u001b[43m,\u001b[49m\n\u001b[1;32m    644\u001b[0m \u001b[43m        \u001b[49m\u001b[43m)\u001b[49m\n\u001b[1;32m    645\u001b[0m         attention_lst\u001b[38;5;241m.\u001b[39mappend(attention)\n\u001b[1;32m    647\u001b[0m         \u001b[38;5;28;01mif\u001b[39;00m \u001b[38;5;28mself\u001b[39m\u001b[38;5;241m.\u001b[39moutput_hidden_states:\n",
      "File \u001b[0;32m/opt/conda/lib/python3.10/site-packages/torch/nn/modules/module.py:1511\u001b[0m, in \u001b[0;36mModule._wrapped_call_impl\u001b[0;34m(self, *args, **kwargs)\u001b[0m\n\u001b[1;32m   1509\u001b[0m     \u001b[38;5;28;01mreturn\u001b[39;00m \u001b[38;5;28mself\u001b[39m\u001b[38;5;241m.\u001b[39m_compiled_call_impl(\u001b[38;5;241m*\u001b[39margs, \u001b[38;5;241m*\u001b[39m\u001b[38;5;241m*\u001b[39mkwargs)  \u001b[38;5;66;03m# type: ignore[misc]\u001b[39;00m\n\u001b[1;32m   1510\u001b[0m \u001b[38;5;28;01melse\u001b[39;00m:\n\u001b[0;32m-> 1511\u001b[0m     \u001b[38;5;28;01mreturn\u001b[39;00m \u001b[38;5;28;43mself\u001b[39;49m\u001b[38;5;241;43m.\u001b[39;49m\u001b[43m_call_impl\u001b[49m\u001b[43m(\u001b[49m\u001b[38;5;241;43m*\u001b[39;49m\u001b[43margs\u001b[49m\u001b[43m,\u001b[49m\u001b[43m \u001b[49m\u001b[38;5;241;43m*\u001b[39;49m\u001b[38;5;241;43m*\u001b[39;49m\u001b[43mkwargs\u001b[49m\u001b[43m)\u001b[49m\n",
      "File \u001b[0;32m/opt/conda/lib/python3.10/site-packages/torch/nn/modules/module.py:1520\u001b[0m, in \u001b[0;36mModule._call_impl\u001b[0;34m(self, *args, **kwargs)\u001b[0m\n\u001b[1;32m   1515\u001b[0m \u001b[38;5;66;03m# If we don't have any hooks, we want to skip the rest of the logic in\u001b[39;00m\n\u001b[1;32m   1516\u001b[0m \u001b[38;5;66;03m# this function, and just call forward.\u001b[39;00m\n\u001b[1;32m   1517\u001b[0m \u001b[38;5;28;01mif\u001b[39;00m \u001b[38;5;129;01mnot\u001b[39;00m (\u001b[38;5;28mself\u001b[39m\u001b[38;5;241m.\u001b[39m_backward_hooks \u001b[38;5;129;01mor\u001b[39;00m \u001b[38;5;28mself\u001b[39m\u001b[38;5;241m.\u001b[39m_backward_pre_hooks \u001b[38;5;129;01mor\u001b[39;00m \u001b[38;5;28mself\u001b[39m\u001b[38;5;241m.\u001b[39m_forward_hooks \u001b[38;5;129;01mor\u001b[39;00m \u001b[38;5;28mself\u001b[39m\u001b[38;5;241m.\u001b[39m_forward_pre_hooks\n\u001b[1;32m   1518\u001b[0m         \u001b[38;5;129;01mor\u001b[39;00m _global_backward_pre_hooks \u001b[38;5;129;01mor\u001b[39;00m _global_backward_hooks\n\u001b[1;32m   1519\u001b[0m         \u001b[38;5;129;01mor\u001b[39;00m _global_forward_hooks \u001b[38;5;129;01mor\u001b[39;00m _global_forward_pre_hooks):\n\u001b[0;32m-> 1520\u001b[0m     \u001b[38;5;28;01mreturn\u001b[39;00m \u001b[43mforward_call\u001b[49m\u001b[43m(\u001b[49m\u001b[38;5;241;43m*\u001b[39;49m\u001b[43margs\u001b[49m\u001b[43m,\u001b[49m\u001b[43m \u001b[49m\u001b[38;5;241;43m*\u001b[39;49m\u001b[38;5;241;43m*\u001b[39;49m\u001b[43mkwargs\u001b[49m\u001b[43m)\u001b[49m\n\u001b[1;32m   1522\u001b[0m \u001b[38;5;28;01mtry\u001b[39;00m:\n\u001b[1;32m   1523\u001b[0m     result \u001b[38;5;241m=\u001b[39m \u001b[38;5;28;01mNone\u001b[39;00m\n",
      "File \u001b[0;32m/opt/conda/lib/python3.10/site-packages/speechbrain/lobes/models/transformer/Transformer.py:475\u001b[0m, in \u001b[0;36mTransformerEncoderLayer.forward\u001b[0;34m(self, src, src_mask, src_key_padding_mask, pos_embs)\u001b[0m\n\u001b[1;32m    473\u001b[0m \u001b[38;5;28;01melse\u001b[39;00m:\n\u001b[1;32m    474\u001b[0m     src1 \u001b[38;5;241m=\u001b[39m src\n\u001b[0;32m--> 475\u001b[0m output \u001b[38;5;241m=\u001b[39m \u001b[38;5;28;43mself\u001b[39;49m\u001b[38;5;241;43m.\u001b[39;49m\u001b[43mpos_ffn\u001b[49m\u001b[43m(\u001b[49m\u001b[43msrc1\u001b[49m\u001b[43m)\u001b[49m\n\u001b[1;32m    477\u001b[0m \u001b[38;5;66;03m# add & norm\u001b[39;00m\n\u001b[1;32m    478\u001b[0m output \u001b[38;5;241m=\u001b[39m src \u001b[38;5;241m+\u001b[39m \u001b[38;5;28mself\u001b[39m\u001b[38;5;241m.\u001b[39mdropout2(output)\n",
      "File \u001b[0;32m/opt/conda/lib/python3.10/site-packages/torch/nn/modules/module.py:1511\u001b[0m, in \u001b[0;36mModule._wrapped_call_impl\u001b[0;34m(self, *args, **kwargs)\u001b[0m\n\u001b[1;32m   1509\u001b[0m     \u001b[38;5;28;01mreturn\u001b[39;00m \u001b[38;5;28mself\u001b[39m\u001b[38;5;241m.\u001b[39m_compiled_call_impl(\u001b[38;5;241m*\u001b[39margs, \u001b[38;5;241m*\u001b[39m\u001b[38;5;241m*\u001b[39mkwargs)  \u001b[38;5;66;03m# type: ignore[misc]\u001b[39;00m\n\u001b[1;32m   1510\u001b[0m \u001b[38;5;28;01melse\u001b[39;00m:\n\u001b[0;32m-> 1511\u001b[0m     \u001b[38;5;28;01mreturn\u001b[39;00m \u001b[38;5;28;43mself\u001b[39;49m\u001b[38;5;241;43m.\u001b[39;49m\u001b[43m_call_impl\u001b[49m\u001b[43m(\u001b[49m\u001b[38;5;241;43m*\u001b[39;49m\u001b[43margs\u001b[49m\u001b[43m,\u001b[49m\u001b[43m \u001b[49m\u001b[38;5;241;43m*\u001b[39;49m\u001b[38;5;241;43m*\u001b[39;49m\u001b[43mkwargs\u001b[49m\u001b[43m)\u001b[49m\n",
      "File \u001b[0;32m/opt/conda/lib/python3.10/site-packages/torch/nn/modules/module.py:1520\u001b[0m, in \u001b[0;36mModule._call_impl\u001b[0;34m(self, *args, **kwargs)\u001b[0m\n\u001b[1;32m   1515\u001b[0m \u001b[38;5;66;03m# If we don't have any hooks, we want to skip the rest of the logic in\u001b[39;00m\n\u001b[1;32m   1516\u001b[0m \u001b[38;5;66;03m# this function, and just call forward.\u001b[39;00m\n\u001b[1;32m   1517\u001b[0m \u001b[38;5;28;01mif\u001b[39;00m \u001b[38;5;129;01mnot\u001b[39;00m (\u001b[38;5;28mself\u001b[39m\u001b[38;5;241m.\u001b[39m_backward_hooks \u001b[38;5;129;01mor\u001b[39;00m \u001b[38;5;28mself\u001b[39m\u001b[38;5;241m.\u001b[39m_backward_pre_hooks \u001b[38;5;129;01mor\u001b[39;00m \u001b[38;5;28mself\u001b[39m\u001b[38;5;241m.\u001b[39m_forward_hooks \u001b[38;5;129;01mor\u001b[39;00m \u001b[38;5;28mself\u001b[39m\u001b[38;5;241m.\u001b[39m_forward_pre_hooks\n\u001b[1;32m   1518\u001b[0m         \u001b[38;5;129;01mor\u001b[39;00m _global_backward_pre_hooks \u001b[38;5;129;01mor\u001b[39;00m _global_backward_hooks\n\u001b[1;32m   1519\u001b[0m         \u001b[38;5;129;01mor\u001b[39;00m _global_forward_hooks \u001b[38;5;129;01mor\u001b[39;00m _global_forward_pre_hooks):\n\u001b[0;32m-> 1520\u001b[0m     \u001b[38;5;28;01mreturn\u001b[39;00m \u001b[43mforward_call\u001b[49m\u001b[43m(\u001b[49m\u001b[38;5;241;43m*\u001b[39;49m\u001b[43margs\u001b[49m\u001b[43m,\u001b[49m\u001b[43m \u001b[49m\u001b[38;5;241;43m*\u001b[39;49m\u001b[38;5;241;43m*\u001b[39;49m\u001b[43mkwargs\u001b[49m\u001b[43m)\u001b[49m\n\u001b[1;32m   1522\u001b[0m \u001b[38;5;28;01mtry\u001b[39;00m:\n\u001b[1;32m   1523\u001b[0m     result \u001b[38;5;241m=\u001b[39m \u001b[38;5;28;01mNone\u001b[39;00m\n",
      "File \u001b[0;32m/opt/conda/lib/python3.10/site-packages/torch/nn/modules/container.py:217\u001b[0m, in \u001b[0;36mSequential.forward\u001b[0;34m(self, input)\u001b[0m\n\u001b[1;32m    215\u001b[0m \u001b[38;5;28;01mdef\u001b[39;00m \u001b[38;5;21mforward\u001b[39m(\u001b[38;5;28mself\u001b[39m, \u001b[38;5;28minput\u001b[39m):\n\u001b[1;32m    216\u001b[0m     \u001b[38;5;28;01mfor\u001b[39;00m module \u001b[38;5;129;01min\u001b[39;00m \u001b[38;5;28mself\u001b[39m:\n\u001b[0;32m--> 217\u001b[0m         \u001b[38;5;28minput\u001b[39m \u001b[38;5;241m=\u001b[39m \u001b[43mmodule\u001b[49m\u001b[43m(\u001b[49m\u001b[38;5;28;43minput\u001b[39;49m\u001b[43m)\u001b[49m\n\u001b[1;32m    218\u001b[0m     \u001b[38;5;28;01mreturn\u001b[39;00m \u001b[38;5;28minput\u001b[39m\n",
      "File \u001b[0;32m/opt/conda/lib/python3.10/site-packages/torch/nn/modules/module.py:1511\u001b[0m, in \u001b[0;36mModule._wrapped_call_impl\u001b[0;34m(self, *args, **kwargs)\u001b[0m\n\u001b[1;32m   1509\u001b[0m     \u001b[38;5;28;01mreturn\u001b[39;00m \u001b[38;5;28mself\u001b[39m\u001b[38;5;241m.\u001b[39m_compiled_call_impl(\u001b[38;5;241m*\u001b[39margs, \u001b[38;5;241m*\u001b[39m\u001b[38;5;241m*\u001b[39mkwargs)  \u001b[38;5;66;03m# type: ignore[misc]\u001b[39;00m\n\u001b[1;32m   1510\u001b[0m \u001b[38;5;28;01melse\u001b[39;00m:\n\u001b[0;32m-> 1511\u001b[0m     \u001b[38;5;28;01mreturn\u001b[39;00m \u001b[38;5;28;43mself\u001b[39;49m\u001b[38;5;241;43m.\u001b[39;49m\u001b[43m_call_impl\u001b[49m\u001b[43m(\u001b[49m\u001b[38;5;241;43m*\u001b[39;49m\u001b[43margs\u001b[49m\u001b[43m,\u001b[49m\u001b[43m \u001b[49m\u001b[38;5;241;43m*\u001b[39;49m\u001b[38;5;241;43m*\u001b[39;49m\u001b[43mkwargs\u001b[49m\u001b[43m)\u001b[49m\n",
      "File \u001b[0;32m/opt/conda/lib/python3.10/site-packages/torch/nn/modules/module.py:1520\u001b[0m, in \u001b[0;36mModule._call_impl\u001b[0;34m(self, *args, **kwargs)\u001b[0m\n\u001b[1;32m   1515\u001b[0m \u001b[38;5;66;03m# If we don't have any hooks, we want to skip the rest of the logic in\u001b[39;00m\n\u001b[1;32m   1516\u001b[0m \u001b[38;5;66;03m# this function, and just call forward.\u001b[39;00m\n\u001b[1;32m   1517\u001b[0m \u001b[38;5;28;01mif\u001b[39;00m \u001b[38;5;129;01mnot\u001b[39;00m (\u001b[38;5;28mself\u001b[39m\u001b[38;5;241m.\u001b[39m_backward_hooks \u001b[38;5;129;01mor\u001b[39;00m \u001b[38;5;28mself\u001b[39m\u001b[38;5;241m.\u001b[39m_backward_pre_hooks \u001b[38;5;129;01mor\u001b[39;00m \u001b[38;5;28mself\u001b[39m\u001b[38;5;241m.\u001b[39m_forward_hooks \u001b[38;5;129;01mor\u001b[39;00m \u001b[38;5;28mself\u001b[39m\u001b[38;5;241m.\u001b[39m_forward_pre_hooks\n\u001b[1;32m   1518\u001b[0m         \u001b[38;5;129;01mor\u001b[39;00m _global_backward_pre_hooks \u001b[38;5;129;01mor\u001b[39;00m _global_backward_hooks\n\u001b[1;32m   1519\u001b[0m         \u001b[38;5;129;01mor\u001b[39;00m _global_forward_hooks \u001b[38;5;129;01mor\u001b[39;00m _global_forward_pre_hooks):\n\u001b[0;32m-> 1520\u001b[0m     \u001b[38;5;28;01mreturn\u001b[39;00m \u001b[43mforward_call\u001b[49m\u001b[43m(\u001b[49m\u001b[38;5;241;43m*\u001b[39;49m\u001b[43margs\u001b[49m\u001b[43m,\u001b[49m\u001b[43m \u001b[49m\u001b[38;5;241;43m*\u001b[39;49m\u001b[38;5;241;43m*\u001b[39;49m\u001b[43mkwargs\u001b[49m\u001b[43m)\u001b[49m\n\u001b[1;32m   1522\u001b[0m \u001b[38;5;28;01mtry\u001b[39;00m:\n\u001b[1;32m   1523\u001b[0m     result \u001b[38;5;241m=\u001b[39m \u001b[38;5;28;01mNone\u001b[39;00m\n",
      "File \u001b[0;32m/opt/conda/lib/python3.10/site-packages/speechbrain/nnet/CNN.py:455\u001b[0m, in \u001b[0;36mConv1d.forward\u001b[0;34m(self, x)\u001b[0m\n\u001b[1;32m    449\u001b[0m \u001b[38;5;28;01melse\u001b[39;00m:\n\u001b[1;32m    450\u001b[0m     \u001b[38;5;28;01mraise\u001b[39;00m \u001b[38;5;167;01mValueError\u001b[39;00m(\n\u001b[1;32m    451\u001b[0m         \u001b[38;5;124m\"\u001b[39m\u001b[38;5;124mPadding must be \u001b[39m\u001b[38;5;124m'\u001b[39m\u001b[38;5;124msame\u001b[39m\u001b[38;5;124m'\u001b[39m\u001b[38;5;124m, \u001b[39m\u001b[38;5;124m'\u001b[39m\u001b[38;5;124mvalid\u001b[39m\u001b[38;5;124m'\u001b[39m\u001b[38;5;124m or \u001b[39m\u001b[38;5;124m'\u001b[39m\u001b[38;5;124mcausal\u001b[39m\u001b[38;5;124m'\u001b[39m\u001b[38;5;124m. Got \u001b[39m\u001b[38;5;124m\"\u001b[39m\n\u001b[1;32m    452\u001b[0m         \u001b[38;5;241m+\u001b[39m \u001b[38;5;28mself\u001b[39m\u001b[38;5;241m.\u001b[39mpadding\n\u001b[1;32m    453\u001b[0m     )\n\u001b[0;32m--> 455\u001b[0m wx \u001b[38;5;241m=\u001b[39m \u001b[38;5;28;43mself\u001b[39;49m\u001b[38;5;241;43m.\u001b[39;49m\u001b[43mconv\u001b[49m\u001b[43m(\u001b[49m\u001b[43mx\u001b[49m\u001b[43m)\u001b[49m\n\u001b[1;32m    457\u001b[0m \u001b[38;5;28;01mif\u001b[39;00m \u001b[38;5;28mself\u001b[39m\u001b[38;5;241m.\u001b[39munsqueeze:\n\u001b[1;32m    458\u001b[0m     wx \u001b[38;5;241m=\u001b[39m wx\u001b[38;5;241m.\u001b[39msqueeze(\u001b[38;5;241m1\u001b[39m)\n",
      "File \u001b[0;32m/opt/conda/lib/python3.10/site-packages/torch/nn/modules/module.py:1511\u001b[0m, in \u001b[0;36mModule._wrapped_call_impl\u001b[0;34m(self, *args, **kwargs)\u001b[0m\n\u001b[1;32m   1509\u001b[0m     \u001b[38;5;28;01mreturn\u001b[39;00m \u001b[38;5;28mself\u001b[39m\u001b[38;5;241m.\u001b[39m_compiled_call_impl(\u001b[38;5;241m*\u001b[39margs, \u001b[38;5;241m*\u001b[39m\u001b[38;5;241m*\u001b[39mkwargs)  \u001b[38;5;66;03m# type: ignore[misc]\u001b[39;00m\n\u001b[1;32m   1510\u001b[0m \u001b[38;5;28;01melse\u001b[39;00m:\n\u001b[0;32m-> 1511\u001b[0m     \u001b[38;5;28;01mreturn\u001b[39;00m \u001b[38;5;28;43mself\u001b[39;49m\u001b[38;5;241;43m.\u001b[39;49m\u001b[43m_call_impl\u001b[49m\u001b[43m(\u001b[49m\u001b[38;5;241;43m*\u001b[39;49m\u001b[43margs\u001b[49m\u001b[43m,\u001b[49m\u001b[43m \u001b[49m\u001b[38;5;241;43m*\u001b[39;49m\u001b[38;5;241;43m*\u001b[39;49m\u001b[43mkwargs\u001b[49m\u001b[43m)\u001b[49m\n",
      "File \u001b[0;32m/opt/conda/lib/python3.10/site-packages/torch/nn/modules/module.py:1520\u001b[0m, in \u001b[0;36mModule._call_impl\u001b[0;34m(self, *args, **kwargs)\u001b[0m\n\u001b[1;32m   1515\u001b[0m \u001b[38;5;66;03m# If we don't have any hooks, we want to skip the rest of the logic in\u001b[39;00m\n\u001b[1;32m   1516\u001b[0m \u001b[38;5;66;03m# this function, and just call forward.\u001b[39;00m\n\u001b[1;32m   1517\u001b[0m \u001b[38;5;28;01mif\u001b[39;00m \u001b[38;5;129;01mnot\u001b[39;00m (\u001b[38;5;28mself\u001b[39m\u001b[38;5;241m.\u001b[39m_backward_hooks \u001b[38;5;129;01mor\u001b[39;00m \u001b[38;5;28mself\u001b[39m\u001b[38;5;241m.\u001b[39m_backward_pre_hooks \u001b[38;5;129;01mor\u001b[39;00m \u001b[38;5;28mself\u001b[39m\u001b[38;5;241m.\u001b[39m_forward_hooks \u001b[38;5;129;01mor\u001b[39;00m \u001b[38;5;28mself\u001b[39m\u001b[38;5;241m.\u001b[39m_forward_pre_hooks\n\u001b[1;32m   1518\u001b[0m         \u001b[38;5;129;01mor\u001b[39;00m _global_backward_pre_hooks \u001b[38;5;129;01mor\u001b[39;00m _global_backward_hooks\n\u001b[1;32m   1519\u001b[0m         \u001b[38;5;129;01mor\u001b[39;00m _global_forward_hooks \u001b[38;5;129;01mor\u001b[39;00m _global_forward_pre_hooks):\n\u001b[0;32m-> 1520\u001b[0m     \u001b[38;5;28;01mreturn\u001b[39;00m \u001b[43mforward_call\u001b[49m\u001b[43m(\u001b[49m\u001b[38;5;241;43m*\u001b[39;49m\u001b[43margs\u001b[49m\u001b[43m,\u001b[49m\u001b[43m \u001b[49m\u001b[38;5;241;43m*\u001b[39;49m\u001b[38;5;241;43m*\u001b[39;49m\u001b[43mkwargs\u001b[49m\u001b[43m)\u001b[49m\n\u001b[1;32m   1522\u001b[0m \u001b[38;5;28;01mtry\u001b[39;00m:\n\u001b[1;32m   1523\u001b[0m     result \u001b[38;5;241m=\u001b[39m \u001b[38;5;28;01mNone\u001b[39;00m\n",
      "File \u001b[0;32m/opt/conda/lib/python3.10/site-packages/torch/nn/modules/conv.py:310\u001b[0m, in \u001b[0;36mConv1d.forward\u001b[0;34m(self, input)\u001b[0m\n\u001b[1;32m    309\u001b[0m \u001b[38;5;28;01mdef\u001b[39;00m \u001b[38;5;21mforward\u001b[39m(\u001b[38;5;28mself\u001b[39m, \u001b[38;5;28minput\u001b[39m: Tensor) \u001b[38;5;241m-\u001b[39m\u001b[38;5;241m>\u001b[39m Tensor:\n\u001b[0;32m--> 310\u001b[0m     \u001b[38;5;28;01mreturn\u001b[39;00m \u001b[38;5;28;43mself\u001b[39;49m\u001b[38;5;241;43m.\u001b[39;49m\u001b[43m_conv_forward\u001b[49m\u001b[43m(\u001b[49m\u001b[38;5;28;43minput\u001b[39;49m\u001b[43m,\u001b[49m\u001b[43m \u001b[49m\u001b[38;5;28;43mself\u001b[39;49m\u001b[38;5;241;43m.\u001b[39;49m\u001b[43mweight\u001b[49m\u001b[43m,\u001b[49m\u001b[43m \u001b[49m\u001b[38;5;28;43mself\u001b[39;49m\u001b[38;5;241;43m.\u001b[39;49m\u001b[43mbias\u001b[49m\u001b[43m)\u001b[49m\n",
      "File \u001b[0;32m/opt/conda/lib/python3.10/site-packages/torch/nn/modules/conv.py:306\u001b[0m, in \u001b[0;36mConv1d._conv_forward\u001b[0;34m(self, input, weight, bias)\u001b[0m\n\u001b[1;32m    302\u001b[0m \u001b[38;5;28;01mif\u001b[39;00m \u001b[38;5;28mself\u001b[39m\u001b[38;5;241m.\u001b[39mpadding_mode \u001b[38;5;241m!=\u001b[39m \u001b[38;5;124m'\u001b[39m\u001b[38;5;124mzeros\u001b[39m\u001b[38;5;124m'\u001b[39m:\n\u001b[1;32m    303\u001b[0m     \u001b[38;5;28;01mreturn\u001b[39;00m F\u001b[38;5;241m.\u001b[39mconv1d(F\u001b[38;5;241m.\u001b[39mpad(\u001b[38;5;28minput\u001b[39m, \u001b[38;5;28mself\u001b[39m\u001b[38;5;241m.\u001b[39m_reversed_padding_repeated_twice, mode\u001b[38;5;241m=\u001b[39m\u001b[38;5;28mself\u001b[39m\u001b[38;5;241m.\u001b[39mpadding_mode),\n\u001b[1;32m    304\u001b[0m                     weight, bias, \u001b[38;5;28mself\u001b[39m\u001b[38;5;241m.\u001b[39mstride,\n\u001b[1;32m    305\u001b[0m                     _single(\u001b[38;5;241m0\u001b[39m), \u001b[38;5;28mself\u001b[39m\u001b[38;5;241m.\u001b[39mdilation, \u001b[38;5;28mself\u001b[39m\u001b[38;5;241m.\u001b[39mgroups)\n\u001b[0;32m--> 306\u001b[0m \u001b[38;5;28;01mreturn\u001b[39;00m \u001b[43mF\u001b[49m\u001b[38;5;241;43m.\u001b[39;49m\u001b[43mconv1d\u001b[49m\u001b[43m(\u001b[49m\u001b[38;5;28;43minput\u001b[39;49m\u001b[43m,\u001b[49m\u001b[43m \u001b[49m\u001b[43mweight\u001b[49m\u001b[43m,\u001b[49m\u001b[43m \u001b[49m\u001b[43mbias\u001b[49m\u001b[43m,\u001b[49m\u001b[43m \u001b[49m\u001b[38;5;28;43mself\u001b[39;49m\u001b[38;5;241;43m.\u001b[39;49m\u001b[43mstride\u001b[49m\u001b[43m,\u001b[49m\n\u001b[1;32m    307\u001b[0m \u001b[43m                \u001b[49m\u001b[38;5;28;43mself\u001b[39;49m\u001b[38;5;241;43m.\u001b[39;49m\u001b[43mpadding\u001b[49m\u001b[43m,\u001b[49m\u001b[43m \u001b[49m\u001b[38;5;28;43mself\u001b[39;49m\u001b[38;5;241;43m.\u001b[39;49m\u001b[43mdilation\u001b[49m\u001b[43m,\u001b[49m\u001b[43m \u001b[49m\u001b[38;5;28;43mself\u001b[39;49m\u001b[38;5;241;43m.\u001b[39;49m\u001b[43mgroups\u001b[49m\u001b[43m)\u001b[49m\n",
      "\u001b[0;31mKeyboardInterrupt\u001b[0m: "
     ]
    }
   ],
   "source": [
    "from IPython.display import clear_output\n",
    "from collections import defaultdict\n",
    "\n",
    "# misc\n",
    "device = torch.device('cuda' if torch.cuda.is_available() else 'cpu')\n",
    "\n",
    "# dataset\n",
    "dataset = FastSpeech2Dataset(mode='train')\n",
    "collate_fn = TextMelCollateWithAlignment()\n",
    "dataloader = torch.utils.data.DataLoader(\n",
    "    dataset,\n",
    "    batch_size=8,\n",
    "    shuffle=True,\n",
    "    collate_fn=collate_fn,\n",
    "    num_workers=4,\n",
    "    pin_memory=True,\n",
    "    drop_last=True,\n",
    ")\n",
    "\n",
    "# model\n",
    "model = FastSpeech2(**config['fastspeech2']['model']).to(device)\n",
    "\n",
    "# optimizer\n",
    "optim = torch.optim.Adam(\n",
    "    model.parameters(),\n",
    "    lr=1e-4\n",
    ")\n",
    "\n",
    "# loss\n",
    "criterion = Loss(**config['fastspeech2']['loss']).to(device)\n",
    "\n",
    "\n",
    "global_step = 0\n",
    "for epoch in range(1, 400):\n",
    "\n",
    "    epoch_avg_loss = defaultdict(float)\n",
    "\n",
    "    for idx, batch in enumerate(tqdm.notebook.tqdm(dataloader)):\n",
    "        batch = batch_to_device(batch, device)\n",
    "        phoneme, speakers, phon_len, mel_target, target_pitch, target_energy, target_duration, mel_length, labels, wavs = batch\n",
    "        global_step += 1\n",
    "\n",
    "        # Forward pass\n",
    "        predictions = model(phoneme, speakers, target_duration, target_pitch, target_energy)\n",
    "\n",
    "\n",
    "        # Compute loss\n",
    "        targets = (mel_target, target_duration, target_pitch, target_energy, mel_length, phon_len)\n",
    "\n",
    "        optim.zero_grad()\n",
    "        loss = criterion(predictions, targets, epoch)\n",
    "        loss['total_loss'].backward()\n",
    "        optim.step()\n",
    "\n",
    "        # Accumulate loss\n",
    "        for loss_name, loss_value in loss.items():\n",
    "            epoch_avg_loss[loss_name] += loss_value\n",
    "\n",
    "        # Print predicted mels\n",
    "        if idx == 0:\n",
    "            melspecs = predictions[0].cpu().detach().numpy()\n",
    "            y_melspecs = mel_target.cpu().detach().numpy()\n",
    "            all_melspecs = np.concatenate((melspecs, y_melspecs), axis=0)\n",
    "            fig, axes = plt.subplots(4, 4, figsize=(16, 10))\n",
    "            for ax_idx, (ax, mel) in enumerate(zip(axes.flatten(), all_melspecs)):\n",
    "                ax.imshow(mel.T, aspect='auto', origin='lower', interpolation='none')\n",
    "                if ax_idx < len(melspecs):\n",
    "                    label = f\"Pred {ax_idx + 1}\"\n",
    "                    color = 'blue'\n",
    "                else:\n",
    "                    label = f\"GT {ax_idx - len(melspecs) + 1}\"\n",
    "                    color = 'red'\n",
    "\n",
    "                ax.text(\n",
    "                    0.95, 0.95, label,\n",
    "                    horizontalalignment='right',\n",
    "                    verticalalignment='top',\n",
    "                    transform=ax.transAxes,\n",
    "                    fontsize=12,\n",
    "                    fontweight='bold',\n",
    "                    color=color,\n",
    "                )\n",
    "                # ax.set_title('Generated Mel-Spectrogram')\n",
    "                # ax.axis('off')\n",
    "            plt.tight_layout()\n",
    "            plt.savefig('epoch_{}.png'.format(epoch))\n",
    "            plt.close()\n",
    "\n",
    "        # end of epoch\n",
    "    \n",
    "    epoch_avg_loss = {k: v / len(dataloader) for k, v in epoch_avg_loss.items()}\n",
    "    print(\"=\" * 50)\n",
    "    print(\"Epoch: {}\".format(epoch))\n",
    "    print(\"=\" * 50)\n",
    "    for loss_name, loss_value in epoch_avg_loss.items():\n",
    "        print(\"{:<30s}{:>20.4f}\".format(loss_name, loss_value))\n",
    "    print(\"=\" * 50, '\\n\\n')"
   ]
  },
  {
   "cell_type": "markdown",
   "id": "eac5ceec",
   "metadata": {},
   "source": [
    "## Experiment: Intensity extractor test - `2025-06-05`\n",
    "\n",
    "- <span style=\"color:red\">fix #1</span>: Rank model의 intensity extractor 추정 **Done**\n",
    "- <span style=\"color:red\">fix #2</span>: Rank loss를 Rank model의 외부의 별도 class로 지정 **Done**\n",
    "- <span style=\"color:red\">fix #3</span>: Rank model의 output 수정: `H_i, H_j, h_i, h_j, r_i, r_j` 의 값을 반환하도록 설정 **Done**\n",
    "- <span style=\"color:red\">fix #4</span>: Rank model 별도의 intensity extractor class 생성 **Done**\n",
    "\n",
    "---\n",
    "\n",
    "- <span style=\"color:blue\">imp #1</span>: intensity extractor의 output $\\mathbf{I}$ 에 대해 phoneme-wise하게 평균을 취하여 크기 변경: [$B$, $T_{mel}$, $H$] $\\rightarrow$ [$B$, $T_{phone}$, $H$]\n",
    "- <span style=\"color:blue\">imp #2</span>: Speaker ID를 사용할 것인지 speaker embedding을 사용할 것인지 실험을 통해 도출 (논문에서는 speaker id)\n",
    "- <span style=\"color:blue\">imp #3</span>: `phoneme_encoder_output`과 `intensity_representation`, `speaker_id` 를 concat하여 variance adaptor의 입력으로 feed.\n",
    "- <span style=\"color:blue\">imp #4</span>: 추론시에는 intensity_representation을 명시적으로 구할 수 없어, manual label을 사용 -> manual label을 구하기 위한 clustering 필요 ($N$-level averaging)\n",
    "\n",
    "---\n",
    "\n",
    "- Rank model 재학습 후, train dataset에 대한 intensity score 추출\n",
    "- Intensity score을 $N$ 개로 bucketize (min - median - max).\n",
    "- Speaker 별, emotion 별"
   ]
  },
  {
   "cell_type": "code",
   "execution_count": null,
   "id": "a5d18099",
   "metadata": {},
   "outputs": [],
   "source": [
    "rank_model = torch.load('/workspace/experiments/exp_3/best_model.pth')\n",
    "intensity_extractor = rankm_model.intensity_extractor.to(device)\n",
    "\n",
    "# imp#1\n",
    "# -- textgrid? -> trimming 된 것 어떻게 처리할 것?\n",
    "# intensity extractor의 결과 I의 time dimension이 phoneme sequence duration과 일치\n",
    "# 각 phoneme sequence duration에 대해 I의 평균을 구한다.\n",
    "\n",
    "start_idx = 0\n",
    "\n",
    "averaged_intensity = []\n",
    "for d in duration:\n",
    "    phoneme_averaged = intensity[start_idx:start_idx + d].mean(dim=0)\n",
    "    averaged_intensity.append(phoneme_averaged)\n",
    "    start_idx += d\n",
    "\n",
    "\n",
    "\n",
    "\n",
    "\n",
    "\n",
    "# fine_grained_emo_tts -> train dataset에서 manual intensity 추출출\n",
    "\n"
   ]
  }
 ],
 "metadata": {
  "kernelspec": {
   "display_name": "base",
   "language": "python",
   "name": "python3"
  },
  "language_info": {
   "codemirror_mode": {
    "name": "ipython",
    "version": 3
   },
   "file_extension": ".py",
   "mimetype": "text/x-python",
   "name": "python",
   "nbconvert_exporter": "python",
   "pygments_lexer": "ipython3",
   "version": "3.10.13"
  }
 },
 "nbformat": 4,
 "nbformat_minor": 5
}
